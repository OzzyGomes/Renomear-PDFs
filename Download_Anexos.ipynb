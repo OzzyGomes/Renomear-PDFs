{
 "cells": [
  {
   "cell_type": "code",
   "execution_count": 1,
   "id": "eff66458",
   "metadata": {},
   "outputs": [],
   "source": [
    "import win32com.client\n",
    "import re\n",
    "import datetime\n",
    "import os\n",
    "import email\n",
    "from time import sleep"
   ]
  },
  {
   "cell_type": "code",
   "execution_count": 42,
   "id": "75fb468d",
   "metadata": {},
   "outputs": [
    {
     "name": "stderr",
     "output_type": "stream",
     "text": [
      "1330 INFO: PyInstaller: 4.10\n",
      "1330 INFO: Python: 3.9.7 (conda)\n",
      "1339 INFO: Platform: Windows-10-10.0.19043-SP0\n",
      "1339 INFO: wrote C:\\Users\\ojgomes\\OneDrive - Stefanini\\Documents\\Automação Rent\\Download_Anexos.spec\n",
      "1342 INFO: UPX is not available.\n",
      "1348 INFO: Extending PYTHONPATH with paths\n",
      "['C:\\\\Users\\\\ojgomes\\\\OneDrive - Stefanini\\\\Documents\\\\Automação Rent']\n",
      "1896 INFO: checking Analysis\n",
      "1928 INFO: checking PYZ\n",
      "1955 INFO: checking PKG\n",
      "1970 INFO: Bootloader C:\\Users\\ojgomes\\Anaconda3\\lib\\site-packages\\PyInstaller\\bootloader\\Windows-64bit\\runw.exe\n",
      "1970 INFO: checking EXE\n",
      "1986 INFO: Building because console changed\n",
      "1986 INFO: Building EXE from EXE-00.toc\n",
      "1988 INFO: Copying bootloader EXE to C:\\Users\\ojgomes\\OneDrive - Stefanini\\Documents\\Automação Rent\\dist\\Download_Anexos.exe.notanexecutable\n",
      "2329 INFO: Copying icon to EXE\n",
      "2329 INFO: Copying icons from ['C:\\\\Users\\\\ojgomes\\\\Anaconda3\\\\lib\\\\site-packages\\\\PyInstaller\\\\bootloader\\\\images\\\\icon-windowed.ico']\n",
      "2831 INFO: Writing RT_GROUP_ICON 0 resource with 104 bytes\n",
      "2831 INFO: Writing RT_ICON 1 resource with 3752 bytes\n",
      "2831 INFO: Writing RT_ICON 2 resource with 2216 bytes\n",
      "2831 INFO: Writing RT_ICON 3 resource with 1384 bytes\n",
      "2832 INFO: Writing RT_ICON 4 resource with 38188 bytes\n",
      "2832 INFO: Writing RT_ICON 5 resource with 9640 bytes\n",
      "2832 INFO: Writing RT_ICON 6 resource with 4264 bytes\n",
      "2832 INFO: Writing RT_ICON 7 resource with 1128 bytes\n",
      "2835 INFO: Copying 0 resources to EXE\n",
      "2835 INFO: Emedding manifest in EXE\n",
      "2837 INFO: Updating manifest in C:\\Users\\ojgomes\\OneDrive - Stefanini\\Documents\\Automação Rent\\dist\\Download_Anexos.exe.notanexecutable\n",
      "3369 INFO: Updating resource type 24 name 1 language 0\n",
      "3372 INFO: Appending PKG archive to EXE\n",
      "9505 INFO: Building EXE from EXE-00.toc completed successfully.\n"
     ]
    }
   ],
   "source": [
    "! PyInstaller --onefile -w Download_Anexos.py"
   ]
  },
  {
   "cell_type": "code",
   "execution_count": 14,
   "id": "b8084a2b",
   "metadata": {},
   "outputs": [
    {
     "name": "stderr",
     "output_type": "stream",
     "text": [
      "1662 INFO: PyInstaller: 4.10\n",
      "1662 INFO: Python: 3.9.7 (conda)\n",
      "1673 INFO: Platform: Windows-10-10.0.19043-SP0\n",
      "1674 INFO: wrote C:\\Users\\ojgomes\\OneDrive - Stefanini\\Documents\\Automação Rent\\Download_Anexos.spec\n",
      "1677 INFO: UPX is not available.\n",
      "1682 INFO: Extending PYTHONPATH with paths\n",
      "['C:\\\\Users\\\\ojgomes\\\\OneDrive - Stefanini\\\\Documents\\\\Automação Rent']\n",
      "2404 INFO: checking Analysis\n",
      "2418 INFO: Building because C:\\Users\\ojgomes\\OneDrive - Stefanini\\Documents\\Automação Rent\\Download_Anexos.py changed\n",
      "2418 INFO: Initializing module dependency graph...\n",
      "2424 INFO: Caching module graph hooks...\n",
      "2451 INFO: Analyzing base_library.zip ...\n",
      "7139 INFO: Processing pre-find module path hook distutils from 'C:\\\\Users\\\\ojgomes\\\\Anaconda3\\\\lib\\\\site-packages\\\\PyInstaller\\\\hooks\\\\pre_find_module_path\\\\hook-distutils.py'.\n",
      "7141 INFO: distutils: retargeting to non-venv dir 'C:\\\\Users\\\\ojgomes\\\\Anaconda3\\\\lib'\n",
      "14066 INFO: Caching module dependency graph...\n",
      "14521 INFO: running Analysis Analysis-00.toc\n",
      "14568 INFO: Adding Microsoft.Windows.Common-Controls to dependent assemblies of final executable\n",
      "  required by C:\\Users\\ojgomes\\Anaconda3\\python.exe\n",
      "15072 INFO: Analyzing C:\\Users\\ojgomes\\OneDrive - Stefanini\\Documents\\Automação Rent\\Download_Anexos.py\n",
      "15074 INFO: Processing pre-safe import module hook win32com from 'C:\\\\Users\\\\ojgomes\\\\Anaconda3\\\\lib\\\\site-packages\\\\_pyinstaller_hooks_contrib\\\\hooks\\\\pre_safe_import_module\\\\hook-win32com.py'.\n",
      "17104 INFO: Analyzing hidden import 'win32timezone'\n",
      "17125 INFO: Processing module hooks...\n",
      "17125 INFO: Loading module hook 'hook-pythoncom.py' from 'C:\\\\Users\\\\ojgomes\\\\Anaconda3\\\\lib\\\\site-packages\\\\_pyinstaller_hooks_contrib\\\\hooks\\\\stdhooks'...\n",
      "17850 INFO: Loading module hook 'hook-pywintypes.py' from 'C:\\\\Users\\\\ojgomes\\\\Anaconda3\\\\lib\\\\site-packages\\\\_pyinstaller_hooks_contrib\\\\hooks\\\\stdhooks'...\n",
      "18513 INFO: Loading module hook 'hook-win32com.py' from 'C:\\\\Users\\\\ojgomes\\\\Anaconda3\\\\lib\\\\site-packages\\\\_pyinstaller_hooks_contrib\\\\hooks\\\\stdhooks'...\n",
      "18859 INFO: Loading module hook 'hook-difflib.py' from 'C:\\\\Users\\\\ojgomes\\\\Anaconda3\\\\lib\\\\site-packages\\\\PyInstaller\\\\hooks'...\n",
      "18863 INFO: Loading module hook 'hook-distutils.py' from 'C:\\\\Users\\\\ojgomes\\\\Anaconda3\\\\lib\\\\site-packages\\\\PyInstaller\\\\hooks'...\n",
      "18865 INFO: Loading module hook 'hook-distutils.util.py' from 'C:\\\\Users\\\\ojgomes\\\\Anaconda3\\\\lib\\\\site-packages\\\\PyInstaller\\\\hooks'...\n",
      "18868 INFO: Loading module hook 'hook-encodings.py' from 'C:\\\\Users\\\\ojgomes\\\\Anaconda3\\\\lib\\\\site-packages\\\\PyInstaller\\\\hooks'...\n",
      "18965 INFO: Loading module hook 'hook-heapq.py' from 'C:\\\\Users\\\\ojgomes\\\\Anaconda3\\\\lib\\\\site-packages\\\\PyInstaller\\\\hooks'...\n",
      "18971 INFO: Loading module hook 'hook-lib2to3.py' from 'C:\\\\Users\\\\ojgomes\\\\Anaconda3\\\\lib\\\\site-packages\\\\PyInstaller\\\\hooks'...\n",
      "19052 INFO: Loading module hook 'hook-multiprocessing.util.py' from 'C:\\\\Users\\\\ojgomes\\\\Anaconda3\\\\lib\\\\site-packages\\\\PyInstaller\\\\hooks'...\n",
      "19056 INFO: Loading module hook 'hook-pickle.py' from 'C:\\\\Users\\\\ojgomes\\\\Anaconda3\\\\lib\\\\site-packages\\\\PyInstaller\\\\hooks'...\n",
      "19059 INFO: Loading module hook 'hook-sysconfig.py' from 'C:\\\\Users\\\\ojgomes\\\\Anaconda3\\\\lib\\\\site-packages\\\\PyInstaller\\\\hooks'...\n",
      "19061 INFO: Loading module hook 'hook-xml.etree.cElementTree.py' from 'C:\\\\Users\\\\ojgomes\\\\Anaconda3\\\\lib\\\\site-packages\\\\PyInstaller\\\\hooks'...\n",
      "19063 INFO: Loading module hook 'hook-xml.py' from 'C:\\\\Users\\\\ojgomes\\\\Anaconda3\\\\lib\\\\site-packages\\\\PyInstaller\\\\hooks'...\n",
      "19421 INFO: Loading module hook 'hook-_tkinter.py' from 'C:\\\\Users\\\\ojgomes\\\\Anaconda3\\\\lib\\\\site-packages\\\\PyInstaller\\\\hooks'...\n",
      "19628 INFO: checking Tree\n",
      "19903 INFO: checking Tree\n",
      "20030 INFO: checking Tree\n",
      "20103 INFO: Looking for ctypes DLLs\n",
      "20132 INFO: Analyzing run-time hooks ...\n",
      "20135 INFO: Including run-time hook 'C:\\\\Users\\\\ojgomes\\\\Anaconda3\\\\lib\\\\site-packages\\\\PyInstaller\\\\hooks\\\\rthooks\\\\pyi_rth_subprocess.py'\n",
      "20140 INFO: Including run-time hook 'C:\\\\Users\\\\ojgomes\\\\Anaconda3\\\\lib\\\\site-packages\\\\PyInstaller\\\\hooks\\\\rthooks\\\\pyi_rth_pkgutil.py'\n",
      "20144 INFO: Including run-time hook 'C:\\\\Users\\\\ojgomes\\\\Anaconda3\\\\lib\\\\site-packages\\\\PyInstaller\\\\hooks\\\\rthooks\\\\pyi_rth_multiprocessing.py'\n",
      "20151 INFO: Including run-time hook 'C:\\\\Users\\\\ojgomes\\\\Anaconda3\\\\lib\\\\site-packages\\\\PyInstaller\\\\hooks\\\\rthooks\\\\pyi_rth_inspect.py'\n",
      "20155 INFO: Including run-time hook 'C:\\\\Users\\\\ojgomes\\\\Anaconda3\\\\lib\\\\site-packages\\\\PyInstaller\\\\hooks\\\\rthooks\\\\pyi_rth_win32api.py'\n",
      "20157 INFO: Including run-time hook 'C:\\\\Users\\\\ojgomes\\\\Anaconda3\\\\lib\\\\site-packages\\\\PyInstaller\\\\hooks\\\\rthooks\\\\pyi_rth_win32comgenpy.py'\n",
      "20176 INFO: Looking for dynamic libraries\n",
      "20579 INFO: Looking for eggs\n",
      "20579 INFO: Using Python library C:\\Users\\ojgomes\\Anaconda3\\python39.dll\n",
      "20579 INFO: Found binding redirects: \n",
      "[]\n",
      "20586 INFO: Warnings written to C:\\Users\\ojgomes\\OneDrive - Stefanini\\Documents\\Automação Rent\\build\\Download_Anexos\\warn-Download_Anexos.txt\n",
      "20680 INFO: Graph cross-reference written to C:\\Users\\ojgomes\\OneDrive - Stefanini\\Documents\\Automação Rent\\build\\Download_Anexos\\xref-Download_Anexos.html\n",
      "20700 INFO: checking PYZ\n",
      "20727 INFO: Building because toc changed\n",
      "20727 INFO: Building PYZ (ZlibArchive) C:\\Users\\ojgomes\\OneDrive - Stefanini\\Documents\\Automação Rent\\build\\Download_Anexos\\PYZ-00.pyz\n",
      "21539 INFO: Building PYZ (ZlibArchive) C:\\Users\\ojgomes\\OneDrive - Stefanini\\Documents\\Automação Rent\\build\\Download_Anexos\\PYZ-00.pyz completed successfully.\n",
      "21564 INFO: checking PKG\n",
      "21573 INFO: Building because toc changed\n",
      "21574 INFO: Building PKG (CArchive) Download_Anexos.pkg\n",
      "27931 INFO: Building PKG (CArchive) Download_Anexos.pkg completed successfully.\n",
      "27936 INFO: Bootloader C:\\Users\\ojgomes\\Anaconda3\\lib\\site-packages\\PyInstaller\\bootloader\\Windows-64bit\\runw.exe\n",
      "27936 INFO: checking EXE\n",
      "27952 INFO: Rebuilding EXE-00.toc because Download_Anexos.exe missing\n",
      "27952 INFO: Building EXE from EXE-00.toc\n",
      "27953 INFO: Copying bootloader EXE to C:\\Users\\ojgomes\\OneDrive - Stefanini\\Documents\\Automação Rent\\dist\\Download_Anexos.exe.notanexecutable\n",
      "29233 INFO: Copying icon to EXE\n",
      "29233 INFO: Copying icons from ['C:\\\\Users\\\\ojgomes\\\\Anaconda3\\\\lib\\\\site-packages\\\\PyInstaller\\\\bootloader\\\\images\\\\icon-windowed.ico']\n",
      "29758 INFO: Writing RT_GROUP_ICON 0 resource with 104 bytes\n",
      "29759 INFO: Writing RT_ICON 1 resource with 3752 bytes\n",
      "29759 INFO: Writing RT_ICON 2 resource with 2216 bytes\n",
      "29759 INFO: Writing RT_ICON 3 resource with 1384 bytes\n",
      "29759 INFO: Writing RT_ICON 4 resource with 38188 bytes\n",
      "29759 INFO: Writing RT_ICON 5 resource with 9640 bytes\n",
      "29759 INFO: Writing RT_ICON 6 resource with 4264 bytes\n",
      "29760 INFO: Writing RT_ICON 7 resource with 1128 bytes\n",
      "29767 INFO: Copying 0 resources to EXE\n",
      "29767 INFO: Emedding manifest in EXE\n",
      "29768 INFO: Updating manifest in C:\\Users\\ojgomes\\OneDrive - Stefanini\\Documents\\Automação Rent\\dist\\Download_Anexos.exe.notanexecutable\n",
      "30936 INFO: Updating resource type 24 name 1 language 0\n",
      "30952 INFO: Appending PKG archive to EXE\n",
      "37541 INFO: Building EXE from EXE-00.toc completed successfully.\n"
     ]
    }
   ],
   "source": [
    "! pyinstaller --hiddenimport win32timezone -F -w Download_Anexos.py"
   ]
  },
  {
   "cell_type": "code",
   "execution_count": 17,
   "id": "b2530ac8",
   "metadata": {
    "scrolled": true
   },
   "outputs": [
    {
     "name": "stdout",
     "output_type": "stream",
     "text": [
      "MC DONALD III.pdf\n"
     ]
    }
   ],
   "source": [
    "path = os.path.expanduser(os.path.join(os.getcwd(), \"Boletos\").replace('\\\\',\"/\"))\n",
    "\n",
    "if not os.path.exists(path):\n",
    "    os.makedirs(path)\n",
    "\n",
    "\n",
    "Today = datetime.date.today()\n",
    "today = Today.strftime('%Y%m%d')\n",
    "\n",
    "todayh = datetime.datetime.today().strftime('%Y%m%d%H')\n",
    " \n",
    "outlook = win32com.client.Dispatch(\"Outlook.Application\").GetNamespace(\"MAPI\")\n",
    "inbox = outlook.GetDefaultFolder(6)\n",
    "message = inbox.items\n",
    " \n",
    "items = inbox.items\n",
    "\n",
    "folder_PDFs = inbox.Folders['Emails_PDFs']\n",
    "\n",
    "\n",
    "def createReply(email):\n",
    "        reply = email.Reply()\n",
    "        newBody = \"\"\"\n",
    "        <style>\n",
    "        p {\n",
    "            font-size: 16px;\n",
    "        }\n",
    "        </style>\n",
    "        \n",
    "        <p>Olá,</p>\n",
    "        \n",
    "        <p>Arquivo recebido com sucesso.</p>\n",
    "        \n",
    "            \n",
    "        \"\"\"\n",
    "        reply.HTMLBody = newBody + reply.HTMLBody\n",
    "        reply.Send()\n",
    "        \n",
    "try:\n",
    "    for i in range(2):\n",
    "        for item in items:\n",
    "\n",
    "            RT = item.ReceivedTime\n",
    "            Msgdate = datetime.datetime(RT.year ,RT.month, RT.day, RT.hour, RT.minute, RT.second)\n",
    "            msgdate = Msgdate.strftime('%Y%m%d')\n",
    "\n",
    "            msgdateh = str((int(msgdate) - 1)) + '16'\n",
    "\n",
    "            if today == msgdate:\n",
    "                #item.Unread = True\n",
    "                for attachment in item.Attachments:\n",
    "                    if attachment.FileName.lower().endswith('.pdf'):\n",
    "                        attachment.SaveAsFile(os.path.join(path, str(attachment)))\n",
    "                        createReply(item)\n",
    "                        item.Move(folder_PDFs)\n",
    "                        #item.Unread \n",
    "                        print(attachment.FileName)\n",
    "                        sleep(1)\n",
    "except:\n",
    "    print('''O servidor está temporariamente indisponível, \n",
    "             alguns e-mails não puderam ser movidos,\n",
    "             por gentileza tente novamente em instantes.''')\n",
    "\n",
    "\n",
    "\n"
   ]
  },
  {
   "cell_type": "code",
   "execution_count": 61,
   "id": "d1675f02",
   "metadata": {},
   "outputs": [],
   "source": [
    "todayhour = datetime.datetime.today().strftime('%Y%m%d%H')"
   ]
  },
  {
   "cell_type": "code",
   "execution_count": 70,
   "id": "cff6b270",
   "metadata": {},
   "outputs": [
    {
     "data": {
      "text/plain": [
       "'2022060817'"
      ]
     },
     "execution_count": 70,
     "metadata": {},
     "output_type": "execute_result"
    }
   ],
   "source": [
    "todayhour"
   ]
  },
  {
   "cell_type": "code",
   "execution_count": 72,
   "id": "150d6917",
   "metadata": {},
   "outputs": [
    {
     "data": {
      "text/plain": [
       "True"
      ]
     },
     "execution_count": 72,
     "metadata": {},
     "output_type": "execute_result"
    }
   ],
   "source": [
    "msgdateh < todayhour"
   ]
  },
  {
   "cell_type": "code",
   "execution_count": 63,
   "id": "0bb3dbb5",
   "metadata": {},
   "outputs": [],
   "source": [
    "msgdateh = Msgdate.strftime('%Y%m%d%H')"
   ]
  },
  {
   "cell_type": "code",
   "execution_count": 65,
   "id": "45ea4d0d",
   "metadata": {},
   "outputs": [
    {
     "data": {
      "text/plain": [
       "pywintypes.datetime(2022, 6, 8, 3, 26, 55, 236000, tzinfo=TimeZoneInfo('GMT Standard Time', True))"
      ]
     },
     "execution_count": 65,
     "metadata": {},
     "output_type": "execute_result"
    }
   ],
   "source": [
    "RT"
   ]
  },
  {
   "cell_type": "code",
   "execution_count": 10,
   "id": "b0585215",
   "metadata": {},
   "outputs": [
    {
     "name": "stdout",
     "output_type": "stream",
     "text": [
      "yes\n"
     ]
    }
   ],
   "source": [
    "if (today == msgdate) :\n",
    "    print('yes')"
   ]
  },
  {
   "cell_type": "code",
   "execution_count": 11,
   "id": "8dcba4b0",
   "metadata": {},
   "outputs": [
    {
     "data": {
      "text/plain": [
       "datetime.date(2022, 6, 7)"
      ]
     },
     "execution_count": 11,
     "metadata": {},
     "output_type": "execute_result"
    }
   ],
   "source": [
    "Today"
   ]
  },
  {
   "cell_type": "code",
   "execution_count": 18,
   "id": "58e5feb9",
   "metadata": {},
   "outputs": [
    {
     "ename": "TypeError",
     "evalue": "function missing required argument 'year' (pos 1)",
     "output_type": "error",
     "traceback": [
      "\u001b[1;31m---------------------------------------------------------------------------\u001b[0m",
      "\u001b[1;31mTypeError\u001b[0m                                 Traceback (most recent call last)",
      "\u001b[1;32m~\\AppData\\Local\\Temp/ipykernel_8232/1299893068.py\u001b[0m in \u001b[0;36m<module>\u001b[1;34m\u001b[0m\n\u001b[1;32m----> 1\u001b[1;33m \u001b[0mdata\u001b[0m \u001b[1;33m=\u001b[0m \u001b[0mdatetime\u001b[0m\u001b[1;33m.\u001b[0m\u001b[0mdate\u001b[0m\u001b[1;33m(\u001b[0m\u001b[1;33m)\u001b[0m\u001b[1;33m\u001b[0m\u001b[1;33m\u001b[0m\u001b[0m\n\u001b[0m",
      "\u001b[1;31mTypeError\u001b[0m: function missing required argument 'year' (pos 1)"
     ]
    }
   ],
   "source": [
    "data = datetime.date()"
   ]
  },
  {
   "cell_type": "code",
   "execution_count": 2,
   "id": "4b6ccdbf",
   "metadata": {},
   "outputs": [],
   "source": [
    "Today = datetime.datetime.now()\n",
    "today = Today.strftime('%Y%m%d')"
   ]
  },
  {
   "cell_type": "code",
   "execution_count": 28,
   "id": "4d8748f7",
   "metadata": {},
   "outputs": [
    {
     "data": {
      "text/plain": [
       "'2022060800'"
      ]
     },
     "execution_count": 28,
     "metadata": {},
     "output_type": "execute_result"
    }
   ],
   "source": [
    "today + '00'"
   ]
  },
  {
   "cell_type": "code",
   "execution_count": 16,
   "id": "fba096b0",
   "metadata": {},
   "outputs": [],
   "source": [
    "Msgdate = datetime.datetime(RT.year ,RT.month, RT.day, RT.hour, RT.minute, RT.second)\n",
    "msgdate = Msgdate.strftime('%Y%m%d')"
   ]
  },
  {
   "cell_type": "code",
   "execution_count": 17,
   "id": "fc8a5ce9",
   "metadata": {},
   "outputs": [
    {
     "data": {
      "text/plain": [
       "'20220608'"
      ]
     },
     "execution_count": 17,
     "metadata": {},
     "output_type": "execute_result"
    }
   ],
   "source": [
    "msgdate"
   ]
  },
  {
   "cell_type": "code",
   "execution_count": 85,
   "id": "c2483565",
   "metadata": {},
   "outputs": [],
   "source": [
    "if msgdateh in [msgdate, todayhour, today]:\n",
    "    print('yes')"
   ]
  },
  {
   "cell_type": "code",
   "execution_count": 12,
   "id": "14b642a4",
   "metadata": {},
   "outputs": [
    {
     "data": {
      "text/plain": [
       "'2022060912'"
      ]
     },
     "execution_count": 12,
     "metadata": {},
     "output_type": "execute_result"
    }
   ],
   "source": [
    "todayh"
   ]
  },
  {
   "cell_type": "code",
   "execution_count": 13,
   "id": "7268fae0",
   "metadata": {},
   "outputs": [
    {
     "data": {
      "text/plain": [
       "'2022010416'"
      ]
     },
     "execution_count": 13,
     "metadata": {},
     "output_type": "execute_result"
    }
   ],
   "source": [
    "msgdateh"
   ]
  },
  {
   "cell_type": "code",
   "execution_count": 14,
   "id": "228364fa",
   "metadata": {},
   "outputs": [
    {
     "data": {
      "text/plain": [
       "'20220105'"
      ]
     },
     "execution_count": 14,
     "metadata": {},
     "output_type": "execute_result"
    }
   ],
   "source": [
    "msgdate"
   ]
  },
  {
   "cell_type": "code",
   "execution_count": null,
   "id": "85009af2",
   "metadata": {},
   "outputs": [],
   "source": []
  }
 ],
 "metadata": {
  "kernelspec": {
   "display_name": "Python 3 (ipykernel)",
   "language": "python",
   "name": "python3"
  },
  "language_info": {
   "codemirror_mode": {
    "name": "ipython",
    "version": 3
   },
   "file_extension": ".py",
   "mimetype": "text/x-python",
   "name": "python",
   "nbconvert_exporter": "python",
   "pygments_lexer": "ipython3",
   "version": "3.9.7"
  }
 },
 "nbformat": 4,
 "nbformat_minor": 5
}
