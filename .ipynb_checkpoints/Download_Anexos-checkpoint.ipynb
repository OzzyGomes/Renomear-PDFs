{
 "cells": [
  {
   "cell_type": "code",
   "execution_count": 19,
   "id": "49cbed7b",
   "metadata": {},
   "outputs": [],
   "source": [
    "# import libraries\n",
    "import win32com.client\n",
    "import re\n",
    "import datetime\n",
    "# set up connection to outlook\n",
    "outlook = win32com.client.Dispatch(\"Outlook.Application\").GetNamespace(\"MAPI\")\n",
    "inbox = outlook.GetDefaultFolder(6)\n",
    "messages = inbox.Items\n",
    "message = messages.GetFirst()\n",
    "today_date = str(datetime.date.today())\n",
    "\n"
   ]
  },
  {
   "cell_type": "code",
   "execution_count": null,
   "id": "c70f1c63",
   "metadata": {},
   "outputs": [],
   "source": [
    "while True:\n",
    "    try:\n",
    "        #current_sender = str(message.Sender).lower()\n",
    "        #current_subject = str(message.Subject).lower()\n",
    "        # find the email from a specific sender with a specific subject\n",
    "        # condition\n",
    "        if re.search('Subject Title',current_subject) != None and    re.search(sender_name,current_sender) != None:\n",
    "            print(current_subject) # verify the subject\n",
    "            print(current_sender)  # verify the sender\n",
    "            attachments = message.Attachments\n",
    "            attachment = attachments.Item(1)\n",
    "            attachment_name = str(attachment).lower()\n",
    "            attachment.SaveASFile(path + '\\\\' + attachment_name)\n",
    "        else:\n",
    "            pass\n",
    "        message = messages.GetNext()\n",
    "    except:\n",
    "        message = messages.GetNext()\n",
    "exit"
   ]
  },
  {
   "cell_type": "code",
   "execution_count": 10,
   "id": "609a72ad",
   "metadata": {},
   "outputs": [],
   "source": [
    "import datetime\n",
    "import os\n",
    "import win32com.client\n",
    "\n",
    "\n",
    "path = os.path.expanduser(\"C:/Users/ojgomes/Documents/Anexos_Boletos\")  #location o file \n",
    "today = datetime.date.today()  # current date if you want current\n",
    "\n",
    "outlook = win32com.client.Dispatch(\"Outlook.Application\").GetNamespace(\"MAPI\")  #opens outlook\n",
    "inbox = outlook.GetDefaultFolder(6) \n",
    "messages = inbox.Items\n",
    "\n",
    "\n",
    "def saveattachemnts(subject):\n",
    "    for message in messages:\n",
    "        if message.Subject == subject and message.Unread:\n",
    "        #if message.Unread:  #I usually use this because the subject line contains time and it varies over time. So I just use unread\n",
    "\n",
    "            # body_content = message.body\n",
    "            attachments = message.Attachments\n",
    "            attachment = attachments.Item(1)\n",
    "            for attachment in message.Attachments:\n",
    "                attachment.SaveAsFile(os.path.join(path, str(attachment)))\n",
    "                if message.Subject == subject and message.Unread:\n",
    "                    message.Unread = False\n",
    "                break                \n",
    "                \n",
    "saveattachemnts('teste')\n",
    "saveattachemnts('EXAMPLE 2')"
   ]
  },
  {
   "cell_type": "code",
   "execution_count": 13,
   "id": "84f3262d",
   "metadata": {},
   "outputs": [],
   "source": [
    "message = messages.GetLast()\n",
    "txt_arq = message.subject\n",
    "saveattachemnts(txt_arq)"
   ]
  },
  {
   "cell_type": "code",
   "execution_count": 37,
   "id": "eff66458",
   "metadata": {},
   "outputs": [],
   "source": [
    "import win32com.client\n",
    "import re\n",
    "import datetime\n",
    "import os\n",
    "import email"
   ]
  },
  {
   "cell_type": "code",
   "execution_count": 30,
   "id": "e3e7b26f",
   "metadata": {},
   "outputs": [],
   "source": [
    "directory = \"./boletos\"\n",
    "\n",
    "files_in_directory = os.listdir(directory)\n",
    "\n",
    "for file in files_in_directory:\n",
    "    if '.pdf' not in file:\n",
    "        path_to_file = os.path.join(directory, file)\n",
    "        os.remove(path_to_file)\n",
    "        \n"
   ]
  },
  {
   "cell_type": "code",
   "execution_count": 34,
   "id": "b2530ac8",
   "metadata": {
    "scrolled": true
   },
   "outputs": [],
   "source": [
    "\n",
    "\n",
    "path = os.path.expanduser(\"C:/Users/ojgomes/Documents/Automação Rent/Boletos\")\n",
    "\n",
    "Today = datetime.date.today()\n",
    "today = Today.strftime('%Y%m%d')\n",
    " \n",
    "outlook = win32com.client.Dispatch(\"Outlook.Application\").GetNamespace(\"MAPI\")\n",
    "inbox = outlook.GetDefaultFolder(6)\n",
    "message = inbox.items\n",
    " \n",
    "items = inbox.items\n",
    "for item in items:\n",
    "    item.Unread = False\n",
    "    RT = item.ReceivedTime\n",
    "    Msgdate = datetime.datetime(RT.year ,RT.month, RT.day, RT.hour, RT.minute, RT.second)\n",
    "    msgdate = Msgdate.strftime('%Y%m%d')\n",
    "    if today == msgdate:\n",
    "        for attachment in item.Attachments:\n",
    "            #print(attachment.FileName)\n",
    "            attachment.SaveAsFile(os.path.join(path, str(attachment)))\n",
    "            \n",
    "\n",
    "directory = \"./boletos\"\n",
    "\n",
    "files_in_directory = os.listdir(directory)\n",
    "\n",
    "for file in files_in_directory:\n",
    "    if '.pdf' not in file.lower():\n",
    "        path_to_file = os.path.join(directory, file)\n",
    "        os.remove(path_to_file)"
   ]
  }
 ],
 "metadata": {
  "kernelspec": {
   "display_name": "Python 3 (ipykernel)",
   "language": "python",
   "name": "python3"
  },
  "language_info": {
   "codemirror_mode": {
    "name": "ipython",
    "version": 3
   },
   "file_extension": ".py",
   "mimetype": "text/x-python",
   "name": "python",
   "nbconvert_exporter": "python",
   "pygments_lexer": "ipython3",
   "version": "3.9.7"
  }
 },
 "nbformat": 4,
 "nbformat_minor": 5
}
