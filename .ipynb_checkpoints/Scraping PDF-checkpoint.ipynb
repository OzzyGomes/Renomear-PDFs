{
 "cells": [
  {
   "cell_type": "code",
   "execution_count": 1,
   "id": "b32f39e0",
   "metadata": {},
   "outputs": [],
   "source": [
    "from PyPDF4 import PdfFileReader, PdfFileWriter\n",
    "import pandas as pd\n",
    "import re\n",
    "import os\n",
    "import glob\n",
    "import tabula\n",
    "import pytesseract as tess\n",
    "from PIL import Image\n",
    "import fitz\n",
    "import io\n",
    "import pdfquery\n",
    "from pdf2image import convert_from_path\n",
    "import textract\n",
    "import shutil\n",
    "\n",
    "tess.pytesseract.tesseract_cmd = r'C:\\Users\\ojgomes\\AppData\\Local\\Programs\\Tesseract-OCR\\tesseract.exe'"
   ]
  },
  {
   "cell_type": "code",
   "execution_count": 2,
   "id": "c361a4dc",
   "metadata": {},
   "outputs": [],
   "source": [
    "\n",
    "def pdf_to_text(doc):\n",
    "    images = convert_from_path(doc)\n",
    "\n",
    "\n",
    "    texto = tess.image_to_string(images[0])\n",
    "    #for i in range(len(images)):\n",
    "   \n",
    "    # Save pages as images in the pdf\n",
    "    #images[i].save('page'+ str(i) +'.jpg', 'JPEG')\n",
    "\n",
    "    #texto = tess.image_to_string(images[i])\n",
    "    #break\n",
    "    \n",
    "    return texto\n",
    "\n",
    "\n",
    "\n",
    "#função para extrair imagem do pdf e em seguida retirar texto da imagem \n",
    "def extract_text_from_img_doc(doc):\n",
    "    \n",
    "    file = fitz.open(doc)\n",
    "    \n",
    "    for page_index in range(len(file)):\n",
    "        #get the page itself\n",
    "        page = file[page_index]\n",
    "        image_list = page.getImageList()\n",
    "\n",
    "        #print number of image this page\n",
    "        if image_list:\n",
    "            print(f'[+] Found a total of {len(image_list)} imagesin page {page_index}')\n",
    "        else:\n",
    "            print('[!] No image found on page', page_index)\n",
    "        for image_index, img in enumerate(page.getImageList(), start = 1):\n",
    "            #get the XREF of the image\n",
    "            xref = img[0]\n",
    "\n",
    "            #extract image bytes\n",
    "            base_image = file.extractImage(xref)\n",
    "            image_bytes = base_image['image']\n",
    "\n",
    "            #get the image extension\n",
    "            image_ext = base_image['ext']\n",
    "\n",
    "            #load it to PIL\n",
    "            image = Image.open(io.BytesIO(image_bytes)).convert(\"RGB\")\n",
    "            \n",
    "            #save it in local disk\n",
    "            \n",
    "            #image.save(open(f'image{page_index+1}_{image_index}.{image_ext}', 'wb'))\n",
    "    file.close()\n",
    "    texto = tess.image_to_string(image)\n",
    "    return texto"
   ]
  },
  {
   "cell_type": "code",
   "execution_count": 39,
   "id": "f3186294",
   "metadata": {
    "scrolled": false
   },
   "outputs": [
    {
     "name": "stderr",
     "output_type": "stream",
     "text": [
      "PdfReadWarning: Superfluous whitespace found in object header b'1' b'0' [pdf.py:1730]\n",
      "PdfReadWarning: Superfluous whitespace found in object header b'2' b'0' [pdf.py:1730]\n",
      "PdfReadWarning: Superfluous whitespace found in object header b'3' b'0' [pdf.py:1730]\n",
      "PdfReadWarning: Superfluous whitespace found in object header b'8' b'0' [pdf.py:1730]\n",
      "PdfReadWarning: Superfluous whitespace found in object header b'10' b'0' [pdf.py:1730]\n",
      "PdfReadWarning: Superfluous whitespace found in object header b'11' b'0' [pdf.py:1730]\n",
      "PdfReadWarning: Superfluous whitespace found in object header b'12' b'0' [pdf.py:1730]\n",
      "PdfReadWarning: Superfluous whitespace found in object header b'13' b'0' [pdf.py:1730]\n",
      "PdfReadWarning: Superfluous whitespace found in object header b'14' b'0' [pdf.py:1730]\n",
      "PdfReadWarning: Superfluous whitespace found in object header b'15' b'0' [pdf.py:1730]\n",
      "PdfReadWarning: Superfluous whitespace found in object header b'16' b'0' [pdf.py:1730]\n",
      "PdfReadWarning: Superfluous whitespace found in object header b'17' b'0' [pdf.py:1730]\n",
      "PdfReadWarning: Superfluous whitespace found in object header b'18' b'0' [pdf.py:1730]\n",
      "PdfReadWarning: Superfluous whitespace found in object header b'19' b'0' [pdf.py:1730]\n",
      "PdfReadWarning: Superfluous whitespace found in object header b'20' b'0' [pdf.py:1730]\n",
      "PdfReadWarning: Superfluous whitespace found in object header b'21' b'0' [pdf.py:1730]\n",
      "PdfReadWarning: Superfluous whitespace found in object header b'22' b'0' [pdf.py:1730]\n",
      "PdfReadWarning: Superfluous whitespace found in object header b'23' b'0' [pdf.py:1730]\n",
      "PdfReadWarning: Superfluous whitespace found in object header b'24' b'0' [pdf.py:1730]\n",
      "PdfReadWarning: Superfluous whitespace found in object header b'25' b'0' [pdf.py:1730]\n",
      "PdfReadWarning: Superfluous whitespace found in object header b'26' b'0' [pdf.py:1730]\n",
      "PdfReadWarning: Superfluous whitespace found in object header b'27' b'0' [pdf.py:1730]\n",
      "PdfReadWarning: Superfluous whitespace found in object header b'28' b'0' [pdf.py:1730]\n",
      "FitzDeprecation: 'getImageList' removed from class 'Page' after v1.19 - use 'get_images'. [__init__.py:176]\n",
      "FitzDeprecation: 'extractImage' removed from class 'Document' after v1.19 - use 'extract_image'. [__init__.py:176]\n",
      "'pages' argument isn't specified.Will extract only from page 1 by default.\n"
     ]
    },
    {
     "name": "stdout",
     "output_type": "stream",
     "text": [
      "[+] Found a total of 5 imagesin page 0\n",
      " 02.02.pdf\n"
     ]
    },
    {
     "name": "stderr",
     "output_type": "stream",
     "text": [
      "PdfReadWarning: Superfluous whitespace found in object header b'63' b'0' [pdf.py:1730]\n",
      "PdfReadWarning: Superfluous whitespace found in object header b'4' b'0' [pdf.py:1730]\n",
      "PdfReadWarning: Superfluous whitespace found in object header b'5' b'0' [pdf.py:1730]\n",
      "PdfReadWarning: Superfluous whitespace found in object header b'6' b'0' [pdf.py:1730]\n",
      "PdfReadWarning: Superfluous whitespace found in object header b'7' b'0' [pdf.py:1730]\n",
      "PdfReadWarning: Superfluous whitespace found in object header b'48' b'0' [pdf.py:1730]\n",
      "PdfReadWarning: Superfluous whitespace found in object header b'49' b'0' [pdf.py:1730]\n",
      "PdfReadWarning: Superfluous whitespace found in object header b'50' b'0' [pdf.py:1730]\n",
      "PdfReadWarning: Superfluous whitespace found in object header b'51' b'0' [pdf.py:1730]\n",
      "PdfReadWarning: Superfluous whitespace found in object header b'52' b'0' [pdf.py:1730]\n",
      "PdfReadWarning: Superfluous whitespace found in object header b'53' b'0' [pdf.py:1730]\n",
      "PdfReadWarning: Superfluous whitespace found in object header b'54' b'0' [pdf.py:1730]\n",
      "PdfReadWarning: Superfluous whitespace found in object header b'55' b'0' [pdf.py:1730]\n",
      "PdfReadWarning: Superfluous whitespace found in object header b'56' b'0' [pdf.py:1730]\n",
      "PdfReadWarning: Superfluous whitespace found in object header b'57' b'0' [pdf.py:1730]\n",
      "PdfReadWarning: Superfluous whitespace found in object header b'58' b'0' [pdf.py:1730]\n",
      "PdfReadWarning: Superfluous whitespace found in object header b'59' b'0' [pdf.py:1730]\n",
      "PdfReadWarning: Superfluous whitespace found in object header b'60' b'0' [pdf.py:1730]\n",
      "PdfReadWarning: Superfluous whitespace found in object header b'61' b'0' [pdf.py:1730]\n",
      "'pages' argument isn't specified.Will extract only from page 1 by default.\n"
     ]
    },
    {
     "name": "stdout",
     "output_type": "stream",
     "text": [
      "[+] Found a total of 26 imagesin page 0\n",
      "[+] Found a total of 6 imagesin page 1\n",
      " 086-060-010222-ALU-02 - EMAIL.pdf\n"
     ]
    },
    {
     "name": "stderr",
     "output_type": "stream",
     "text": [
      "'pages' argument isn't specified.Will extract only from page 1 by default.\n"
     ]
    },
    {
     "name": "stdout",
     "output_type": "stream",
     "text": [
      "[+] Found a total of 1 imagesin page 0\n",
      " 086-060-010222-ALU-02 - LOTE.pdf\n"
     ]
    },
    {
     "name": "stderr",
     "output_type": "stream",
     "text": [
      "PdfReadWarning: Superfluous whitespace found in object header b'62' b'0' [pdf.py:1730]\n",
      "'pages' argument isn't specified.Will extract only from page 1 by default.\n"
     ]
    },
    {
     "name": "stdout",
     "output_type": "stream",
     "text": [
      "[+] Found a total of 26 imagesin page 0\n",
      "[+] Found a total of 6 imagesin page 1\n",
      " 086-060-010222-ALU-03 - EMAIL.pdf\n"
     ]
    },
    {
     "name": "stderr",
     "output_type": "stream",
     "text": [
      "'pages' argument isn't specified.Will extract only from page 1 by default.\n"
     ]
    },
    {
     "name": "stdout",
     "output_type": "stream",
     "text": [
      "[+] Found a total of 1 imagesin page 0\n",
      " 086-060-010222-ALU-03 - LOTE.pdf\n"
     ]
    },
    {
     "name": "stderr",
     "output_type": "stream",
     "text": [
      "'pages' argument isn't specified.Will extract only from page 1 by default.\n"
     ]
    },
    {
     "name": "stdout",
     "output_type": "stream",
     "text": [
      "[!] No image found on page 0\n",
      "nenhuma imagem encontrada\n",
      " 086-060-010222-ALU-04 - email.pdf\n"
     ]
    },
    {
     "name": "stderr",
     "output_type": "stream",
     "text": [
      "'pages' argument isn't specified.Will extract only from page 1 by default.\n"
     ]
    },
    {
     "name": "stdout",
     "output_type": "stream",
     "text": [
      "[+] Found a total of 1 imagesin page 0\n",
      " 086-060-010222-ALU-04 - lote.pdf\n"
     ]
    },
    {
     "name": "stderr",
     "output_type": "stream",
     "text": [
      "PdfReadWarning: Superfluous whitespace found in object header b'66' b'0' [pdf.py:1730]\n",
      "PdfReadWarning: Superfluous whitespace found in object header b'9' b'0' [pdf.py:1730]\n",
      "PdfReadWarning: Superfluous whitespace found in object header b'64' b'0' [pdf.py:1730]\n",
      "'pages' argument isn't specified.Will extract only from page 1 by default.\n"
     ]
    },
    {
     "name": "stdout",
     "output_type": "stream",
     "text": [
      "[+] Found a total of 26 imagesin page 0\n",
      "[+] Found a total of 3 imagesin page 1\n",
      " 086-060-020222-ALU-01 - EMAIL.pdf\n"
     ]
    },
    {
     "name": "stderr",
     "output_type": "stream",
     "text": [
      "'pages' argument isn't specified.Will extract only from page 1 by default.\n"
     ]
    },
    {
     "name": "stdout",
     "output_type": "stream",
     "text": [
      "[+] Found a total of 1 imagesin page 0\n",
      " 086-060-020222-ALU-01 - LOTE.pdf\n"
     ]
    },
    {
     "name": "stderr",
     "output_type": "stream",
     "text": [
      "PdfReadWarning: Superfluous whitespace found in object header b'33' b'0' [pdf.py:1730]\n",
      "PdfReadWarning: Superfluous whitespace found in object header b'90' b'0' [pdf.py:1730]\n",
      "PdfReadWarning: Superfluous whitespace found in object header b'29' b'0' [pdf.py:1730]\n",
      "PdfReadWarning: Superfluous whitespace found in object header b'30' b'0' [pdf.py:1730]\n",
      "PdfReadWarning: Superfluous whitespace found in object header b'31' b'0' [pdf.py:1730]\n",
      "'pages' argument isn't specified.Will extract only from page 1 by default.\n"
     ]
    },
    {
     "name": "stdout",
     "output_type": "stream",
     "text": [
      "[+] Found a total of 4 imagesin page 0\n",
      "[+] Found a total of 6 imagesin page 1\n",
      "[!] No image found on page 2\n",
      " 086-060-020222-ALU-02 - EMAIL.pdf\n"
     ]
    },
    {
     "name": "stderr",
     "output_type": "stream",
     "text": [
      "'pages' argument isn't specified.Will extract only from page 1 by default.\n"
     ]
    },
    {
     "name": "stdout",
     "output_type": "stream",
     "text": [
      "[+] Found a total of 1 imagesin page 0\n",
      " 086-060-020222-ALU-02 - LOTE.pdf\n"
     ]
    },
    {
     "name": "stderr",
     "output_type": "stream",
     "text": [
      "PdfReadWarning: Superfluous whitespace found in object header b'108' b'0' [pdf.py:1730]\n"
     ]
    },
    {
     "name": "stdout",
     "output_type": "stream",
     "text": [
      "[+] Found a total of 26 imagesin page 0\n",
      "[+] Found a total of 1 imagesin page 1\n",
      "[!] No image found on page 2\n"
     ]
    },
    {
     "name": "stderr",
     "output_type": "stream",
     "text": [
      "'pages' argument isn't specified.Will extract only from page 1 by default.\n"
     ]
    },
    {
     "name": "stdout",
     "output_type": "stream",
     "text": [
      " 086-060-030222-ALU-01 - EMAIL.pdf\n"
     ]
    },
    {
     "name": "stderr",
     "output_type": "stream",
     "text": [
      "'pages' argument isn't specified.Will extract only from page 1 by default.\n"
     ]
    },
    {
     "name": "stdout",
     "output_type": "stream",
     "text": [
      "[+] Found a total of 1 imagesin page 0\n",
      " 086-060-030222-ALU-01 LOTE.pdf\n"
     ]
    },
    {
     "name": "stderr",
     "output_type": "stream",
     "text": [
      "'pages' argument isn't specified.Will extract only from page 1 by default.\n"
     ]
    },
    {
     "name": "stdout",
     "output_type": "stream",
     "text": [
      "[+] Found a total of 26 imagesin page 0\n",
      "[+] Found a total of 3 imagesin page 1\n",
      " 086-060-030222-ALU-02 - EMAIL.pdf\n"
     ]
    },
    {
     "name": "stderr",
     "output_type": "stream",
     "text": [
      "'pages' argument isn't specified.Will extract only from page 1 by default.\n"
     ]
    },
    {
     "name": "stdout",
     "output_type": "stream",
     "text": [
      "[+] Found a total of 1 imagesin page 0\n",
      " 086-060-030222-ALU-02 LOTE.pdf\n"
     ]
    },
    {
     "name": "stderr",
     "output_type": "stream",
     "text": [
      "'pages' argument isn't specified.Will extract only from page 1 by default.\n"
     ]
    },
    {
     "name": "stdout",
     "output_type": "stream",
     "text": [
      "[+] Found a total of 1 imagesin page 0\n"
     ]
    },
    {
     "name": "stderr",
     "output_type": "stream",
     "text": [
      "Got stderr: abr 04, 2022 4:35:27 PM org.apache.pdfbox.rendering.TTFGlyph2D getPathForGID\r\n",
      "ADVERTÊNCIA: No glyph for code 0 (CID 0000) in font CEDCEI+IDAutomationC128L\r\n",
      "\n"
     ]
    },
    {
     "name": "stdout",
     "output_type": "stream",
     "text": [
      " 086-060-040222-ALU-01 - BANCO.pdf\n"
     ]
    },
    {
     "name": "stderr",
     "output_type": "stream",
     "text": [
      "'pages' argument isn't specified.Will extract only from page 1 by default.\n"
     ]
    },
    {
     "name": "stdout",
     "output_type": "stream",
     "text": [
      "[+] Found a total of 1 imagesin page 0\n",
      " 086-060-040222-ALU-02 - BANCO.pdf\n"
     ]
    },
    {
     "name": "stderr",
     "output_type": "stream",
     "text": [
      "'pages' argument isn't specified.Will extract only from page 1 by default.\n"
     ]
    },
    {
     "name": "stdout",
     "output_type": "stream",
     "text": [
      "[+] Found a total of 1 imagesin page 0\n",
      " 086-060-040222-URGE-02 - BANCO.pdf\n"
     ]
    },
    {
     "name": "stderr",
     "output_type": "stream",
     "text": [
      "'pages' argument isn't specified.Will extract only from page 1 by default.\n"
     ]
    },
    {
     "name": "stdout",
     "output_type": "stream",
     "text": [
      "[+] Found a total of 2 imagesin page 0\n",
      "[+] Found a total of 3 imagesin page 1\n",
      "[+] Found a total of 6 imagesin page 2\n",
      "[!] No image found on page 3\n",
      "[!] No image found on page 4\n",
      "[!] No image found on page 5\n",
      " 086-060-070222 - E-MAIL LOTE FORMATADO PRIO 5.pdf\n"
     ]
    },
    {
     "name": "stderr",
     "output_type": "stream",
     "text": [
      "'pages' argument isn't specified.Will extract only from page 1 by default.\n"
     ]
    },
    {
     "name": "stdout",
     "output_type": "stream",
     "text": [
      "[!] No image found on page 0\n",
      "[!] No image found on page 1\n",
      "[!] No image found on page 2\n",
      "[!] No image found on page 3\n",
      "nenhuma imagem encontrada\n",
      " 086-060-070222-ALU-01 (1).pdf\n"
     ]
    },
    {
     "name": "stderr",
     "output_type": "stream",
     "text": [
      "'pages' argument isn't specified.Will extract only from page 1 by default.\n"
     ]
    },
    {
     "name": "stdout",
     "output_type": "stream",
     "text": [
      "[+] Found a total of 1 imagesin page 0\n",
      " 086-060-070222-ALU-01 - BANCO.pdf\n"
     ]
    },
    {
     "name": "stderr",
     "output_type": "stream",
     "text": [
      "'pages' argument isn't specified.Will extract only from page 1 by default.\n"
     ]
    },
    {
     "name": "stdout",
     "output_type": "stream",
     "text": [
      "[+] Found a total of 1 imagesin page 0\n",
      " 086-060-070222-ALU-02 - BANCO.pdf\n"
     ]
    },
    {
     "name": "stderr",
     "output_type": "stream",
     "text": [
      "'pages' argument isn't specified.Will extract only from page 1 by default.\n"
     ]
    },
    {
     "name": "stdout",
     "output_type": "stream",
     "text": [
      "[+] Found a total of 1 imagesin page 0\n",
      " 086-060-070222-ALU-03 - BANCO.pdf\n"
     ]
    },
    {
     "name": "stderr",
     "output_type": "stream",
     "text": [
      "'pages' argument isn't specified.Will extract only from page 1 by default.\n"
     ]
    },
    {
     "name": "stdout",
     "output_type": "stream",
     "text": [
      "[+] Found a total of 2 imagesin page 0\n",
      "[+] Found a total of 2 imagesin page 1\n",
      "[+] Found a total of 6 imagesin page 2\n",
      "[!] No image found on page 3\n",
      " 086-060-070222-ALU-03 - EMAIL LOTE FORMATADO.pdf\n"
     ]
    },
    {
     "name": "stderr",
     "output_type": "stream",
     "text": [
      "'pages' argument isn't specified.Will extract only from page 1 by default.\n"
     ]
    },
    {
     "name": "stdout",
     "output_type": "stream",
     "text": [
      "[+] Found a total of 1 imagesin page 0\n",
      " 086-060-070222-ALU-04 - BANCO.pdf\n"
     ]
    },
    {
     "name": "stderr",
     "output_type": "stream",
     "text": [
      "'pages' argument isn't specified.Will extract only from page 1 by default.\n"
     ]
    },
    {
     "name": "stdout",
     "output_type": "stream",
     "text": [
      "[+] Found a total of 1 imagesin page 0\n",
      " 086-060-070222-ALU-05 - BANCO.pdf\n",
      "[+] Found a total of 1 imagesin page 0\n",
      "[+] Found a total of 2 imagesin page 1\n",
      "[+] Found a total of 2 imagesin page 2\n",
      "[+] Found a total of 1 imagesin page 3\n",
      "[+] Found a total of 1 imagesin page 4\n",
      "[+] Found a total of 5 imagesin page 5\n",
      "[!] No image found on page 6\n"
     ]
    },
    {
     "name": "stderr",
     "output_type": "stream",
     "text": [
      "'pages' argument isn't specified.Will extract only from page 1 by default.\n"
     ]
    },
    {
     "name": "stdout",
     "output_type": "stream",
     "text": [
      " 086-060-070222-ALU-05 - E-MAIL LOTE FORMATADO.pdf\n"
     ]
    },
    {
     "name": "stderr",
     "output_type": "stream",
     "text": [
      "'pages' argument isn't specified.Will extract only from page 1 by default.\n"
     ]
    },
    {
     "name": "stdout",
     "output_type": "stream",
     "text": [
      "[+] Found a total of 1 imagesin page 0\n",
      " 086-060-070222-ALU-06 - BANCO.pdf\n"
     ]
    },
    {
     "name": "stderr",
     "output_type": "stream",
     "text": [
      "'pages' argument isn't specified.Will extract only from page 1 by default.\n"
     ]
    },
    {
     "name": "stdout",
     "output_type": "stream",
     "text": [
      "[+] Found a total of 1 imagesin page 0\n",
      " 086-060-080222-ALU-01 - BANCO.pdf\n"
     ]
    },
    {
     "name": "stderr",
     "output_type": "stream",
     "text": [
      "'pages' argument isn't specified.Will extract only from page 1 by default.\n"
     ]
    },
    {
     "name": "stdout",
     "output_type": "stream",
     "text": [
      "[+] Found a total of 1 imagesin page 0\n",
      " 086-060-080222-ALU-02 - BANCO.pdf\n"
     ]
    },
    {
     "name": "stderr",
     "output_type": "stream",
     "text": [
      "'pages' argument isn't specified.Will extract only from page 1 by default.\n"
     ]
    },
    {
     "name": "stdout",
     "output_type": "stream",
     "text": [
      "[+] Found a total of 2 imagesin page 0\n",
      "[+] Found a total of 3 imagesin page 1\n",
      "[+] Found a total of 3 imagesin page 2\n",
      "[!] No image found on page 3\n",
      " 086-060-080222-ALU-02 - E-MAIL LOTE FORMATADO.pdf\n"
     ]
    },
    {
     "name": "stderr",
     "output_type": "stream",
     "text": [
      "'pages' argument isn't specified.Will extract only from page 1 by default.\n"
     ]
    },
    {
     "name": "stdout",
     "output_type": "stream",
     "text": [
      "[+] Found a total of 1 imagesin page 0\n",
      " 086-060-080222-ALU-03 - BANCO.pdf\n"
     ]
    },
    {
     "name": "stderr",
     "output_type": "stream",
     "text": [
      "'pages' argument isn't specified.Will extract only from page 1 by default.\n"
     ]
    },
    {
     "name": "stdout",
     "output_type": "stream",
     "text": [
      "[+] Found a total of 3 imagesin page 0\n",
      "[+] Found a total of 7 imagesin page 1\n",
      "[!] No image found on page 2\n",
      "[+] Found a total of 5 imagesin page 3\n",
      "[!] No image found on page 4\n",
      " 086-060-080222-ALU-03 - E-MAIL LOTE FORMATADO.pdf\n"
     ]
    },
    {
     "name": "stderr",
     "output_type": "stream",
     "text": [
      "PdfReadWarning: Superfluous whitespace found in object header b'44' b'0' [pdf.py:1730]\n",
      "PdfReadWarning: Superfluous whitespace found in object header b'104' b'0' [pdf.py:1730]\n",
      "PdfReadWarning: Superfluous whitespace found in object header b'32' b'0' [pdf.py:1730]\n",
      "PdfReadWarning: Superfluous whitespace found in object header b'34' b'0' [pdf.py:1730]\n",
      "PdfReadWarning: Superfluous whitespace found in object header b'35' b'0' [pdf.py:1730]\n",
      "PdfReadWarning: Superfluous whitespace found in object header b'36' b'0' [pdf.py:1730]\n",
      "PdfReadWarning: Superfluous whitespace found in object header b'37' b'0' [pdf.py:1730]\n",
      "PdfReadWarning: Superfluous whitespace found in object header b'38' b'0' [pdf.py:1730]\n",
      "PdfReadWarning: Superfluous whitespace found in object header b'39' b'0' [pdf.py:1730]\n",
      "PdfReadWarning: Superfluous whitespace found in object header b'40' b'0' [pdf.py:1730]\n",
      "PdfReadWarning: Superfluous whitespace found in object header b'41' b'0' [pdf.py:1730]\n",
      "PdfReadWarning: Superfluous whitespace found in object header b'42' b'0' [pdf.py:1730]\n",
      "'pages' argument isn't specified.Will extract only from page 1 by default.\n"
     ]
    },
    {
     "name": "stdout",
     "output_type": "stream",
     "text": [
      "[+] Found a total of 5 imagesin page 0\n",
      "[+] Found a total of 24 imagesin page 1\n",
      "[!] No image found on page 2\n",
      " 086-060-080222-ALU-04 - EMAIL.pdf\n"
     ]
    },
    {
     "name": "stderr",
     "output_type": "stream",
     "text": [
      "'pages' argument isn't specified.Will extract only from page 1 by default.\n"
     ]
    },
    {
     "name": "stdout",
     "output_type": "stream",
     "text": [
      "[+] Found a total of 1 imagesin page 0\n",
      " 086-060-080222-ALU-04 - LOTE.pdf\n"
     ]
    },
    {
     "name": "stderr",
     "output_type": "stream",
     "text": [
      "'pages' argument isn't specified.Will extract only from page 1 by default.\n"
     ]
    },
    {
     "name": "stdout",
     "output_type": "stream",
     "text": [
      "[+] Found a total of 1 imagesin page 0\n",
      " 086-060-080222-URGE-01 - BANCO.pdf\n"
     ]
    },
    {
     "name": "stderr",
     "output_type": "stream",
     "text": [
      "'pages' argument isn't specified.Will extract only from page 1 by default.\n"
     ]
    },
    {
     "name": "stdout",
     "output_type": "stream",
     "text": [
      "[+] Found a total of 2 imagesin page 0\n",
      "[+] Found a total of 3 imagesin page 1\n",
      "[+] Found a total of 3 imagesin page 2\n",
      "[!] No image found on page 3\n",
      " 086-060-080222-URGE-01 - E-MAIL LOTE FORMATADO.pdf\n"
     ]
    },
    {
     "name": "stderr",
     "output_type": "stream",
     "text": [
      "'pages' argument isn't specified.Will extract only from page 1 by default.\n"
     ]
    },
    {
     "name": "stdout",
     "output_type": "stream",
     "text": [
      "[+] Found a total of 1 imagesin page 0\n",
      " 086-060-080222-URGE-05 BANCO.pdf\n"
     ]
    },
    {
     "name": "stderr",
     "output_type": "stream",
     "text": [
      "PdfReadWarning: Superfluous whitespace found in object header b'110' b'0' [pdf.py:1730]\n",
      "'pages' argument isn't specified.Will extract only from page 1 by default.\n"
     ]
    },
    {
     "name": "stdout",
     "output_type": "stream",
     "text": [
      "[+] Found a total of 27 imagesin page 0\n",
      "[+] Found a total of 6 imagesin page 1\n",
      "[!] No image found on page 2\n",
      " 086-060-080222-URGE-05 EMAIL LOTE FORMATADO.pdf\n"
     ]
    },
    {
     "name": "stderr",
     "output_type": "stream",
     "text": [
      "'pages' argument isn't specified.Will extract only from page 1 by default.\n"
     ]
    },
    {
     "name": "stdout",
     "output_type": "stream",
     "text": [
      "[+] Found a total of 1 imagesin page 0\n",
      " 086-060-080222-URGE-06 - BANCO.pdf\n"
     ]
    },
    {
     "name": "stderr",
     "output_type": "stream",
     "text": [
      "'pages' argument isn't specified.Will extract only from page 1 by default.\n"
     ]
    },
    {
     "name": "stdout",
     "output_type": "stream",
     "text": [
      "[+] Found a total of 1 imagesin page 0\n",
      "[+] Found a total of 4 imagesin page 1\n",
      "[+] Found a total of 6 imagesin page 2\n",
      "[!] No image found on page 3\n",
      " 086-060-080222-URGE-06 - IMPOSTO PRIO 1.pdf\n"
     ]
    },
    {
     "name": "stderr",
     "output_type": "stream",
     "text": [
      "'pages' argument isn't specified.Will extract only from page 1 by default.\n"
     ]
    },
    {
     "name": "stdout",
     "output_type": "stream",
     "text": [
      "[+] Found a total of 1 imagesin page 0\n",
      " 086-060-090222-ALU-01 - BANCO.pdf\n"
     ]
    },
    {
     "name": "stderr",
     "output_type": "stream",
     "text": [
      "'pages' argument isn't specified.Will extract only from page 1 by default.\n"
     ]
    },
    {
     "name": "stdout",
     "output_type": "stream",
     "text": [
      "[+] Found a total of 1 imagesin page 0\n",
      " 086-060-090222-ALU-02 - BANCO.pdf\n"
     ]
    },
    {
     "name": "stderr",
     "output_type": "stream",
     "text": [
      "'pages' argument isn't specified.Will extract only from page 1 by default.\n"
     ]
    },
    {
     "name": "stdout",
     "output_type": "stream",
     "text": [
      "[+] Found a total of 1 imagesin page 0\n",
      " 086-060-090222-ALU-03 - BANCO.pdf\n"
     ]
    },
    {
     "name": "stderr",
     "output_type": "stream",
     "text": [
      "'pages' argument isn't specified.Will extract only from page 1 by default.\n"
     ]
    },
    {
     "name": "stdout",
     "output_type": "stream",
     "text": [
      "[+] Found a total of 1 imagesin page 0\n",
      " 086-060-090222-URGE-02 - BANCO.pdf\n"
     ]
    },
    {
     "name": "stderr",
     "output_type": "stream",
     "text": [
      "'pages' argument isn't specified.Will extract only from page 1 by default.\n"
     ]
    },
    {
     "name": "stdout",
     "output_type": "stream",
     "text": [
      "[+] Found a total of 2 imagesin page 0\n",
      "[+] Found a total of 2 imagesin page 1\n",
      "[+] Found a total of 3 imagesin page 2\n",
      "[!] No image found on page 3\n",
      " 086-060-090222-URGE-02 - E-MAIL LOTE FORMATADO.pdf\n"
     ]
    },
    {
     "name": "stderr",
     "output_type": "stream",
     "text": [
      "'pages' argument isn't specified.Will extract only from page 1 by default.\n"
     ]
    },
    {
     "name": "stdout",
     "output_type": "stream",
     "text": [
      "[+] Found a total of 1 imagesin page 0\n",
      " 086-060-100222-ALU-01 - banco.pdf\n"
     ]
    },
    {
     "name": "stderr",
     "output_type": "stream",
     "text": [
      "'pages' argument isn't specified.Will extract only from page 1 by default.\n"
     ]
    },
    {
     "name": "stdout",
     "output_type": "stream",
     "text": [
      "[+] Found a total of 1 imagesin page 0\n",
      "[+] Found a total of 2 imagesin page 1\n",
      "[!] No image found on page 2\n",
      " 086-060-100222-ALU-01 - e-mail lote formatado.pdf\n"
     ]
    },
    {
     "name": "stderr",
     "output_type": "stream",
     "text": [
      "'pages' argument isn't specified.Will extract only from page 1 by default.\n"
     ]
    },
    {
     "name": "stdout",
     "output_type": "stream",
     "text": [
      "[+] Found a total of 1 imagesin page 0\n",
      " 086-060-100222-ALU-02 - BANCO.pdf\n"
     ]
    },
    {
     "name": "stderr",
     "output_type": "stream",
     "text": [
      "'pages' argument isn't specified.Will extract only from page 1 by default.\n"
     ]
    },
    {
     "name": "stdout",
     "output_type": "stream",
     "text": [
      "[+] Found a total of 2 imagesin page 0\n",
      "[+] Found a total of 2 imagesin page 1\n",
      "[+] Found a total of 1 imagesin page 2\n",
      "[+] Found a total of 1 imagesin page 3\n",
      "[+] Found a total of 1 imagesin page 4\n",
      "[!] No image found on page 5\n",
      " 086-060-100222-ALU-02 - E-MAIL LOTE FORMATADO.pdf\n"
     ]
    },
    {
     "name": "stderr",
     "output_type": "stream",
     "text": [
      "'pages' argument isn't specified.Will extract only from page 1 by default.\n"
     ]
    },
    {
     "name": "stdout",
     "output_type": "stream",
     "text": [
      "[+] Found a total of 1 imagesin page 0\n",
      " 086-060-100222-ALU-04 - BANCO.pdf\n"
     ]
    },
    {
     "name": "stderr",
     "output_type": "stream",
     "text": [
      "'pages' argument isn't specified.Will extract only from page 1 by default.\n"
     ]
    },
    {
     "name": "stdout",
     "output_type": "stream",
     "text": [
      "[+] Found a total of 1 imagesin page 0\n",
      " 086-060-100222-ALU-05 - BANCO.pdf\n"
     ]
    },
    {
     "name": "stderr",
     "output_type": "stream",
     "text": [
      "'pages' argument isn't specified.Will extract only from page 1 by default.\n"
     ]
    },
    {
     "name": "stdout",
     "output_type": "stream",
     "text": [
      "[+] Found a total of 1 imagesin page 0\n",
      "[+] Found a total of 5 imagesin page 1\n",
      "[!] No image found on page 2\n",
      " 086-060-100222-ALU-05 - E-MAIL LOTE FORMATADO.pdf\n"
     ]
    },
    {
     "name": "stderr",
     "output_type": "stream",
     "text": [
      "'pages' argument isn't specified.Will extract only from page 1 by default.\n"
     ]
    },
    {
     "name": "stdout",
     "output_type": "stream",
     "text": [
      "[+] Found a total of 1 imagesin page 0\n",
      " 086-060-100222-ALU-06 - banco.pdf\n"
     ]
    },
    {
     "name": "stderr",
     "output_type": "stream",
     "text": [
      "'pages' argument isn't specified.Will extract only from page 1 by default.\n"
     ]
    },
    {
     "name": "stdout",
     "output_type": "stream",
     "text": [
      "[+] Found a total of 1 imagesin page 0\n",
      " 086-060-100222-URGE-01 - BANCO.pdf\n"
     ]
    },
    {
     "name": "stderr",
     "output_type": "stream",
     "text": [
      "'pages' argument isn't specified.Will extract only from page 1 by default.\n"
     ]
    },
    {
     "name": "stdout",
     "output_type": "stream",
     "text": [
      "[+] Found a total of 3 imagesin page 0\n",
      "[+] Found a total of 2 imagesin page 1\n",
      "[+] Found a total of 5 imagesin page 2\n",
      "[!] No image found on page 3\n",
      " 086-060-100222-URGE-01 - E-MAIL LOTE FORMATADO.pdf\n"
     ]
    },
    {
     "name": "stderr",
     "output_type": "stream",
     "text": [
      "'pages' argument isn't specified.Will extract only from page 1 by default.\n"
     ]
    },
    {
     "name": "stdout",
     "output_type": "stream",
     "text": [
      "[+] Found a total of 1 imagesin page 0\n",
      " 086-060-100222-URGE-14 - BANCO.pdf\n"
     ]
    },
    {
     "name": "stderr",
     "output_type": "stream",
     "text": [
      "'pages' argument isn't specified.Will extract only from page 1 by default.\n"
     ]
    },
    {
     "name": "stdout",
     "output_type": "stream",
     "text": [
      "[+] Found a total of 2 imagesin page 0\n",
      "[+] Found a total of 3 imagesin page 1\n",
      "[+] Found a total of 6 imagesin page 2\n",
      "[!] No image found on page 3\n",
      " 086-060-100222-URGE-14 - E-MAIL LOTE FORMATADO.pdf\n"
     ]
    },
    {
     "name": "stderr",
     "output_type": "stream",
     "text": [
      "'pages' argument isn't specified.Will extract only from page 1 by default.\n"
     ]
    },
    {
     "name": "stdout",
     "output_type": "stream",
     "text": [
      "[+] Found a total of 1 imagesin page 0\n",
      " 086-060-110222-ALU-01 - BANCO.pdf\n"
     ]
    },
    {
     "name": "stderr",
     "output_type": "stream",
     "text": [
      "'pages' argument isn't specified.Will extract only from page 1 by default.\n"
     ]
    },
    {
     "name": "stdout",
     "output_type": "stream",
     "text": [
      "[+] Found a total of 2 imagesin page 0\n",
      "[+] Found a total of 2 imagesin page 1\n",
      "[+] Found a total of 3 imagesin page 2\n",
      "[!] No image found on page 3\n",
      " 086-060-110222-ALU-02 - e-mail lote formatado.pdf\n"
     ]
    },
    {
     "name": "stderr",
     "output_type": "stream",
     "text": [
      "'pages' argument isn't specified.Will extract only from page 1 by default.\n"
     ]
    },
    {
     "name": "stdout",
     "output_type": "stream",
     "text": [
      "[+] Found a total of 1 imagesin page 0\n"
     ]
    },
    {
     "name": "stderr",
     "output_type": "stream",
     "text": [
      "Got stderr: abr 04, 2022 4:37:54 PM org.apache.pdfbox.rendering.TTFGlyph2D getPathForGID\r\n",
      "ADVERTÊNCIA: No glyph for code 0 (CID 0000) in font BHNIRM+IDAutomationC128L\r\n",
      "\n"
     ]
    },
    {
     "name": "stdout",
     "output_type": "stream",
     "text": [
      " 086-060-110222-ALU-02 -BANCO.pdf\n"
     ]
    },
    {
     "name": "stderr",
     "output_type": "stream",
     "text": [
      "'pages' argument isn't specified.Will extract only from page 1 by default.\n"
     ]
    },
    {
     "name": "stdout",
     "output_type": "stream",
     "text": [
      "[+] Found a total of 1 imagesin page 0\n",
      " 086-060-110222-ALU-03 - BANCO.pdf\n"
     ]
    },
    {
     "name": "stderr",
     "output_type": "stream",
     "text": [
      "'pages' argument isn't specified.Will extract only from page 1 by default.\n"
     ]
    },
    {
     "name": "stdout",
     "output_type": "stream",
     "text": [
      "[+] Found a total of 1 imagesin page 0\n",
      " 086-060-110222-URGE-01 - BANCO.pdf\n"
     ]
    },
    {
     "name": "stderr",
     "output_type": "stream",
     "text": [
      "'pages' argument isn't specified.Will extract only from page 1 by default.\n"
     ]
    },
    {
     "name": "stdout",
     "output_type": "stream",
     "text": [
      "[+] Found a total of 1 imagesin page 0\n",
      " 086-060-140222-ALU-03 - BANCO.pdf\n"
     ]
    },
    {
     "name": "stderr",
     "output_type": "stream",
     "text": [
      "'pages' argument isn't specified.Will extract only from page 1 by default.\n"
     ]
    },
    {
     "name": "stdout",
     "output_type": "stream",
     "text": [
      "[+] Found a total of 1 imagesin page 0\n",
      " 086-060-140222-ALU-04 - banco.pdf\n"
     ]
    },
    {
     "name": "stderr",
     "output_type": "stream",
     "text": [
      "'pages' argument isn't specified.Will extract only from page 1 by default.\n"
     ]
    },
    {
     "name": "stdout",
     "output_type": "stream",
     "text": [
      "[+] Found a total of 1 imagesin page 0\n",
      " 086-060-140222-ALU-05 - BANCO.pdf\n"
     ]
    },
    {
     "name": "stderr",
     "output_type": "stream",
     "text": [
      "'pages' argument isn't specified.Will extract only from page 1 by default.\n"
     ]
    },
    {
     "name": "stdout",
     "output_type": "stream",
     "text": [
      "[+] Found a total of 1 imagesin page 0\n",
      " 086-060-140222-URGE-07 - BANCO.pdf\n"
     ]
    },
    {
     "name": "stderr",
     "output_type": "stream",
     "text": [
      "'pages' argument isn't specified.Will extract only from page 1 by default.\n"
     ]
    },
    {
     "name": "stdout",
     "output_type": "stream",
     "text": [
      "[+] Found a total of 1 imagesin page 0\n",
      " 086-060-150222-ALU-01 - BANCO.pdf\n"
     ]
    },
    {
     "name": "stderr",
     "output_type": "stream",
     "text": [
      "'pages' argument isn't specified.Will extract only from page 1 by default.\n"
     ]
    },
    {
     "name": "stdout",
     "output_type": "stream",
     "text": [
      "[+] Found a total of 1 imagesin page 0\n",
      " 086-060-150222-ALU-02 - BANCO.pdf\n"
     ]
    },
    {
     "name": "stderr",
     "output_type": "stream",
     "text": [
      "'pages' argument isn't specified.Will extract only from page 1 by default.\n"
     ]
    },
    {
     "name": "stdout",
     "output_type": "stream",
     "text": [
      "[+] Found a total of 1 imagesin page 0\n",
      " 086-060-150222-ALU-03 - banco.pdf\n"
     ]
    },
    {
     "name": "stderr",
     "output_type": "stream",
     "text": [
      "'pages' argument isn't specified.Will extract only from page 1 by default.\n"
     ]
    },
    {
     "name": "stdout",
     "output_type": "stream",
     "text": [
      "[+] Found a total of 1 imagesin page 0\n",
      " 086-060-150222-ALU-04 - banco.pdf\n"
     ]
    },
    {
     "name": "stderr",
     "output_type": "stream",
     "text": [
      "'pages' argument isn't specified.Will extract only from page 1 by default.\n"
     ]
    },
    {
     "name": "stdout",
     "output_type": "stream",
     "text": [
      "[+] Found a total of 1 imagesin page 0\n"
     ]
    },
    {
     "name": "stderr",
     "output_type": "stream",
     "text": [
      "Got stderr: abr 04, 2022 4:38:16 PM org.apache.pdfbox.rendering.TTFGlyph2D getPathForGID\r\n",
      "ADVERTÊNCIA: No glyph for code 0 (CID 0000) in font TCEKLQ+IDAutomationC128L\r\n",
      "\n"
     ]
    },
    {
     "name": "stdout",
     "output_type": "stream",
     "text": [
      " 086-060-150222-ALU-05 - BANCO.pdf\n"
     ]
    },
    {
     "name": "stderr",
     "output_type": "stream",
     "text": [
      "'pages' argument isn't specified.Will extract only from page 1 by default.\n"
     ]
    },
    {
     "name": "stdout",
     "output_type": "stream",
     "text": [
      "[+] Found a total of 1 imagesin page 0\n",
      " 086-060-150222-ALU-06 - BANCO.pdf\n"
     ]
    },
    {
     "name": "stderr",
     "output_type": "stream",
     "text": [
      "'pages' argument isn't specified.Will extract only from page 1 by default.\n"
     ]
    },
    {
     "name": "stdout",
     "output_type": "stream",
     "text": [
      "[+] Found a total of 1 imagesin page 0\n",
      " 086-060-150222-URGE-09 - BANCO.pdf\n"
     ]
    },
    {
     "name": "stderr",
     "output_type": "stream",
     "text": [
      "'pages' argument isn't specified.Will extract only from page 1 by default.\n"
     ]
    },
    {
     "name": "stdout",
     "output_type": "stream",
     "text": [
      "[+] Found a total of 1 imagesin page 0\n",
      " 086-060-160222-ALU-01 BANCO.pdf\n"
     ]
    },
    {
     "name": "stderr",
     "output_type": "stream",
     "text": [
      "PdfReadWarning: Superfluous whitespace found in object header b'71' b'0' [pdf.py:1730]\n"
     ]
    },
    {
     "name": "stdout",
     "output_type": "stream",
     "text": [
      "[+] Found a total of 5 imagesin page 0\n",
      "[+] Found a total of 4 imagesin page 1\n"
     ]
    },
    {
     "name": "stderr",
     "output_type": "stream",
     "text": [
      "'pages' argument isn't specified.Will extract only from page 1 by default.\n"
     ]
    },
    {
     "name": "stdout",
     "output_type": "stream",
     "text": [
      "[!] No image found on page 2\n",
      " 086-060-160222-ALU-01 EMAIL.pdf\n"
     ]
    },
    {
     "name": "stderr",
     "output_type": "stream",
     "text": [
      "'pages' argument isn't specified.Will extract only from page 1 by default.\n"
     ]
    },
    {
     "name": "stdout",
     "output_type": "stream",
     "text": [
      "[+] Found a total of 1 imagesin page 0\n",
      " 086-060-160222-ALU-02 BANCO.pdf\n"
     ]
    },
    {
     "name": "stderr",
     "output_type": "stream",
     "text": [
      "PdfReadWarning: Superfluous whitespace found in object header b'67' b'0' [pdf.py:1730]\n"
     ]
    },
    {
     "name": "stdout",
     "output_type": "stream",
     "text": [
      "[+] Found a total of 4 imagesin page 0\n",
      "[+] Found a total of 4 imagesin page 1\n",
      "[!] No image found on page 2\n"
     ]
    },
    {
     "name": "stderr",
     "output_type": "stream",
     "text": [
      "'pages' argument isn't specified.Will extract only from page 1 by default.\n"
     ]
    },
    {
     "name": "stdout",
     "output_type": "stream",
     "text": [
      " 086-060-160222-ALU-02 EMAIL.pdf\n"
     ]
    },
    {
     "name": "stderr",
     "output_type": "stream",
     "text": [
      "'pages' argument isn't specified.Will extract only from page 1 by default.\n"
     ]
    },
    {
     "name": "stdout",
     "output_type": "stream",
     "text": [
      "[+] Found a total of 1 imagesin page 0\n",
      " 086-060-160222-ALU-03 BANCO.pdf\n"
     ]
    },
    {
     "name": "stderr",
     "output_type": "stream",
     "text": [
      "PdfReadWarning: Superfluous whitespace found in object header b'82' b'0' [pdf.py:1730]\n"
     ]
    },
    {
     "name": "stdout",
     "output_type": "stream",
     "text": [
      "[+] Found a total of 7 imagesin page 0\n",
      "[+] Found a total of 5 imagesin page 1\n",
      "[!] No image found on page 2\n"
     ]
    },
    {
     "name": "stderr",
     "output_type": "stream",
     "text": [
      "'pages' argument isn't specified.Will extract only from page 1 by default.\n"
     ]
    },
    {
     "name": "stdout",
     "output_type": "stream",
     "text": [
      " 086-060-160222-ALU-03 EMAIL.pdf\n"
     ]
    },
    {
     "name": "stderr",
     "output_type": "stream",
     "text": [
      "'pages' argument isn't specified.Will extract only from page 1 by default.\n"
     ]
    },
    {
     "name": "stdout",
     "output_type": "stream",
     "text": [
      "[+] Found a total of 1 imagesin page 0\n",
      " 086-060-160222-ALU-04 banco.pdf\n"
     ]
    },
    {
     "name": "stderr",
     "output_type": "stream",
     "text": [
      "PdfReadWarning: Superfluous whitespace found in object header b'45' b'0' [pdf.py:1730]\n",
      "PdfReadWarning: Superfluous whitespace found in object header b'78' b'0' [pdf.py:1730]\n",
      "PdfReadWarning: Superfluous whitespace found in object header b'43' b'0' [pdf.py:1730]\n"
     ]
    },
    {
     "name": "stdout",
     "output_type": "stream",
     "text": [
      "[+] Found a total of 7 imagesin page 0\n",
      "[+] Found a total of 5 imagesin page 1\n",
      "[!] No image found on page 2\n"
     ]
    },
    {
     "name": "stderr",
     "output_type": "stream",
     "text": [
      "'pages' argument isn't specified.Will extract only from page 1 by default.\n"
     ]
    },
    {
     "name": "stdout",
     "output_type": "stream",
     "text": [
      " 086-060-160222-ALU-04 email.pdf\n"
     ]
    },
    {
     "name": "stderr",
     "output_type": "stream",
     "text": [
      "'pages' argument isn't specified.Will extract only from page 1 by default.\n"
     ]
    },
    {
     "name": "stdout",
     "output_type": "stream",
     "text": [
      "[+] Found a total of 1 imagesin page 0\n",
      " 086-060-170222-ALU-01 banco.pdf\n"
     ]
    },
    {
     "name": "stderr",
     "output_type": "stream",
     "text": [
      "'pages' argument isn't specified.Will extract only from page 1 by default.\n"
     ]
    },
    {
     "name": "stdout",
     "output_type": "stream",
     "text": [
      "[+] Found a total of 26 imagesin page 0\n",
      "[+] Found a total of 3 imagesin page 1\n",
      " 086-060-170222-ALU-01 email.pdf\n"
     ]
    },
    {
     "name": "stderr",
     "output_type": "stream",
     "text": [
      "'pages' argument isn't specified.Will extract only from page 1 by default.\n"
     ]
    },
    {
     "name": "stdout",
     "output_type": "stream",
     "text": [
      "[+] Found a total of 1 imagesin page 0\n",
      " 086-060-170222-ALU-02 banco.pdf\n"
     ]
    },
    {
     "name": "stderr",
     "output_type": "stream",
     "text": [
      "'pages' argument isn't specified.Will extract only from page 1 by default.\n"
     ]
    },
    {
     "name": "stdout",
     "output_type": "stream",
     "text": [
      "[+] Found a total of 8 imagesin page 0\n",
      "[+] Found a total of 4 imagesin page 1\n",
      "[!] No image found on page 2\n",
      " 086-060-170222-ALU-02 email.pdf\n"
     ]
    },
    {
     "name": "stderr",
     "output_type": "stream",
     "text": [
      "'pages' argument isn't specified.Will extract only from page 1 by default.\n"
     ]
    },
    {
     "name": "stdout",
     "output_type": "stream",
     "text": [
      "[+] Found a total of 1 imagesin page 0\n",
      " 086-060-170222-ALU-03 banco.pdf\n"
     ]
    },
    {
     "name": "stderr",
     "output_type": "stream",
     "text": [
      "PdfReadWarning: Superfluous whitespace found in object header b'70' b'0' [pdf.py:1730]\n",
      "'pages' argument isn't specified.Will extract only from page 1 by default.\n"
     ]
    },
    {
     "name": "stdout",
     "output_type": "stream",
     "text": [
      "[+] Found a total of 9 imagesin page 0\n",
      "[+] Found a total of 3 imagesin page 1\n",
      "[+] Found a total of 1 imagesin page 2\n",
      " 086-060-170222-ALU-03 email.pdf\n"
     ]
    },
    {
     "name": "stderr",
     "output_type": "stream",
     "text": [
      "'pages' argument isn't specified.Will extract only from page 1 by default.\n"
     ]
    },
    {
     "name": "stdout",
     "output_type": "stream",
     "text": [
      "[+] Found a total of 1 imagesin page 0\n",
      " 086-060-170222-ALU-04 banco.pdf\n"
     ]
    },
    {
     "name": "stderr",
     "output_type": "stream",
     "text": [
      "'pages' argument isn't specified.Will extract only from page 1 by default.\n"
     ]
    },
    {
     "name": "stdout",
     "output_type": "stream",
     "text": [
      "[+] Found a total of 4 imagesin page 0\n",
      "[+] Found a total of 6 imagesin page 1\n",
      "[+] Found a total of 1 imagesin page 2\n",
      " 086-060-170222-ALU-04 email.pdf\n",
      "[+] Found a total of 9 imagesin page 0\n",
      "[+] Found a total of 2 imagesin page 1\n",
      "[!] No image found on page 2\n"
     ]
    },
    {
     "name": "stderr",
     "output_type": "stream",
     "text": [
      "'pages' argument isn't specified.Will extract only from page 1 by default.\n"
     ]
    },
    {
     "name": "stdout",
     "output_type": "stream",
     "text": [
      " 086-060-180222-ALU-01 email.pdf\n"
     ]
    },
    {
     "name": "stderr",
     "output_type": "stream",
     "text": [
      "'pages' argument isn't specified.Will extract only from page 1 by default.\n"
     ]
    },
    {
     "name": "stdout",
     "output_type": "stream",
     "text": [
      "[+] Found a total of 1 imagesin page 0\n",
      " 086-060-180222-ALU-01 lote formatado.pdf\n"
     ]
    },
    {
     "name": "stderr",
     "output_type": "stream",
     "text": [
      "'pages' argument isn't specified.Will extract only from page 1 by default.\n"
     ]
    },
    {
     "name": "stdout",
     "output_type": "stream",
     "text": [
      "[+] Found a total of 5 imagesin page 0\n",
      "[+] Found a total of 1 imagesin page 1\n",
      "[+] Found a total of 1 imagesin page 2\n",
      " 086-060-180222-ALU-02 email.pdf\n"
     ]
    },
    {
     "name": "stderr",
     "output_type": "stream",
     "text": [
      "'pages' argument isn't specified.Will extract only from page 1 by default.\n"
     ]
    },
    {
     "name": "stdout",
     "output_type": "stream",
     "text": [
      "[+] Found a total of 1 imagesin page 0\n",
      " 086-060-180222-ALU-02 lote formatado.pdf\n",
      "[+] Found a total of 9 imagesin page 0\n",
      "[+] Found a total of 2 imagesin page 1\n",
      "[!] No image found on page 2\n"
     ]
    },
    {
     "name": "stderr",
     "output_type": "stream",
     "text": [
      "'pages' argument isn't specified.Will extract only from page 1 by default.\n"
     ]
    },
    {
     "name": "stdout",
     "output_type": "stream",
     "text": [
      " 086-060-180222-ALU-03 email.pdf\n"
     ]
    },
    {
     "name": "stderr",
     "output_type": "stream",
     "text": [
      "'pages' argument isn't specified.Will extract only from page 1 by default.\n"
     ]
    },
    {
     "name": "stdout",
     "output_type": "stream",
     "text": [
      "[+] Found a total of 1 imagesin page 0\n",
      " 086-060-180222-ALU-03 lote formatado.pdf\n"
     ]
    },
    {
     "name": "stderr",
     "output_type": "stream",
     "text": [
      "PdfReadWarning: Superfluous whitespace found in object header b'76' b'0' [pdf.py:1730]\n"
     ]
    },
    {
     "name": "stdout",
     "output_type": "stream",
     "text": [
      "[+] Found a total of 4 imagesin page 0\n",
      "[+] Found a total of 2 imagesin page 1\n",
      "[!] No image found on page 2\n"
     ]
    },
    {
     "name": "stderr",
     "output_type": "stream",
     "text": [
      "'pages' argument isn't specified.Will extract only from page 1 by default.\n"
     ]
    },
    {
     "name": "stdout",
     "output_type": "stream",
     "text": [
      " 086-060-180222-URGE-02 email.pdf\n"
     ]
    },
    {
     "name": "stderr",
     "output_type": "stream",
     "text": [
      "'pages' argument isn't specified.Will extract only from page 1 by default.\n"
     ]
    },
    {
     "name": "stdout",
     "output_type": "stream",
     "text": [
      "[+] Found a total of 1 imagesin page 0\n",
      " 086-060-180222-URGE-02 lote formatado.pdf\n"
     ]
    },
    {
     "name": "stderr",
     "output_type": "stream",
     "text": [
      "PdfReadWarning: Superfluous whitespace found in object header b'98' b'0' [pdf.py:1730]\n",
      "'pages' argument isn't specified.Will extract only from page 1 by default.\n"
     ]
    },
    {
     "name": "stdout",
     "output_type": "stream",
     "text": [
      "[+] Found a total of 26 imagesin page 0\n",
      "[+] Found a total of 7 imagesin page 1\n",
      "[!] No image found on page 2\n",
      " 086-060-210222-ALU-01 email.pdf\n"
     ]
    },
    {
     "name": "stderr",
     "output_type": "stream",
     "text": [
      "'pages' argument isn't specified.Will extract only from page 1 by default.\n"
     ]
    },
    {
     "name": "stdout",
     "output_type": "stream",
     "text": [
      "[+] Found a total of 1 imagesin page 0\n",
      " 086-060-210222-ALU-01 lote formatado.pdf\n"
     ]
    },
    {
     "name": "stderr",
     "output_type": "stream",
     "text": [
      "PdfReadWarning: Superfluous whitespace found in object header b'72' b'0' [pdf.py:1730]\n",
      "'pages' argument isn't specified.Will extract only from page 1 by default.\n"
     ]
    },
    {
     "name": "stdout",
     "output_type": "stream",
     "text": [
      "[+] Found a total of 4 imagesin page 0\n",
      "[+] Found a total of 6 imagesin page 1\n",
      "[+] Found a total of 1 imagesin page 2\n",
      " 086-060-210222-ALU-02 email.pdf\n"
     ]
    },
    {
     "name": "stderr",
     "output_type": "stream",
     "text": [
      "'pages' argument isn't specified.Will extract only from page 1 by default.\n"
     ]
    },
    {
     "name": "stdout",
     "output_type": "stream",
     "text": [
      "[+] Found a total of 1 imagesin page 0\n",
      " 086-060-210222-ALU-02 lote.pdf\n"
     ]
    },
    {
     "name": "stderr",
     "output_type": "stream",
     "text": [
      "PdfReadWarning: Superfluous whitespace found in object header b'47' b'0' [pdf.py:1730]\n",
      "PdfReadWarning: Superfluous whitespace found in object header b'79' b'0' [pdf.py:1730]\n",
      "'pages' argument isn't specified.Will extract only from page 1 by default.\n"
     ]
    },
    {
     "name": "stdout",
     "output_type": "stream",
     "text": [
      "[+] Found a total of 9 imagesin page 0\n",
      "[+] Found a total of 7 imagesin page 1\n",
      "[!] No image found on page 2\n",
      " 086-060-210222-ALU-03 email.pdf\n"
     ]
    },
    {
     "name": "stderr",
     "output_type": "stream",
     "text": [
      "'pages' argument isn't specified.Will extract only from page 1 by default.\n"
     ]
    },
    {
     "name": "stdout",
     "output_type": "stream",
     "text": [
      "[+] Found a total of 1 imagesin page 0\n",
      " 086-060-210222-ALU-03 lote.pdf\n"
     ]
    },
    {
     "name": "stderr",
     "output_type": "stream",
     "text": [
      "PdfReadWarning: Superfluous whitespace found in object header b'68' b'0' [pdf.py:1730]\n",
      "PdfReadWarning: Superfluous whitespace found in object header b'99' b'0' [pdf.py:1730]\n",
      "PdfReadWarning: Superfluous whitespace found in object header b'65' b'0' [pdf.py:1730]\n",
      "'pages' argument isn't specified.Will extract only from page 1 by default.\n"
     ]
    },
    {
     "name": "stdout",
     "output_type": "stream",
     "text": [
      "[+] Found a total of 26 imagesin page 0\n",
      "[+] Found a total of 6 imagesin page 1\n",
      "[+] Found a total of 1 imagesin page 2\n",
      " 086-060-210222-ALU-04 email.pdf\n"
     ]
    },
    {
     "name": "stderr",
     "output_type": "stream",
     "text": [
      "'pages' argument isn't specified.Will extract only from page 1 by default.\n"
     ]
    },
    {
     "name": "stdout",
     "output_type": "stream",
     "text": [
      "[+] Found a total of 1 imagesin page 0\n",
      " 086-060-210222-ALU-04 lote.pdf\n"
     ]
    },
    {
     "name": "stderr",
     "output_type": "stream",
     "text": [
      "'pages' argument isn't specified.Will extract only from page 1 by default.\n"
     ]
    },
    {
     "name": "stdout",
     "output_type": "stream",
     "text": [
      "[+] Found a total of 9 imagesin page 0\n",
      "[+] Found a total of 7 imagesin page 1\n",
      "[!] No image found on page 2\n",
      " 086-060-210222-URGE-13 email.pdf\n"
     ]
    },
    {
     "name": "stderr",
     "output_type": "stream",
     "text": [
      "'pages' argument isn't specified.Will extract only from page 1 by default.\n"
     ]
    },
    {
     "name": "stdout",
     "output_type": "stream",
     "text": [
      "[+] Found a total of 1 imagesin page 0\n",
      " 086-060-210222-URGE-13 lote.pdf\n"
     ]
    },
    {
     "name": "stderr",
     "output_type": "stream",
     "text": [
      "PdfReadWarning: Superfluous whitespace found in object header b'75' b'0' [pdf.py:1730]\n",
      "PdfReadWarning: Superfluous whitespace found in object header b'46' b'0' [pdf.py:1730]\n",
      "'pages' argument isn't specified.Will extract only from page 1 by default.\n"
     ]
    },
    {
     "name": "stdout",
     "output_type": "stream",
     "text": [
      "[+] Found a total of 9 imagesin page 0\n",
      "[+] Found a total of 7 imagesin page 1\n",
      "[!] No image found on page 2\n",
      " 086-060-220222-ALU-01 email.pdf\n"
     ]
    },
    {
     "name": "stderr",
     "output_type": "stream",
     "text": [
      "'pages' argument isn't specified.Will extract only from page 1 by default.\n"
     ]
    },
    {
     "name": "stdout",
     "output_type": "stream",
     "text": [
      "[+] Found a total of 1 imagesin page 0\n",
      " 086-060-220222-ALU-01 lote.pdf\n"
     ]
    },
    {
     "name": "stderr",
     "output_type": "stream",
     "text": [
      "PdfReadWarning: Superfluous whitespace found in object header b'74' b'0' [pdf.py:1730]\n",
      "'pages' argument isn't specified.Will extract only from page 1 by default.\n"
     ]
    },
    {
     "name": "stdout",
     "output_type": "stream",
     "text": [
      "[+] Found a total of 3 imagesin page 0\n",
      "[+] Found a total of 7 imagesin page 1\n",
      "[!] No image found on page 2\n",
      " 086-060-230222-ALU-01 email.pdf\n"
     ]
    },
    {
     "name": "stderr",
     "output_type": "stream",
     "text": [
      "PdfReadWarning: Superfluous whitespace found in object header b'106' b'0' [pdf.py:1730]\n",
      "'pages' argument isn't specified.Will extract only from page 1 by default.\n"
     ]
    },
    {
     "name": "stdout",
     "output_type": "stream",
     "text": [
      "[+] Found a total of 26 imagesin page 0\n",
      "[+] Found a total of 7 imagesin page 1\n",
      "[+] Found a total of 1 imagesin page 2\n",
      " 086-060-230222-ALU-04 email.pdf\n"
     ]
    },
    {
     "name": "stderr",
     "output_type": "stream",
     "text": [
      "'pages' argument isn't specified.Will extract only from page 1 by default.\n"
     ]
    },
    {
     "name": "stdout",
     "output_type": "stream",
     "text": [
      "[+] Found a total of 1 imagesin page 0\n",
      " 086-060-230222-ALU-04 lote.pdf\n",
      "[+] Found a total of 4 imagesin page 0\n",
      "[+] Found a total of 6 imagesin page 1\n",
      "[+] Found a total of 1 imagesin page 2\n"
     ]
    },
    {
     "name": "stderr",
     "output_type": "stream",
     "text": [
      "'pages' argument isn't specified.Will extract only from page 1 by default.\n"
     ]
    },
    {
     "name": "stdout",
     "output_type": "stream",
     "text": [
      " 086-060-230222-ALU-05 email.pdf\n"
     ]
    },
    {
     "name": "stderr",
     "output_type": "stream",
     "text": [
      "'pages' argument isn't specified.Will extract only from page 1 by default.\n"
     ]
    },
    {
     "name": "stdout",
     "output_type": "stream",
     "text": [
      "[+] Found a total of 1 imagesin page 0\n",
      " 086-060-230222-ALU-05 lote.pdf\n"
     ]
    },
    {
     "name": "stderr",
     "output_type": "stream",
     "text": [
      "PdfReadWarning: Superfluous whitespace found in object header b'69' b'0' [pdf.py:1730]\n",
      "PdfReadWarning: Superfluous whitespace found in object header b'134' b'0' [pdf.py:1730]\n"
     ]
    },
    {
     "name": "stdout",
     "output_type": "stream",
     "text": [
      "[+] Found a total of 26 imagesin page 0\n",
      "[+] Found a total of 6 imagesin page 1\n",
      "[+] Found a total of 6 imagesin page 2\n",
      "[+] Found a total of 1 imagesin page 3\n"
     ]
    },
    {
     "name": "stderr",
     "output_type": "stream",
     "text": [
      "'pages' argument isn't specified.Will extract only from page 1 by default.\n"
     ]
    },
    {
     "name": "stdout",
     "output_type": "stream",
     "text": [
      " 086-060-230222-REGU-01 email.pdf\n"
     ]
    },
    {
     "name": "stderr",
     "output_type": "stream",
     "text": [
      "'pages' argument isn't specified.Will extract only from page 1 by default.\n"
     ]
    },
    {
     "name": "stdout",
     "output_type": "stream",
     "text": [
      "[+] Found a total of 1 imagesin page 0\n",
      " 086-060-230222-REGU-01 lote.pdf\n"
     ]
    },
    {
     "name": "stderr",
     "output_type": "stream",
     "text": [
      "PdfReadWarning: Superfluous whitespace found in object header b'105' b'0' [pdf.py:1730]\n",
      "'pages' argument isn't specified.Will extract only from page 1 by default.\n"
     ]
    },
    {
     "name": "stdout",
     "output_type": "stream",
     "text": [
      "[+] Found a total of 26 imagesin page 0\n",
      "[+] Found a total of 7 imagesin page 1\n",
      "[+] Found a total of 1 imagesin page 2\n",
      " 086-060-230222-REGU-03 email.pdf\n"
     ]
    },
    {
     "name": "stderr",
     "output_type": "stream",
     "text": [
      "'pages' argument isn't specified.Will extract only from page 1 by default.\n"
     ]
    },
    {
     "name": "stdout",
     "output_type": "stream",
     "text": [
      "[+] Found a total of 1 imagesin page 0\n",
      " 086-060-230222-REGU-03 lote.pdf\n"
     ]
    },
    {
     "name": "stderr",
     "output_type": "stream",
     "text": [
      "'pages' argument isn't specified.Will extract only from page 1 by default.\n"
     ]
    },
    {
     "name": "stdout",
     "output_type": "stream",
     "text": [
      "[+] Found a total of 4 imagesin page 0\n",
      "[+] Found a total of 3 imagesin page 1\n",
      "[+] Found a total of 1 imagesin page 2\n",
      " 086-060-240222-ALU-01 email.pdf\n"
     ]
    },
    {
     "name": "stderr",
     "output_type": "stream",
     "text": [
      "'pages' argument isn't specified.Will extract only from page 1 by default.\n"
     ]
    },
    {
     "name": "stdout",
     "output_type": "stream",
     "text": [
      "[+] Found a total of 1 imagesin page 0\n",
      " 086-060-240222-ALU-01 lote.pdf\n"
     ]
    },
    {
     "name": "stderr",
     "output_type": "stream",
     "text": [
      "'pages' argument isn't specified.Will extract only from page 1 by default.\n"
     ]
    },
    {
     "name": "stdout",
     "output_type": "stream",
     "text": [
      "[+] Found a total of 9 imagesin page 0\n",
      "[+] Found a total of 7 imagesin page 1\n",
      "[!] No image found on page 2\n",
      " 086-060-240222-ALU-02 email.pdf\n"
     ]
    },
    {
     "name": "stderr",
     "output_type": "stream",
     "text": [
      "'pages' argument isn't specified.Will extract only from page 1 by default.\n"
     ]
    },
    {
     "name": "stdout",
     "output_type": "stream",
     "text": [
      "[+] Found a total of 1 imagesin page 0\n",
      " 086-060-240222-ALU-02 lote.pdf\n"
     ]
    },
    {
     "name": "stderr",
     "output_type": "stream",
     "text": [
      "'pages' argument isn't specified.Will extract only from page 1 by default.\n"
     ]
    },
    {
     "name": "stdout",
     "output_type": "stream",
     "text": [
      "[+] Found a total of 4 imagesin page 0\n",
      "[+] Found a total of 3 imagesin page 1\n",
      "[+] Found a total of 1 imagesin page 2\n",
      " 086-060-250222-ALU-01 EMAIL.pdf\n"
     ]
    },
    {
     "name": "stderr",
     "output_type": "stream",
     "text": [
      "'pages' argument isn't specified.Will extract only from page 1 by default.\n"
     ]
    },
    {
     "name": "stdout",
     "output_type": "stream",
     "text": [
      "[+] Found a total of 1 imagesin page 0\n",
      " 086-060-250222-ALU-01 lote.pdf\n",
      "[+] Found a total of 8 imagesin page 0\n",
      "[+] Found a total of 7 imagesin page 1\n",
      "[!] No image found on page 2\n"
     ]
    },
    {
     "name": "stderr",
     "output_type": "stream",
     "text": [
      "'pages' argument isn't specified.Will extract only from page 1 by default.\n"
     ]
    },
    {
     "name": "stdout",
     "output_type": "stream",
     "text": [
      " 086-060-250222-ALU-03 email.pdf\n"
     ]
    },
    {
     "name": "stderr",
     "output_type": "stream",
     "text": [
      "'pages' argument isn't specified.Will extract only from page 1 by default.\n"
     ]
    },
    {
     "name": "stdout",
     "output_type": "stream",
     "text": [
      "[+] Found a total of 1 imagesin page 0\n",
      " 086-060-250222-ALU-03 lote.pdf\n",
      "[+] Found a total of 8 imagesin page 0\n",
      "[+] Found a total of 4 imagesin page 1\n",
      "[!] No image found on page 2\n"
     ]
    },
    {
     "name": "stderr",
     "output_type": "stream",
     "text": [
      "'pages' argument isn't specified.Will extract only from page 1 by default.\n"
     ]
    },
    {
     "name": "stdout",
     "output_type": "stream",
     "text": [
      " 086-060-250222-ALU-04 email.pdf\n"
     ]
    },
    {
     "name": "stderr",
     "output_type": "stream",
     "text": [
      "'pages' argument isn't specified.Will extract only from page 1 by default.\n"
     ]
    },
    {
     "name": "stdout",
     "output_type": "stream",
     "text": [
      "[+] Found a total of 1 imagesin page 0\n",
      " 086-060-250222-ALU-04 lote.pdf\n"
     ]
    },
    {
     "name": "stderr",
     "output_type": "stream",
     "text": [
      "PdfReadWarning: Superfluous whitespace found in object header b'93' b'0' [pdf.py:1730]\n",
      "'pages' argument isn't specified.Will extract only from page 1 by default.\n"
     ]
    },
    {
     "name": "stdout",
     "output_type": "stream",
     "text": [
      "[+] Found a total of 9 imagesin page 0\n",
      "[+] Found a total of 6 imagesin page 1\n",
      "[+] Found a total of 1 imagesin page 2\n",
      " 086-060-250222-ALU-05 email.pdf\n"
     ]
    },
    {
     "name": "stderr",
     "output_type": "stream",
     "text": [
      "'pages' argument isn't specified.Will extract only from page 1 by default.\n"
     ]
    },
    {
     "name": "stdout",
     "output_type": "stream",
     "text": [
      "[+] Found a total of 1 imagesin page 0\n",
      " 086-060-250222-ALU-05 lote.pdf\n"
     ]
    },
    {
     "name": "stderr",
     "output_type": "stream",
     "text": [
      "PdfReadWarning: Superfluous whitespace found in object header b'102' b'0' [pdf.py:1730]\n",
      "'pages' argument isn't specified.Will extract only from page 1 by default.\n"
     ]
    },
    {
     "name": "stdout",
     "output_type": "stream",
     "text": [
      "[+] Found a total of 26 imagesin page 0\n",
      "[+] Found a total of 7 imagesin page 1\n",
      "[!] No image found on page 2\n",
      " 086-060-250222-ALU-06 email.pdf\n"
     ]
    },
    {
     "name": "stderr",
     "output_type": "stream",
     "text": [
      "'pages' argument isn't specified.Will extract only from page 1 by default.\n"
     ]
    },
    {
     "name": "stdout",
     "output_type": "stream",
     "text": [
      "[+] Found a total of 1 imagesin page 0\n",
      " 086-060-250222-ALU-06 lote.pdf\n"
     ]
    },
    {
     "name": "stderr",
     "output_type": "stream",
     "text": [
      "PdfReadWarning: Superfluous whitespace found in object header b'111' b'0' [pdf.py:1730]\n"
     ]
    },
    {
     "name": "stdout",
     "output_type": "stream",
     "text": [
      "[+] Found a total of 26 imagesin page 0\n",
      "[+] Found a total of 7 imagesin page 1\n",
      "[+] Found a total of 1 imagesin page 2\n"
     ]
    },
    {
     "name": "stderr",
     "output_type": "stream",
     "text": [
      "'pages' argument isn't specified.Will extract only from page 1 by default.\n"
     ]
    },
    {
     "name": "stdout",
     "output_type": "stream",
     "text": [
      " 086-060-250222-ALU-07 email.pdf\n"
     ]
    },
    {
     "name": "stderr",
     "output_type": "stream",
     "text": [
      "'pages' argument isn't specified.Will extract only from page 1 by default.\n"
     ]
    },
    {
     "name": "stdout",
     "output_type": "stream",
     "text": [
      "[+] Found a total of 1 imagesin page 0\n",
      " 086-060-250222-ALU-07 lote.pdf\n"
     ]
    },
    {
     "name": "stderr",
     "output_type": "stream",
     "text": [
      "'pages' argument isn't specified.Will extract only from page 1 by default.\n"
     ]
    },
    {
     "name": "stdout",
     "output_type": "stream",
     "text": [
      "[+] Found a total of 4 imagesin page 0\n",
      "[+] Found a total of 4 imagesin page 1\n",
      "[!] No image found on page 2\n",
      " 086-060-250222-URGE-04 email.pdf\n"
     ]
    },
    {
     "name": "stderr",
     "output_type": "stream",
     "text": [
      "'pages' argument isn't specified.Will extract only from page 1 by default.\n"
     ]
    },
    {
     "name": "stdout",
     "output_type": "stream",
     "text": [
      "[+] Found a total of 1 imagesin page 0\n",
      " 086-060-250222-URGE-04 lote.pdf\n"
     ]
    },
    {
     "name": "stderr",
     "output_type": "stream",
     "text": [
      "'pages' argument isn't specified.Will extract only from page 1 by default.\n"
     ]
    },
    {
     "name": "stdout",
     "output_type": "stream",
     "text": [
      "[+] Found a total of 8 imagesin page 0\n",
      "[+] Found a total of 4 imagesin page 1\n",
      "[!] No image found on page 2\n",
      " 086-060-250222-URGE-18 email.pdf\n"
     ]
    },
    {
     "name": "stderr",
     "output_type": "stream",
     "text": [
      "'pages' argument isn't specified.Will extract only from page 1 by default.\n"
     ]
    },
    {
     "name": "stdout",
     "output_type": "stream",
     "text": [
      "[+] Found a total of 1 imagesin page 0\n",
      " 086-060-250222-URGE-18 lote.pdf\n",
      " 200000077 - Boleto - 10.02.2022.pdf\n",
      "45.543.915/0001-81 200000077 - Demonstrativo - 10.02.2022.pdf\n",
      "45.543.915/0001-81 200000153 - Boleto - 10.02.2022.pdf\n",
      "45.543.915/0001-81 200000153 DEMONSTRATIV1.01.2022_20220210142654.212_X.PDF.pdf\n"
     ]
    },
    {
     "name": "stderr",
     "output_type": "stream",
     "text": [
      "'pages' argument isn't specified.Will extract only from page 1 by default.\n"
     ]
    },
    {
     "name": "stdout",
     "output_type": "stream",
     "text": [
      "[+] Found a total of 3 imagesin page 0\n",
      " 2021-12-29T15_13_00+00_00BOLETO IPTU 2022 - BOS - 3160125712.pdf\n",
      "20.869.012/0001-64 2022 - FLP CK.pdf\n",
      "00.776.574/0001-56 2022-01-28T21_28_14+00_00Boletos (7).pdf\n",
      "00.776.574/0001-56 2022-01-28T21_28_14+00_00Boletos (8).pdf\n"
     ]
    },
    {
     "name": "stderr",
     "output_type": "stream",
     "text": [
      "'pages' argument isn't specified.Will extract only from page 1 by default.\n"
     ]
    },
    {
     "name": "stdout",
     "output_type": "stream",
     "text": [
      "[+] Found a total of 7 imagesin page 0\n",
      " 2022-01-31T21_35_20+00_00lote24_a vista.pdf\n"
     ]
    },
    {
     "name": "stderr",
     "output_type": "stream",
     "text": [
      "'pages' argument isn't specified.Will extract only from page 1 by default.\n"
     ]
    },
    {
     "name": "stdout",
     "output_type": "stream",
     "text": [
      "[+] Found a total of 7 imagesin page 0\n",
      " 2022-01-31T21_35_20+00_00lote25_a vista.pdf\n"
     ]
    },
    {
     "name": "stderr",
     "output_type": "stream",
     "text": [
      "'pages' argument isn't specified.Will extract only from page 1 by default.\n"
     ]
    },
    {
     "name": "stdout",
     "output_type": "stream",
     "text": [
      "[+] Found a total of 7 imagesin page 0\n",
      " 2022-01-31T21_35_20+00_00lote26_ a vista.pdf\n"
     ]
    },
    {
     "name": "stderr",
     "output_type": "stream",
     "text": [
      "'pages' argument isn't specified.Will extract only from page 1 by default.\n"
     ]
    },
    {
     "name": "stdout",
     "output_type": "stream",
     "text": [
      "[+] Found a total of 7 imagesin page 0\n",
      " 2022-01-31T21_35_20+00_00lote27_ a vista.pdf\n",
      "72.908.353/0001-03,18.645.825/0001-29 2022-02-08T18_28_53+00_00ALC10590 ALTHS - MC DONALDS 2.pdf\n"
     ]
    },
    {
     "name": "stderr",
     "output_type": "stream",
     "text": [
      "'pages' argument isn't specified.Will extract only from page 1 by default.\n"
     ]
    },
    {
     "name": "stdout",
     "output_type": "stream",
     "text": [
      "[+] Found a total of 1 imagesin page 0\n",
      " 2022-02-08T18_28_53+00_00ALC10590 ALTHS - MC DONALDS 3.pdf\n",
      "13.553.684/0001-09,18.645.825/0001-29 2022-02-08T18_28_53+00_00ALC10590 ALTHS - MC DONALDS 4.pdf\n",
      "72.908.353/0001-03,33.295.949/0001-15 2022-02-08T18_28_53+00_00ALC10590 TAG - MC DONALDS 2.pdf\n",
      "33.295.949/0001-15 2022-02-08T18_28_53+00_00ALC10590 TAG - MC DONALDS 3.pdf\n",
      "13.553.684/0001-09,33.295.949/0001-15 2022-02-08T18_28_53+00_00ALC10590 TAG - MC DONALDS 4.pdf\n",
      "47.508.411/0001-56 2022-02-14T13_53_26+00_00Mc_1373.pdf\n",
      "47.508.411/0001-56 2022-02-14T14_18_11+00_00MC_01.pdf\n",
      "47.508.411/0001-56 2022-02-14T14_46_26+00_00Mc_1373.pdf\n",
      "47.508.411/0001-56 2022-02-14T16_51_03+00_00Mc_1373.pdf\n",
      " 210000197 - Boleto - 15.02.2022.pdf\n",
      "45.543.915/0001-81 210000197.pdf\n",
      "45.543.915/0001-81 210000274 - Boleto - 10.02.2022.pdf\n",
      "45.543.915/0001-81 210000274 - Demonstrativo - 10.02.2022.pdf\n",
      "45.543.915/0001-81 210000704 - Boleto - 10.02.2022.pdf\n",
      "45.543.915/0001-81 210000704 DEMONSTRATIVO_ARCCIO31.01.2022_20220210142454.839_X.PDF.pdf\n",
      " 210000711 - Boleto - 10.02.2022.pdf\n",
      "45.543.915/0001-81 210000711 DEMONSTRATIERCIO31.01.2022_20220210142333.075_X.PDF.pdf\n",
      " 210000712 - Boleto - 10.02.2022.pdf\n",
      "45.543.915/0001-81 210000712 - Demonstrativo - 10.02.2022.pdf\n",
      " 210001355 - Boleto - 10.02.2022.pdf\n",
      "45.543.915/0001-81 210001355 DEMONSIO31.01.2022_20220210142631.616_X.PDF.pdf\n",
      " 210001356 - Boleto - 10.02.2022.pdf\n",
      "45.543.915/0001-81 210001356 DEMONSTRA31.01.2022_20220210142430.654_X.PDF.pdf\n",
      " 210001364 - Boleto - 10.02.2022.pdf\n",
      "45.543.915/0001-81 210001364 DEMONS31.01.2022_20220210142319.641_X.PDF.pdf\n",
      " 210001365 - Boleto - 10.02.2022.pdf\n",
      "45.543.915/0001-81 210001365 - Demonstrativo - 10.02.2022.pdf\n",
      " 210001366 - Boleto - 10.02.2022.pdf\n",
      "45.543.915/0001-81 210001366 .pdf\n",
      " 210001723 - Boleto - 10.02.2022.pdf\n",
      "45.543.915/0001-81 210001723.pdf\n",
      "46.634.499/0001-90,02.885.847/0001-64,02.865.847/0001-64 28 02IPTU Z banco ok lançar 2 primeiros boletos, restante desmembrar.pdf\n",
      "93.209.765/0001-17 AAB - B05080 - BANCO OK.pdf\n",
      " AAB - B05080.pdf\n",
      "11.948.736/0001-02 ABA - B05310 (2).pdf\n",
      "62.082.961/0001-40 ABA - B05310 - ELETRONICO.pdf\n",
      "17.008.888/0001-01 ACM - B03610.pdf\n",
      " ADM - B40870 - .pdf\n"
     ]
    },
    {
     "name": "stderr",
     "output_type": "stream",
     "text": [
      "'pages' argument isn't specified.Will extract only from page 1 by default.\n"
     ]
    },
    {
     "name": "stdout",
     "output_type": "stream",
     "text": [
      "[+] Found a total of 3 imagesin page 0\n"
     ]
    },
    {
     "name": "stderr",
     "output_type": "stream",
     "text": [
      "Got stderr: abr 04, 2022 4:48:52 PM org.apache.pdfbox.pdmodel.font.PDType0Font toUnicode\r\n",
      "ADVERTÊNCIA: No Unicode mapping for CID+37 (37) in font Arial\r\n",
      "abr 04, 2022 4:48:52 PM org.apache.pdfbox.pdmodel.font.PDType0Font toUnicode\r\n",
      "ADVERTÊNCIA: No Unicode mapping for CID+72 (72) in font Arial\r\n",
      "abr 04, 2022 4:48:52 PM org.apache.pdfbox.pdmodel.font.PDType0Font toUnicode\r\n",
      "ADVERTÊNCIA: No Unicode mapping for CID+81 (81) in font Arial\r\n",
      "abr 04, 2022 4:48:52 PM org.apache.pdfbox.pdmodel.font.PDType0Font toUnicode\r\n",
      "ADVERTÊNCIA: No Unicode mapping for CID+73 (73) in font Arial\r\n",
      "abr 04, 2022 4:48:52 PM org.apache.pdfbox.pdmodel.font.PDType0Font toUnicode\r\n",
      "ADVERTÊNCIA: No Unicode mapping for CID+76 (76) in font Arial\r\n",
      "abr 04, 2022 4:48:52 PM org.apache.pdfbox.pdmodel.font.PDType0Font toUnicode\r\n",
      "ADVERTÊNCIA: No Unicode mapping for CID+70 (70) in font Arial\r\n",
      "abr 04, 2022 4:48:52 PM org.apache.pdfbox.pdmodel.font.PDType0Font toUnicode\r\n",
      "ADVERTÊNCIA: No Unicode mapping for CID+105 (105) in font Arial\r\n",
      "abr 04, 2022 4:48:52 PM org.apache.pdfbox.pdmodel.font.PDType0Font toUnicode\r\n",
      "ADVERTÊNCIA: No Unicode mapping for CID+85 (85) in font Arial\r\n",
      "abr 04, 2022 4:48:52 PM org.apache.pdfbox.pdmodel.font.PDType0Font toUnicode\r\n",
      "ADVERTÊNCIA: No Unicode mapping for CID+82 (82) in font Arial\r\n",
      "\n"
     ]
    },
    {
     "name": "stdout",
     "output_type": "stream",
     "text": [
      " AFL - B01140.pdf\n",
      "14.551.970/0001-90 AFO - 2402.pdf\n",
      "14.551.970/0001-90 AFT - 2402.pdf\n",
      "27.059.565/0001-09 AFZ - B09700  ENVIAR FRANQ.pdf\n",
      "27.059.565/0001-09 AFZ - B09700 (2) FRANQ.pdf\n",
      "27.059.565/0001-09 AFZ - B09700 (3) FRANQ.pdf\n",
      "27.059.565/0001-09 AFZ - B09700 - FRANQ.pdf\n",
      "27.059.565/0001-09 AFZ - B09700 ENVIAR FRANQ (2).pdf\n",
      "27.059.460/0001-41 AFZ - B09700 ENVIAR FRANQ (3).pdf\n",
      "27.059.565/0001-09 AFZ - B09700 ENVIAR FRANQ.pdf\n",
      "27.059.565/0001-09 AFZ - B09700 FRANQ ALUGUEL (2).pdf\n",
      "27.059.565/0001-09 AFZ - B09700 FRANQ ALUGUEL.pdf\n",
      "27.059.565/0001-09 AFZ - B09700.pdf\n",
      "01.850.114/0001-93 AGS - B06120 (2).pdf\n",
      "01.850.114/0001-93 AGS - B06120.pdf\n",
      "01.850.114/0001-93 AGS A-09_MCDONALDS_ALUGUEL.PERCENTUAL_21022022.pdf\n",
      "71.322.150/0042-38 AIA -  B0562.pdf\n",
      "71.322.150/0041-57 AIA - B0562.pdf\n",
      "07.889.007/0001-55 AIA - B05620.pdf\n",
      "[+] Found a total of 1 imagesin page 0\n"
     ]
    },
    {
     "name": "stderr",
     "output_type": "stream",
     "text": [
      "'pages' argument isn't specified.Will extract only from page 1 by default.\n"
     ]
    },
    {
     "name": "stdout",
     "output_type": "stream",
     "text": [
      " AID - B0197 - AMM - banco ok (2).pdf\n",
      "[+] Found a total of 1 imagesin page 0\n"
     ]
    },
    {
     "name": "stderr",
     "output_type": "stream",
     "text": [
      "'pages' argument isn't specified.Will extract only from page 1 by default.\n"
     ]
    },
    {
     "name": "stdout",
     "output_type": "stream",
     "text": [
      " AID - B0197 - AMM - banco ok.pdf\n",
      "[+] Found a total of 1 imagesin page 0\n"
     ]
    },
    {
     "name": "stderr",
     "output_type": "stream",
     "text": [
      "'pages' argument isn't specified.Will extract only from page 1 by default.\n"
     ]
    },
    {
     "name": "stdout",
     "output_type": "stream",
     "text": [
      " AID - B0197 QUIOSQUE - AMM banco ok.pdf\n",
      "[+] Found a total of 1 imagesin page 0\n"
     ]
    },
    {
     "name": "stderr",
     "output_type": "stream",
     "text": [
      "'pages' argument isn't specified.Will extract only from page 1 by default.\n"
     ]
    },
    {
     "name": "stdout",
     "output_type": "stream",
     "text": [
      " AID - B0197.pdf\n",
      "17.333.406/0001-99 AJU - B40120 (2).pdf\n",
      "17.333.406/0001-99 AJU - B40120 (3).pdf\n",
      "17.333.406/0001-99 AJU - B40120 (4).pdf\n",
      "17.333.406/0001-99 AJU - B40120.pdf\n",
      "19.394.735/0001-75 ALB - B46400 (2).pdf\n",
      "19.394.735/0001-75 ALB - B46400.pdf\n",
      "00.367.135/0001-90,92.691.336/0001-66 ALE - B05400 (2).pdf\n",
      "02.560.001/0001-16 ALM - B08980 FRANQ ALUGUEL.pdf\n",
      " AM2 - B7005 FRAN PAG V2.pdf\n",
      "46.951.943/0001-09 AMA - B07120 FRANQ.pdf\n",
      "00.250.440/0001-05,18.191.228/0001-71 AMK - B0601 FRANQ.pdf\n",
      "0,.,2,5,4,/,1,-,,,8,9,7 AMK - B06010 2924,96 E 3,00.pdf\n",
      "0,,,.,2,5,4,/,1,-,8,9,7 AMK - B06010 3114,25 e 657,64.pdf\n",
      "0,,,.,2,5,4,/,1,-,8,9,7 AMK - B06010 DESMEMBRAR.pdf\n",
      "03.043.201/0001-64 AMK - B06010 FRANQ PAG V2 - BANCO OK.pdf\n",
      "03.043.201/0001-64 AMK - B06010 FRANQ PAG V2.pdf\n",
      "20.748.818/0001-02 AMS - B08580 ENVIAR FRANQ 2.pdf\n",
      "20.748.818/0001-02 AMS - B08580 ENVIAR FRANQ.pdf\n",
      "20.748.818/0001-02 AMS - B08580 FRAN PAG V2.pdf\n",
      "20.748.818/0001-02 AMS - B08580 FRANQ (PAGAMOS DESPESAS).pdf\n",
      "30.838.194/0001-60 ANA - B40390 (2) ENVIAR FRANQ.pdf\n",
      "32.913.189/0001-08 ANA - B40390 (2).pdf\n",
      "14.097.230/0001-25 ANA - B40390 (3).pdf\n",
      "30.838.194/0001-60 ANA - B40390 - FRANQUEADO.pdf\n",
      "32.913.189/0001-08 ANA - B40390 ENVIAR FRANQ (2).pdf\n",
      "30.838.194/0001-60 ANA - B40390 ENVIAR FRANQ.pdf\n",
      "14.097.230/0001-25 ANA - B40390 FRANQ ALUGUEL (2).pdf\n",
      "14.097.230/0001-25 ANA - B40390 FRANQ ALUGUEL - LANÇAR -0,06.pdf\n",
      "14.097.230/0001-25 ANA - B40390 FRANQ ALUGUEL.pdf\n",
      "14.097.230/0001-25 ANA - B40390.pdf\n",
      "02.444.426/0001-60 AND - B02000 - PAGAR - N DISP PARA PAGTO.pdf\n",
      "02.444.426/0001-60 AND - B02000 - PAGAR - N DISP PARA PAGTO2.pdf\n",
      "22 698.684/0001-80,22.698.684/0001-80 AND - B02000 2.pdf\n",
      "22 698.684/0001-80,22.698.684/0001-80 AND - B02000 3.pdf\n",
      "02.444.426/0001-60 AND - B02000.pdf\n",
      "17.368.996/0001-95 ANI - B06400 - LANÇAR.pdf\n",
      "17.368.996/0001-95 ANI - B06400.pdf\n",
      " ANP - B05670.pdf\n",
      "02.825.033/0001-04 APA - B07230 FRANQ ALUGUEL (2)-1.pdf\n",
      "02.825.033/0001-04,42,591.651/0001-43 APA - B07230 FRANQ ALUGUEL (2)-2.pdf\n",
      "02.825.033/0001-04,08.904.571/0001-62 APA - B07230 FRANQ ALUGUEL-1.pdf\n",
      "02.825.033/0001-04,08.904.571/0001-62 APA - B07230 FRANQ ALUGUEL-2.pdf\n",
      "00.093.627/0001-34,04.006.639/0001-35 APD - B04250.pdf\n",
      "09.099,926/0001-50,09.099.926/0001-50 APO - B05930 LANÇAR -0,03.pdf\n",
      "02.663.209/0001-60,54.393.046/0061-88 ARA - B03310 (2) - BOLETO SEM DESCRIÇÃO DE PGTO.pdf\n",
      "02.663.209/0001-60,54.393.046/0061-88 ARA - B03310 (3) -  BOLETO SEM DESCRIÇÃO DE PGTO.pdf\n",
      "02.663.209/0001-60,54.393.046/0061-88 ARA - B03310 -  BOLETO SEM DESCRIÇÃO DE PGTO.pdf\n",
      "0,2,.,6,3,9,/,1,-,,,5,4,8 ARA - B03310 33318,66 5,88 1574,68 12572,78 18254,40 CNPJ SENHA (2).pdf\n",
      "0,,,2,.,6,3,9,/,1,-,5,4,8 ARA - B03310 8227,42 -84,15 1132,00 cnpj senha.pdf\n",
      "0,,,2,.,6,3,9,/,1,-,5,4,8 ARA - B03310 9120,48 -20,44 CNPJ SENHA (3).pdf\n",
      "02.296.771/0001-01 ARA - B03310.pdf\n",
      "[+] Found a total of 1 imagesin page 0\n"
     ]
    },
    {
     "name": "stderr",
     "output_type": "stream",
     "text": [
      "'pages' argument isn't specified.Will extract only from page 1 by default.\n"
     ]
    },
    {
     "name": "stdout",
     "output_type": "stream",
     "text": [
      " ARI - B00610 -  (1).pdf\n",
      " ARI - B00610 -  (2).pdf\n",
      " ARI - B00610 - 10.02.2022 (1).pdf\n",
      "45.543.915/0001-81 ARI - B00610 - 10.02.2022 (2).pdf\n",
      " ARI - B00610 - 15.02.2022 (1).pdf\n",
      "60.852.605/0001-32 ARK - B0101 (2) - ELETRONICO.pdf\n",
      "60.852.605/0001-32 ARK - B0101 - ELETRONICO.pdf\n",
      "60.852.605/0001-32 ARK - B0101 PROGRAMAR ELETRONICO.pdf\n",
      "00.776.574/0001-56 ASB - B01710 (2) - PROGRAMAR ELETRONICO.pdf\n",
      " ASB - B01710- ELETRONICO STFSANN005301-L.pdf\n",
      "00.776.574/0001-56 ASB - B01710.pdf\n",
      "[+] Found a total of 1 imagesin page 0\n"
     ]
    },
    {
     "name": "stderr",
     "output_type": "stream",
     "text": [
      "'pages' argument isn't specified.Will extract only from page 1 by default.\n"
     ]
    },
    {
     "name": "stdout",
     "output_type": "stream",
     "text": [
      " ASH - B0194 1.pdf\n",
      "03.841.348/0001-08 ASH - B0194.pdf\n",
      "[+] Found a total of 1 imagesin page 0\n"
     ]
    },
    {
     "name": "stderr",
     "output_type": "stream",
     "text": [
      "'pages' argument isn't specified.Will extract only from page 1 by default.\n"
     ]
    },
    {
     "name": "stdout",
     "output_type": "stream",
     "text": [
      " ASH - B01940 2 - BANCO OK.pdf\n",
      "[+] Found a total of 1 imagesin page 0\n"
     ]
    },
    {
     "name": "stderr",
     "output_type": "stream",
     "text": [
      "'pages' argument isn't specified.Will extract only from page 1 by default.\n"
     ]
    },
    {
     "name": "stdout",
     "output_type": "stream",
     "text": [
      " ASH - B01940 2.pdf\n",
      "[+] Found a total of 1 imagesin page 0\n"
     ]
    },
    {
     "name": "stderr",
     "output_type": "stream",
     "text": [
      "'pages' argument isn't specified.Will extract only from page 1 by default.\n"
     ]
    },
    {
     "name": "stdout",
     "output_type": "stream",
     "text": [
      " ASH - B01940 3 BANCO OK.pdf\n",
      "[+] Found a total of 1 imagesin page 0\n"
     ]
    },
    {
     "name": "stderr",
     "output_type": "stream",
     "text": [
      "'pages' argument isn't specified.Will extract only from page 1 by default.\n"
     ]
    },
    {
     "name": "stdout",
     "output_type": "stream",
     "text": [
      " ASH - B01940 3.pdf\n",
      "[+] Found a total of 1 imagesin page 0\n"
     ]
    },
    {
     "name": "stderr",
     "output_type": "stream",
     "text": [
      "'pages' argument isn't specified.Will extract only from page 1 by default.\n"
     ]
    },
    {
     "name": "stdout",
     "output_type": "stream",
     "text": [
      " ASH - B01940 4 BANCO OK.pdf\n",
      "[+] Found a total of 1 imagesin page 0\n"
     ]
    },
    {
     "name": "stderr",
     "output_type": "stream",
     "text": [
      "'pages' argument isn't specified.Will extract only from page 1 by default.\n"
     ]
    },
    {
     "name": "stdout",
     "output_type": "stream",
     "text": [
      " ASH - B01940 4.pdf\n",
      "[+] Found a total of 1 imagesin page 0\n"
     ]
    },
    {
     "name": "stderr",
     "output_type": "stream",
     "text": [
      "'pages' argument isn't specified.Will extract only from page 1 by default.\n"
     ]
    },
    {
     "name": "stdout",
     "output_type": "stream",
     "text": [
      " ASH - B01940 5 BANCO OK.pdf\n",
      "[+] Found a total of 1 imagesin page 0\n"
     ]
    },
    {
     "name": "stderr",
     "output_type": "stream",
     "text": [
      "'pages' argument isn't specified.Will extract only from page 1 by default.\n"
     ]
    },
    {
     "name": "stdout",
     "output_type": "stream",
     "text": [
      " ASH - B01940 5.pdf\n",
      "[+] Found a total of 1 imagesin page 0\n"
     ]
    },
    {
     "name": "stderr",
     "output_type": "stream",
     "text": [
      "'pages' argument isn't specified.Will extract only from page 1 by default.\n"
     ]
    },
    {
     "name": "stdout",
     "output_type": "stream",
     "text": [
      " ASH - B01940 6.pdf\n",
      "[+] Found a total of 1 imagesin page 0\n"
     ]
    },
    {
     "name": "stderr",
     "output_type": "stream",
     "text": [
      "'pages' argument isn't specified.Will extract only from page 1 by default.\n"
     ]
    },
    {
     "name": "stdout",
     "output_type": "stream",
     "text": [
      " ASH - B01940 7 BANCO OK.pdf\n",
      "[+] Found a total of 1 imagesin page 0\n"
     ]
    },
    {
     "name": "stderr",
     "output_type": "stream",
     "text": [
      "'pages' argument isn't specified.Will extract only from page 1 by default.\n"
     ]
    },
    {
     "name": "stdout",
     "output_type": "stream",
     "text": [
      " ASH - B01940 7.pdf\n",
      "[+] Found a total of 1 imagesin page 0\n"
     ]
    },
    {
     "name": "stderr",
     "output_type": "stream",
     "text": [
      "'pages' argument isn't specified.Will extract only from page 1 by default.\n"
     ]
    },
    {
     "name": "stdout",
     "output_type": "stream",
     "text": [
      " ASH - B01940 8 BANCO OK.pdf\n",
      "[+] Found a total of 1 imagesin page 0\n"
     ]
    },
    {
     "name": "stderr",
     "output_type": "stream",
     "text": [
      "'pages' argument isn't specified.Will extract only from page 1 by default.\n"
     ]
    },
    {
     "name": "stdout",
     "output_type": "stream",
     "text": [
      " ASH - B01940 8.pdf\n",
      "[+] Found a total of 1 imagesin page 0\n"
     ]
    },
    {
     "name": "stderr",
     "output_type": "stream",
     "text": [
      "'pages' argument isn't specified.Will extract only from page 1 by default.\n"
     ]
    },
    {
     "name": "stdout",
     "output_type": "stream",
     "text": [
      " ASH - B01940 9 BANCO OK.pdf\n",
      "[+] Found a total of 1 imagesin page 0\n"
     ]
    },
    {
     "name": "stderr",
     "output_type": "stream",
     "text": [
      "'pages' argument isn't specified.Will extract only from page 1 by default.\n"
     ]
    },
    {
     "name": "stdout",
     "output_type": "stream",
     "text": [
      " ASH - B01940 9.pdf\n",
      "[+] Found a total of 1 imagesin page 0\n"
     ]
    },
    {
     "name": "stderr",
     "output_type": "stream",
     "text": [
      "'pages' argument isn't specified.Will extract only from page 1 by default.\n"
     ]
    },
    {
     "name": "stdout",
     "output_type": "stream",
     "text": [
      " ASH - B01940 BANCO OK.pdf\n",
      "[+] Found a total of 1 imagesin page 0\n"
     ]
    },
    {
     "name": "stderr",
     "output_type": "stream",
     "text": [
      "'pages' argument isn't specified.Will extract only from page 1 by default.\n"
     ]
    },
    {
     "name": "stdout",
     "output_type": "stream",
     "text": [
      " ASH - B01940.pdf\n",
      "17.234.721/0001-69 ASP - B08970 - LANÇAR.pdf\n",
      "20.164.511/0001-56 ASP - B08970 FRANQ ALUGUEL.pdf\n",
      "21.764.677/0001-76 ASP - B08970 FRANQ.pdf\n",
      "06.057.223/0001-71 ASV - B5017.pdf\n",
      "06.057.223/0001-71 ASV - B50170 ENVIAR FRANQ.pdf\n"
     ]
    },
    {
     "name": "stderr",
     "output_type": "stream",
     "text": [
      "'pages' argument isn't specified.Will extract only from page 1 by default.\n"
     ]
    },
    {
     "name": "stdout",
     "output_type": "stream",
     "text": [
      "[+] Found a total of 6 imagesin page 0\n",
      "[+] Found a total of 2 imagesin page 1\n",
      " AUG - B00180.pdf\n",
      "19.657.432/0001-06 AVD - B20540 (2).pdf\n",
      "19.657.432/0001-06 AVD - B20540 PAGO ELETRONICO.pdf\n",
      "19.657.432/0001-06 AVD - B20540.pdf\n",
      "04.135.132/0001-81,52.130.481/0001-53 AVO - B0081 2022-01-Rel Desp- MC Donalds- Itaim-166.pdf\n",
      "04.135.132/0001-81,52.130.481/0001-53 AVO - B0081 2022-01-Rel Desp- MC Donalds- SMG-1185.pdf\n",
      "04.135.132/0001-81,52.130.481/0001-53 AVO - B0081.pdf\n",
      "93.209.765/0001-17 AVR - B91570 - BANCO OK.pdf\n",
      "93.209.765/0001-17 AVR - B91570.pdf\n",
      "00.776.574/0001-56 AVT - 2502 (2) BANCO OK.pdf\n",
      "00.776.574/0001-56 AVT - 2502 BANCO OK.pdf\n",
      "78.434.123/0001-28 AXV - B02600 (2).pdf\n",
      "78.434.123/0001-28 AXV - B02600 (3).pdf\n",
      "81.112.807/0001-18 AXV - B02600.pdf\n"
     ]
    },
    {
     "name": "stderr",
     "output_type": "stream",
     "text": [
      "'pages' argument isn't specified.Will extract only from page 1 by default.\n"
     ]
    },
    {
     "name": "stdout",
     "output_type": "stream",
     "text": [
      "[+] Found a total of 1 imagesin page 0\n",
      " B054704-  6.046,40.pdf\n",
      "05.878.397/0001-32 BA2 - B0860.pdf\n",
      "05.878.397/0001-32 BA2 - B08600 - FRANQ2.pdf\n",
      "05.878.397/0001-32 BA2 - B08600 ENVIAR FRANQ.pdf\n",
      "05.878.397/0001-32 BA2 - B08600 FRANQ ALUGUEL.pdf\n",
      "05.878.397/0001-32 BA2 - B08600.pdf\n",
      "05.878.397/0001-32 BA3 - B60040 (2).pdf\n",
      "05.878.397/0001-32 BA3 - B60040 (3).pdf\n",
      "05.878.397/0001-32 BA3 - B60040 ENVIAR FRANQ.pdf\n",
      "05.878.397/0001-32 BA3 - B60040 FRAN 3.pdf\n",
      "05.878.397/0001-32 BA3 - B60040 FRANQ ALUGUEL - BANCO OK.pdf\n",
      "05.878.397/0001-32 BA3 - B60040 FRANQ DESMEMBRAR.pdf\n",
      "05.878.397/0001-32 BA3 - B60040.pdf\n",
      "05.878.397/0001-32 BAG - B08260 - FRANQ.pdf\n",
      "05.878.397/0001-32 BAG - B08260 ENVIAR FRANQ.pdf\n",
      "05.878.397/0001-32 BAG - B08260 FRANQ DEMEMBRAR.pdf\n",
      "05.878.397/0001-32 BAG - B08260.pdf\n",
      "09.477.652/0016-72,42,591.651/0001-43 BAL - 05.02.pdf\n",
      "09.477.652/0016-72 BAL - B0276.pdf\n",
      "09.477.652/0039-69 BAL - B02760 FRANQ 2 INF BOLETO N ENCONTRADA.pdf\n",
      "31.055.224/0001-24 BAM - B06640 FRANQ ALUGUEL (2).pdf\n",
      "31.055.224/0001-24 BAM - B06640 FRANQ ALUGUEL.pdf\n"
     ]
    },
    {
     "name": "stderr",
     "output_type": "stream",
     "text": [
      "'pages' argument isn't specified.Will extract only from page 1 by default.\n"
     ]
    },
    {
     "name": "stdout",
     "output_type": "stream",
     "text": [
      "[!] No image found on page 0\n",
      "nenhuma imagem encontrada\n",
      " BANCO  0302.pdf\n"
     ]
    },
    {
     "name": "stderr",
     "output_type": "stream",
     "text": [
      "'pages' argument isn't specified.Will extract only from page 1 by default.\n"
     ]
    },
    {
     "name": "stdout",
     "output_type": "stream",
     "text": [
      "[!] No image found on page 0\n",
      "[!] No image found on page 1\n",
      "nenhuma imagem encontrada\n",
      " BANCO 0102.pdf\n"
     ]
    },
    {
     "name": "stderr",
     "output_type": "stream",
     "text": [
      "'pages' argument isn't specified.Will extract only from page 1 by default.\n"
     ]
    },
    {
     "name": "stdout",
     "output_type": "stream",
     "text": [
      "[!] No image found on page 0\n",
      "nenhuma imagem encontrada\n",
      " banco 0202.pdf\n"
     ]
    },
    {
     "name": "stderr",
     "output_type": "stream",
     "text": [
      "'pages' argument isn't specified.Will extract only from page 1 by default.\n"
     ]
    },
    {
     "name": "stdout",
     "output_type": "stream",
     "text": [
      "[!] No image found on page 0\n",
      "nenhuma imagem encontrada\n",
      " banco 0402.pdf\n"
     ]
    },
    {
     "name": "stderr",
     "output_type": "stream",
     "text": [
      "'pages' argument isn't specified.Will extract only from page 1 by default.\n"
     ]
    },
    {
     "name": "stdout",
     "output_type": "stream",
     "text": [
      "[!] No image found on page 0\n",
      "[!] No image found on page 1\n",
      "nenhuma imagem encontrada\n",
      " banco 0702.pdf\n"
     ]
    },
    {
     "name": "stderr",
     "output_type": "stream",
     "text": [
      "'pages' argument isn't specified.Will extract only from page 1 by default.\n"
     ]
    },
    {
     "name": "stdout",
     "output_type": "stream",
     "text": [
      "[!] No image found on page 0\n",
      "nenhuma imagem encontrada\n",
      " BANCO 0802 IMPOSTO.pdf\n"
     ]
    },
    {
     "name": "stderr",
     "output_type": "stream",
     "text": [
      "'pages' argument isn't specified.Will extract only from page 1 by default.\n"
     ]
    },
    {
     "name": "stdout",
     "output_type": "stream",
     "text": [
      "[!] No image found on page 0\n",
      "nenhuma imagem encontrada\n",
      " BANCO 0802.pdf\n"
     ]
    },
    {
     "name": "stderr",
     "output_type": "stream",
     "text": [
      "'pages' argument isn't specified.Will extract only from page 1 by default.\n"
     ]
    },
    {
     "name": "stdout",
     "output_type": "stream",
     "text": [
      "[!] No image found on page 0\n",
      "nenhuma imagem encontrada\n",
      " BANCO 0902.pdf\n"
     ]
    },
    {
     "name": "stderr",
     "output_type": "stream",
     "text": [
      "'pages' argument isn't specified.Will extract only from page 1 by default.\n"
     ]
    },
    {
     "name": "stdout",
     "output_type": "stream",
     "text": [
      "[!] No image found on page 0\n",
      "[!] No image found on page 1\n",
      "[!] No image found on page 2\n",
      "nenhuma imagem encontrada\n",
      " banco 1002-STFSANN005301-L.pdf\n"
     ]
    },
    {
     "name": "stderr",
     "output_type": "stream",
     "text": [
      "'pages' argument isn't specified.Will extract only from page 1 by default.\n"
     ]
    },
    {
     "name": "stdout",
     "output_type": "stream",
     "text": [
      "[!] No image found on page 0\n",
      "[!] No image found on page 1\n",
      "nenhuma imagem encontrada\n",
      " banco 1002.pdf\n"
     ]
    },
    {
     "name": "stderr",
     "output_type": "stream",
     "text": [
      "'pages' argument isn't specified.Will extract only from page 1 by default.\n"
     ]
    },
    {
     "name": "stdout",
     "output_type": "stream",
     "text": [
      "[!] No image found on page 0\n",
      "nenhuma imagem encontrada\n",
      " BANCO 1102.pdf\n"
     ]
    },
    {
     "name": "stderr",
     "output_type": "stream",
     "text": [
      "'pages' argument isn't specified.Will extract only from page 1 by default.\n"
     ]
    },
    {
     "name": "stdout",
     "output_type": "stream",
     "text": [
      "[!] No image found on page 0\n",
      "nenhuma imagem encontrada\n",
      " BANCO 1402.pdf\n"
     ]
    },
    {
     "name": "stderr",
     "output_type": "stream",
     "text": [
      "'pages' argument isn't specified.Will extract only from page 1 by default.\n"
     ]
    },
    {
     "name": "stdout",
     "output_type": "stream",
     "text": [
      "[!] No image found on page 0\n",
      "[!] No image found on page 1\n",
      "[!] No image found on page 2\n",
      "nenhuma imagem encontrada\n",
      " BANCO 15.02.pdf\n"
     ]
    },
    {
     "name": "stderr",
     "output_type": "stream",
     "text": [
      "'pages' argument isn't specified.Will extract only from page 1 by default.\n"
     ]
    },
    {
     "name": "stdout",
     "output_type": "stream",
     "text": [
      "[!] No image found on page 0\n",
      "nenhuma imagem encontrada\n",
      " banco 1502.pdf\n"
     ]
    },
    {
     "name": "stderr",
     "output_type": "stream",
     "text": [
      "'pages' argument isn't specified.Will extract only from page 1 by default.\n"
     ]
    },
    {
     "name": "stdout",
     "output_type": "stream",
     "text": [
      "[!] No image found on page 0\n",
      "nenhuma imagem encontrada\n",
      " BANCO 1602.pdf\n"
     ]
    },
    {
     "name": "stderr",
     "output_type": "stream",
     "text": [
      "'pages' argument isn't specified.Will extract only from page 1 by default.\n"
     ]
    },
    {
     "name": "stdout",
     "output_type": "stream",
     "text": [
      "[!] No image found on page 0\n",
      "nenhuma imagem encontrada\n",
      " BANCO 1702.pdf\n"
     ]
    },
    {
     "name": "stderr",
     "output_type": "stream",
     "text": [
      "'pages' argument isn't specified.Will extract only from page 1 by default.\n"
     ]
    },
    {
     "name": "stdout",
     "output_type": "stream",
     "text": [
      "[!] No image found on page 0\n",
      "[!] No image found on page 1\n",
      "nenhuma imagem encontrada\n",
      " banco 1802.pdf\n"
     ]
    },
    {
     "name": "stderr",
     "output_type": "stream",
     "text": [
      "'pages' argument isn't specified.Will extract only from page 1 by default.\n"
     ]
    },
    {
     "name": "stdout",
     "output_type": "stream",
     "text": [
      "[!] No image found on page 0\n",
      "nenhuma imagem encontrada\n",
      " BANCO 2202.pdf\n"
     ]
    },
    {
     "name": "stderr",
     "output_type": "stream",
     "text": [
      "'pages' argument isn't specified.Will extract only from page 1 by default.\n"
     ]
    },
    {
     "name": "stdout",
     "output_type": "stream",
     "text": [
      "[!] No image found on page 0\n",
      "nenhuma imagem encontrada\n",
      " banco 2302.pdf\n"
     ]
    },
    {
     "name": "stderr",
     "output_type": "stream",
     "text": [
      "'pages' argument isn't specified.Will extract only from page 1 by default.\n"
     ]
    },
    {
     "name": "stdout",
     "output_type": "stream",
     "text": [
      "[!] No image found on page 0\n",
      "nenhuma imagem encontrada\n",
      " banco 2402.pdf\n"
     ]
    },
    {
     "name": "stderr",
     "output_type": "stream",
     "text": [
      "'pages' argument isn't specified.Will extract only from page 1 by default.\n"
     ]
    },
    {
     "name": "stdout",
     "output_type": "stream",
     "text": [
      "[!] No image found on page 0\n",
      "nenhuma imagem encontrada\n",
      " banco 2502.pdf\n"
     ]
    },
    {
     "name": "stderr",
     "output_type": "stream",
     "text": [
      "'pages' argument isn't specified.Will extract only from page 1 by default.\n"
     ]
    },
    {
     "name": "stdout",
     "output_type": "stream",
     "text": [
      "[!] No image found on page 0\n",
      "nenhuma imagem encontrada\n",
      " banco imposto 0902.pdf\n"
     ]
    },
    {
     "name": "stderr",
     "output_type": "stream",
     "text": [
      "'pages' argument isn't specified.Will extract only from page 1 by default.\n"
     ]
    },
    {
     "name": "stdout",
     "output_type": "stream",
     "text": [
      "[!] No image found on page 0\n",
      "nenhuma imagem encontrada\n",
      " banco imposto 2502.pdf\n"
     ]
    },
    {
     "name": "stderr",
     "output_type": "stream",
     "text": [
      "'pages' argument isn't specified.Will extract only from page 1 by default.\n"
     ]
    },
    {
     "name": "stdout",
     "output_type": "stream",
     "text": [
      "[!] No image found on page 0\n",
      "[!] No image found on page 1\n",
      "[!] No image found on page 2\n",
      "[!] No image found on page 3\n",
      "nenhuma imagem encontrada\n",
      " Banco Itau.pdf\n",
      "10.259.774/0001-95,51.524.676/0001-15 BAS - B09260 ELETRONICO FRANQ ALUGUEL.pdf\n",
      "10.259.774/0001-95,51.524.676/0001-15 BAS - B09260 ELETRONICO.pdf\n",
      "02.520.148/0001-82,51.524.676/0001-15 BAS - B09260 FRANQ ALUGUEL.pdf\n",
      "28.680.962/0001-58 BAT - B9116 PROGRAMAR ENCARGOS.pdf\n",
      "01.472.861/0001-35 BAT - B9116.pdf\n",
      "01.472.861/0001-35 BAT - B91160 ENVIAR FRANQ.pdf\n",
      "06.022.940/0001-68 BAT - B91160 FRANQ (SEM DESCRIÇÃO DE PGTO).pdf\n",
      "28.680.962/0001-58 BAT - B91160 FRANQ (VERIFICAR ELETRONICO - TEM IPTU PARA DESMEMBRAR) (2).pdf\n",
      "28.680.962/0001-58 BAT - B91160 FRANQ (VERIFICAR ELETRONICO - TEM IPTU PARA DESMEMBRAR) (3).pdf\n",
      "28.680.962/0001-58 BAT - B91160 FRANQ (VERIFICAR ELETRONICO - TEM IPTU PARA DESMEMBRAR).pdf\n",
      "11.948.736/0001-02 BAT - B91160 FRANQ.pdf\n",
      "11.948.736/0001-02 BAT - B91160.pdf\n",
      "04.321.130/0001-87,18.954.481/0001-30 BAY - B0813.pdf\n",
      "20.739,535/0001-96,20.739.535/0001-96 BAY - B08130 ENVIAR FRANCO.pdf\n",
      "20.739,535/0001-96,20.739.535/0001-96 BAY - B08130 FRANCO ALUGUEL.pdf\n",
      "29.303.077/0001-12 BBH - B04140 - SOMA N BATE.pdf\n",
      "29.303.077/0001-12 BBH - B04140.pdf\n",
      "26.401.280/0001-33 BCA - B09600 ENVIAR FRANQ.pdf\n",
      "26.401.280/0001-33 BCA - B09600 FRANQ ALUGUEL.pdf\n",
      "37.777.719/0001-43 BCG - B06480 (2).pdf\n",
      "37.777.719/0001-43 BCG - B06480.pdf\n",
      "19.340.045/0001-33 BCP - B40070 FRANQ ALUGUEL (2).pdf\n",
      "19.340.045/0001-33 BCP - B40070 FRANQ ALUGUEL (3).pdf\n",
      "47.508.411/0001-56 BCP - B40070 FRANQ ALUGUEL.pdf\n",
      "02.287.538/0001-54 BEC - B05540 ENVIAR FRANQ.pdf\n",
      "02.287.538/0001-54 BEC - B05540 ENVIAR FRANQUEADO.pdf\n",
      "02.287.538/0001-54 BEC - B05540 FRANCO ALUGUEL.pdf\n",
      "02.287.538/0001-54 BEC - B05540 FRANQ ALUGUEL.pdf\n",
      "14.551.970/0001-90 BFC - B03070.pdf\n",
      "14.551.970/0001-90 BH2 - B0356 - 77.959 ,11  BANCO OK.pdf\n",
      "18.083.442/0001-04 BH2 - B03560   2.pdf\n",
      "18.083.442/0001-04 BH2 - B03560 (2).pdf\n",
      "05.294.268/0001-05 BH2 - B03560.pdf\n",
      "00.193.039/0001-72 BIG - B08090 ENVIAR FRANQ (2).pdf\n",
      "00.193.039/0001-72 BIG - B08090 ENVIAR FRANQ (3).pdf\n",
      "00.193.039/0001-72 BIG - B08090 ENVIAR FRANQ (4).pdf\n",
      "00.193.039/0001-72 BIG - B08090 ENVIAR FRANQ.pdf\n",
      "00.193.039/0001-72 BIG - B08090 FRANQ ALUGUEL (2).pdf\n",
      "00.193.039/0001-72 BIG - B08090 FRANQ ALUGUEL.pdf\n",
      "52.488.962/0001-35 BLA - B01450 - VERIF ELETRONICO.pdf\n",
      "52.488.962/0001-35 BLA - B01450.pdf\n",
      "83.368.894/0001-02 BLI - B09020 FRANQ ALUGUEL.pdf\n",
      "28.240.693/0001-09 BLO - B2001 FRAN PAG V2.pdf\n",
      "28.240.693/0001-09 BLO - B2001 FRANQ (PAGAR V2) (3).pdf\n",
      "09.191.802/0001-09 BLO - B2001 FRANQ (PAGAR V2).pdf\n",
      "09.191.802/0001-09 BLO - B2001 FRANQ ALUGUEL.pdf\n",
      "28.240.693/0001-09 BLO - B2001 FRANQ PAG V2 (2).pdf\n",
      "21.764.677/0001-76 BLO - B2001 FRANQ PAG V2.pdf\n",
      "53.719.423/0001-22 BMA - B11820.pdf\n",
      "5,3,.,7,1,9,4,2,/,0,- BMG - B02007 ENVIAR FRANQ.pdf\n",
      "5,,,3,.,7,1,9,4,2,/,0,- BMG B0200 FRANQ - ELETRONICO.pdf\n"
     ]
    },
    {
     "name": "stderr",
     "output_type": "stream",
     "text": [
      "'pages' argument isn't specified.Will extract only from page 1 by default.\n"
     ]
    },
    {
     "name": "stdout",
     "output_type": "stream",
     "text": [
      "[+] Found a total of 3 imagesin page 0\n",
      " BMR - B10250 - FALTA VALOR, FAVOR PINTAR.pdf\n",
      "13.990.172/0001-00 BND - B2005.pdf\n",
      "13.990.172/0001-00 BND - B20050 (2).pdf\n",
      "13.990.172/0001-00 BND - B20050.pdf\n"
     ]
    },
    {
     "name": "stderr",
     "output_type": "stream",
     "text": [
      "'pages' argument isn't specified.Will extract only from page 1 by default.\n"
     ]
    },
    {
     "name": "stdout",
     "output_type": "stream",
     "text": [
      "[+] Found a total of 5 imagesin page 0\n",
      " BNM - B41170 (4) - OK.pdf\n"
     ]
    },
    {
     "name": "stderr",
     "output_type": "stream",
     "text": [
      "'pages' argument isn't specified.Will extract only from page 1 by default.\n"
     ]
    },
    {
     "name": "stdout",
     "output_type": "stream",
     "text": [
      "[+] Found a total of 5 imagesin page 0\n",
      " BNM - B41170 .pdf\n"
     ]
    },
    {
     "name": "stderr",
     "output_type": "stream",
     "text": [
      "'pages' argument isn't specified.Will extract only from page 1 by default.\n"
     ]
    },
    {
     "name": "stdout",
     "output_type": "stream",
     "text": [
      "[+] Found a total of 5 imagesin page 0\n",
      " BNM - B41170.pdf\n",
      "95.827.556/0001-62 BNS - B02560  3656,20 E -678,87.pdf\n",
      "9,5,.,8,2,7,6,/,0,1,- BNS - B02560 (2).pdf\n",
      " BOD - B0917 - BANCO OK.pdf\n",
      " BOD - B0917 - erro banco.pdf\n",
      " BOD - B0917.pdf\n",
      "24.901.418/0001-38 BOD - B09170 FRAN ALUGUEL.pdf\n",
      "2,4,.,9,0,1,8,/,-,3 BOD - JA BAIXADO.pdf\n"
     ]
    },
    {
     "name": "stderr",
     "output_type": "stream",
     "text": [
      "'pages' argument isn't specified.Will extract only from page 1 by default.\n"
     ]
    },
    {
     "name": "stdout",
     "output_type": "stream",
     "text": [
      "[+] Found a total of 6 imagesin page 0\n",
      "[+] Found a total of 4 imagesin page 1\n",
      " BOLETO IPTU 2021 - MUN - 125.129.0040-0 L.pdf\n"
     ]
    },
    {
     "name": "stderr",
     "output_type": "stream",
     "text": [
      "'pages' argument isn't specified.Will extract only from page 1 by default.\n"
     ]
    },
    {
     "name": "stdout",
     "output_type": "stream",
     "text": [
      "[+] Found a total of 6 imagesin page 0\n",
      "[+] Found a total of 4 imagesin page 1\n",
      " BOLETO IPTU 2021 - MUN - 125.129.0041-9.pdf\n"
     ]
    },
    {
     "name": "stderr",
     "output_type": "stream",
     "text": [
      "'pages' argument isn't specified.Will extract only from page 1 by default.\n"
     ]
    },
    {
     "name": "stdout",
     "output_type": "stream",
     "text": [
      "[+] Found a total of 6 imagesin page 0\n",
      "[+] Found a total of 4 imagesin page 1\n",
      " BOLETO IPTU 2021 - MUN - 125.129.0050-8.pdf\n"
     ]
    },
    {
     "name": "stderr",
     "output_type": "stream",
     "text": [
      "'pages' argument isn't specified.Will extract only from page 1 by default.\n"
     ]
    },
    {
     "name": "stdout",
     "output_type": "stream",
     "text": [
      "[+] Found a total of 6 imagesin page 0\n",
      "[+] Found a total of 4 imagesin page 1\n",
      " BOLETO IPTU 2021 - MUN - 125.129.0053-2.pdf\n"
     ]
    },
    {
     "name": "stderr",
     "output_type": "stream",
     "text": [
      "'pages' argument isn't specified.Will extract only from page 1 by default.\n"
     ]
    },
    {
     "name": "stdout",
     "output_type": "stream",
     "text": [
      "[+] Found a total of 6 imagesin page 0\n",
      "[+] Found a total of 4 imagesin page 1\n",
      " BOLETO IPTU 2021 - MUN - 125.129.0138-5.pdf\n"
     ]
    },
    {
     "name": "stderr",
     "output_type": "stream",
     "text": [
      "'pages' argument isn't specified.Will extract only from page 1 by default.\n"
     ]
    },
    {
     "name": "stdout",
     "output_type": "stream",
     "text": [
      "[+] Found a total of 6 imagesin page 0\n",
      "[+] Found a total of 4 imagesin page 1\n",
      " BOLETO IPTU 2021 - MUN - 125.129.0164-4.pdf\n"
     ]
    },
    {
     "name": "stderr",
     "output_type": "stream",
     "text": [
      "'pages' argument isn't specified.Will extract only from page 1 by default.\n"
     ]
    },
    {
     "name": "stdout",
     "output_type": "stream",
     "text": [
      "[+] Found a total of 6 imagesin page 0\n",
      "[+] Found a total of 4 imagesin page 1\n",
      " BOLETO IPTU 2022 - AAH.pdf\n"
     ]
    },
    {
     "name": "stderr",
     "output_type": "stream",
     "text": [
      "'pages' argument isn't specified.Will extract only from page 1 by default.\n"
     ]
    },
    {
     "name": "stdout",
     "output_type": "stream",
     "text": [
      "[+] Found a total of 4 imagesin page 0\n",
      " BOLETO IPTU 2022 - ABA.pdf\n"
     ]
    },
    {
     "name": "stderr",
     "output_type": "stream",
     "text": [
      "'pages' argument isn't specified.Will extract only from page 1 by default.\n"
     ]
    },
    {
     "name": "stdout",
     "output_type": "stream",
     "text": [
      "[+] Found a total of 6 imagesin page 0\n",
      "[+] Found a total of 4 imagesin page 1\n",
      " BOLETO IPTU 2022 - AE2.pdf\n"
     ]
    },
    {
     "name": "stderr",
     "output_type": "stream",
     "text": [
      "'pages' argument isn't specified.Will extract only from page 1 by default.\n"
     ]
    },
    {
     "name": "stdout",
     "output_type": "stream",
     "text": [
      "[+] Found a total of 6 imagesin page 0\n",
      "[+] Found a total of 4 imagesin page 1\n",
      " BOLETO IPTU 2022 - AFD.pdf\n"
     ]
    },
    {
     "name": "stderr",
     "output_type": "stream",
     "text": [
      "PdfReadWarning: Xref table not zero-indexed. ID numbers for objects will be corrected. [pdf.py:1801]\n",
      "'pages' argument isn't specified.Will extract only from page 1 by default.\n"
     ]
    },
    {
     "name": "stdout",
     "output_type": "stream",
     "text": [
      "[+] Found a total of 3 imagesin page 0\n"
     ]
    },
    {
     "name": "stderr",
     "output_type": "stream",
     "text": [
      "Got stderr: abr 04, 2022 4:59:04 PM org.apache.pdfbox.pdmodel.font.PDType0Font toUnicode\r\n",
      "ADVERTÊNCIA: No Unicode mapping for CID+37 (37) in font Arial\r\n",
      "abr 04, 2022 4:59:05 PM org.apache.pdfbox.pdmodel.font.PDType0Font toUnicode\r\n",
      "ADVERTÊNCIA: No Unicode mapping for CID+72 (72) in font Arial\r\n",
      "abr 04, 2022 4:59:05 PM org.apache.pdfbox.pdmodel.font.PDType0Font toUnicode\r\n",
      "ADVERTÊNCIA: No Unicode mapping for CID+81 (81) in font Arial\r\n",
      "abr 04, 2022 4:59:05 PM org.apache.pdfbox.pdmodel.font.PDType0Font toUnicode\r\n",
      "ADVERTÊNCIA: No Unicode mapping for CID+73 (73) in font Arial\r\n",
      "abr 04, 2022 4:59:05 PM org.apache.pdfbox.pdmodel.font.PDType0Font toUnicode\r\n",
      "ADVERTÊNCIA: No Unicode mapping for CID+76 (76) in font Arial\r\n",
      "abr 04, 2022 4:59:05 PM org.apache.pdfbox.pdmodel.font.PDType0Font toUnicode\r\n",
      "ADVERTÊNCIA: No Unicode mapping for CID+70 (70) in font Arial\r\n",
      "abr 04, 2022 4:59:05 PM org.apache.pdfbox.pdmodel.font.PDType0Font toUnicode\r\n",
      "ADVERTÊNCIA: No Unicode mapping for CID+105 (105) in font Arial\r\n",
      "abr 04, 2022 4:59:05 PM org.apache.pdfbox.pdmodel.font.PDType0Font toUnicode\r\n",
      "ADVERTÊNCIA: No Unicode mapping for CID+85 (85) in font Arial\r\n",
      "abr 04, 2022 4:59:05 PM org.apache.pdfbox.pdmodel.font.PDType0Font toUnicode\r\n",
      "ADVERTÊNCIA: No Unicode mapping for CID+82 (82) in font Arial\r\n",
      "abr 04, 2022 4:59:05 PM org.apache.pdfbox.pdmodel.font.PDCIDFontType2 codeToGID\r\n",
      "ADVERTÊNCIA: Failed to find a character mapping for 37 in Arial\r\n",
      "abr 04, 2022 4:59:05 PM org.apache.pdfbox.pdmodel.font.PDCIDFontType2 codeToGID\r\n",
      "ADVERTÊNCIA: Failed to find a character mapping for 72 in Arial\r\n",
      "abr 04, 2022 4:59:05 PM org.apache.pdfbox.pdmodel.font.PDCIDFontType2 codeToGID\r\n",
      "ADVERTÊNCIA: Failed to find a character mapping for 81 in Arial\r\n",
      "abr 04, 2022 4:59:05 PM org.apache.pdfbox.pdmodel.font.PDCIDFontType2 codeToGID\r\n",
      "ADVERTÊNCIA: Failed to find a character mapping for 73 in Arial\r\n",
      "abr 04, 2022 4:59:05 PM org.apache.pdfbox.pdmodel.font.PDCIDFontType2 codeToGID\r\n",
      "ADVERTÊNCIA: Failed to find a character mapping for 76 in Arial\r\n",
      "abr 04, 2022 4:59:05 PM org.apache.pdfbox.pdmodel.font.PDCIDFontType2 codeToGID\r\n",
      "ADVERTÊNCIA: Failed to find a character mapping for 70 in Arial\r\n",
      "abr 04, 2022 4:59:05 PM org.apache.pdfbox.pdmodel.font.PDCIDFontType2 codeToGID\r\n",
      "ADVERTÊNCIA: Failed to find a character mapping for 105 in Arial\r\n",
      "abr 04, 2022 4:59:05 PM org.apache.pdfbox.pdmodel.font.PDCIDFontType2 codeToGID\r\n",
      "ADVERTÊNCIA: Failed to find a character mapping for 85 in Arial\r\n",
      "abr 04, 2022 4:59:05 PM org.apache.pdfbox.pdmodel.font.PDCIDFontType2 codeToGID\r\n",
      "ADVERTÊNCIA: Failed to find a character mapping for 82 in Arial\r\n",
      "abr 04, 2022 4:59:05 PM org.apache.pdfbox.pdmodel.font.PDType0Font toUnicode\r\n",
      "ADVERTÊNCIA: No Unicode mapping for CID+37 (37) in font Arial\r\n",
      "abr 04, 2022 4:59:05 PM org.apache.pdfbox.pdmodel.font.PDCIDFontType2 codeToGID\r\n",
      "ADVERTÊNCIA: Failed to find a character mapping for 37 in Arial\r\n",
      "abr 04, 2022 4:59:05 PM org.apache.pdfbox.pdmodel.font.PDType0Font toUnicode\r\n",
      "ADVERTÊNCIA: No Unicode mapping for CID+72 (72) in font Arial\r\n",
      "abr 04, 2022 4:59:05 PM org.apache.pdfbox.pdmodel.font.PDCIDFontType2 codeToGID\r\n",
      "ADVERTÊNCIA: Failed to find a character mapping for 72 in Arial\r\n",
      "abr 04, 2022 4:59:05 PM org.apache.pdfbox.pdmodel.font.PDType0Font toUnicode\r\n",
      "ADVERTÊNCIA: No Unicode mapping for CID+81 (81) in font Arial\r\n",
      "abr 04, 2022 4:59:05 PM org.apache.pdfbox.pdmodel.font.PDCIDFontType2 codeToGID\r\n",
      "ADVERTÊNCIA: Failed to find a character mapping for 81 in Arial\r\n",
      "abr 04, 2022 4:59:05 PM org.apache.pdfbox.pdmodel.font.PDType0Font toUnicode\r\n",
      "ADVERTÊNCIA: No Unicode mapping for CID+73 (73) in font Arial\r\n",
      "abr 04, 2022 4:59:05 PM org.apache.pdfbox.pdmodel.font.PDCIDFontType2 codeToGID\r\n",
      "ADVERTÊNCIA: Failed to find a character mapping for 73 in Arial\r\n",
      "abr 04, 2022 4:59:05 PM org.apache.pdfbox.pdmodel.font.PDType0Font toUnicode\r\n",
      "ADVERTÊNCIA: No Unicode mapping for CID+76 (76) in font Arial\r\n",
      "abr 04, 2022 4:59:05 PM org.apache.pdfbox.pdmodel.font.PDCIDFontType2 codeToGID\r\n",
      "ADVERTÊNCIA: Failed to find a character mapping for 76 in Arial\r\n",
      "abr 04, 2022 4:59:05 PM org.apache.pdfbox.pdmodel.font.PDType0Font toUnicode\r\n",
      "ADVERTÊNCIA: No Unicode mapping for CID+70 (70) in font Arial\r\n",
      "abr 04, 2022 4:59:05 PM org.apache.pdfbox.pdmodel.font.PDCIDFontType2 codeToGID\r\n",
      "ADVERTÊNCIA: Failed to find a character mapping for 70 in Arial\r\n",
      "abr 04, 2022 4:59:05 PM org.apache.pdfbox.pdmodel.font.PDType0Font toUnicode\r\n",
      "ADVERTÊNCIA: No Unicode mapping for CID+105 (105) in font Arial\r\n",
      "abr 04, 2022 4:59:05 PM org.apache.pdfbox.pdmodel.font.PDCIDFontType2 codeToGID\r\n",
      "ADVERTÊNCIA: Failed to find a character mapping for 105 in Arial\r\n",
      "abr 04, 2022 4:59:05 PM org.apache.pdfbox.pdmodel.font.PDType0Font toUnicode\r\n",
      "ADVERTÊNCIA: No Unicode mapping for CID+85 (85) in font Arial\r\n",
      "abr 04, 2022 4:59:05 PM org.apache.pdfbox.pdmodel.font.PDCIDFontType2 codeToGID\r\n",
      "ADVERTÊNCIA: Failed to find a character mapping for 85 in Arial\r\n",
      "abr 04, 2022 4:59:05 PM org.apache.pdfbox.pdmodel.font.PDType0Font toUnicode\r\n",
      "ADVERTÊNCIA: No Unicode mapping for CID+82 (82) in font Arial\r\n",
      "abr 04, 2022 4:59:05 PM org.apache.pdfbox.pdmodel.font.PDCIDFontType2 codeToGID\r\n",
      "ADVERTÊNCIA: Failed to find a character mapping for 82 in Arial\r\n",
      "\n"
     ]
    },
    {
     "name": "stdout",
     "output_type": "stream",
     "text": [
      " BOLETO IPTU 2022 - AFL - PARCELA 1 - MARIA LUCIA.pdf\n"
     ]
    },
    {
     "name": "stderr",
     "output_type": "stream",
     "text": [
      "'pages' argument isn't specified.Will extract only from page 1 by default.\n"
     ]
    },
    {
     "name": "stdout",
     "output_type": "stream",
     "text": [
      "[+] Found a total of 6 imagesin page 0\n",
      "[+] Found a total of 4 imagesin page 1\n",
      " BOLETO IPTU 2022 - AFM.pdf\n"
     ]
    },
    {
     "name": "stderr",
     "output_type": "stream",
     "text": [
      "'pages' argument isn't specified.Will extract only from page 1 by default.\n"
     ]
    },
    {
     "name": "stdout",
     "output_type": "stream",
     "text": [
      "[+] Found a total of 6 imagesin page 0\n",
      "[+] Found a total of 4 imagesin page 1\n",
      " BOLETO IPTU 2022 - AGT.pdf\n"
     ]
    },
    {
     "name": "stderr",
     "output_type": "stream",
     "text": [
      "'pages' argument isn't specified.Will extract only from page 1 by default.\n"
     ]
    },
    {
     "name": "stdout",
     "output_type": "stream",
     "text": [
      "[+] Found a total of 6 imagesin page 0\n",
      "[+] Found a total of 4 imagesin page 1\n",
      " BOLETO IPTU 2022 - AIS.pdf\n"
     ]
    },
    {
     "name": "stderr",
     "output_type": "stream",
     "text": [
      "'pages' argument isn't specified.Will extract only from page 1 by default.\n"
     ]
    },
    {
     "name": "stdout",
     "output_type": "stream",
     "text": [
      "[+] Found a total of 6 imagesin page 0\n",
      "[+] Found a total of 4 imagesin page 1\n",
      " BOLETO IPTU 2022 - AJB.pdf\n"
     ]
    },
    {
     "name": "stderr",
     "output_type": "stream",
     "text": [
      "'pages' argument isn't specified.Will extract only from page 1 by default.\n"
     ]
    },
    {
     "name": "stdout",
     "output_type": "stream",
     "text": [
      "[+] Found a total of 6 imagesin page 0\n",
      "[+] Found a total of 4 imagesin page 1\n",
      " BOLETO IPTU 2022 - AJD.pdf\n"
     ]
    },
    {
     "name": "stderr",
     "output_type": "stream",
     "text": [
      "'pages' argument isn't specified.Will extract only from page 1 by default.\n"
     ]
    },
    {
     "name": "stdout",
     "output_type": "stream",
     "text": [
      "[+] Found a total of 6 imagesin page 0\n",
      "[+] Found a total of 4 imagesin page 1\n",
      " BOLETO IPTU 2022 - ALS.pdf\n"
     ]
    },
    {
     "name": "stderr",
     "output_type": "stream",
     "text": [
      "'pages' argument isn't specified.Will extract only from page 1 by default.\n"
     ]
    },
    {
     "name": "stdout",
     "output_type": "stream",
     "text": [
      "[+] Found a total of 6 imagesin page 0\n",
      "[+] Found a total of 4 imagesin page 1\n",
      " BOLETO IPTU 2022 - AMC.pdf\n"
     ]
    },
    {
     "name": "stderr",
     "output_type": "stream",
     "text": [
      "'pages' argument isn't specified.Will extract only from page 1 by default.\n"
     ]
    },
    {
     "name": "stdout",
     "output_type": "stream",
     "text": [
      "[+] Found a total of 6 imagesin page 0\n",
      "[+] Found a total of 4 imagesin page 1\n",
      " BOLETO IPTU 2022 - AMO.pdf\n"
     ]
    },
    {
     "name": "stderr",
     "output_type": "stream",
     "text": [
      "'pages' argument isn't specified.Will extract only from page 1 by default.\n"
     ]
    },
    {
     "name": "stdout",
     "output_type": "stream",
     "text": [
      "[+] Found a total of 6 imagesin page 0\n",
      "[+] Found a total of 4 imagesin page 1\n",
      " BOLETO IPTU 2022 - ANR.pdf\n"
     ]
    },
    {
     "name": "stderr",
     "output_type": "stream",
     "text": [
      "'pages' argument isn't specified.Will extract only from page 1 by default.\n"
     ]
    },
    {
     "name": "stdout",
     "output_type": "stream",
     "text": [
      "[+] Found a total of 6 imagesin page 0\n",
      "[+] Found a total of 4 imagesin page 1\n",
      " BOLETO IPTU 2022 - ANZ.pdf\n"
     ]
    },
    {
     "name": "stderr",
     "output_type": "stream",
     "text": [
      "'pages' argument isn't specified.Will extract only from page 1 by default.\n"
     ]
    },
    {
     "name": "stdout",
     "output_type": "stream",
     "text": [
      "[+] Found a total of 6 imagesin page 0\n",
      "[+] Found a total of 4 imagesin page 1\n",
      " BOLETO IPTU 2022 - APB.pdf\n"
     ]
    },
    {
     "name": "stderr",
     "output_type": "stream",
     "text": [
      "'pages' argument isn't specified.Will extract only from page 1 by default.\n"
     ]
    },
    {
     "name": "stdout",
     "output_type": "stream",
     "text": [
      "[+] Found a total of 6 imagesin page 0\n",
      "[+] Found a total of 4 imagesin page 1\n",
      " BOLETO IPTU 2022 - ARP.pdf\n"
     ]
    },
    {
     "name": "stderr",
     "output_type": "stream",
     "text": [
      "'pages' argument isn't specified.Will extract only from page 1 by default.\n"
     ]
    },
    {
     "name": "stdout",
     "output_type": "stream",
     "text": [
      "[+] Found a total of 6 imagesin page 0\n",
      "[+] Found a total of 4 imagesin page 1\n",
      " BOLETO IPTU 2022 - AUG.pdf\n"
     ]
    },
    {
     "name": "stderr",
     "output_type": "stream",
     "text": [
      "'pages' argument isn't specified.Will extract only from page 1 by default.\n"
     ]
    },
    {
     "name": "stdout",
     "output_type": "stream",
     "text": [
      "[+] Found a total of 6 imagesin page 0\n",
      "[+] Found a total of 4 imagesin page 1\n",
      " BOLETO IPTU 2022 - BAR - 006.016.0813-5.pdf\n"
     ]
    },
    {
     "name": "stderr",
     "output_type": "stream",
     "text": [
      "'pages' argument isn't specified.Will extract only from page 1 by default.\n"
     ]
    },
    {
     "name": "stdout",
     "output_type": "stream",
     "text": [
      "[+] Found a total of 6 imagesin page 0\n",
      "[+] Found a total of 4 imagesin page 1\n",
      " BOLETO IPTU 2022 - BAR - 006.016.0814-3.pdf\n"
     ]
    },
    {
     "name": "stderr",
     "output_type": "stream",
     "text": [
      "'pages' argument isn't specified.Will extract only from page 1 by default.\n"
     ]
    },
    {
     "name": "stdout",
     "output_type": "stream",
     "text": [
      "[+] Found a total of 6 imagesin page 0\n",
      "[+] Found a total of 4 imagesin page 1\n",
      " BOLETO IPTU 2022 - BDT.pdf\n"
     ]
    },
    {
     "name": "stderr",
     "output_type": "stream",
     "text": [
      "'pages' argument isn't specified.Will extract only from page 1 by default.\n"
     ]
    },
    {
     "name": "stdout",
     "output_type": "stream",
     "text": [
      "[+] Found a total of 6 imagesin page 0\n",
      "[+] Found a total of 4 imagesin page 1\n",
      " BOLETO IPTU 2022 - BGT.pdf\n"
     ]
    },
    {
     "name": "stderr",
     "output_type": "stream",
     "text": [
      "'pages' argument isn't specified.Will extract only from page 1 by default.\n"
     ]
    },
    {
     "name": "stdout",
     "output_type": "stream",
     "text": [
      "[+] Found a total of 3 imagesin page 0\n",
      " BOLETO IPTU 2022 - BIC - 08180986.pdf\n"
     ]
    },
    {
     "name": "stderr",
     "output_type": "stream",
     "text": [
      "'pages' argument isn't specified.Will extract only from page 1 by default.\n"
     ]
    },
    {
     "name": "stdout",
     "output_type": "stream",
     "text": [
      "[+] Found a total of 3 imagesin page 0\n",
      " BOLETO IPTU 2022 - BIC - 31639198.pdf\n"
     ]
    },
    {
     "name": "stderr",
     "output_type": "stream",
     "text": [
      "'pages' argument isn't specified.Will extract only from page 1 by default.\n"
     ]
    },
    {
     "name": "stdout",
     "output_type": "stream",
     "text": [
      "[+] Found a total of 6 imagesin page 0\n",
      "[+] Found a total of 4 imagesin page 1\n",
      " BOLETO IPTU 2022 - BLE.pdf\n"
     ]
    },
    {
     "name": "stderr",
     "output_type": "stream",
     "text": [
      "'pages' argument isn't specified.Will extract only from page 1 by default.\n"
     ]
    },
    {
     "name": "stdout",
     "output_type": "stream",
     "text": [
      "[+] Found a total of 3 imagesin page 0\n",
      " BOLETO IPTU 2022 - BOS - 3160125720 ERRO BAN.pdf\n"
     ]
    },
    {
     "name": "stderr",
     "output_type": "stream",
     "text": [
      "'pages' argument isn't specified.Will extract only from page 1 by default.\n"
     ]
    },
    {
     "name": "stdout",
     "output_type": "stream",
     "text": [
      "[+] Found a total of 6 imagesin page 0\n",
      "[+] Found a total of 4 imagesin page 1\n",
      " BOLETO IPTU 2022 - BRA.pdf\n"
     ]
    },
    {
     "name": "stderr",
     "output_type": "stream",
     "text": [
      "'pages' argument isn't specified.Will extract only from page 1 by default.\n"
     ]
    },
    {
     "name": "stdout",
     "output_type": "stream",
     "text": [
      "[+] Found a total of 4 imagesin page 0\n",
      " BOLETO IPTU 2022 - CAD.pdf\n",
      "82.892.274/0001-05,10.617.328/0001-05 BOLETO IPTU 2022 - CAK.pdf\n"
     ]
    },
    {
     "name": "stderr",
     "output_type": "stream",
     "text": [
      "'pages' argument isn't specified.Will extract only from page 1 by default.\n"
     ]
    },
    {
     "name": "stdout",
     "output_type": "stream",
     "text": [
      "[+] Found a total of 4 imagesin page 0\n",
      " BOLETO IPTU 2022 - CAR.pdf\n"
     ]
    },
    {
     "name": "stderr",
     "output_type": "stream",
     "text": [
      "'pages' argument isn't specified.Will extract only from page 1 by default.\n"
     ]
    },
    {
     "name": "stdout",
     "output_type": "stream",
     "text": [
      "[+] Found a total of 6 imagesin page 0\n",
      "[+] Found a total of 4 imagesin page 1\n",
      " BOLETO IPTU 2022 - CAT.pdf\n"
     ]
    },
    {
     "name": "stderr",
     "output_type": "stream",
     "text": [
      "'pages' argument isn't specified.Will extract only from page 1 by default.\n"
     ]
    },
    {
     "name": "stdout",
     "output_type": "stream",
     "text": [
      "[+] Found a total of 3 imagesin page 0\n",
      " BOLETO IPTU 2022 - CBR.pdf\n"
     ]
    },
    {
     "name": "stderr",
     "output_type": "stream",
     "text": [
      "'pages' argument isn't specified.Will extract only from page 1 by default.\n"
     ]
    },
    {
     "name": "stdout",
     "output_type": "stream",
     "text": [
      "[+] Found a total of 3 imagesin page 0\n",
      " BOLETO IPTU 2022 - CEL.pdf\n"
     ]
    },
    {
     "name": "stderr",
     "output_type": "stream",
     "text": [
      "'pages' argument isn't specified.Will extract only from page 1 by default.\n"
     ]
    },
    {
     "name": "stdout",
     "output_type": "stream",
     "text": [
      "[+] Found a total of 6 imagesin page 0\n",
      "[+] Found a total of 4 imagesin page 1\n",
      " BOLETO IPTU 2022 - CHA - BANCO OK.pdf\n"
     ]
    },
    {
     "name": "stderr",
     "output_type": "stream",
     "text": [
      "'pages' argument isn't specified.Will extract only from page 1 by default.\n"
     ]
    },
    {
     "name": "stdout",
     "output_type": "stream",
     "text": [
      "[+] Found a total of 3 imagesin page 0\n",
      "[+] Found a total of 1 imagesin page 1\n",
      " BOLETO IPTU 2022 - CJD.pdf\n"
     ]
    },
    {
     "name": "stderr",
     "output_type": "stream",
     "text": [
      "'pages' argument isn't specified.Will extract only from page 1 by default.\n"
     ]
    },
    {
     "name": "stdout",
     "output_type": "stream",
     "text": [
      "[+] Found a total of 6 imagesin page 0\n",
      "[+] Found a total of 4 imagesin page 1\n",
      " BOLETO IPTU 2022 - CRD.pdf\n"
     ]
    },
    {
     "name": "stderr",
     "output_type": "stream",
     "text": [
      "'pages' argument isn't specified.Will extract only from page 1 by default.\n"
     ]
    },
    {
     "name": "stdout",
     "output_type": "stream",
     "text": [
      "[+] Found a total of 6 imagesin page 0\n",
      "[+] Found a total of 4 imagesin page 1\n",
      " BOLETO IPTU 2022 - CUR.pdf\n"
     ]
    },
    {
     "name": "stderr",
     "output_type": "stream",
     "text": [
      "'pages' argument isn't specified.Will extract only from page 1 by default.\n"
     ]
    },
    {
     "name": "stdout",
     "output_type": "stream",
     "text": [
      "[+] Found a total of 4 imagesin page 0\n",
      " BOLETO IPTU 2022 - DCP.pdf\n",
      "24.093.385/0001-47 BOLETO IPTU 2022 - DDD.pdf\n"
     ]
    },
    {
     "name": "stderr",
     "output_type": "stream",
     "text": [
      "'pages' argument isn't specified.Will extract only from page 1 by default.\n"
     ]
    },
    {
     "name": "stdout",
     "output_type": "stream",
     "text": [
      "[+] Found a total of 6 imagesin page 0\n",
      "[+] Found a total of 4 imagesin page 1\n",
      " BOLETO IPTU 2022 - DOM.pdf\n",
      "88.566.872/0001-62 BOLETO IPTU 2022 - DRG PROGRAMAR MANUAL.pdf\n"
     ]
    },
    {
     "name": "stderr",
     "output_type": "stream",
     "text": [
      "'pages' argument isn't specified.Will extract only from page 1 by default.\n"
     ]
    },
    {
     "name": "stdout",
     "output_type": "stream",
     "text": [
      "[+] Found a total of 6 imagesin page 0\n",
      "[+] Found a total of 4 imagesin page 1\n",
      " BOLETO IPTU 2022 - DRT.pdf\n",
      " BOLETO IPTU 2022 - FAL.pdf\n"
     ]
    },
    {
     "name": "stderr",
     "output_type": "stream",
     "text": [
      "'pages' argument isn't specified.Will extract only from page 1 by default.\n"
     ]
    },
    {
     "name": "stdout",
     "output_type": "stream",
     "text": [
      "[+] Found a total of 6 imagesin page 0\n",
      "[+] Found a total of 4 imagesin page 1\n",
      " BOLETO IPTU 2022 - FAO.pdf\n"
     ]
    },
    {
     "name": "stderr",
     "output_type": "stream",
     "text": [
      "'pages' argument isn't specified.Will extract only from page 1 by default.\n"
     ]
    },
    {
     "name": "stdout",
     "output_type": "stream",
     "text": [
      "[+] Found a total of 6 imagesin page 0\n",
      "[+] Found a total of 4 imagesin page 1\n",
      " BOLETO IPTU 2022 - FLI.pdf\n"
     ]
    },
    {
     "name": "stderr",
     "output_type": "stream",
     "text": [
      "'pages' argument isn't specified.Will extract only from page 1 by default.\n"
     ]
    },
    {
     "name": "stdout",
     "output_type": "stream",
     "text": [
      "[+] Found a total of 3 imagesin page 0\n",
      " BOLETO IPTU 2022 - FRE.pdf\n"
     ]
    },
    {
     "name": "stderr",
     "output_type": "stream",
     "text": [
      "'pages' argument isn't specified.Will extract only from page 1 by default.\n"
     ]
    },
    {
     "name": "stdout",
     "output_type": "stream",
     "text": [
      "[+] Found a total of 3 imagesin page 0\n",
      " BOLETO IPTU 2022 - HGO CK.pdf\n"
     ]
    },
    {
     "name": "stderr",
     "output_type": "stream",
     "text": [
      "'pages' argument isn't specified.Will extract only from page 1 by default.\n"
     ]
    },
    {
     "name": "stdout",
     "output_type": "stream",
     "text": [
      "[+] Found a total of 3 imagesin page 0\n",
      " BOLETO IPTU 2022 - HGO.pdf\n"
     ]
    },
    {
     "name": "stderr",
     "output_type": "stream",
     "text": [
      "'pages' argument isn't specified.Will extract only from page 1 by default.\n"
     ]
    },
    {
     "name": "stdout",
     "output_type": "stream",
     "text": [
      "[+] Found a total of 6 imagesin page 0\n",
      "[+] Found a total of 4 imagesin page 1\n",
      " BOLETO IPTU 2022 - HSC.pdf\n"
     ]
    },
    {
     "name": "stderr",
     "output_type": "stream",
     "text": [
      "'pages' argument isn't specified.Will extract only from page 1 by default.\n"
     ]
    },
    {
     "name": "stdout",
     "output_type": "stream",
     "text": [
      "[+] Found a total of 6 imagesin page 0\n",
      "[+] Found a total of 4 imagesin page 1\n",
      " BOLETO IPTU 2022 - IBI.pdf\n"
     ]
    },
    {
     "name": "stderr",
     "output_type": "stream",
     "text": [
      "'pages' argument isn't specified.Will extract only from page 1 by default.\n"
     ]
    },
    {
     "name": "stdout",
     "output_type": "stream",
     "text": [
      "[+] Found a total of 3 imagesin page 0\n",
      " BOLETO IPTU 2022 - IDR.pdf\n"
     ]
    },
    {
     "name": "stderr",
     "output_type": "stream",
     "text": [
      "'pages' argument isn't specified.Will extract only from page 1 by default.\n"
     ]
    },
    {
     "name": "stdout",
     "output_type": "stream",
     "text": [
      "[+] Found a total of 6 imagesin page 0\n",
      "[+] Found a total of 4 imagesin page 1\n",
      " BOLETO IPTU 2022 - IPI.pdf\n"
     ]
    },
    {
     "name": "stderr",
     "output_type": "stream",
     "text": [
      "'pages' argument isn't specified.Will extract only from page 1 by default.\n"
     ]
    },
    {
     "name": "stdout",
     "output_type": "stream",
     "text": [
      "[+] Found a total of 6 imagesin page 0\n",
      "[+] Found a total of 4 imagesin page 1\n",
      " BOLETO IPTU 2022 - JAF.pdf\n"
     ]
    },
    {
     "name": "stderr",
     "output_type": "stream",
     "text": [
      "'pages' argument isn't specified.Will extract only from page 1 by default.\n"
     ]
    },
    {
     "name": "stdout",
     "output_type": "stream",
     "text": [
      "[+] Found a total of 3 imagesin page 0\n",
      " BOLETO IPTU 2022 - LET.pdf\n"
     ]
    },
    {
     "name": "stderr",
     "output_type": "stream",
     "text": [
      "'pages' argument isn't specified.Will extract only from page 1 by default.\n"
     ]
    },
    {
     "name": "stdout",
     "output_type": "stream",
     "text": [
      "[+] Found a total of 6 imagesin page 0\n",
      "[+] Found a total of 4 imagesin page 1\n",
      " BOLETO IPTU 2022 - LPA.pdf\n"
     ]
    },
    {
     "name": "stderr",
     "output_type": "stream",
     "text": [
      "'pages' argument isn't specified.Will extract only from page 1 by default.\n"
     ]
    },
    {
     "name": "stdout",
     "output_type": "stream",
     "text": [
      "[+] Found a total of 3 imagesin page 0\n",
      " BOLETO IPTU 2022 - MAX.pdf\n"
     ]
    },
    {
     "name": "stderr",
     "output_type": "stream",
     "text": [
      "'pages' argument isn't specified.Will extract only from page 1 by default.\n"
     ]
    },
    {
     "name": "stdout",
     "output_type": "stream",
     "text": [
      "[+] Found a total of 6 imagesin page 0\n",
      "[+] Found a total of 4 imagesin page 1\n",
      " BOLETO IPTU 2022 - MBT.pdf\n",
      "29.131.075/0001-93,14.970.654/0001-52 BOLETO IPTU 2022 - MCA - REJEIÇÃO.pdf\n"
     ]
    },
    {
     "name": "stderr",
     "output_type": "stream",
     "text": [
      "'pages' argument isn't specified.Will extract only from page 1 by default.\n"
     ]
    },
    {
     "name": "stdout",
     "output_type": "stream",
     "text": [
      "[+] Found a total of 3 imagesin page 0\n",
      " BOLETO IPTU 2022 - MEI - 03786183.pdf\n"
     ]
    },
    {
     "name": "stderr",
     "output_type": "stream",
     "text": [
      "'pages' argument isn't specified.Will extract only from page 1 by default.\n"
     ]
    },
    {
     "name": "stdout",
     "output_type": "stream",
     "text": [
      "[+] Found a total of 3 imagesin page 0\n",
      " BOLETO IPTU 2022 - MEI - 03786191.pdf\n"
     ]
    },
    {
     "name": "stderr",
     "output_type": "stream",
     "text": [
      "'pages' argument isn't specified.Will extract only from page 1 by default.\n"
     ]
    },
    {
     "name": "stdout",
     "output_type": "stream",
     "text": [
      "[+] Found a total of 3 imagesin page 0\n",
      " BOLETO IPTU 2022 - MER.pdf\n"
     ]
    },
    {
     "name": "stderr",
     "output_type": "stream",
     "text": [
      "'pages' argument isn't specified.Will extract only from page 1 by default.\n"
     ]
    },
    {
     "name": "stdout",
     "output_type": "stream",
     "text": [
      "[+] Found a total of 3 imagesin page 0\n",
      " BOLETO IPTU 2022 - MRB - 05419841.pdf\n"
     ]
    },
    {
     "name": "stderr",
     "output_type": "stream",
     "text": [
      "'pages' argument isn't specified.Will extract only from page 1 by default.\n"
     ]
    },
    {
     "name": "stdout",
     "output_type": "stream",
     "text": [
      "[+] Found a total of 3 imagesin page 0\n",
      " BOLETO IPTU 2022 - MRB - 05419858.pdf\n"
     ]
    },
    {
     "name": "stderr",
     "output_type": "stream",
     "text": [
      "'pages' argument isn't specified.Will extract only from page 1 by default.\n"
     ]
    },
    {
     "name": "stdout",
     "output_type": "stream",
     "text": [
      "[+] Found a total of 6 imagesin page 0\n",
      "[+] Found a total of 4 imagesin page 1\n",
      " BOLETO IPTU 2022 - MUN - 125.129.0138-5.pdf\n"
     ]
    },
    {
     "name": "stderr",
     "output_type": "stream",
     "text": [
      "'pages' argument isn't specified.Will extract only from page 1 by default.\n"
     ]
    },
    {
     "name": "stdout",
     "output_type": "stream",
     "text": [
      "[+] Found a total of 6 imagesin page 0\n",
      "[+] Found a total of 4 imagesin page 1\n",
      " BOLETO IPTU 2022 - MUN - 125.129.0164-4.pdf\n",
      " BOLETO IPTU 2022 - NDR.pdf\n"
     ]
    },
    {
     "name": "stderr",
     "output_type": "stream",
     "text": [
      "'pages' argument isn't specified.Will extract only from page 1 by default.\n"
     ]
    },
    {
     "name": "stdout",
     "output_type": "stream",
     "text": [
      "[+] Found a total of 6 imagesin page 0\n",
      "[+] Found a total of 4 imagesin page 1\n",
      " BOLETO IPTU 2022 - NFL.pdf\n",
      "29.138.278/0001-01 BOLETO IPTU 2022 - NIG - n achei (1).pdf\n",
      "29.138.278/0001-01 BOLETO IPTU 2022 - NIG - n achei (2).pdf\n",
      "03.818.893/0001-75 BOLETO IPTU 2022 - NPN.pdf\n"
     ]
    },
    {
     "name": "stderr",
     "output_type": "stream",
     "text": [
      "'pages' argument isn't specified.Will extract only from page 1 by default.\n"
     ]
    },
    {
     "name": "stdout",
     "output_type": "stream",
     "text": [
      "[+] Found a total of 6 imagesin page 0\n",
      "[+] Found a total of 4 imagesin page 1\n",
      " BOLETO IPTU 2022 - PAC.pdf\n"
     ]
    },
    {
     "name": "stderr",
     "output_type": "stream",
     "text": [
      "'pages' argument isn't specified.Will extract only from page 1 by default.\n"
     ]
    },
    {
     "name": "stdout",
     "output_type": "stream",
     "text": [
      "[+] Found a total of 6 imagesin page 0\n",
      "[+] Found a total of 4 imagesin page 1\n",
      " BOLETO IPTU 2022 - PAN - 081.188.0034-2.pdf\n"
     ]
    },
    {
     "name": "stderr",
     "output_type": "stream",
     "text": [
      "'pages' argument isn't specified.Will extract only from page 1 by default.\n"
     ]
    },
    {
     "name": "stdout",
     "output_type": "stream",
     "text": [
      "[+] Found a total of 6 imagesin page 0\n",
      "[+] Found a total of 4 imagesin page 1\n",
      " BOLETO IPTU 2022 - PAN - 081.188.0035-0.pdf\n"
     ]
    },
    {
     "name": "stderr",
     "output_type": "stream",
     "text": [
      "'pages' argument isn't specified.Will extract only from page 1 by default.\n"
     ]
    },
    {
     "name": "stdout",
     "output_type": "stream",
     "text": [
      "[+] Found a total of 6 imagesin page 0\n",
      "[+] Found a total of 4 imagesin page 1\n",
      " BOLETO IPTU 2022 - PAR - 017.017.0058-1.pdf\n"
     ]
    },
    {
     "name": "stderr",
     "output_type": "stream",
     "text": [
      "'pages' argument isn't specified.Will extract only from page 1 by default.\n"
     ]
    },
    {
     "name": "stdout",
     "output_type": "stream",
     "text": [
      "[+] Found a total of 6 imagesin page 0\n",
      "[+] Found a total of 4 imagesin page 1\n",
      " BOLETO IPTU 2022 - PAR - 017.017.0954-6.pdf\n"
     ]
    },
    {
     "name": "stderr",
     "output_type": "stream",
     "text": [
      "'pages' argument isn't specified.Will extract only from page 1 by default.\n"
     ]
    },
    {
     "name": "stdout",
     "output_type": "stream",
     "text": [
      "[+] Found a total of 3 imagesin page 0\n",
      " BOLETO IPTU 2022 - PAV.pdf\n"
     ]
    },
    {
     "name": "stderr",
     "output_type": "stream",
     "text": [
      "'pages' argument isn't specified.Will extract only from page 1 by default.\n"
     ]
    },
    {
     "name": "stdout",
     "output_type": "stream",
     "text": [
      "[+] Found a total of 6 imagesin page 0\n",
      "[+] Found a total of 4 imagesin page 1\n",
      " BOLETO IPTU 2022 - PES.pdf\n"
     ]
    },
    {
     "name": "stderr",
     "output_type": "stream",
     "text": [
      "'pages' argument isn't specified.Will extract only from page 1 by default.\n"
     ]
    },
    {
     "name": "stdout",
     "output_type": "stream",
     "text": [
      "[+] Found a total of 3 imagesin page 0\n",
      " BOLETO IPTU 2022 - PFL CK.pdf\n"
     ]
    },
    {
     "name": "stderr",
     "output_type": "stream",
     "text": [
      "'pages' argument isn't specified.Will extract only from page 1 by default.\n"
     ]
    },
    {
     "name": "stdout",
     "output_type": "stream",
     "text": [
      "[+] Found a total of 6 imagesin page 0\n",
      "[+] Found a total of 4 imagesin page 1\n",
      " BOLETO IPTU 2022 - PIT.pdf\n",
      "29.138.328/0001-50 BOLETO IPTU 2022 - PKE - 1008397.pdf\n",
      "13.572.534/0001-34,29.138.328/0001-50 BOLETO IPTU 2022 - PKE - 1598249.pdf\n"
     ]
    },
    {
     "name": "stderr",
     "output_type": "stream",
     "text": [
      "'pages' argument isn't specified.Will extract only from page 1 by default.\n"
     ]
    },
    {
     "name": "stdout",
     "output_type": "stream",
     "text": [
      "[+] Found a total of 3 imagesin page 0\n",
      " BOLETO IPTU 2022 - PND.pdf\n"
     ]
    },
    {
     "name": "stderr",
     "output_type": "stream",
     "text": [
      "'pages' argument isn't specified.Will extract only from page 1 by default.\n"
     ]
    },
    {
     "name": "stdout",
     "output_type": "stream",
     "text": [
      "[+] Found a total of 6 imagesin page 0\n",
      "[+] Found a total of 4 imagesin page 1\n",
      " BOLETO IPTU 2022 - PQC.pdf\n"
     ]
    },
    {
     "name": "stderr",
     "output_type": "stream",
     "text": [
      "'pages' argument isn't specified.Will extract only from page 1 by default.\n"
     ]
    },
    {
     "name": "stdout",
     "output_type": "stream",
     "text": [
      "[+] Found a total of 3 imagesin page 0\n",
      " BOLETO IPTU 2022 - PRV.pdf\n"
     ]
    },
    {
     "name": "stderr",
     "output_type": "stream",
     "text": [
      "'pages' argument isn't specified.Will extract only from page 1 by default.\n"
     ]
    },
    {
     "name": "stdout",
     "output_type": "stream",
     "text": [
      "[+] Found a total of 3 imagesin page 0\n",
      " BOLETO IPTU 2022 - RB1 - 14264857.pdf\n"
     ]
    },
    {
     "name": "stderr",
     "output_type": "stream",
     "text": [
      "'pages' argument isn't specified.Will extract only from page 1 by default.\n"
     ]
    },
    {
     "name": "stdout",
     "output_type": "stream",
     "text": [
      "[+] Found a total of 3 imagesin page 0\n",
      " BOLETO IPTU 2022 - RB1 - 14264865.pdf\n"
     ]
    },
    {
     "name": "stderr",
     "output_type": "stream",
     "text": [
      "'pages' argument isn't specified.Will extract only from page 1 by default.\n"
     ]
    },
    {
     "name": "stdout",
     "output_type": "stream",
     "text": [
      "[+] Found a total of 3 imagesin page 0\n",
      " BOLETO IPTU 2022 - RB1 - 14264873.pdf\n"
     ]
    },
    {
     "name": "stderr",
     "output_type": "stream",
     "text": [
      "'pages' argument isn't specified.Will extract only from page 1 by default.\n"
     ]
    },
    {
     "name": "stdout",
     "output_type": "stream",
     "text": [
      "[+] Found a total of 3 imagesin page 0\n",
      " BOLETO IPTU 2022 - RB4 - 05532650.pdf\n"
     ]
    },
    {
     "name": "stderr",
     "output_type": "stream",
     "text": [
      "'pages' argument isn't specified.Will extract only from page 1 by default.\n"
     ]
    },
    {
     "name": "stdout",
     "output_type": "stream",
     "text": [
      "[+] Found a total of 3 imagesin page 0\n",
      " BOLETO IPTU 2022 - RB4 - 05532676.pdf\n"
     ]
    },
    {
     "name": "stderr",
     "output_type": "stream",
     "text": [
      "'pages' argument isn't specified.Will extract only from page 1 by default.\n"
     ]
    },
    {
     "name": "stdout",
     "output_type": "stream",
     "text": [
      "[+] Found a total of 3 imagesin page 0\n",
      " BOLETO IPTU 2022 - RB4 - 05532700.pdf\n",
      "[+] Found a total of 1 imagesin page 0\n"
     ]
    },
    {
     "name": "stderr",
     "output_type": "stream",
     "text": [
      "'pages' argument isn't specified.Will extract only from page 1 by default.\n"
     ]
    },
    {
     "name": "stdout",
     "output_type": "stream",
     "text": [
      " BOLETO IPTU 2022 - RCF - 3.29905-8.pdf\n",
      "[+] Found a total of 1 imagesin page 0\n"
     ]
    },
    {
     "name": "stderr",
     "output_type": "stream",
     "text": [
      "'pages' argument isn't specified.Will extract only from page 1 by default.\n"
     ]
    },
    {
     "name": "stdout",
     "output_type": "stream",
     "text": [
      " BOLETO IPTU 2022 - RCF - 3.29906-6.pdf\n",
      "[+] Found a total of 1 imagesin page 0\n"
     ]
    },
    {
     "name": "stderr",
     "output_type": "stream",
     "text": [
      "'pages' argument isn't specified.Will extract only from page 1 by default.\n"
     ]
    },
    {
     "name": "stdout",
     "output_type": "stream",
     "text": [
      " BOLETO IPTU 2022 - RCF - 3.29907-4.pdf\n",
      "[+] Found a total of 1 imagesin page 0\n"
     ]
    },
    {
     "name": "stderr",
     "output_type": "stream",
     "text": [
      "'pages' argument isn't specified.Will extract only from page 1 by default.\n"
     ]
    },
    {
     "name": "stdout",
     "output_type": "stream",
     "text": [
      " BOLETO IPTU 2022 - RCF - 3.29908-2.pdf\n",
      "[+] Found a total of 1 imagesin page 0\n"
     ]
    },
    {
     "name": "stderr",
     "output_type": "stream",
     "text": [
      "'pages' argument isn't specified.Will extract only from page 1 by default.\n"
     ]
    },
    {
     "name": "stdout",
     "output_type": "stream",
     "text": [
      " BOLETO IPTU 2022 - RCF - 3.29909-0.pdf\n",
      "[+] Found a total of 1 imagesin page 0\n"
     ]
    },
    {
     "name": "stderr",
     "output_type": "stream",
     "text": [
      "'pages' argument isn't specified.Will extract only from page 1 by default.\n"
     ]
    },
    {
     "name": "stdout",
     "output_type": "stream",
     "text": [
      " BOLETO IPTU 2022 - RCF - 3.29910-4.pdf\n",
      "[+] Found a total of 1 imagesin page 0\n"
     ]
    },
    {
     "name": "stderr",
     "output_type": "stream",
     "text": [
      "'pages' argument isn't specified.Will extract only from page 1 by default.\n"
     ]
    },
    {
     "name": "stdout",
     "output_type": "stream",
     "text": [
      " BOLETO IPTU 2022 - RCF - 3.42819-2.pdf\n",
      "[+] Found a total of 1 imagesin page 0\n"
     ]
    },
    {
     "name": "stderr",
     "output_type": "stream",
     "text": [
      "'pages' argument isn't specified.Will extract only from page 1 by default.\n"
     ]
    },
    {
     "name": "stdout",
     "output_type": "stream",
     "text": [
      " BOLETO IPTU 2022 - RCF CK.pdf\n"
     ]
    },
    {
     "name": "stderr",
     "output_type": "stream",
     "text": [
      "'pages' argument isn't specified.Will extract only from page 1 by default.\n"
     ]
    },
    {
     "name": "stdout",
     "output_type": "stream",
     "text": [
      "[+] Found a total of 2 imagesin page 0\n",
      " BOLETO IPTU 2022 - RES.pdf\n"
     ]
    },
    {
     "name": "stderr",
     "output_type": "stream",
     "text": [
      "'pages' argument isn't specified.Will extract only from page 1 by default.\n"
     ]
    },
    {
     "name": "stdout",
     "output_type": "stream",
     "text": [
      "[+] Found a total of 6 imagesin page 0\n",
      "[+] Found a total of 4 imagesin page 1\n",
      " BOLETO IPTU 2022 - SAM.pdf\n"
     ]
    },
    {
     "name": "stderr",
     "output_type": "stream",
     "text": [
      "'pages' argument isn't specified.Will extract only from page 1 by default.\n"
     ]
    },
    {
     "name": "stdout",
     "output_type": "stream",
     "text": [
      "[+] Found a total of 6 imagesin page 0\n",
      "[+] Found a total of 4 imagesin page 1\n",
      " BOLETO IPTU 2022 - SB2.pdf\n"
     ]
    },
    {
     "name": "stderr",
     "output_type": "stream",
     "text": [
      "'pages' argument isn't specified.Will extract only from page 1 by default.\n"
     ]
    },
    {
     "name": "stdout",
     "output_type": "stream",
     "text": [
      "[+] Found a total of 6 imagesin page 0\n",
      "[+] Found a total of 4 imagesin page 1\n",
      " BOLETO IPTU 2022 - SBT.pdf\n",
      "45.358.249/0001-01 BOLETO IPTU 2022 - SCD.pdf\n"
     ]
    },
    {
     "name": "stderr",
     "output_type": "stream",
     "text": [
      "'pages' argument isn't specified.Will extract only from page 1 by default.\n"
     ]
    },
    {
     "name": "stdout",
     "output_type": "stream",
     "text": [
      "[+] Found a total of 3 imagesin page 0\n",
      " BOLETO IPTU 2022 - SCZ.pdf\n"
     ]
    },
    {
     "name": "stderr",
     "output_type": "stream",
     "text": [
      "'pages' argument isn't specified.Will extract only from page 1 by default.\n"
     ]
    },
    {
     "name": "stdout",
     "output_type": "stream",
     "text": [
      "[+] Found a total of 3 imagesin page 0\n",
      " BOLETO IPTU 2022 - SET.pdf\n"
     ]
    },
    {
     "name": "stderr",
     "output_type": "stream",
     "text": [
      "'pages' argument isn't specified.Will extract only from page 1 by default.\n"
     ]
    },
    {
     "name": "stdout",
     "output_type": "stream",
     "text": [
      "[+] Found a total of 6 imagesin page 0\n",
      "[+] Found a total of 4 imagesin page 1\n",
      " BOLETO IPTU 2022 - SIB.pdf\n"
     ]
    },
    {
     "name": "stderr",
     "output_type": "stream",
     "text": [
      "'pages' argument isn't specified.Will extract only from page 1 by default.\n"
     ]
    },
    {
     "name": "stdout",
     "output_type": "stream",
     "text": [
      "[+] Found a total of 3 imagesin page 0\n",
      " BOLETO IPTU 2022 - SJO.pdf\n",
      "42.591.651/0674-85 BOLETO IPTU 2022 - SMA ERRO.pdf\n"
     ]
    },
    {
     "name": "stderr",
     "output_type": "stream",
     "text": [
      "'pages' argument isn't specified.Will extract only from page 1 by default.\n"
     ]
    },
    {
     "name": "stdout",
     "output_type": "stream",
     "text": [
      "[+] Found a total of 6 imagesin page 0\n",
      "[+] Found a total of 4 imagesin page 1\n",
      " BOLETO IPTU 2022 - STA.pdf\n"
     ]
    },
    {
     "name": "stderr",
     "output_type": "stream",
     "text": [
      "'pages' argument isn't specified.Will extract only from page 1 by default.\n"
     ]
    },
    {
     "name": "stdout",
     "output_type": "stream",
     "text": [
      "[+] Found a total of 3 imagesin page 0\n",
      " BOLETO IPTU 2022 - SUB.pdf\n"
     ]
    },
    {
     "name": "stderr",
     "output_type": "stream",
     "text": [
      "'pages' argument isn't specified.Will extract only from page 1 by default.\n"
     ]
    },
    {
     "name": "stdout",
     "output_type": "stream",
     "text": [
      "[+] Found a total of 3 imagesin page 0\n",
      " BOLETO IPTU 2022 - SUC - 04305090.pdf\n"
     ]
    },
    {
     "name": "stderr",
     "output_type": "stream",
     "text": [
      "'pages' argument isn't specified.Will extract only from page 1 by default.\n"
     ]
    },
    {
     "name": "stdout",
     "output_type": "stream",
     "text": [
      "[+] Found a total of 3 imagesin page 0\n",
      " BOLETO IPTU 2022 - SUC - 04305116.pdf\n"
     ]
    },
    {
     "name": "stderr",
     "output_type": "stream",
     "text": [
      "'pages' argument isn't specified.Will extract only from page 1 by default.\n"
     ]
    },
    {
     "name": "stdout",
     "output_type": "stream",
     "text": [
      "[+] Found a total of 3 imagesin page 0\n",
      " BOLETO IPTU 2022 - SUC - 04305124.pdf\n"
     ]
    },
    {
     "name": "stderr",
     "output_type": "stream",
     "text": [
      "'pages' argument isn't specified.Will extract only from page 1 by default.\n"
     ]
    },
    {
     "name": "stdout",
     "output_type": "stream",
     "text": [
      "[+] Found a total of 6 imagesin page 0\n",
      "[+] Found a total of 4 imagesin page 1\n",
      " BOLETO IPTU 2022 - TAQ.pdf\n"
     ]
    },
    {
     "name": "stderr",
     "output_type": "stream",
     "text": [
      "'pages' argument isn't specified.Will extract only from page 1 by default.\n"
     ]
    },
    {
     "name": "stdout",
     "output_type": "stream",
     "text": [
      "[+] Found a total of 4 imagesin page 0\n",
      " BOLETO IPTU 2022 - TIA - PARCELA 1 L.pdf\n"
     ]
    },
    {
     "name": "stderr",
     "output_type": "stream",
     "text": [
      "'pages' argument isn't specified.Will extract only from page 1 by default.\n"
     ]
    },
    {
     "name": "stdout",
     "output_type": "stream",
     "text": [
      "[+] Found a total of 3 imagesin page 0\n",
      " BOLETO IPTU 2022 - TIJ.pdf\n"
     ]
    },
    {
     "name": "stderr",
     "output_type": "stream",
     "text": [
      "'pages' argument isn't specified.Will extract only from page 1 by default.\n"
     ]
    },
    {
     "name": "stdout",
     "output_type": "stream",
     "text": [
      "[+] Found a total of 6 imagesin page 0\n",
      "[+] Found a total of 4 imagesin page 1\n",
      " BOLETO IPTU 2022 - TIR - 018.010.0058-1.pdf\n"
     ]
    },
    {
     "name": "stderr",
     "output_type": "stream",
     "text": [
      "'pages' argument isn't specified.Will extract only from page 1 by default.\n"
     ]
    },
    {
     "name": "stdout",
     "output_type": "stream",
     "text": [
      "[+] Found a total of 6 imagesin page 0\n",
      "[+] Found a total of 4 imagesin page 1\n",
      " BOLETO IPTU 2022 - TIR - 018.010.0069-7.pdf\n"
     ]
    },
    {
     "name": "stderr",
     "output_type": "stream",
     "text": [
      "'pages' argument isn't specified.Will extract only from page 1 by default.\n"
     ]
    },
    {
     "name": "stdout",
     "output_type": "stream",
     "text": [
      "[+] Found a total of 6 imagesin page 0\n",
      "[+] Found a total of 4 imagesin page 1\n",
      " BOLETO IPTU 2022 - UVA.pdf\n"
     ]
    },
    {
     "name": "stderr",
     "output_type": "stream",
     "text": [
      "'pages' argument isn't specified.Will extract only from page 1 by default.\n"
     ]
    },
    {
     "name": "stdout",
     "output_type": "stream",
     "text": [
      "[+] Found a total of 3 imagesin page 0\n",
      " BOLETO IPTU 2022 - VAL.pdf\n"
     ]
    },
    {
     "name": "stderr",
     "output_type": "stream",
     "text": [
      "'pages' argument isn't specified.Will extract only from page 1 by default.\n"
     ]
    },
    {
     "name": "stdout",
     "output_type": "stream",
     "text": [
      "[+] Found a total of 6 imagesin page 0\n",
      "[+] Found a total of 4 imagesin page 1\n",
      " BOLETO IPTU 2022 - VCM.pdf\n",
      "28.909.604/0001-74 BOLETO IPTU 2022 - VLA.pdf\n"
     ]
    },
    {
     "name": "stderr",
     "output_type": "stream",
     "text": [
      "'pages' argument isn't specified.Will extract only from page 1 by default.\n"
     ]
    },
    {
     "name": "stdout",
     "output_type": "stream",
     "text": [
      "[+] Found a total of 6 imagesin page 0\n",
      "[+] Found a total of 4 imagesin page 1\n",
      " BOLETO IPTU 2022 - VMA.pdf\n"
     ]
    },
    {
     "name": "stderr",
     "output_type": "stream",
     "text": [
      "'pages' argument isn't specified.Will extract only from page 1 by default.\n"
     ]
    },
    {
     "name": "stdout",
     "output_type": "stream",
     "text": [
      "[+] Found a total of 6 imagesin page 0\n",
      "[+] Found a total of 4 imagesin page 1\n",
      " BOLETO IPTU 2022 - VOL.pdf\n"
     ]
    },
    {
     "name": "stderr",
     "output_type": "stream",
     "text": [
      "'pages' argument isn't specified.Will extract only from page 1 by default.\n"
     ]
    },
    {
     "name": "stdout",
     "output_type": "stream",
     "text": [
      "[+] Found a total of 6 imagesin page 0\n",
      "[+] Found a total of 4 imagesin page 1\n",
      " BOLETO IPTU 2022 - WHI.pdf\n"
     ]
    },
    {
     "name": "stderr",
     "output_type": "stream",
     "text": [
      "'pages' argument isn't specified.Will extract only from page 1 by default.\n"
     ]
    },
    {
     "name": "stdout",
     "output_type": "stream",
     "text": [
      "[+] Found a total of 6 imagesin page 0\n",
      "[+] Found a total of 4 imagesin page 1\n",
      " BOLETO IPTU 2022 - WLZ.pdf\n"
     ]
    },
    {
     "name": "stderr",
     "output_type": "stream",
     "text": [
      "'pages' argument isn't specified.Will extract only from page 1 by default.\n"
     ]
    },
    {
     "name": "stdout",
     "output_type": "stream",
     "text": [
      "[+] Found a total of 6 imagesin page 0\n",
      "[+] Found a total of 4 imagesin page 1\n",
      " BOLETO IPTU 2022 - ZUQ - BANCO OK.pdf\n",
      "47.508.411/0001-56 Boletos - FALTA DEMONSTRATIVO.pdf\n"
     ]
    },
    {
     "name": "stderr",
     "output_type": "stream",
     "text": [
      "'pages' argument isn't specified.Will extract only from page 1 by default.\n"
     ]
    },
    {
     "name": "stdout",
     "output_type": "stream",
     "text": [
      "[+] Found a total of 1 imagesin page 0\n",
      "[+] Found a total of 1 imagesin page 1\n",
      " BOLETOS IPTU 2022 - ADR - PAGAR TODOS OS BOLETOS.pdf\n",
      "47.508.411/0001-56 Boleto_ARCOS DOURADOS COM_1446,50.pdf\n",
      "17.745.613/0001-50 BPA - B02970 - 3 BOLETOS - BANCO OK.pdf\n",
      "1,7,.,4,5,6,3,/,0,- BPE - B20030 (2).pdf\n",
      "11.096.279/0001-75 BPE - B20030.pdf\n",
      "11.096.279/0001-75 BPE - VALOR EM ABERTO 042020 21.02.pdf\n",
      "04.126.722/0001-48,23.743.547/0001-82 BPT - B70200 ENVIAR FRANQ.pdf\n",
      "23.743.547/0001-82 BPT - B70200 FRANQ ALUGUEL.pdf\n",
      "2,3,.,7,4,5,/,0,1,-,8 BRA - B00630  185,20 350,00 1345,15.pdf\n",
      "2,,,3,.,7,4,5,/,0,1,-,8 BRA - B00630 - ELETRONICO.pdf\n",
      "42.031.201/0001-04 BRD - B02330 VERIF ELETRONICO.pdf\n",
      "24.525.191/0001-34 BRD - B02330.pdf\n",
      "09.477.652/0039-69,42,591.651/0001-43 BRU - 05.02.pdf\n",
      "03.262.205/0001-33 BRU - B0262 (2).pdf\n",
      "09.477.652/0039-69 BRU - B0262.pdf\n",
      "72.192.230/0001-00 BRU - B02620.pdf\n",
      "14.551.970/0001-90 BS3 - B03480.pdf\n",
      "42.591.651/0437-05,14.551.970/0001-90 BS4 - B03770 (6).pdf\n",
      "42.591.651/0437-05,14.551.970/0001-90 BS4 - B03770.pdf\n",
      "08.711.824/0001-81 BSB - B0947 - DESMEMBRAR (2).pdf\n",
      "08.711.824/0001-81 BSB - B0947 - DESMEMBRAR.pdf\n",
      "08.711.824/0001-81 BSB - B0947 - ENVIAR FRANQ.pdf\n",
      "08.711.824/0001-81 BSB - B09470 ENVIAR FRANQ (2).pdf\n",
      "08.711.824/0001-81 BSB - B09470 ENVIAR FRANQ 2.pdf\n",
      "08.711.824/0001-81 BSB - B09470 ENVIAR FRANQ.pdf\n",
      "08.711.824/0001-81 BSB - B09470 FRANCO DESMEMBRAR.pdf\n",
      "08.711.824/0001-81 BSB - B09470 FRANQ ALUEL.pdf\n",
      "08.711.824/0001-81 BSB - B09470 FRANQ ALUGUEL (2).pdf\n",
      "08.711.824/0001-81 BSB - B09470 FRANQ ALUGUEL.pdf\n",
      "08.711.824/0001-81 BSB - B09470 FRANQ DESMEMBRAR(2).pdf\n",
      "53.330.296/0001-75 BSG - B07500 ENVIAR FRANQ.pdf\n",
      "14.551.970/0001-90 BSH - B02870.pdf\n",
      "07.130.138/0001-54 BSL.pdf\n",
      "10.193.021/0001-24 BSN - B70020 FRANQ ALUGUEL (1).pdf\n",
      "10.193.021/0001-24 BSN - B70020 FRANQ ALUGUEL.pdf\n",
      "01.627.946/0001-45 BST - B08950 FRANQ ALUGUEL.pdf\n",
      "44.192.474/0001-58,18.726.478/0001-00,78.726.478/0001-90 BTL - B08710 - ENVIAR FRANQ.pdf\n",
      "44.192.474/0001-58,78.726.478/0001-00,78.726.478/0001-90 BTL - B08710 - FRANQ - ELETRONICO.pdf\n",
      "79.792.883/0001-70 BTL - B08710 DESMEMBRAR (2).pdf\n",
      "79.792.883/0001-70 BTL - B08710 DESMEMBRAR (3).pdf\n",
      "79.792.883/0001-70 BTL - B08710 DESMEMBRAR 1.pdf\n",
      "79.792.883/0001-70 BTL - B08710 DESMEMBRAR.pdf\n",
      "02.773.542/0001-22 BTS - B7042 - BANCO OK.pdf\n",
      "02.773.542/0001-22 BTS - B7042 FRANCO ALUGUEL (2).pdf\n",
      "02.773.542/0001-22 BTS - B7042 FRANCO ALUGUEL.pdf\n",
      "01.003.352/0001-63 BUD - B06130 (2).pdf\n",
      "01.003.352/0001-63 BUD - B06130.pdf\n",
      "86.909.348/0001-11 BUT - B00390.pdf\n",
      "40.242.976/0001-95 BUZ - B03990 ENVIAR FRANQ (2) 2.pdf\n",
      "[+] Found a total of 2 imagesin page 0\n",
      "[+] Found a total of 1 imagesin page 1\n",
      "40.242.976/0001-95 BUZ - B03990 ENVIAR FRANQ (2).pdf\n",
      "40.242.976/0001-95 BUZ - B03990 ENVIAR FRANQ (3) 2.pdf\n",
      "[+] Found a total of 2 imagesin page 0\n",
      "[+] Found a total of 1 imagesin page 1\n",
      "40.242.976/0001-95 BUZ - B03990 ENVIAR FRANQ (3).pdf\n",
      "40.242.976/0001-95 BUZ - B03990 ENVIAR FRANQ (4) 2.pdf\n",
      "[+] Found a total of 2 imagesin page 0\n",
      "[+] Found a total of 1 imagesin page 1\n",
      "40.242.976/0001-95 BUZ - B03990 ENVIAR FRANQ (4).pdf\n",
      "40.242.976/0001-95 BUZ - B03990 ENVIAR FRANQ (5) 2.pdf\n",
      "[+] Found a total of 2 imagesin page 0\n",
      "[+] Found a total of 1 imagesin page 1\n",
      "42.591.661/0001-43,40.242.976/0001-95,42.691.851/0001-43 BUZ - B03990 ENVIAR FRANQ (5).pdf\n",
      "40.242.976/0001-95 BUZ - B03990 ENVIAR FRANQ 2.pdf\n",
      "[+] Found a total of 2 imagesin page 0\n",
      "[+] Found a total of 1 imagesin page 1\n",
      "40.242.976/0001-95 BUZ - B03990 ENVIAR FRANQ.pdf\n",
      "32.772.699/0001-02,42,591.651/0001-43 BVC - B09670 (2).pdf\n",
      "32.772.699/0001-02,42,591.651/0001-43 BVC - B09670.pdf\n",
      "21.465.149/0001-16 BVE - B03740 ELETRONICO.pdf\n",
      "21.465.149/0001-16 BVE - B03740 PROGRAMAR ENCARGOS (2).pdf\n"
     ]
    },
    {
     "name": "stderr",
     "output_type": "stream",
     "text": [
      "'pages' argument isn't specified.Will extract only from page 1 by default.\n"
     ]
    },
    {
     "name": "stdout",
     "output_type": "stream",
     "text": [
      "[+] Found a total of 8 imagesin page 0\n",
      " BVE – B0374 - 24.02.pdf\n",
      "00.250.440/0001-05 BVL - 21.02 4.165 ,69 banco ok.pdf\n",
      "03.262.205/0001-33 BVL - B0273 1.pdf\n",
      "79.379.491/0001-83 BVL - B0273.pdf\n",
      "15.091.769/0001-30 BVV - B04450 ENVIAR FRANQ (2).pdf\n",
      "15.091.769/0001-30 BVV - B04450 ENVIAR FRANQ.pdf\n",
      "15.091.769/0001-30 BVV - B04450 FRANQ ALUGUEL (2) - LANÇAR COMPLEMENTO.pdf\n",
      "15.091.769/0001-30 BVV - B04450 FRANQ ALUGUEL - VERIFICAR!!!.pdf\n",
      "15.091.769/0001-30 BVV - B04450 FRANQ ALUGUEL 2.pdf\n",
      "15.091.769/0001-30 BVV - B04450 FRANQ ALUGUEL SOMA N BATE.pdf\n",
      "15.091.769/0001-30 BVV - B04450 FRANQ DESMEMBRAR.pdf\n",
      "17.244,360/0001-31,17.244.360/0001-31 CAB - B0507 - PAGO EM 03.02.pdf\n",
      "61.014.965/0001-28 CAB - B05070 - 56.613,62 BANCO OK.pdf\n",
      "17.244,360/0001-31,17.244.360/0001-31 CAB - B05070 - PAGO 03.02.pdf\n",
      "17.244.360/0001-31,17.244,360/0001-31 CAB - B05070.pdf\n",
      "28.597.077/0001-00,42.591.651/0797-34 CAP - B03540 - ELETRONICO.pdf\n",
      "30.895.765/0001-06,42,591.651/0001-43 CAR - B40260.pdf\n",
      " CAX - B05220 ENVIAR FRANQ.pdf\n",
      " CAX - B05220 FRANQ ALUGUEL (3).pdf\n",
      " CAX - B05220 FRANQ ALUGUEL.pdf\n",
      " CAX - B05220 FRANQ DESMEMBRAR.pdf\n",
      " CB2 - B05750 DESMEMBRAR (2).pdf\n",
      " CB2 - B05750 FRANQ DESMEMBRAR.pdf\n",
      "79.792.883/0001-70 CBD - 16.02.pdf\n",
      "38.723.904/0001-18 CDE - B03510 (2).pdf\n",
      "38.723.904/0001-18 CDE - B03510 (3).pdf\n",
      "38.723.904/0001-18 CDE - B03510.pdf\n",
      "03.470.450/0001-36 CDU - B41260.pdf\n",
      "33.130.543/0001-82,18.954.481/0001-30 CEL - B0345.pdf\n",
      "02.768.258/0001-68 CEL - B03450 (2).pdf\n",
      "02.768.258/0001-68 CEL - B03450.pdf\n",
      "53.820.585/0001-52 CEP - B01960 ENVIAR FRANQ (3).pdf\n",
      "53.820.585/0001-52 CEP - B01960 ENVIAR FRANQ.pdf\n",
      "48,142.335/0001-70 CEP - B01960 FRANQ ALUGUEL.pdf\n",
      "07.859.510/0003-20 CFO - B20690 FRANQ ALUGUEL - VERIFICAR NO ORACLE O PGTO.pdf\n",
      " CFR - B05420 -  (1).pdf\n",
      "45.543.915/0001-81 CFR - B05420 -  (2).pdf\n",
      "[+] Found a total of 1 imagesin page 0\n"
     ]
    },
    {
     "name": "stderr",
     "output_type": "stream",
     "text": [
      "'pages' argument isn't specified.Will extract only from page 1 by default.\n"
     ]
    },
    {
     "name": "stdout",
     "output_type": "stream",
     "text": [
      " CFR - B05420 - 2 (1).pdf\n",
      " CFR - B05420 - 2 (2).pdf\n",
      "45.543.915/0001-81 CGG - B00920 -  (1).pdf\n",
      "[+] Found a total of 1 imagesin page 0\n"
     ]
    },
    {
     "name": "stderr",
     "output_type": "stream",
     "text": [
      "'pages' argument isn't specified.Will extract only from page 1 by default.\n"
     ]
    },
    {
     "name": "stdout",
     "output_type": "stream",
     "text": [
      " CGG - B00920 -  (2).pdf\n",
      " CGG - B00920 - DESMEMBRAR (1).pdf\n",
      "45.543.915/0001-81 CGG - B00920 - DESMEMBRAR (2).pdf\n",
      "35.794.505/0001-50 CGS - B06670 (2).pdf\n",
      "35.794.505/0001-50 CGS - B06670.pdf\n",
      "[+] Found a total of 1 imagesin page 0\n"
     ]
    },
    {
     "name": "stderr",
     "output_type": "stream",
     "text": [
      "'pages' argument isn't specified.Will extract only from page 1 by default.\n"
     ]
    },
    {
     "name": "stdout",
     "output_type": "stream",
     "text": [
      " CIT - B1161 - ELETRONICO.pdf\n",
      "[+] Found a total of 1 imagesin page 0\n"
     ]
    },
    {
     "name": "stderr",
     "output_type": "stream",
     "text": [
      "'pages' argument isn't specified.Will extract only from page 1 by default.\n"
     ]
    },
    {
     "name": "stdout",
     "output_type": "stream",
     "text": [
      " CIT B1161 - AAH B0247 - AFD B0106 - SAP B0129.pdf\n",
      "42.109.941/0001-08 CMA - B09290 ENVIAR FRANQ.pdf\n",
      "42.109.941/0001-08 CMA - B09290 FRANQ ALUGUEL.pdf\n",
      "08.788.323/0001-01 CMV - B41020.pdf\n",
      "14.551.970/0001-90 CNA - B9113 - 05.02.pdf\n",
      "14.551.970/0001-90 CNA - B9113 FRANQ DESMEMBRAR BANCO OK.pdf\n",
      "14.551.970/0001-90 CNA - B91130 FRANQ ALUGUEL.pdf\n",
      "14.551.970/0001-90 CNA - B91130 FRANQ PAG V2.pdf\n",
      "00.719.559/0001-76 CNB - B05130 (2) - BOLETO PAGO 17.01.pdf\n",
      "00.719.559/0001-76 CNB - B05130 (2).pdf\n",
      "11.366.392/0001-23 CNB - B05130 - BOLETO PAGO 17.01.pdf\n",
      "11.366.392/0001-23 CNB - B05130 - LANÇAR 612,97.pdf\n",
      "00.719.559/0001-76 CNB - B05130.pdf\n",
      "53.817.748/0001-48,42.591.651/0938-00 CNL - B0311.pdf\n",
      "04.279.183/0001-87 CNL - B03110 (3) LANÇAR 569,99.pdf\n",
      "04.279.183/0001-87 CNL - B03110.pdf\n",
      "17.035.371/0001-01 CNO - B70030 FRANQ ALUGUEL.pdf\n",
      "09.457.452/0001-71 CNS - B0900.pdf\n",
      "09.457.452/0001-71 CNS - B09000 BANCO OK].pdf\n",
      "09.457.452/0001-71 CNS - B09000 ENVIAR FRANQ.pdf\n",
      "09.457.452/0001-71 CNS - B09000 ENVIAR FRANQUEADOS.pdf\n",
      "09.457.452/0001-71 CNS - B09000 FRANQ (PAGAMOS V2).pdf\n",
      "02.470.887/0001-07 CNS - B09000 FRANQ ALUGUEL.pdf\n",
      "17.959.398/0001-90 CNT - B2002 ENVIAR FRANQ.pdf\n",
      "17.959.398/0001-90 CNT - B2002 FRANQ ALUGUEL L.pdf\n",
      "45.543.915/0001-81 COL - B07250 - DESMMEBRAR (1).pdf\n",
      " COL - B07250 - DESMMEBRAR (2).pdf\n",
      "11.264.088/0001-75 CON - B00360 ELETRONICO FRANQ ALUGUEL.pdf\n",
      "47.187.794/0001-08 CON - B00360 ENVIAR FRANQ (VERIF ELETRONICO).pdf\n",
      "47.187.794/0001-08 CON - B00360 ENVIAR FRANQ 2.pdf\n",
      "47.187.794/0001-08 CON - B00360 ENVIAR FRANQ.pdf\n",
      "11.264.088/0001-75 CON - B00360 FRANQ ALUGUEL (VERIF ELETRONICO).pdf\n",
      "11.264.088/0001-75 CON - B00360 FRANQ ALUGUEL.pdf\n",
      " CONSUMO SHOPPING JANEIRO 2022A.pdf\n",
      "[+] Found a total of 1 imagesin page 0\n"
     ]
    },
    {
     "name": "stderr",
     "output_type": "stream",
     "text": [
      "'pages' argument isn't specified.Will extract only from page 1 by default.\n"
     ]
    },
    {
     "name": "stdout",
     "output_type": "stream",
     "text": [
      " COS - B01100 -  (1).pdf\n",
      " COS - B01100 -  (2).pdf\n",
      "45.543.915/0001-81 COS - B01100 -  (3).pdf\n",
      "45.543.915/0001-81 COS - B01100 -  (4).pdf\n",
      "21.764.677/0001-76 COT - B02710 (2).pdf\n",
      "2,1,.,7,6,4,/,0,- COT - B02710.pdf\n",
      "68.608.389/0001-96,08.029.844/0001-77 CP2 - VALOR BANCO 16.322,84 BANCO OK.pdf\n",
      " CPG - B05430 - LANÇADO 823.pdf\n",
      " CPG - B05430.pdf\n",
      "03.421.538/0001-68 CPL - B01050.pdf\n",
      "03.618.549/0001-32 CPL 21-02 (2).pdf\n",
      "03.618.549/0001-32 CPL 21-02.pdf\n",
      "31.992.415/0001-12 CRA - B0373 - BANCO OK.pdf\n",
      "10.744.882/0001-53,18.954.481/0001-30 CRA - B03730 DESMEMBRAR (2).pdf\n",
      "18.571.385/0001-02,18.954.481/0001-30 CRA - B03730 DESMEMBRAR.pdf\n",
      "18.571.385/0001-02,18.954.481/0001-30 CRA - B03730 ENVIAR FRANQ.pdf\n",
      "18.571.385/0001-02,18.954.481/0001-30 CRA - B03730 FRANQ ALUGUEL - LANÇAR 0,01.pdf\n",
      "18.571.385/0001-02,18.954.481/0001-30 CRA - B03730 FRANQ ALUGUEL.pdf\n",
      "13.222.616/0001-59 CRD - B10190 - VERICAR LANÇAMENTOS.pdf\n",
      "13.222.616/0001-59 CRD - B10190.pdf\n",
      "30.890.346/0001-73 CRR - B2083 - 15.02.2022 - COND.pdf\n",
      "30.890.346/0001-73 CRR - B2083 - 15.02.2022 - FPP.pdf\n",
      "30.890.346/0001-73 CRR - B20830 ENVIAR FRANQ (2).pdf\n",
      "30.890.346/0001-73 CRR - B20830 ENVIAR FRANQ 3.pdf\n",
      "30.890.346/0001-73 CRR - B20830 ENVIAR FRANQ 4.pdf\n",
      "30.890.346/0001-73 CRR - B20830 ENVIAR FRANQ.pdf\n",
      "30.890.346/0001-73 CRR - B20830 FRANQ ALUGUEL.pdf\n"
     ]
    },
    {
     "name": "stderr",
     "output_type": "stream",
     "text": [
      "'pages' argument isn't specified.Will extract only from page 1 by default.\n"
     ]
    },
    {
     "name": "stdout",
     "output_type": "stream",
     "text": [
      "[+] Found a total of 3 imagesin page 0\n",
      " CRT - B05020 ELETRONICO.pdf\n",
      "45.543.915/0001-81 CSA - B01480 -  (1).pdf\n",
      "45.543.915/0001-81 CSA - B01480 -  (2).pdf\n",
      "45.543.915/0001-81 CSA - B01480 - 2 (1).pdf\n",
      " CSA - B01480 - 2 (2).pdf\n",
      " CSB - B00730 -  (1).pdf\n",
      "45.543.915/0001-81 CSB - B00730 -  (2).pdf\n",
      "45.543.915/0001-81 CSB - B00730 -  (3).pdf\n",
      " CSB - B00730 -  (4).pdf\n",
      " CSC - B01690  JÁ TEM BOLETO COM ENCARGOS.pdf\n",
      " CSC - B01690 (2) FAVOR PINTAR.pdf\n",
      " CSC - B01690 (2).pdf\n",
      " CSC - B01690 (3).pdf\n",
      " CSC - B01690 (4).pdf\n",
      " CSC - B01690 (5).pdf\n",
      " CSC - B01690 - LANÇAR.pdf\n",
      " CSC - B01690 3 JÁ TEM BOLETO COM ALUGUEL.pdf\n",
      " CSC - B01690 JÁ TEM BOLETO COM ENCARGOS.pdf\n",
      " CSC - B01690 JÁ TEM BOLETO COM O ALUGUEL.pdf\n",
      " CSC - B01690.pdf\n",
      "45.543.915/0001-81 CSO - B07490 -  (1).pdf\n",
      "45.543.915/0001-81 CSO - B07490 -  (2).pdf\n",
      "50.333.699/0001-80 CSO - B07490 ENVIAR FRANQ (2).pdf\n",
      "50.333.699/0001-80 CSO - B07490 ENVIAR FRANQ (3).pdf\n",
      "14.444.950/0001-10,14.444,950/0001-10 CSO - B07490 ENVIAR FRANQ.pdf\n",
      "50.333.699/0001-80 CSO - B07490 FRANCO ALUGUEL (2).pdf\n",
      "50.948.371/0013-01 CSO - B07490 FRANQ - ENERGIA.pdf\n",
      "05.093.715/0001-50 CSO - B07490.pdf\n",
      " CSQ - B05110 (2).pdf\n",
      " CSQ - B05110.pdf\n"
     ]
    },
    {
     "name": "stderr",
     "output_type": "stream",
     "text": [
      "'pages' argument isn't specified.Will extract only from page 1 by default.\n"
     ]
    },
    {
     "name": "stdout",
     "output_type": "stream",
     "text": [
      "[+] Found a total of 5 imagesin page 0\n",
      " CSS - B70280 - FRANQ - PAGAR V2 - LANÇAR ESTORNO.pdf\n"
     ]
    },
    {
     "name": "stderr",
     "output_type": "stream",
     "text": [
      "'pages' argument isn't specified.Will extract only from page 1 by default.\n"
     ]
    },
    {
     "name": "stdout",
     "output_type": "stream",
     "text": [
      "[+] Found a total of 5 imagesin page 0\n",
      " CSS - B70280 2.pdf\n"
     ]
    },
    {
     "name": "stderr",
     "output_type": "stream",
     "text": [
      "'pages' argument isn't specified.Will extract only from page 1 by default.\n"
     ]
    },
    {
     "name": "stdout",
     "output_type": "stream",
     "text": [
      "[+] Found a total of 5 imagesin page 0\n",
      " CSS - B70280 FRANQ PAG V2.pdf\n"
     ]
    },
    {
     "name": "stderr",
     "output_type": "stream",
     "text": [
      "'pages' argument isn't specified.Will extract only from page 1 by default.\n"
     ]
    },
    {
     "name": "stdout",
     "output_type": "stream",
     "text": [
      "[+] Found a total of 5 imagesin page 0\n",
      " CSS - B70280.pdf\n",
      "18.242.072/0001-00 CTA - B0790 - Contrato 2096.pdf\n",
      "1,8,.,2,4,0,7,/,- CTA - B0790 - ERRO BANCO.pdf\n",
      "1,,,8,.,2,4,0,7,/,- CTA - B0790 - PAGAR.pdf\n",
      "18.242.072/0001-00 CTA - B0790.pdf\n",
      "12.429.281/0001-81 CTG - B08310 ENVIAR FRANQ.pdf\n",
      "03.412.055/0001-05 CTG - B08310 FRANQ ALUGUEL - ELETRONICO.pdf\n",
      "08.652.138/0001-87 CTR - B20850 ENVIAR FRANQ.pdf\n",
      "08.652.138/0001-87 CTR - B20850 FRANQ 2.pdf\n",
      "08.652.138/0001-87 CTR - B20850 FRANQ.pdf\n",
      "47.508.411/0001-56 CUB - B1045.pdf\n",
      "45.401.007/0001-53 CVK - 15.02 - BANCO OK.pdf\n",
      "45.401.007/0001-53 CVK - B07290 - VERIF LANÇAMENTO.pdf\n",
      "45.401.007/0001-53 CVK - B07290 ENVIAR FRANQ.pdf\n",
      "45.401.007/0001-53 CVK - B07290 FRANQ ALUGUEL - DESMEMBRAR.pdf\n",
      "45.401.007/0001-53 CVK - B07290 FRANQ ALUGUEL.pdf\n",
      "67.630.558/0001-27,67.630.558/0001-21 D1D - B00580 VERIF ELETRONICO.pdf\n",
      "09.596.169/0001-20 D1D - B00580.pdf\n",
      "10.431.564/0001-32 DAC - B0925.pdf\n",
      "10.431.564/0001-32 DAC - B09250 FRANQ ALUGUEL - VERIF LANÇAMENTOS.pdf\n",
      "10.431.564/0001-32 DAC - B09250 FRANQ ALUGUEL FALTAM 0,90.pdf\n",
      "10.984.317/0001-63 DAC - B09250 VERIF ELETRONICO.pdf\n",
      "17.191.798/0001-07 DAS - B20550 - 239 ,72 BANCO OK.pdf\n",
      "57.546.715/0007-57 DAS - B20550 - BOLETO SEM DESCRIÇÃO DE PGTO.pdf\n",
      "34.780.489/0001-83 DAS - B20550 - NAO ENCONTREI.pdf\n",
      "11.948.736/0001-02 DBI - B20870.pdf\n",
      "31.546.666/0001-73 DBR - B03530.pdf\n",
      " DCA - B06370 - VERIF LANÇAMENTOS.pdf\n",
      "93.209.765/0001-17 DGR - B06360.pdf\n",
      "14.551.970/0001-90 DIA - B03240 (2).pdf\n",
      "14.551.970/0001-90 DIA - B03240 (3).pdf\n",
      "14.551.970/0001-90 DIA - B03240.pdf\n",
      " DOW - B03570 (1 - NAO TEM LINHA DE LANÇAMENTO.pdf\n",
      " DOW - B03570 - VERIF LANÇAMENTOS.pdf\n",
      "02.686.197/0001-90 DOW - B03570 FALTA 3925,76.pdf\n",
      "11.948.736/0001-02 DPI - B02580   2.pdf\n",
      "32.829.299/0001-88 DPI - B02580 - 3446,23.pdf\n",
      "03.582.819/0001-00 DPI - B02580 - processar.pdf\n",
      "03.582.819/0001-00 DPI - B02580.pdf\n",
      "09.281.025/0001-85 DPM - B07530 FRANQ (2).pdf\n",
      "09.281.025/0001-85 DPM - B07530 FRANQ.pdf\n",
      "00.387.387/0001-80 DPT -17.02.pdf\n",
      " DRE - B03010 (2) 1.pdf\n",
      " DRE - B03010 (2) ERRO BANCO.pdf\n",
      " DRE - B03010 (2).pdf\n",
      " DRE - B03010 (4).pdf\n",
      " DRE - B03010 - ERRO BANCO.pdf\n",
      " DRE - B03010.pdf\n",
      "27.289.483/0001-42 DRG - B20110 (2).pdf\n",
      "92.213.552/0001-04 DRG - B20110 2.pdf\n",
      "27.289.483/0001-42 DRG - B20110.pdf\n",
      "07.889.007/0001-55 DSE - B20700.pdf\n",
      "28.474.019/0001-99 DTM - B91120 FRANQ ALUGUEL.pdf\n",
      "28.474.019/0001-99 DTM - B91120 FRANQ DESMEMBRAR.pdf\n",
      " DTP - B91150 -  (1).pdf\n",
      "45.543.915/0001-81 DTP - B91150 -  (2).pdf\n",
      "10.456.799/0001-89 DTP - B91150 VERIF ELETRONICO.pdf\n",
      " DUN - B01270 ENVIAR FRANQ - .pdf\n",
      " DUN - B01270 ENVIAR FRANQ.pdf\n",
      " DUN - B01270 FRANQ (ENVIAR FRANQ).pdf\n",
      " DUN - B01270 FRANQ DESMEMBRAR.pdf\n",
      "11.948.736/0001-02 DVH - B02720   2.pdf\n",
      "32.829.299/0001-88 DVH - B02720  - 3446,23 VERIF LANÇAMENTOS.pdf\n"
     ]
    },
    {
     "name": "stderr",
     "output_type": "stream",
     "text": [
      "'pages' argument isn't specified.Will extract only from page 1 by default.\n"
     ]
    },
    {
     "name": "stdout",
     "output_type": "stream",
     "text": [
      "[+] Found a total of 1 imagesin page 0\n",
      "[+] Found a total of 3 imagesin page 1\n",
      "[+] Found a total of 5 imagesin page 2\n",
      "[+] Found a total of 5 imagesin page 3\n",
      "[!] No image found on page 4\n",
      " e-mail lote formatado.pdf\n"
     ]
    },
    {
     "name": "stderr",
     "output_type": "stream",
     "text": [
      "'pages' argument isn't specified.Will extract only from page 1 by default.\n"
     ]
    },
    {
     "name": "stdout",
     "output_type": "stream",
     "text": [
      "[+] Found a total of 2 imagesin page 0\n",
      "[+] Found a total of 2 imagesin page 1\n",
      "[+] Found a total of 6 imagesin page 2\n",
      "[!] No image found on page 3\n",
      " E-MAIL LOTE FORMATADP.pdf\n",
      " EB2 - B04360.pdf\n",
      " EB2 - B41280.pdf\n",
      " EBA - B4056 - 05.02.pdf\n",
      " EBA - B4056.pdf\n",
      " EBA - B40560 (2).pdf\n",
      " EBA - B40560 - ERRO BANCO.pdf\n",
      " EBA - B40560 - ja baixado.pdf\n",
      " EBA - B40560.pdf\n",
      " EBH - B04360 (2).pdf\n",
      " EBH - B04360 - LANÇAR -0,01.pdf\n",
      " EBH - B04360 JÁ TEM BOLETO COM ALUGUEL.pdf\n",
      " EBH - B04360 JÁ TEM BOLETO COM ENCARGOS.pdf\n",
      " EBH - B04360.pdf\n",
      "00.589.428/0001-11 EBH B0436 - PROGRAMAR ELETRONICO.pdf\n",
      "43.432.285/0001-42 EMA - B07090 FRANQ ALUGUEL (2) VERIF ELETRONICO.pdf\n",
      "23.791.699/0001-50 EMA - B07090 FRANQ ALUGUEL.pdf\n"
     ]
    },
    {
     "name": "stderr",
     "output_type": "stream",
     "text": [
      "'pages' argument isn't specified.Will extract only from page 1 by default.\n"
     ]
    },
    {
     "name": "stdout",
     "output_type": "stream",
     "text": [
      "[+] Found a total of 2 imagesin page 0\n",
      "[+] Found a total of 2 imagesin page 1\n",
      "[+] Found a total of 3 imagesin page 2\n",
      "[!] No image found on page 3\n",
      " EMAIL LOTE FORMATADO.pdf\n",
      " ETA - B00540 -  (1).pdf\n",
      "[+] Found a total of 1 imagesin page 0\n"
     ]
    },
    {
     "name": "stderr",
     "output_type": "stream",
     "text": [
      "'pages' argument isn't specified.Will extract only from page 1 by default.\n"
     ]
    },
    {
     "name": "stdout",
     "output_type": "stream",
     "text": [
      " ETA - B00540 -  (2).pdf\n",
      " ETA - B00540 - 2 (1).pdf\n",
      "45.543.915/0001-81 ETA - B00540 - 2 (2).pdf\n",
      "4,5,.,3,9,1,/,0,-,8 FAL - B05490  -ELETRONICO.pdf\n",
      "63.560.114/0001-06 FAL - B05490 (2) - TIRAR DA SOMA - ELETRONICO.pdf\n",
      "[+] Found a total of 5 imagesin page 0\n",
      "[+] Found a total of 5 imagesin page 1\n"
     ]
    },
    {
     "name": "stderr",
     "output_type": "stream",
     "text": [
      "'pages' argument isn't specified.Will extract only from page 1 by default.\n",
      "Got stderr: abr 04, 2022 5:13:00 PM org.apache.pdfbox.pdmodel.font.PDTrueTypeFont <init>\n",
      "ADVERTÊNCIA: Could not read embedded TTF for font DejaVuSansMono-Bold\n",
      "java.io.IOException: LangSysRecords not alphabetically sorted by LangSys tag: \u0000\u0000ÿÿ <= SRB \n",
      "\tat org.apache.fontbox.ttf.GlyphSubstitutionTable.readScriptTable(GlyphSubstitutionTable.java:125)\n",
      "\tat org.apache.fontbox.ttf.GlyphSubstitutionTable.readScriptList(GlyphSubstitutionTable.java:98)\n",
      "\tat org.apache.fontbox.ttf.GlyphSubstitutionTable.read(GlyphSubstitutionTable.java:78)\n",
      "\tat org.apache.fontbox.ttf.TrueTypeFont.readTable(TrueTypeFont.java:361)\n",
      "\tat org.apache.fontbox.ttf.TTFParser.parseTables(TTFParser.java:173)\n",
      "\tat org.apache.fontbox.ttf.TTFParser.parse(TTFParser.java:150)\n",
      "\tat org.apache.fontbox.ttf.TTFParser.parse(TTFParser.java:106)\n",
      "\tat org.apache.pdfbox.pdmodel.font.PDTrueTypeFont.<init>(PDTrueTypeFont.java:199)\n",
      "\tat org.apache.pdfbox.pdmodel.font.PDFontFactory.createFont(PDFontFactory.java:89)\n",
      "\tat org.apache.pdfbox.pdmodel.PDResources.getFont(PDResources.java:146)\n",
      "\tat org.apache.pdfbox.contentstream.operator.text.SetFontAndSize.process(SetFontAndSize.java:66)\n",
      "\tat org.apache.pdfbox.contentstream.PDFStreamEngine.processOperator(PDFStreamEngine.java:933)\n",
      "\tat org.apache.pdfbox.contentstream.PDFStreamEngine.processStreamOperators(PDFStreamEngine.java:514)\n",
      "\tat org.apache.pdfbox.contentstream.PDFStreamEngine.processStream(PDFStreamEngine.java:492)\n",
      "\tat org.apache.pdfbox.contentstream.PDFStreamEngine.processPage(PDFStreamEngine.java:155)\n",
      "\tat technology.tabula.ObjectExtractor.extractPage(ObjectExtractor.java:24)\n",
      "\tat technology.tabula.PageIterator.next(PageIterator.java:30)\n",
      "\tat technology.tabula.CommandLineApp.extractFile(CommandLineApp.java:161)\n",
      "\tat technology.tabula.CommandLineApp.extractFileTables(CommandLineApp.java:124)\n",
      "\tat technology.tabula.CommandLineApp.extractTables(CommandLineApp.java:106)\n",
      "\tat technology.tabula.CommandLineApp.main(CommandLineApp.java:76)\n",
      "\n",
      "abr 04, 2022 5:13:00 PM org.apache.pdfbox.pdmodel.font.PDTrueTypeFont <init>\n",
      "ADVERTÊNCIA: Using fallback font 'CourierNewPS-BoldMT' for 'DejaVuSansMono-Bold'\n",
      "abr 04, 2022 5:13:02 PM org.apache.pdfbox.pdmodel.font.PDTrueTypeFont <init>\n",
      "ADVERTÊNCIA: Could not read embedded TTF for font DejaVuSansMono-Bold\n",
      "java.io.IOException: LangSysRecords not alphabetically sorted by LangSys tag: \u0000\u0000ÿÿ <= SRB \n",
      "\tat org.apache.fontbox.ttf.GlyphSubstitutionTable.readScriptTable(GlyphSubstitutionTable.java:125)\n",
      "\tat org.apache.fontbox.ttf.GlyphSubstitutionTable.readScriptList(GlyphSubstitutionTable.java:98)\n",
      "\tat org.apache.fontbox.ttf.GlyphSubstitutionTable.read(GlyphSubstitutionTable.java:78)\n",
      "\tat org.apache.fontbox.ttf.TrueTypeFont.readTable(TrueTypeFont.java:361)\n",
      "\tat org.apache.fontbox.ttf.TTFParser.parseTables(TTFParser.java:173)\n",
      "\tat org.apache.fontbox.ttf.TTFParser.parse(TTFParser.java:150)\n",
      "\tat org.apache.fontbox.ttf.TTFParser.parse(TTFParser.java:106)\n",
      "\tat org.apache.pdfbox.pdmodel.font.PDTrueTypeFont.<init>(PDTrueTypeFont.java:199)\n",
      "\tat org.apache.pdfbox.pdmodel.font.PDFontFactory.createFont(PDFontFactory.java:89)\n",
      "\tat org.apache.pdfbox.pdmodel.PDResources.getFont(PDResources.java:146)\n",
      "\tat org.apache.pdfbox.contentstream.operator.text.SetFontAndSize.process(SetFontAndSize.java:66)\n",
      "\tat org.apache.pdfbox.contentstream.PDFStreamEngine.processOperator(PDFStreamEngine.java:933)\n",
      "\tat org.apache.pdfbox.contentstream.PDFStreamEngine.processStreamOperators(PDFStreamEngine.java:514)\n",
      "\tat org.apache.pdfbox.contentstream.PDFStreamEngine.processStream(PDFStreamEngine.java:492)\n",
      "\tat org.apache.pdfbox.contentstream.PDFStreamEngine.processPage(PDFStreamEngine.java:155)\n",
      "\tat org.apache.pdfbox.rendering.PageDrawer.drawPage(PageDrawer.java:277)\n",
      "\tat org.apache.pdfbox.rendering.PDFRenderer.renderImage(PDFRenderer.java:347)\n",
      "\tat org.apache.pdfbox.rendering.PDFRenderer.renderImage(PDFRenderer.java:268)\n",
      "\tat org.apache.pdfbox.rendering.PDFRenderer.renderImageWithDPI(PDFRenderer.java:254)\n",
      "\tat technology.tabula.Utils.pageConvertToImage(Utils.java:285)\n",
      "\tat technology.tabula.detectors.NurminenDetectionAlgorithm.detect(NurminenDetectionAlgorithm.java:113)\n",
      "\tat technology.tabula.CommandLineApp$TableExtractor.extractTablesBasic(CommandLineApp.java:421)\n",
      "\tat technology.tabula.CommandLineApp$TableExtractor.extractTables(CommandLineApp.java:408)\n",
      "\tat technology.tabula.CommandLineApp.extractFile(CommandLineApp.java:180)\n",
      "\tat technology.tabula.CommandLineApp.extractFileTables(CommandLineApp.java:124)\n",
      "\tat technology.tabula.CommandLineApp.extractTables(CommandLineApp.java:106)\n",
      "\tat technology.tabula.CommandLineApp.main(CommandLineApp.java:76)\n",
      "\n",
      "abr 04, 2022 5:13:02 PM org.apache.pdfbox.pdmodel.font.PDTrueTypeFont <init>\n",
      "ADVERTÊNCIA: Using fallback font 'CourierNewPS-BoldMT' for 'DejaVuSansMono-Bold'\n",
      "\n"
     ]
    },
    {
     "name": "stdout",
     "output_type": "stream",
     "text": [
      " FAL - B05490.pdf\n",
      "31.151.245/0001-43 FCR - B11140 (2).pdf\n",
      "34.780.489/0001-83 FCR - B11140 - BANCO OK.pdf\n",
      "38.355.858/0001-41 FCR - B11140 2.pdf\n",
      "31.151.245/0001-43 FCR - B11140.pdf\n",
      "3,1,.,5,2,4,/,0,- FDP - B05990 FRANQ ALUGUEL.pdf\n",
      "05.462.055/0001-37 FEL 25.02 (2).pdf\n",
      " FES - B05340 (2).pdf\n",
      " FES - B05340 (3).pdf\n",
      " FES - B05340 (4).pdf\n",
      " FES - B05340 (5).pdf\n",
      " FES - B05340.pdf\n",
      "19.248.604/0001-80,42,591.651/0001-43 FGB - B40210 (2).pdf\n",
      "19.248.604/0001-80,42,591.651/0001-43 FGB - B40210 LANÇAR  301,60.pdf\n",
      "19.248.604/0001-80 FGB - B40210.pdf\n",
      " FGV - B40050 - BANCO OK FALTA 0,01.pdf\n",
      "06.601.496/0001-35,29.738.226/0001-76 FIG  - B08820.pdf\n",
      "0,6,.,1,4,9,/,-,3,5,,,2,7,8 Filial(1)_Contrato(1150)_Loja(150)_NumBoleto(5).pdf\n",
      "0,,,6,.,1,4,9,/,-,3,5,2,7,8 FLP - B03520 - SOLICITAR NOVO BOLETO.pdf\n",
      "17.792.484/0001-51 FNS - B05500 (2).pdf\n",
      "17.792.484/0001-51 FNS - B05500.pdf\n",
      "18.701.109/0001-11 FOP - B91140   2.pdf\n",
      "21.764.677/0001-76 FOP - B91140 - ENERGIA.pdf\n",
      "21.764.677/0001-76 FOP - B91140.pdf\n",
      "11.948.736/0001-02 FOZ - B05300   2.pdf\n",
      "21.764.677/0001-76 FOZ - B05300.pdf\n",
      "08.430.570/0001-23 FRA - B05280 (2).pdf\n",
      "08.430.570/0001-23 FRA - B05280 - LANÇADO 12,85 INCORRETAMENTE.pdf\n",
      "68.323.609/0001-35 FRA - B05280 SOMA N BATE.pdf\n",
      "68.323.609/0001-35 FRA - B05280.pdf\n",
      "13.004.510/0001-89 FRB - B08830 FRANQ PAG V2.pdf\n",
      "13.004.510/0001-89 FRB - B08830 FRANQ PAGAR V2 - BANCO OK.pdf\n",
      "35.705.597/0001-54,07.340.995/0001-89 FRB -21.02.pdf\n",
      "02.773.542/0001-22 FRM - B1103.pdf\n",
      "30.240.444/0001-65 FRW - B03040 VERIF ELETRONICO.pdf\n",
      "20.656.193/0001-40 FSM l Mc Donald's- 24.02.2022.pdf\n",
      "22.790.286/0001-99 FST - B03870 2.pdf\n",
      "08.090.481/0001-85,08,090.481/0001-85 FST - B03870.pdf\n",
      "01.086.379/0001-67 FTA - B0711 PARCELA IPTU-2020.pdf\n",
      "19.807.185/0001-79 FVS - B06300 FRANQ (PAGAR V2) VERIF LANÇAMENTOS.pdf\n",
      "19.807.185/0001-79 FVS - B06300.pdf\n",
      "04.321.130/0001-87,18.954.481/0001-30 GBA - B4122.pdf\n",
      "18.056.435/0001-13 GCR - B40140 ENVIAR FRANQ (2).pdf\n",
      "18.056.435/0001-13 GCR - B40140 ENVIAR FRANQ (3).pdf\n",
      "18.056.435/0001-13 GCR - B40140 ENVIAR FRANQ.pdf\n",
      "49.051.667/0001-02,42.591.651/2111-95 GD2 - B1093 .pdf\n",
      "31.698.759/0001-13 GDR - B08100 (2) FRANQ.pdf\n",
      "31.698.759/0001-13 GDR - B08100 FRANQ (2).pdf\n",
      "31.698.759/0001-13 GDR - B08100 FRANQ.pdf\n",
      "41.757.301/0001-41 GDU - B10750 -.pdf\n",
      "41.757.301/0001-41 GDU - B10750.pdf\n",
      "45.543.915/0001-81 GED - B07590 - DESMEMBRAR (1).pdf\n",
      " GED - B07590 - DESMEMBRAR (2).pdf\n",
      "02.103.836/0001-47 GFS - B40590 (2).pdf\n",
      "02.103.836/0001-47 GFS - B40590 (3).pdf\n",
      "02.103.836/0001-47 GFS - B40590 (4).pdf\n",
      "02.103.836/0001-47 GFS - B40590 (5).pdf\n",
      "02.103.836/0001-47 GFS - B40590.pdf\n",
      "15.578.569/0001-06 GI2 - 23.02 (10).pdf\n",
      "15.578.569/0001-06 GI2 - 23.02 (11).pdf\n",
      "15.578.569/0001-06 GI2 - 23.02 (12).pdf\n",
      "15.578.569/0001-06 GI2 - 23.02 (2).pdf\n",
      "15.578.569/0001-06 GI2 - 23.02 (3).pdf\n",
      "15.578.569/0001-06 GI2 - 23.02 (6).pdf\n",
      "15.578.569/0001-06 GI2 - 23.02 (7).pdf\n",
      "15.578.569/0001-06 GI2 - 23.02 (8).pdf\n",
      "15.578.569/0001-06 GI2 - 23.02 (9).pdf\n",
      "15.578.569/0001-06 GI2 - 23.02.pdf\n",
      "15.578.569/0001-06 GIA 23.02 (2).pdf\n",
      "15.578.569/0001-06 GIA 23.02 (3).pdf\n",
      "15.578.569/0001-06 GIA 23.02 (4).pdf\n",
      "15.578.569/0001-06 GIA 23.02 (5).pdf\n",
      "15.578.569/0001-06 GIA 23.02 (6).pdf\n",
      "15.578.569/0001-06 GIA 23.02.pdf\n",
      "32.899.175/0001-79 GIB - B40240.pdf\n",
      "32.899.175/0001-79 GIB 18.02.pdf\n",
      "32.899.175/0001-79 GIB Boleto0945494-14000000000000345- MCD.pdf\n",
      "22.291.941/0001-64 GMM - B40740 (2).pdf\n",
      "15.576.392/0001-09 GMM - B40740.pdf\n",
      "04.321.130/0001-87,18.954.481/0001-30 GNA - B0446.pdf\n",
      "04.321.130/0001-87,18.954.481/0001-30 GNB - B41060.pdf\n",
      "04.321.130/0001-87,18.954.481/0001-30 GNC - B6002 FRANCO PAG ENCARGOS (4).pdf\n",
      "04.321.130/0001-87,18.954.481/0001-30 GNG - 1802.pdf\n",
      "04.321.130/0001-87,18.954.481/0001-30 GNG.pdf\n",
      "02.103.836/0001-47 GOI - B05520.pdf\n",
      "23.150.045/0001-48 GOL - B10340 (2).1.pdf\n",
      "23.150.045/0001-48 GOL - B10340 (2).pdf\n",
      "23.150.045/0001-48 GOL - B10340.pdf\n",
      " GOS - B05680 - verif lançamento.pdf\n",
      " GOS - B05680.pdf\n",
      "01.874.077/0001-53 GPA - B40020 (2) 2.pdf\n",
      "01.874.077/0001-53 GPA - B40020 (2)-STFSANN005301-L.pdf\n",
      "01.874.077/0001-53 GPA - B40020 (2).pdf\n",
      "23.282.496/0001-39 GPA - B40020 (3)-STFSANN005301-L.pdf\n",
      "23.282.496/0001-39 GPA - B40020 (4).pdf\n",
      "23.282.496/0001-39 GPA - B40020 (6)-STFSANN005301-L.pdf\n",
      "01.874.077/0001-53 GPA - B40020 (6).pdf\n",
      "01.874.077/0001-53 GPA - B40020 - LANÇAR ESTORNO.pdf\n",
      "23.282.496/0001-39 GPA - B40020-STFSANN005301-L.pdf\n",
      "23.282.496/0001-39 GPA - B40020.pdf\n",
      "22.868.596/0001-89 GPS - B06510 FRANCO.pdf\n",
      "22.868.596/0001-89 GPS - B06510 FRANQ (PAGAMOS DESPESA).pdf\n",
      "22.868.596/0001-89 GPS - B06510 FRANQ ALUGUEL.pdf\n",
      "22.868.596/0001-89 GPS 22.02.pdf\n",
      "03.255.911/0001-58 GS2 - B01730.pdf\n",
      "01.677.206/0001-13 GSC - B00970 (2).pdf\n",
      "01.677.206/0001-13 GSC - B00970 - VERIF.pdf\n",
      "03.255.911/0001-58,44.192.474/0001-58 GSC - B00970.pdf\n",
      "28.810.149/0001-55 GSM - B09640 ENVIAR FRANQ.pdf\n",
      "28.810.149/0001-55 GSM - B09640 FRANQ ALUGUEL (2).pdf\n",
      "28.810.149/0001-55 GSM - B09640 FRANQ ALUGUEL.pdf\n",
      "19.726.111/0001-08 GT2 (2).pdf\n",
      "19.726.111/0001-08 GT2.pdf\n",
      " Guia GTV B0451 - erro banco.pdf\n",
      " Guia IMI B0050.pdf\n",
      " Guia PND B0392.pdf\n",
      " Guia PUR B0863 (TJMG).pdf\n",
      " Guia PUR B0863 (TJSP).pdf\n",
      " Guia SBL B0955.pdf\n",
      " Guia SSC B0089.pdf\n",
      " Guia VTP B2079.pdf\n",
      "11.024.120/0001-45 GUS - B04210 (2).pdf\n",
      "11.024.120/0001-45 GUS - B04210 - VERIF LANÇAMENTOS.pdf\n",
      "11.024.120/0001-45 GUS - B04210.pdf\n",
      "16.725.178/0001-30 GVD - B03790 L - FALTA 30 CENTAVOS.pdf\n",
      "16.725.178/0001-30 GVD - B03790.pdf\n"
     ]
    },
    {
     "name": "stderr",
     "output_type": "stream",
     "text": [
      "'pages' argument isn't specified.Will extract only from page 1 by default.\n"
     ]
    },
    {
     "name": "stdout",
     "output_type": "stream",
     "text": [
      "[+] Found a total of 8 imagesin page 0\n",
      " HGO - B02810.pdf\n",
      "13.518.926/0001-15 HOD - B0268 FRANQ (3) BANCO OK.pdf\n",
      "13.518.926/0001-15 HOD - B70130 - FRANQ - ALUGUEL BAIXADO.pdf\n",
      "09.486.320/0001-78 HOD - B70130 - FRANQ - CONDOMINIO (2).pdf\n",
      "13.518.926/0001-15 HOD - B70130 - FRANQ - CONDOMINIO (3).pdf\n",
      "13.518.926/0001-15 HOD - B70130 - FRANQ - CONDOMINIO.pdf\n",
      "14.586.624/0001-47 HOR - B02680 (2) - franq.pdf\n",
      "14,586.624/0001-47 HOR - B02680 ENVIAR FRANQ 3.pdf\n",
      "14.586.624/0001-47 HOR - B02680 ENVIAR FRANQ.pdf\n",
      "14.586.624/0001-47 HOR - B02680 FRANQ ALUGUEL.pdf\n",
      "14.586.624/0001-47 HOR - B02680 FRANQ DESMEMBRAR.pdf\n",
      "14.586.624/0001-47 HOR - B02680.pdf\n",
      "06.197.217/0001-10 IBA - B2340 - .pdf\n",
      "06.197.217/0001-10 IBA - B2340 -.pdf\n",
      "0,6,.,1,9,7,2,/,- IBA B0234 - eletronico.pdf\n",
      "16.881.767/0011-89 IBE - B1059 FRANQ.pdf\n",
      "16.881.767/0001-07 IBE - B1059.pdf\n",
      "16.881.767/0009-64 IBE B1059.pdf\n",
      "92.691.336/0001-66,06.088.383/0001-88 IBM - B06410 - VENCIDO 34.291 ,86.pdf\n",
      "03.251.434/0001-52,42.591.651/2006-65 ICG - B05720 (2) BOLETO SEM DESCRIÇÃO DE PGTO.pdf\n",
      "03.557.614/0001-67 ICG - B05720 (2).pdf\n",
      "03.251.434/0001-52,42.591.651/0400-13 ICG - B05720 2 BOLETO SEM DESCRIÇÃO DE PGTO.pdf\n",
      "03.251.434/0001-52,42.591.651/1201-22 ICG - B05720 BOLETO SEM DESCRIÇÃO DE PGTO.pdf\n",
      "03.557.614/0001-67 ICG - B05720.pdf\n",
      "32.726.717/0001-01 IGC - B0814 ELETRONICO.pdf\n",
      "32.726.717/0001-01 IGC - B08140 FRANQ ALUGUEL (2) - ELETRONICO.pdf\n",
      "32.726.717/0001-01 IGC - B08140 FRANQ ALUGUEL - PROGRAMAR ELETRONICO.pdf\n",
      "01.521.060/0001-12 IGT - B03180.pdf\n",
      "33.453.739/0001-08 IN2 - B01420 (2) .2.pdf\n",
      "33.453.739/0001-08 IN2 - B01420 (2).pdf\n",
      "57.120.362/0001-33 IN2 - B01420 (3).pdf\n",
      "60.267.564/0001-17 IN2 - B01420 (4).pdf\n",
      "56.563.158/0001-24 IN2 - B01420 (5).pdf\n",
      " IN2 - B01420 -  (1).pdf\n",
      "[+] Found a total of 1 imagesin page 0\n"
     ]
    },
    {
     "name": "stderr",
     "output_type": "stream",
     "text": [
      "'pages' argument isn't specified.Will extract only from page 1 by default.\n"
     ]
    },
    {
     "name": "stdout",
     "output_type": "stream",
     "text": [
      " IN2 - B01420 -  (2).pdf\n",
      "45.543.915/0001-81 IN2 - B01420 - 10.02.2022 (1).pdf\n",
      "[+] Found a total of 1 imagesin page 0\n"
     ]
    },
    {
     "name": "stderr",
     "output_type": "stream",
     "text": [
      "'pages' argument isn't specified.Will extract only from page 1 by default.\n"
     ]
    },
    {
     "name": "stdout",
     "output_type": "stream",
     "text": [
      " IN2 - B01420 - 10.02.2022 (2).pdf\n",
      "33.453.739/0001-08 IN2 - B01420 3.pdf\n",
      "56.563.158/0001-24 IN2 - B01420.pdf\n",
      "33.453.739/0001-08 INT - B00280 (10) LANÇAR 1366,39.pdf\n",
      "33.453.739/0001-08 INT - B00280 (2).pdf\n",
      "56.563.158/0001-24 INT - B00280 (3).pdf\n",
      "33.453.739/0001-08 INT - B00280 (4) - LANÇAR 1218,66.pdf\n",
      "33.453.739/0001-08 INT - B00280 (4).pdf\n",
      "57.120.362/0001-33 INT - B00280 (5).pdf\n",
      "60.267.564/0001-17 INT - B00280 (6).pdf\n",
      "57.120.362/0001-33 INT - B00280 (7).pdf\n",
      "60.267.564/0001-17 INT - B00280 (8).pdf\n",
      "56.563.158/0001-24 INT - B00280 (9).pdf\n",
      "56.563.158/0001-24 INT - B00280.pdf\n",
      "27.192.325/0001-70,39.346.861/0001-61 IPD - B04490 (2).pdf\n",
      "27.192.325/0001-70,39.346.861/0001-61 IPD - B04490.pdf\n",
      "03.411.193/0001-61,02.248.702/0001-14 IPM - B08350 DESMEMBRAR.pdf\n",
      "02.248.702/0001-14 IPM - B08350 ENVIAR FRANQ 3.pdf\n",
      "02.248.702/0001-14 IPM - B08350 ENVIAR FRANQ.pdf\n",
      "13.044.030/0001-41 IPM - B08350 FRANQ ALUGUEL.pdf\n",
      " IPU - B08570 FRANQ ALUGUEL.pdf\n",
      "34.705.227/0001-54 IPZ - B08230 FRANCO ALUGUEL.pdf\n",
      "34.705.227/0001-54 IPZ - B08230 FRANQ ALUGUEL - ELETRONICO.pdf\n",
      "00.063.960/0001-09 IPZ - B08230 FRANQ PAG V2.pdf\n",
      "09.151.910/0001-40 ISH - 21.02 (2).pdf\n",
      "09.151.910/0001-40,29.738.226/0001-76 ISH -21.02.pdf\n",
      "03.470.450/0001-36 ITA - B03360.pdf\n",
      "03.932.417/0001-80 ITB - B03890 (2).pdf\n",
      "09.304.427/0001-58 ITB - B03890 - SOMA MAIOR.pdf\n",
      "09.304.427/0001-58 ITB - B03890.pdf\n",
      "24.243.202/0001-22,18.191.228/0001-71 ITD - B02190 FRANQ ALUGUEL.pdf\n",
      "12.202.724/0001-05 ITG - B09080 ENVIAR FRANQ.pdf\n",
      "12.267.919/0001-25 ITG - B09080 FRANQ ALUGUEL.pdf\n",
      "26.213.899/0001-14 ITS - B50060 BANCO OK.pdf\n",
      "26.213.899/0001-14 ITS - B50060 DESMEMBRAR.pdf\n",
      "26.213.899/0001-14 ITS - B50060 FRANQ ALUGUEL.pdf\n",
      "26.213.899/0001-14 ITS - B50060 FRANQ DESMEMBRAR.pdf\n",
      "20.484.314/0001-14 ITV - B0140 CONDOMINIO 01.2022 - VENC. 05.02.2022.pdf\n",
      "05.063.220/0001-88 JAU - B06040 602 ,00 BANCO OK.pdf\n",
      "59.403.394/0001-71 JAU - B06040 VERIF ELETRONICO.pdf\n",
      "05.890.618/0001-98 JCI - B07450 ENVIAR FRANQ.pdf\n"
     ]
    },
    {
     "name": "stderr",
     "output_type": "stream",
     "text": [
      "'pages' argument isn't specified.Will extract only from page 1 by default.\n"
     ]
    },
    {
     "name": "stdout",
     "output_type": "stream",
     "text": [
      "[+] Found a total of 1 imagesin page 0\n",
      " JCI - B07450 FRANQ ALUGUEL - ELETRONICO.pdf\n",
      "21.181.334/0001-89 JFI - B04240 - LANÇAR ESTORNO.pdf\n",
      "21.185.509/0001-26 JFI - B04240.pdf\n",
      "09.477.652/0022-10 JGS - 05.02.pdf\n",
      "09.477.652/0016-72 JGS - B0266 INF BOLETO N ENCONTRADA.pdf\n",
      "09.477.652/0022-10 JGS - B0266.pdf\n",
      "03.434.343/0001-52 JGS - B02660  2.pdf\n",
      "09.304.427/0001-58 JGS - B02660 (2).pdf\n",
      "09.304.427/0001-58 JGS - B02660 (3).pdf\n",
      "09.304.427/0001-58 JGS - B02660 L banco ok.pdf\n",
      "00.675.715/0001-44 JGS - B02660 LANÇAR ALUGUEL - PROGRAMAR ELETRONICO.pdf\n",
      "03.434.343/0001-52 JGS - B02660.pdf\n",
      "16.881.996/0001-21 JJN - B04810 (2) SOMA N BATE.pdf\n",
      "16.881.996/0001-21 JJN - B04810 SOMA N BATE.pdf\n",
      "16.881.996/0001-21 JJN - B04810.pdf\n",
      "13.955.040/0001-39 JOC - B91280 - n disp para pagto].pdf\n",
      "13.955.040/0001-39 JOC - B91280 L.pdf\n",
      "13.955.040/0001-39 JOC - B91280.pdf\n",
      "83.796.284/0001-00 JOD - B05360 ENVIAR FRANQ.pdf\n",
      "83.796.284/0001-00,42.591 651/0001-43 JOD - B05360 FRANQ ALUGUEL.pdf\n",
      "83.796.284/0001-00 JOD - B05360 FRANQ ALUGUEL2.pdf\n",
      "12.398.161/0001-64 JOS - B09340 - FRANQ ALUGUEL - VERIF ELETRONICO.pdf\n",
      "12.398.161/0001-64 JOS - B09340 - FRANQ.pdf\n",
      "12.398.161/0001-64 JOS - B09340 ENVIAR FRANQUEADO (VERIF ELETRONICO).pdf\n",
      "42.591.651/0960-78,04.067.463/0001-21 JPM - B05970 3.pdf\n",
      "42.591.651/0960-78,07.770.585/0001-78 JPM - B05970.pdf\n",
      "08.988.065/0001-07 JPS - B05510  2.pdf\n"
     ]
    },
    {
     "name": "stderr",
     "output_type": "stream",
     "text": [
      "'pages' argument isn't specified.Will extract only from page 1 by default.\n"
     ]
    },
    {
     "name": "stdout",
     "output_type": "stream",
     "text": [
      "[+] Found a total of 1 imagesin page 0\n",
      " JPS - B05510 valor banco 67 ,03 - banco ok.pdf\n",
      "05.629.163/0001-51 JPS - B05510.pdf\n",
      "96.506.555/0001-89 JQD - B5009 PAGAR SOMENTE REF 022022 DESMEMBRAR OS DEMAIS E SEPARAR NAS PASTAS-1.pdf\n",
      "42.591.651/0960-78,21.205.484/0001-85 JSM - B40230 (2).pdf\n",
      "42.591.651/0960-78,13.569.930/0001-02 JSM - B40230 2.pdf\n",
      "42.591.651/0960-78,21.515.727/0001-81 JSM - B40230.pdf\n",
      "73.279.184/0001-44 JSO - 022022 - banco ok 21598,02.pdf\n",
      "79.614.103/0001-00,79 614.103/0001-00 JSO - B0569 - passando com valor maior.pdf\n",
      "79.614.103/0001-00 JSO - B05690 1.pdf\n",
      "53.773.404/0001-84 JVA - B7460 FRANQ ALUGUEL.pdf\n",
      "53.773.404/0001-84 JVA - B7460.pdf\n",
      " KNO - B1035.pdf\n",
      "06.255.144/0001-75 KNO - B10350 (2).pdf\n",
      "06.255.144/0001-75 KNO - B10350.pdf\n",
      "67.668.384/0001-96 LAA - B02030  2.pdf\n",
      "01.597.336/0001-46 LAA - B02030 (2)  2.pdf\n",
      "02.465.869/0001-37 LAA - B02030 (2).pdf\n",
      "02.449.409/0001-15 LAA - B02030.pdf\n"
     ]
    },
    {
     "name": "stderr",
     "output_type": "stream",
     "text": [
      "'pages' argument isn't specified.Will extract only from page 1 by default.\n"
     ]
    },
    {
     "name": "stdout",
     "output_type": "stream",
     "text": [
      "[+] Found a total of 2 imagesin page 0\n",
      " LAC - 18.02 (2).pdf\n"
     ]
    },
    {
     "name": "stderr",
     "output_type": "stream",
     "text": [
      "'pages' argument isn't specified.Will extract only from page 1 by default.\n"
     ]
    },
    {
     "name": "stdout",
     "output_type": "stream",
     "text": [
      "[+] Found a total of 2 imagesin page 0\n",
      " LAC - 18.02.pdf\n",
      "02.241,307/0001-00 LAR - B00950  2 - LANÇAR.pdf\n",
      "02.241.307/0001-00 LAR - B00950 (2).pdf\n",
      "02.211.656/0001-89 LAR - B00950.pdf\n",
      "21.764.677/0001-76 LAT - B06020.pdf\n",
      " LDA - B05030 - LANÇAR ESTORNO.pdf\n",
      " LDA - B05030 DESMEMBRAR (2).pdf\n",
      " LDA - B05030 DESMEMBRAR.pdf\n",
      " LDA - B05030 ENVIAR FRANQ.pdf\n",
      " LDA - B05030 FRANQ ALUGUEL (2) - LANÇAR -0,01.pdf\n",
      " LDA - B05030 FRANQ ALUGUEL (2).pdf\n",
      " LDA - B05030 FRANQ ALUGUEL (4).pdf\n",
      " LDA - B05030 FRANQ ALUGUEL.pdf\n",
      "96.506.555/0001-89,18.191.228/0001-71 LEM - B4098 - PROGRAMAR TOTAL.pdf\n",
      "9,6,.,5,0,/,1,-,8,,,2,7 LEM - B40980 - VERIF ELETRONICO (2).pdf\n",
      "14.800.441/0001-82 LET -  VERIFICAR CLASSIFICAÇÃO.pdf\n",
      "23.537.156/0001-01 LGT - B0113 (2) - BANCO OK.pdf\n",
      "23.537.156/0001-01 LGT - B0113 - BANCO OK.pdf\n",
      "23.537.156/0001-01 LGT - B01130.pdf\n",
      " LIM - B00690 -  (1).pdf\n",
      "45.543.915/0001-81 LIM - B00690 -  (2).pdf\n",
      "45.543.915/0001-81 LIM - B00690 - 2 (1).pdf\n",
      "45.543.915/0001-81 LIM - B00690 - 2 (2).pdf\n",
      "47.772.920/0001-20,17.772.920/0001-20 LIN - B04380 (2).pdf\n",
      "14.159.728/0001-75 LIN - B04380.pdf\n",
      "47.508.411/0001-56 LMA - B08000 VERIFICAR - CONTRATO ESTA COMO ENCERRADO NA PLANILHA (4).pdf\n",
      "15.801.720/0001-23 LNT - B20270 ENVIAR FRANQ.pdf\n",
      "15.801.720/0001-23 LNT - B20270 FRANQ ALUGUEL.pdf\n",
      "21.764.677/0001-76 LNT - B20270.pdf\n",
      " LOB - B01410 - VERIF LANÇAMENTOD.pdf\n",
      " LOB - B01410.pdf\n",
      "76.430.438/0001-71 LON - B0538 (2).pdf\n",
      "76.430.438/0001-71 LON - B0538.pdf\n",
      "76.430.438/0001-71 LON B0538.pdf\n"
     ]
    },
    {
     "name": "stderr",
     "output_type": "stream",
     "text": [
      "'pages' argument isn't specified.Will extract only from page 1 by default.\n"
     ]
    },
    {
     "name": "stdout",
     "output_type": "stream",
     "text": [
      "[+] Found a total of 3 imagesin page 0\n"
     ]
    },
    {
     "name": "stderr",
     "output_type": "stream",
     "text": [
      "Got stderr: abr 04, 2022 5:19:59 PM org.apache.pdfbox.pdmodel.font.PDType0Font toUnicode\r\n",
      "ADVERTÊNCIA: No Unicode mapping for CID+37 (37) in font Arial\r\n",
      "abr 04, 2022 5:19:59 PM org.apache.pdfbox.pdmodel.font.PDType0Font toUnicode\r\n",
      "ADVERTÊNCIA: No Unicode mapping for CID+72 (72) in font Arial\r\n",
      "abr 04, 2022 5:19:59 PM org.apache.pdfbox.pdmodel.font.PDType0Font toUnicode\r\n",
      "ADVERTÊNCIA: No Unicode mapping for CID+81 (81) in font Arial\r\n",
      "abr 04, 2022 5:19:59 PM org.apache.pdfbox.pdmodel.font.PDType0Font toUnicode\r\n",
      "ADVERTÊNCIA: No Unicode mapping for CID+73 (73) in font Arial\r\n",
      "abr 04, 2022 5:19:59 PM org.apache.pdfbox.pdmodel.font.PDType0Font toUnicode\r\n",
      "ADVERTÊNCIA: No Unicode mapping for CID+76 (76) in font Arial\r\n",
      "abr 04, 2022 5:19:59 PM org.apache.pdfbox.pdmodel.font.PDType0Font toUnicode\r\n",
      "ADVERTÊNCIA: No Unicode mapping for CID+70 (70) in font Arial\r\n",
      "abr 04, 2022 5:19:59 PM org.apache.pdfbox.pdmodel.font.PDType0Font toUnicode\r\n",
      "ADVERTÊNCIA: No Unicode mapping for CID+105 (105) in font Arial\r\n",
      "abr 04, 2022 5:19:59 PM org.apache.pdfbox.pdmodel.font.PDType0Font toUnicode\r\n",
      "ADVERTÊNCIA: No Unicode mapping for CID+85 (85) in font Arial\r\n",
      "abr 04, 2022 5:19:59 PM org.apache.pdfbox.pdmodel.font.PDType0Font toUnicode\r\n",
      "ADVERTÊNCIA: No Unicode mapping for CID+82 (82) in font Arial\r\n",
      "abr 04, 2022 5:20:00 PM org.apache.pdfbox.pdmodel.font.PDCIDFontType2 codeToGID\r\n",
      "ADVERTÊNCIA: Failed to find a character mapping for 37 in Arial\r\n",
      "abr 04, 2022 5:20:00 PM org.apache.pdfbox.pdmodel.font.PDCIDFontType2 codeToGID\r\n",
      "ADVERTÊNCIA: Failed to find a character mapping for 72 in Arial\r\n",
      "abr 04, 2022 5:20:00 PM org.apache.pdfbox.pdmodel.font.PDCIDFontType2 codeToGID\r\n",
      "ADVERTÊNCIA: Failed to find a character mapping for 81 in Arial\r\n",
      "abr 04, 2022 5:20:00 PM org.apache.pdfbox.pdmodel.font.PDCIDFontType2 codeToGID\r\n",
      "ADVERTÊNCIA: Failed to find a character mapping for 73 in Arial\r\n",
      "abr 04, 2022 5:20:00 PM org.apache.pdfbox.pdmodel.font.PDCIDFontType2 codeToGID\r\n",
      "ADVERTÊNCIA: Failed to find a character mapping for 76 in Arial\r\n",
      "abr 04, 2022 5:20:00 PM org.apache.pdfbox.pdmodel.font.PDCIDFontType2 codeToGID\r\n",
      "ADVERTÊNCIA: Failed to find a character mapping for 70 in Arial\r\n",
      "abr 04, 2022 5:20:00 PM org.apache.pdfbox.pdmodel.font.PDCIDFontType2 codeToGID\r\n",
      "ADVERTÊNCIA: Failed to find a character mapping for 105 in Arial\r\n",
      "abr 04, 2022 5:20:00 PM org.apache.pdfbox.pdmodel.font.PDCIDFontType2 codeToGID\r\n",
      "ADVERTÊNCIA: Failed to find a character mapping for 85 in Arial\r\n",
      "abr 04, 2022 5:20:00 PM org.apache.pdfbox.pdmodel.font.PDCIDFontType2 codeToGID\r\n",
      "ADVERTÊNCIA: Failed to find a character mapping for 82 in Arial\r\n",
      "abr 04, 2022 5:20:00 PM org.apache.pdfbox.pdmodel.font.PDType0Font toUnicode\r\n",
      "ADVERTÊNCIA: No Unicode mapping for CID+37 (37) in font Arial\r\n",
      "abr 04, 2022 5:20:00 PM org.apache.pdfbox.pdmodel.font.PDCIDFontType2 codeToGID\r\n",
      "ADVERTÊNCIA: Failed to find a character mapping for 37 in Arial\r\n",
      "abr 04, 2022 5:20:00 PM org.apache.pdfbox.pdmodel.font.PDType0Font toUnicode\r\n",
      "ADVERTÊNCIA: No Unicode mapping for CID+72 (72) in font Arial\r\n",
      "abr 04, 2022 5:20:00 PM org.apache.pdfbox.pdmodel.font.PDCIDFontType2 codeToGID\r\n",
      "ADVERTÊNCIA: Failed to find a character mapping for 72 in Arial\r\n",
      "abr 04, 2022 5:20:00 PM org.apache.pdfbox.pdmodel.font.PDType0Font toUnicode\r\n",
      "ADVERTÊNCIA: No Unicode mapping for CID+81 (81) in font Arial\r\n",
      "abr 04, 2022 5:20:00 PM org.apache.pdfbox.pdmodel.font.PDCIDFontType2 codeToGID\r\n",
      "ADVERTÊNCIA: Failed to find a character mapping for 81 in Arial\r\n",
      "abr 04, 2022 5:20:00 PM org.apache.pdfbox.pdmodel.font.PDType0Font toUnicode\r\n",
      "ADVERTÊNCIA: No Unicode mapping for CID+73 (73) in font Arial\r\n",
      "abr 04, 2022 5:20:00 PM org.apache.pdfbox.pdmodel.font.PDCIDFontType2 codeToGID\r\n",
      "ADVERTÊNCIA: Failed to find a character mapping for 73 in Arial\r\n",
      "abr 04, 2022 5:20:00 PM org.apache.pdfbox.pdmodel.font.PDType0Font toUnicode\r\n",
      "ADVERTÊNCIA: No Unicode mapping for CID+76 (76) in font Arial\r\n",
      "abr 04, 2022 5:20:00 PM org.apache.pdfbox.pdmodel.font.PDCIDFontType2 codeToGID\r\n",
      "ADVERTÊNCIA: Failed to find a character mapping for 76 in Arial\r\n",
      "abr 04, 2022 5:20:00 PM org.apache.pdfbox.pdmodel.font.PDType0Font toUnicode\r\n",
      "ADVERTÊNCIA: No Unicode mapping for CID+70 (70) in font Arial\r\n",
      "abr 04, 2022 5:20:00 PM org.apache.pdfbox.pdmodel.font.PDCIDFontType2 codeToGID\r\n",
      "ADVERTÊNCIA: Failed to find a character mapping for 70 in Arial\r\n",
      "abr 04, 2022 5:20:00 PM org.apache.pdfbox.pdmodel.font.PDType0Font toUnicode\r\n",
      "ADVERTÊNCIA: No Unicode mapping for CID+105 (105) in font Arial\r\n",
      "abr 04, 2022 5:20:00 PM org.apache.pdfbox.pdmodel.font.PDCIDFontType2 codeToGID\r\n",
      "ADVERTÊNCIA: Failed to find a character mapping for 105 in Arial\r\n",
      "abr 04, 2022 5:20:00 PM org.apache.pdfbox.pdmodel.font.PDType0Font toUnicode\r\n",
      "ADVERTÊNCIA: No Unicode mapping for CID+85 (85) in font Arial\r\n",
      "abr 04, 2022 5:20:00 PM org.apache.pdfbox.pdmodel.font.PDCIDFontType2 codeToGID\r\n",
      "ADVERTÊNCIA: Failed to find a character mapping for 85 in Arial\r\n",
      "abr 04, 2022 5:20:00 PM org.apache.pdfbox.pdmodel.font.PDType0Font toUnicode\r\n",
      "ADVERTÊNCIA: No Unicode mapping for CID+82 (82) in font Arial\r\n",
      "abr 04, 2022 5:20:00 PM org.apache.pdfbox.pdmodel.font.PDCIDFontType2 codeToGID\r\n",
      "ADVERTÊNCIA: Failed to find a character mapping for 82 in Arial\r\n",
      "\n"
     ]
    },
    {
     "name": "stdout",
     "output_type": "stream",
     "text": [
      " MA2 - B08370 FRANQ PAG V2.pdf\n",
      "22.787.489/0001-26 MAD - B0801.pdf\n",
      "[+] Found a total of 4 imagesin page 0\n",
      "[+] Found a total of 1 imagesin page 1\n"
     ]
    },
    {
     "name": "stderr",
     "output_type": "stream",
     "text": [
      "'pages' argument isn't specified.Will extract only from page 1 by default.\n"
     ]
    },
    {
     "name": "stdout",
     "output_type": "stream",
     "text": [
      " MAD - B08010 FRANQ PAG V2.pdf\n",
      " MAL - B04230 FRANCO PAG ENCARGOS (3).pdf\n",
      " MAL - B04230 FRANCO PAG ENCARGOS.pdf\n",
      " MAL - B04230 FRANQ ALUGUEL.pdf\n",
      " MAL - B04230 FRANQ PAG V2 - SOMA N BATE.pdf\n",
      " MAL - B04230 verif lançamento.pdf\n",
      " MAL - B04230.pdf\n",
      "01.284.855/0001-54 MAP - B00840.pdf\n",
      "79.931.937/0001-30 MAR - B08760 ALUGUEL FRANQ VERIF ELETRONICO.pdf\n",
      " MAR - B08760 ENVIAR FRANQ (2).pdf\n",
      "73.656.779/0001-71 MAR - B08760 ENVIAR FRANQ (3).pdf\n",
      "73.370.991/0001-78 MAR - B08760 ENVIAR FRANQ.pdf\n",
      "79.157.889/0001-75 MAV - B9513 - ELETRONICO ALUG .pdf\n",
      "80.896.137/0001-05 MAV - B9513 ENVIAR FRANQ.pdf\n",
      "80.896.137/0001-05 MAV - B95130 ENVIAR FRANQUEADO (2).pdf\n",
      "80.896.137/0001-05 MAV - B95130 ENVIAR FRANQUEADO (3).pdf\n",
      "80.896.137/0001-05 MAV - B95130 ENVIAR FRANQUEADO.pdf\n",
      "79.157.889/0001-75 MAV - B95130 FRANQ ALUGUEL (2).pdf\n",
      "79.157.889/0001-75 MAV - B95130 FRANQ ALUGUEL (3).pdf\n",
      "79.157.889/0001-75 MAV - B95130 FRANQ ALUGUEL.pdf\n",
      "80.896.137/0001-05 MAV - B95130 FRANQ DESPESAS.pdf\n",
      "79.157.889/0001-75 MAV - B95130 FRANQ.pdf\n",
      "33.130.543/0001-82,18.954.481/0001-30 MAX - B0335.pdf\n",
      "15.428.567/0001-30 MBD - B08380 - PAGAR V2.pdf\n",
      "15.428.567/0001-30,14.058.766/0001-31 MBD - B08380 FRANQ PAG V2.pdf\n",
      "1,5,.,4,2,8,6,7,/,0,-,3,, MCD - B0768.pdf\n",
      " MCS - B09390 DESMEMBRAR.pdf\n",
      " MCS - B09390 ENVIAR FRANQ (2).pdf\n",
      " MCS - B09390 ENVIAR FRANQ 2.pdf\n",
      " MCS - B09390 ENVIAR FRANQ.pdf\n",
      " MCS - B09390 FRANQ ALUGUEL.pdf\n",
      " MCS - B09390 FRANQ DESMEMBRAR (2).pdf\n",
      " MCS - B09390 FRANQ DESMEMBRAR.pdf\n",
      "13.004.510/0001-89 MCZ - B4048 - BANCO OK.pdf\n",
      "09.511.067/0001-65 MCZ - B40480 2 soma n bate, ta dando 36135,97.pdf\n",
      "09.511.067/0001-65 MCZ - B40480 2.pdf\n",
      "09.511.067/0001-65 MCZ - B40480.pdf\n",
      "06.057.223/0001-71 Mc_boletos_04 - AGUARDANDO RETORNO.pdf\n",
      "12.191.631/0001-14 MDR - B0577.pdf\n",
      "12.191.631/0001-14 MDR - B05770 Energia.pdf\n",
      "42,591.651/0001-43,02.302.044/0001-00 MDR - B05770 VERIF ELETRONICO.pdf\n",
      "12.191.631/0001-14 MDR - B05770.pdf\n",
      "08.713.566/0001-72 MDW - B4006 BANCO OK.pdf\n",
      "03.470.450/0001-36 MEQ - B40970 - 4205,23 FRANQ ALUGUEL (VERIF ELETR) (2).pdf\n",
      "03.470.450/0001-36 MEQ - B40970 ENIVAR FRANQ (VERIF ELETRONICO).pdf\n",
      "03.470.450/0001-36 MEQ - B40970 ENVIAR FRANQ (VERIF ELETRONICO).pdf\n",
      "03.470.450/0001-36 MEQ - B40970 FRANQ ALUGUEL L 4.205,23.pdf\n",
      "28.350.338/0001-92 MER - B0342.pdf\n",
      "33.919.741/0001-20 MFL - B06520 ESTÁ COBRANDO JUROS.pdf\n"
     ]
    },
    {
     "name": "stderr",
     "output_type": "stream",
     "text": [
      "'pages' argument isn't specified.Will extract only from page 1 by default.\n"
     ]
    },
    {
     "name": "stdout",
     "output_type": "stream",
     "text": [
      "[+] Found a total of 1 imagesin page 0\n",
      "[+] Found a total of 2 imagesin page 1\n",
      " MFL - B06520.pdf\n",
      "02.139.652/0001-37 MGD - B20210.pdf\n",
      "10.341.684/0001-49 MI2 - 1017.pdf\n",
      "42.591.651/0427-33,10.341.684/0001-49 MI2 - B10170 (2).pdf\n",
      "10.341.684/0001-49 MI2 - B10170.pdf\n",
      "03.491.470/0001-93 MIA - B08920 FRANQ ALUGUEL.pdf\n",
      "10.341.684/0001-49 MID - B10010.pdf\n",
      "24.312.498/0001-96 MIG - B05390.pdf\n",
      " MIP - B11480 ENVIAR FRANQ.pdf\n",
      "55.527.931/0001-34 MIR - B00930.pdf\n",
      "65.169.476/0001-04 MIS - B08060 (2).pdf\n",
      "65.169.476/0001-04 MIS - B08060 (3).pdf\n",
      "65.169.476/0001-04 MIS - B08060 (4) - VERIFICAR LANÇAMENTOS.pdf\n",
      "65.169.476/0001-04 MIS - B08060 (5).pdf\n",
      "65.169.476/0001-04 MIS - B08060.pdf\n",
      "13.518.926/0001-15 MMD - B7008.pdf\n",
      "09.486.320/0001-78 MMD - B70080 FRANQ (2).pdf\n",
      "13.518.926/0001-15 MMD - B70080 FRANQ BANCO OK.pdf\n",
      "10.575.844/0001-14 MMS - B06310 (PAGAR V2).pdf\n",
      "07.286.159/0001-63 MMS - B06310 FRANQ (PAGAMOS V2) (2).pdf\n",
      "10.575.844/0001-14 MMS - B06310 FRANQ (PAGAR V2).pdf\n",
      "10.575.844/0001-14 MMS - B06310 FRANQ (PAGAR V2_ (2).pdf\n",
      "07.286.159/0001-63 MMS - B06310 FRANQ ALUGUEL.pdf\n",
      "07.286.159/0001-63 MMS - B06310 FRANQ PAG V2.pdf\n",
      "13.621.881/0001-00 MMS - B06310.pdf\n",
      " MNS - B05950 ENVIAR FRANQ (2).pdf\n",
      " MNS - B05950 ENVIAR FRANQ (3).pdf\n",
      " MNS - B05950 ENVIAR FRANQ.pdf\n",
      " MNS - B05950 ENVIAR FRANQUEADO.pdf\n",
      " MNS - B05950 FRANQ ALUGUEL (2).pdf\n",
      " MNS - B05950 FRANQ ALUGUEL (3) 2.pdf\n",
      " MNS - B05950 FRANQ ALUGUEL (3).pdf\n",
      " MNS - B05950 FRANQ ALUGUEL (4) - BANCO OK.pdf\n",
      " MNS - B05950 FRANQ ALUGUEL 2 - PAGO 15.02.pdf\n",
      " MNS - B05950 FRANQ ALUGUEL 2.pdf\n",
      " MNS - B05950 FRANQ ALUGUEL.pdf\n",
      " MNS - B05950 FRANQ DESMEMBRAR (2).pdf\n",
      " MNS - B05950 FRANQ DESMEMBRAR (3).pdf\n",
      " MNS - B05950 FRANQ DESMEMBRAR.pdf\n",
      "01.947.481/0001-00 MOC - B04280 (2).pdf\n",
      "06.955.610/0001-25 MOC - B04280 - PROGRAMAR ELETRONICO.pdf\n",
      "01.947.481/0001-00 MOC - B04280.pdf\n",
      "66.652.488/0001-40 MOG luc 246 MC Donalds vcto 24.02.2022 Aluguel Percentual.pdf\n",
      "66.652.488/0001-40 MOG luc 246 Mc Donalds vcto 24.02.2022 Aluguel.pdf\n",
      " MOO - B02110 2.pdf\n",
      " MOO - B02110.pdf\n",
      "05.212.761/0001-20 MOS - B06450.pdf\n",
      " MOX - B04390 FRANCO (1).pdf\n",
      " MOX - B04390 FRANCO (2).pdf\n",
      " MOX - B04390 FRANCO (3) LANÇAR 11631,3.pdf\n",
      " MOX - B04390 FRANQ ALUGUEL.pdf\n",
      "67.970.954/0001-06 MPL - B1155.pdf\n",
      "42,591,651/0001-43,33.939.000/0001-00,42,591.651/0001-43 MRB - B03390 (2).pdf\n",
      "42,591,651/0001-43,33.939.000/0001-00,42,591.651/0001-43 MRB - B03390.pdf\n",
      "03.775.253/0001-25 MRD - B0789.pdf\n",
      "03.775.253/0001-25 MRD - B07890 - AGUARDANDO RETORNO.pdf\n",
      "76.639.798/0001-88 MS5 - B05960 - NÃO TEM CONTRATO NO RENT.pdf\n",
      "30.625.443/0001-39 MSH  - Mc Donald´s   Loja 1Q06H-1.pdf\n",
      "30.625.443/0001-39 MSH - B0803.pdf\n",
      "30.625.443/0001-39 MSH - B08030 2 FRANQ ALUGUEL.pdf\n",
      "30.625.443/0001-39 MSH - B08030 DESMEMBRAR (2).pdf\n",
      "30.625.443/0001-39 MSH - B08030 DESMEMBRAR 2.pdf\n",
      "30.625.443/0001-39 MSH - B08030 DESMEMBRAR.pdf\n",
      "30.625.443/0001-39 MSH - B08030 ENVIAR FRANCO (3).pdf\n",
      "30.625.443/0001-39 MSH - B08030 ENVIAR FRANCO (4).pdf\n",
      "30.625.443/0001-39 MSH - B08030 ENVIAR FRANCO (5).pdf\n",
      "30.625.443/0001-39 MSH - B08030 ENVIAR FRANCO.pdf\n",
      "30.625.443/0001-39 MSH - B08030 ENVIAR FRANQ (2).pdf\n",
      "30.625.443/0001-39 MSH - B08030 ENVIAR FRANQ (3).pdf\n",
      "30.625.443/0001-39 MSH - B08030 ENVIAR FRANQ (4).pdf\n",
      "30.625.443/0001-39 MSH - B08030 ENVIAR FRANQ.pdf\n",
      "30.625.443/0001-39 MSH - B08030 FRANCO (2).pdf\n",
      "30.625.443/0001-39 MSH - B08030 FRANCO ALUGUEL (2).pdf\n",
      "30.625.443/0001-39 MSH - B08030 FRANCO ALUGUEL (3).pdf\n",
      "30.625.443/0001-39 MSH - B08030 FRANCO ALUGUEL (4).pdf\n",
      "30.625.443/0001-39 MSH - B08030 FRANCO ALUGUEL.pdf\n",
      "30.625.443/0001-39 MSH - B08030 FRANCO.pdf\n",
      "17.792.484/0001-51 MSH - B08030 FRANQ DESMEMBRAR (2).pdf\n",
      "30.625.443/0001-39 MSH - B08030 FRANQ DESMEMBRAR (3).pdf\n",
      "30.625.443/0001-39 MSH - B08030 FRANQ DESMEMBRAR (4).pdf\n",
      "30.625.443/0001-39 MSH - B08030 FRANQ DESMEMBRAR (5).pdf\n",
      "30.625.443/0001-39 MSH - B08030 FRANQ DESMEMBRAR.pdf\n",
      "45.827.425/0001-07 MT2 - B10810.pdf\n"
     ]
    },
    {
     "name": "stderr",
     "output_type": "stream",
     "text": [
      "'pages' argument isn't specified.Will extract only from page 1 by default.\n"
     ]
    },
    {
     "name": "stdout",
     "output_type": "stream",
     "text": [
      "[+] Found a total of 2 imagesin page 0\n",
      " MTL - B1089 PGTO URGENTE 69.863 ,71 BANCO OK.pdf\n",
      "03.704.351/0001-71,42.591.651/0123-11 MTP - B0053.pdf\n",
      "03.704.351/0001-71,42.591.651/0123-11 MTP - B00530 (2).pdf\n",
      "71.538.367/0001-01 MTP - B00530 2.pdf\n",
      "03.704.351/0001-71,42.591.651/0123-11 MTP - B00530.pdf\n",
      "24.550.145/0001-24 MTW - B11070 - VERIF.pdf\n",
      "45.543.915/0001-81 MUT - B01440 -  (1).pdf\n",
      " MUT - B01440 -  (2).pdf\n",
      "00.078.218/0001-69 NA2 - B04370.pdf\n",
      "00.078.218/0001-69 NAM - B03090  2.pdf\n",
      "00.078.218/0001-69 NAM - B03090 (2).pdf\n",
      "00.078.218/0001-69 NAM - B03090 (3).pdf\n",
      "24.825.240/0001-93 NAS - B05440 - ALUGUEL.pdf\n",
      "08.666.476/0001-78 NAS - B05440 L.pdf\n",
      "08.666.476/0001-78 NAS - B05440.pdf\n",
      "26.136.625/0001-79 NAU - B40570 FRANQ ALUGUEL 2.pdf\n",
      "42.591.651/0069-31 NFC - B03100  - TIRAR DA SOMA E DESPROGRAMAR.pdf\n",
      " NFC - B03100 (3) - TIRAR DA SOMA E DESPROGRAMAR.pdf\n",
      "42.591.651/0069-31 NFC - B03100 19915,97 banco ok - dif de R$ 20.pdf\n",
      " NFC - B03100.pdf\n",
      "03.169.304/0001-75 NFR - B03160 (2).pdf\n",
      "00.724.118/0001-62 NFR - B03160 - TEM 2 BOLETOS!!!!!!!!!!!!!.pdf\n",
      "33.130.543/0001-82,18.954.481/0001-30 NIG - B0328.pdf\n",
      "[+] Found a total of 2 imagesin page 0\n",
      "[+] Found a total of 1 imagesin page 1\n"
     ]
    },
    {
     "name": "stderr",
     "output_type": "stream",
     "text": [
      "'pages' argument isn't specified.Will extract only from page 1 by default.\n"
     ]
    },
    {
     "name": "stdout",
     "output_type": "stream",
     "text": [
      " NIG - B03280.pdf\n",
      "02.316.471/0001-39 NIL - B03660.pdf\n",
      "45.543.915/0001-81 NIM - B03670 -  (1).pdf\n",
      "45.543.915/0001-81 NIM - B03670 -  (2).pdf\n",
      "45.543.915/0001-81 NIM - B03670 -  (3).pdf\n",
      "45.543.915/0001-81 NIM - B03670 -  (4).pdf\n",
      "42:591.651/0001-43,04.151.732/0001-33 NNS - B06220 ELETRONICO (2).pdf\n",
      "04,151.732/0001-33,42:591.651/0001-43,04.151.732/0001-33 NNS - B06220 ELETRONICO (3).pdf\n",
      "04.151.732/0001-33 NNS - B06220 ELETRONICO.pdf\n",
      "04.151.732/0001-33 NNS - B06220.pdf\n",
      " Nova Guia GTV.pdf\n",
      "01.195.156/0001-38,18.191.228/0001-71 NPN - B40030.pdf\n",
      "01.316.309/0001-58 NS2 - B0642 ELETRONICO.pdf\n",
      " NS2 - B06420 (2).pdf\n",
      "03.648.678/0001-73 NS2 - B06420 - VERIF ELE.pdf\n",
      "03.648.678/0001-73 NS2 - B06420 - VERIF ELETRONICO.pdf\n",
      "03.480.244/0001-07 NS2 - B06420 VERIF ELETRONICO (2).pdf\n",
      "03.480.244/0001-07 NS2 - B06420 VERIF ELETRONICO.pdf\n",
      "03.480.244/0001-07 NS2 - B06420.pdf\n",
      "07.199.672/0001-17 NSB - B02060 (2).pdf\n",
      "07.199.672/0001-17 NSB - B02060.pdf\n",
      "26.406.107/0001-28 NSC - B10910 ENVIAR FRANCO (2).pdf\n",
      "26.406.107/0001-28 NSC - B10910 ENVIAR FRANCO.pdf\n",
      "26.406.107/0001-28 NSC - B10910 ENVIAR FRANQ.pdf\n",
      "26.406.107/0001-28 NSC - B10910 FRANQ ALUGUEL (2).pdf\n",
      "26.406.107/0001-28 NSC - B10910 FRANQ ALUGUEL.pdf\n",
      "42.591.651/0069-31 NSH - B02940 (2) ERRO BANCO.pdf\n",
      "42.591.651/0069-31 NSH - B02940 (2).pdf\n",
      "42.591.651/0069-31 NSH - B02940 (3) ERRO BANCO.pdf\n",
      "29.738.226/0001-76 NSH - B02940 (3).pdf\n",
      " NSH - B02940 (4) SOMA N BATE.pdf\n",
      " NSH - B02940 (4).pdf\n",
      "29.738.226/0001-76 NSH - B02940 ERRO BANCO.pdf\n",
      "42.591.651/0069-31 NSH - B02940.pdf\n",
      "01.316.309/0001-58 NSR - B05730 - ELETRONICO.pdf\n",
      "11.247.725/0001-03 NSS - B0653 (2).pdf\n",
      "14.391.014/0001-98 NSS - B0653 (3).pdf\n",
      "14.391.014/0001-98 NSS - B0653 (4).pdf\n",
      "14.391.014/0001-98 NSS - B0653.pdf\n",
      "14.750.461/0001-96 OCA - B03980 (2).pdf\n",
      "14.750.461/0001-96 OCA - B03980.pdf\n",
      "10.830.864/0001-94 OPM - B11290 (2).pdf\n",
      "10.830.864/0001-94 OPM - B11290.pdf\n",
      "17.803.113/0001-28 OPR - B60030 ENVIAR FRANQ.pdf\n",
      "17.803.113/0001-28 OPR - B60030 ENVIAR FRANQUEADO.pdf\n",
      "17.803.113/0001-28 OPR - B60030 FRANQ ALUGUEL.pdf\n",
      "21.486.661/0001-49 OPS - B40500 (2).pdf\n",
      "00.633.053/0001-40 OSA - B00520.pdf\n",
      "59.061.259/0001-95 OSC - 25.02.pdf\n",
      "59.061.259/0001-95 OSC - B01040.pdf\n",
      "08.174.968/0001-46 OSS - B01830.pdf\n",
      "13.383.188/0001-46 OSU - B01910 (2).pdf\n",
      "11.669.376/0001-00 OSU - B01910 (3).pdf\n",
      "13.383.188/0001-46 OSU - B01910 (4).pdf\n",
      "11.669.376/0001-00 OSU - B01910.pdf\n",
      "33.346.379/0001-45 OUS - 18.02.pdf\n",
      "33.346.379/0001-45 OUS - B4072.pdf\n",
      "33.346.379/0001-45 OUS - B40720 L.pdf\n",
      "33.346.379/0001-45 OUS - B40720.pdf\n",
      "01.366.508/0001-70 P21 - B06070.pdf\n",
      "27.059.460/0001-41 PAA - B41340 (2)  2.pdf\n",
      "27.059.460/0001-41 PAA - B41340 (2).pdf\n",
      "27.059.460/0001-41 PAA - B41340 - PAGAR  (1) 13.813 ,75 BANCO OK.pdf\n",
      "27.059.460/0001-41 PAA - B41340 - PAGAR  (2) 81.302 ,57 BANCO OK.pdf\n",
      "27.059.460/0001-41 PAA - B41340.pdf\n",
      "07.439.978/0001-01 PAC - B1138 1.pdf\n",
      "07.439.978/0001-01 PAC - B1138 2.pdf\n",
      "07.439.978/0001-01 PAC - B1138 3.pdf\n",
      "07.439.978/0001-01 PAC - B1138.pdf\n",
      "09.486.320/0001-78 PAD - B07860.pdf\n",
      "04.564.926/0001-60,94.564.926/0001-60 PAF - B09050 ENVIAR FRANQ  2.pdf\n",
      "04.564.926/0001-60,94.564.926/0001-60 PAF - B09050 ENVIAR FRANQ.pdf\n",
      "08.707.295/0001-42 PAF - B09050 FRANQ ALUGUEL VERIF ELETRONICO.pdf\n",
      "08.707.295/0001-42 PAF - B09050 FRANQ ALUGUEL.pdf\n",
      "04.564.926/0001-60,94.564.926/0001-60 PAF - B09050 FRANQ DESPESAS.pdf\n"
     ]
    },
    {
     "name": "stderr",
     "output_type": "stream",
     "text": [
      "'pages' argument isn't specified.Will extract only from page 1 by default.\n"
     ]
    },
    {
     "name": "stdout",
     "output_type": "stream",
     "text": [
      "[!] No image found on page 0\n",
      "[!] No image found on page 1\n",
      "nenhuma imagem encontrada\n",
      " PAGTO 0702 ELETRONICO PRIO 1.pdf\n",
      "14.551.970/0001-90 PAK - B06550 (2).pdf\n",
      "14.551.970/0001-90 PAK - B06550.pdf\n",
      "10.477.737/0001-53 PAL - B04660 (2).pdf\n",
      "10.477.737/0001-53 PAL - B04660 ENVIAR FRANQ  2.pdf\n",
      "10.477.737/0001-53 PAL - B04660 ENVIAR FRANQ.pdf\n",
      "10.477.737/0001-53 PAL - B04660 FRANQ ALUGUEL (2).pdf\n",
      "10.477.737/0001-53 PAL - B04660 FRANQ ALUGUEL.pdf\n",
      "09.609.867/0001-13 PAT - B04330  2.pdf\n",
      "09.480.439/0001-33 PAT - B04330 (2).pdf\n",
      "09.480.439/0001-33 PAT - B04330.pdf\n"
     ]
    },
    {
     "name": "stderr",
     "output_type": "stream",
     "text": [
      "'pages' argument isn't specified.Will extract only from page 1 by default.\n"
     ]
    },
    {
     "name": "stdout",
     "output_type": "stream",
     "text": [
      "[+] Found a total of 3 imagesin page 0\n",
      " PAV - B03710.pdf\n",
      "96.842,000/0001-08,96.842.000/0001-08 PBA - B09690 - LANÇAR 20882,90 -  BANCO OK.pdf\n",
      "96.842.000/0001-08 PBA - B09690 - VENCIDO EM 03.02.pdf\n",
      "96.842.000/0001-08 PBA - B09690 L - LANÇAR 3.716,93 - BANCO OK.pdf\n",
      "79.536.553/0001-13 PBT - B20000 FRANQUEADO ALUGUEL.pdf\n",
      "11.374.715/0001-20 PC7 - B0349 (2).pdf\n",
      "11.374.715/0001-20 PC7 - B0349.pdf\n",
      "11.374.715/0001-20 PC7 - B03490 (2).pdf\n",
      "11.374.715/0001-20 PC7 - B03490.pdf\n",
      "07,626,049/0001-01,07.626.049/0001-01 PCC - B04440 BANCO OK.pdf\n",
      "07.626.049/0001-01 PCC - B04440.pdf\n",
      "36.648.414/0001-79 PCD - B06390 ENVIAR FRANQ (2).pdf\n",
      "01.472.302/0001-25 PCD - B06390 ENVIAR FRANQ.pdf\n",
      "36.648.414/0001-79 PCD - B06390 FRANQ ALUGUEL (3).pdf\n",
      "01.472.302/0001-25 PCD - B06390 FRANQ ALUGUEL.pdf\n",
      "42.153.822/0001-52 PCS - B03910 FRANQ ALUGUEL.pdf\n",
      "05.391.884/0001-76 PCS - B03910.pdf\n",
      "21.389.525/0001-30 PDC - 18.02.pdf\n",
      "05.789.313/0001-94 PDI - B02010.pdf\n",
      "02.556.123/0001-39,42.591.651/0522-91 PDM - B03410 - NÃO TEM LINHA PRA LANÇAR.pdf\n",
      "07.545.705/0006-48 PDP - B0167 (2).pdf\n",
      "07.545.705/0006-48 PDP - B0167 (3).pdf\n",
      "07.545.705/0006-48 PDP - B0167 (4).pdf\n",
      "07.545.705/0006-48 PDP - B0167 (5).pdf\n",
      "07.545.705/0006-48 PDP - B0167.pdf\n",
      "04.895.134/0001-79 PDP - B01670  2.pdf\n",
      "04.895.134/0001-79 PDP - B01670 (2)2.pdf\n",
      "04.895.134/0001-79 PDP - B01670 (3) BANCO OK.pdf\n",
      "04.895.134/0001-79 PDP - B01670 (3).pdf\n",
      "04.895.134/0001-79 PDP - B01670 (4) BANCO OK.pdf\n",
      "07.545.705/0006-48 PDP - B01670 -  54608,01 BANCO OK.pdf\n",
      "04.895.134/0001-79 PDP - B01670 2.pdf\n",
      "04.895.134/0001-79 PDP - B01670 BANCO OK.pdf\n",
      "04.895.134/0001-79 PDP - B01670.pdf\n"
     ]
    },
    {
     "name": "stderr",
     "output_type": "stream",
     "text": [
      "'pages' argument isn't specified.Will extract only from page 1 by default.\n"
     ]
    },
    {
     "name": "stdout",
     "output_type": "stream",
     "text": [
      "[+] Found a total of 3 imagesin page 0\n",
      " PDR - 05.02.2022 (BOLETO SEM DESCRIÇÃO DE PGTO).pdf\n",
      "13.004.510/0001-89 PDR - B0668.pdf\n",
      "13.004.510/0001-89 PDR - B06680 FRAN ALUGUEL BANCO OK.pdf\n",
      "41.090.689/0001-70 PDR - B06680 FRANQ DESMEMBRAR (2).pdf\n",
      "41,090,689/0001-70,41.090.689/0001-70 PDR - B06680 FRANQ DESMEMBRAR.pdf\n",
      "27.289.483/0001-42 PEL - B09040 ENVIAR FRANQ (2).pdf\n",
      "27.289.483/0001-42 PEL - B09040 ENVIAR FRANQ 1.pdf\n",
      "27.289.483/0001-42 PEL - B09040 ENVIAR FRANQ.pdf\n",
      "93.209.765/0001-17 PEL - B09040 FRANQ ALUGUEL.pdf\n",
      "27.289.483/0001-42 PEL - B09040 FRANQ DESMEMBRAR.pdf\n",
      "[+] Found a total of 1 imagesin page 0\n"
     ]
    },
    {
     "name": "stderr",
     "output_type": "stream",
     "text": [
      "'pages' argument isn't specified.Will extract only from page 1 by default.\n"
     ]
    },
    {
     "name": "stdout",
     "output_type": "stream",
     "text": [
      " PES - B0125 - ELETRONICO.pdf\n",
      "[+] Found a total of 1 imagesin page 0\n"
     ]
    },
    {
     "name": "stderr",
     "output_type": "stream",
     "text": [
      "'pages' argument isn't specified.Will extract only from page 1 by default.\n"
     ]
    },
    {
     "name": "stdout",
     "output_type": "stream",
     "text": [
      " PES B0125 - PAGO 07.02.pdf\n",
      " PFL - B04030  2.pdf\n",
      " PFL - B04030.pdf\n",
      "31.846.776/0001-50 PFS - B95050 ENVIAR FRANQ  2.pdf\n",
      "31.846.776/0001-50 PFS - B95050 ENVIAR FRANQ (2).pdf\n",
      "31.846.776/0001-50 PFS - B95050 ENVIAR FRANQ.pdf\n",
      "31.846.776/0001-50 PFS - B95050 FRANQ ALUGUEL.pdf\n",
      "18.788.033/0001-03 PGB - B40010 - LANÇAR FP.pdf\n",
      "63.560.114/0001-06 PGB - B40010 - TIRAR DA SOMA - PROGRAMAR ELETRONICO.pdf\n",
      "18.788.033/0001-03 PGB - B40010 3.pdf\n",
      "18.788.033/0001-03 PGB - B40010.pdf\n",
      "47.508.411/0001-56 PGD - B0090.pdf\n",
      "54.360.623/0001-02 PGD - B00900 BOLETO SEM DESCRIÇÃO DE PGTO.pdf\n",
      "53.773.404/0001-84,42.591.651/0943-77 PGS - B01120 - LANÇAMENTO FEITO A MAIOR.pdf\n",
      "42.591.651/0943-77,29.423.721/0001-96 PGS - B01120.pdf\n",
      "67.969.964/0001-13 PH2 - B00830 (2).pdf\n",
      "67.969.964/0001-13 PH2 - B00830.pdf\n",
      "67.969.964/0001-13 PHA - B00300 (2).pdf\n",
      "67.969.964/0001-13 PHA - B00300 (3).pdf\n",
      "67.969.964/0001-13 PHA - B00300.pdf\n",
      " PHI - B00460 -  (1).pdf\n",
      "45.543.915/0001-81 PHI - B00460 -  (2).pdf\n",
      "22.658.370/0001-53 PIC - B07260 (2).pdf\n",
      "2,.,6,5,8,3,7,0,/,1,- PIC - B07260 - LANÇADO 102,58 JUROS 926,96 ENERGIA 18,46 AGUA.pdf\n",
      "22.658.370/0001-53 PIC - B07260.pdf\n",
      "2,.,6,5,8,3,7,0,/,1,- PIE - B03120 ENVIAR FRANQ (2).pdf\n",
      "2,,,.,6,5,8,3,7,0,/,1,- PIE - B03120 ENVIAR FRANQ (3).pdf\n",
      "2,,,.,6,5,8,3,7,0,/,1,- PIE - B03120 ENVIAR FRANQ (4).pdf\n",
      "2,,,.,6,5,8,3,7,0,/,1,- PIE - B03120 ENVIAR FRANQ.pdf\n",
      "08.904.571/0001-62,13.792.742/0001-49 PIE - B03120 FRANQ ALUGUEL (2) DUPLICIDA.pdf\n",
      "08.904.571/0001-62,13.792.742/0001-49 PIE - B03120 FRANQ ALUGUEL (2) VERIF DUPLICIDADE.pdf\n",
      "13.792.742/0001-49 PIE - B03120 FRANQ ALUGUEL (3) DUPLICIDA.pdf\n",
      "13.792.742/0001-49 PIE - B03120 FRANQ ALUGUEL (3) VERIF DUPLICIDADE.pdf\n",
      "13.792.742/0001-49,13,792.742/0001-49 PIE - B03120 FRANQ ALUGUEL DUPLICIDADE.pdf\n",
      "13.792.742/0001-49,13,792.742/0001-49 PIE - B03120 FRANQ ALUGUEL VERIF DUPLICIDADE.pdf\n",
      "1,3,.,7,9,2,4,/,0,-,, PIL.pdf\n",
      "07.443.566/0001-37 PIM - B11790 BANCO OK.pdf\n",
      " PIR - B07150 (2).pdf\n",
      " PIR - B07150.pdf\n",
      "14.551.970/0001-90 PK2 - B0523 - 60.698 ,26 - BANCO OK.pdf\n",
      "14.551.970/0001-90 PKS - B0512 - 189.704 ,62 - BANCO OK.pdf\n",
      "12.130.744/0001-00 PLS - B50110 FRANQ ALUGUEL (3).pdf\n",
      "12.130.744/0001-00 PLS - B50110 FRANQ ALUGUEL.pdf\n",
      "60.863.032/0001-42 PLT - B00010 (2).pdf\n",
      "60.863.032/0001-42 PLT - B00010.pdf\n",
      "33.130.543/0001-82,18.954.481/0001-30 PMI - B08190 FRANCO PAG ENCARGOS (5).pdf\n",
      "04.321.130/0001-87,18.954.481/0001-30 PND - B0392.pdf\n",
      "21.675.002/0001-50 PNO - B09710.pdf\n",
      "35.989.910/0001-23 POC - B0586 - Guarda Volumes.pdf\n",
      "35.989.910/0001-23 POC - B0586 Aluguel 050222 BANCO OK.pdf\n",
      "35.989.910/0001-23 POC - B0586 Guarda Volumes 050222.pdf\n",
      "35.989.910/0001-23 POC - B0586 Rateio050222 BANCO OK.pdf\n",
      "35.989.910/0001-23 POC - B05860.pdf\n",
      "58.482.803/0001-00 POG - B11540   2.pdf\n",
      "58.486.549/0001-18 POG - B11540.pdf\n",
      "24.530.650/0001-07 POG B1154.pdf\n",
      "04.013.911/0001-04 PPG - B02780.pdf\n",
      "02.879.929/0001-68 PPG - BANCO OK.pdf\n",
      "22 698.684/0001-80 PPI - B01280.pdf\n",
      "01.758.016/0001-20,67.662.395/0001-69 PRU - B08900 ENVIAR FRANQ (2).pdf\n",
      "67.662.395/0001-69 PRU - B08900 ENVIAR FRANQ.pdf\n",
      "24.716.928/0001-35 PRU - B08900 FRANCO.pdf\n",
      "35.842.724/0001-67 PRU - B08900 FRANQ ALUGUEL (2).pdf\n",
      "01.758.016/0001-20,35.842.724/0001-67 PRU - B08900 FRANQ ALUGUEL (3).pdf\n",
      "35.842.724/0001-67 PRU - B08900 FRANQ ALUGUEL.pdf\n"
     ]
    },
    {
     "name": "stderr",
     "output_type": "stream",
     "text": [
      "'pages' argument isn't specified.Will extract only from page 1 by default.\n"
     ]
    },
    {
     "name": "stdout",
     "output_type": "stream",
     "text": [
      "[+] Found a total of 4 imagesin page 0\n",
      " PRV - B03270 (2).pdf\n"
     ]
    },
    {
     "name": "stderr",
     "output_type": "stream",
     "text": [
      "'pages' argument isn't specified.Will extract only from page 1 by default.\n"
     ]
    },
    {
     "name": "stdout",
     "output_type": "stream",
     "text": [
      "[+] Found a total of 4 imagesin page 0\n",
      " PRV - B03270.pdf\n",
      "11.318.224/0001-62 PSA - B0669 - 05.02.pdf\n",
      "11.318.224/0001-62 PSA - B06690 (2).pdf\n",
      "11.318.224/0001-62 PSA - B06690.pdf\n",
      "14.551.970/0001-90 PSB - B06200  130.662 ,21.pdf\n",
      " PSB - B06200 -  (1).pdf\n",
      "45.543.915/0001-81 PSB - B06200 -  (2).pdf\n",
      "14.551.970/0001-90 PSC - B02090.pdf\n",
      " PSH - B0802 (2) banco ok.pdf\n",
      " PSH - B0802 (2).pdf\n",
      " PSH - B0802 (3) banco ok.pdf\n",
      " PSH - B0802 (3).pdf\n",
      " PSH - B0802 (4) banco ok.pdf\n",
      " PSH - B0802 (4).pdf\n",
      " PSH - B0802 (5) banco ok.pdf\n",
      " PSH - B0802 (5).pdf\n",
      " PSH - B0802 (6) banco ok.pdf\n",
      " PSH - B0802 banco ok.pdf\n",
      " PSH - B0802.pdf\n",
      " PSH - B08020 ALUGUEL FRANQ.pdf\n",
      " PSH - B08020 DESMEMBRAR (2).pdf\n",
      " PSH - B08020 DESMEMBRAR (3).pdf\n",
      " PSH - B08020 DESMEMBRAR (4).pdf\n",
      " PSH - B08020 DESMEMBRAR (5).pdf\n",
      " PSH - B08020 DESMEMBRAR (6).pdf\n",
      " PSH - B08020 DESMEMBRAR.pdf\n",
      " PSH - B08020 ENVIAR FRANQ (2) 2.pdf\n",
      " PSH - B08020 ENVIAR FRANQ (4).pdf\n",
      " PSH - B08020 ENVIAR FRANQ (5).pdf\n",
      " PSH - B08020 ENVIAR FRANQ (6).pdf\n",
      " PSH - B08020 ENVIAR FRANQ 2.pdf\n",
      " PSH - B08020 ENVIAR FRANQ.pdf\n",
      " PSH - B08020 FRAMQ ALUGUEL.pdf\n",
      " PSH - B08020 FRANQ ALUGUEL (2).pdf\n",
      " PSH - B08020 FRANQ ALUGUEL (3).pdf\n",
      " PSH - B08020 FRANQ ALUGUEL (5).pdf\n",
      " PSH - B08020 FRANQ ALUGUEL 2.pdf\n",
      " PSH - B08020 FRANQ ALUGUEL soma n bate banco ok.pdf\n",
      " PSH - B08020 FRANQ ALUGUEL(2).pdf\n",
      " PSH - B08020 FRANQ ALUGUEL.pdf\n",
      " PSH - B08020 FRANQ DESMEMBRAR.pdf\n",
      "17.332.581/0001-61 PSI - B07850 ENVIAR FRANQ.pdf\n",
      "17.332.581/0001-61 PSI - B07850 FRANQ ALUGUEL.pdf\n",
      "14.551.970/0001-90 PSJ - B4105 - 05.02.pdf\n",
      "14.551.970/0001-90 PSJ - B41050.pdf\n"
     ]
    },
    {
     "name": "stderr",
     "output_type": "stream",
     "text": [
      "'pages' argument isn't specified.Will extract only from page 1 by default.\n"
     ]
    },
    {
     "name": "stdout",
     "output_type": "stream",
     "text": [
      "[+] Found a total of 5 imagesin page 0\n",
      " PSM - B06330 (2).pdf\n"
     ]
    },
    {
     "name": "stderr",
     "output_type": "stream",
     "text": [
      "'pages' argument isn't specified.Will extract only from page 1 by default.\n"
     ]
    },
    {
     "name": "stdout",
     "output_type": "stream",
     "text": [
      "[+] Found a total of 5 imagesin page 0\n",
      " PSM - B06330 (3).pdf\n",
      "13.004.510/0001-89 PSM - B06330 (6).pdf\n"
     ]
    },
    {
     "name": "stderr",
     "output_type": "stream",
     "text": [
      "'pages' argument isn't specified.Will extract only from page 1 by default.\n"
     ]
    },
    {
     "name": "stdout",
     "output_type": "stream",
     "text": [
      "[+] Found a total of 5 imagesin page 0\n",
      " PSM - B06330.pdf\n",
      "11.862.955/0001-74 PSM Q-3 - MC DONALDS.pdf\n",
      "11.158.171/0001-60 PSP - B70390 FRANQ ALUGUEL (2).pdf\n",
      "11.158.171/0001-60 PSP - B70390 FRANQ ALUGUEL.pdf\n",
      "12.772.196/0001-11 PSU - B08520 - FRANQ.pdf\n",
      "79.792.883/0001-70 PTG - 16.02.pdf\n",
      "21.764.677/0001-76 PTG - B05270.pdf\n",
      "02.879.929/0001-68 PTG - BANCO OK.pdf\n",
      "13.182.485/0001-23 PTM - B10240  BANC OK.pdf\n",
      "13.182.485/0001-23 PTM - B10240 VERIF ELETRONICO (2).pdf\n",
      "13.182.485/0001-23 PTM - B10240 VERIF ELETRONICO.pdf\n",
      "31.150.147/0001-91 PTR - B03370 (2) LANÇAR 99,38.pdf\n",
      " PTR - B03370 (2).pdf\n",
      "04.178.017/0001-94 PTR - B03370 (3).pdf\n",
      "31.150.147/0001-91 PTR - B03370 LANÇAR 93,01.pdf\n",
      "04.449.844/0001-75 PTR - B03370.pdf\n",
      "10.547.742/0001-95 PTY - B4062 (2).pdf\n",
      "10.547.742/0001-95 PTY - B4062.pdf\n",
      "10.547.742/0001-95 PTY - B40620 (11).pdf\n",
      "10.547.742/0001-95 PTY - B40620 (2) - JA BAIXADO.pdf\n",
      "10.547.742/0001-95 PTY - B40620 (2).pdf\n",
      "10.547.742/0001-95 PTY - B40620 (3).pdf\n",
      "10.547.742/0001-95 PTY - B40620 (4).pdf\n",
      "10.547.742/0001-95 PTY - B40620 - ERRO BANCO.pdf\n",
      "10.547.742/0001-95 PTY - B40620 - JA BAIXADO.pdf\n",
      "10.547.742/0001-95 PTY - B40620.pdf\n",
      "35.737.292/0001-24 PUR - B0863.pdf\n",
      "35.737.292/0001-24 PUR - B08630 DESMEMBRAR.pdf\n",
      "45.543.915/0001-81 PVR - B20370 -  (1).pdf\n",
      "45.543.915/0001-81 PVR - B20370 -  (2).pdf\n",
      "11.367.914/0001-01 PWS - B40670 (2) - ELETRONICO.pdf\n",
      "11.367.914/0001-01 PWS - B40670 (2).pdf\n",
      "22.424.335/0001-70 PWS - B40670 (3).pdf\n",
      "22.424.335/0001-70 PWS - B40670 (4).pdf\n",
      "22.424.335/0001-70 PWS - B40670 (5).pdf\n",
      "11.367.914/0001-01 PWS - B40670 - ELETRONICO.pdf\n",
      "21.774.558/0001-02 PWS - B40670 - ENERGIA.pdf\n",
      "22.424.335/0001-70 PWS - B40670 1.pdf\n",
      "21.774.558/0001-02 PWS - B40670 BANCO OK.pdf\n",
      "00.787.330/0001-79 PZS - B00400 (2).pdf\n",
      "00.787.330/0001-79 PZS - B00400.pdf\n",
      "24.436.027/0001-90 RAM - B40350 - 15.02 71.326 ,74 BANCO OK.pdf\n",
      "01.195.612/0001-40,12.130.744/0001-00 RAP - B00660.pdf\n",
      "34.309.019/0001-36 RAP B0066.pdf\n",
      "01.195.612/0001-40,12.130.744/0001-00 RAP Boleto - Mc Donalds - Vcto. 23-02-2022.pdf\n",
      "01.195.612/0001-40 RAP- Mccafé - Vcto 18-02-2022.pdf\n",
      "72.911.837/0001-01 RAS - B20180 FRANQ - ELETRONICO.pdf\n",
      "09.002.580/0001-20 RB1 - B0284 (2).pdf\n",
      "14.087.828/0001-33 RB1 - B0284.pdf\n",
      "14.087.828/0001-33 RB1 - B02840.pdf\n",
      "33.429.713/0001-24,42.591.651/0496-65 RB4 - B02860 (2) 2.101 ,85.pdf\n",
      "33.429.713/0001-24,42.591.651/0496-65 RB4 - B02860 (3) 3.374 ,46.pdf\n",
      "42.507.327/0001-02 RB4 - B02860 - LANÇAR -1749,37.pdf\n",
      "33.429.713/0001-24,42.591.651/0496-65 RB4 - B02860 2.101 ,85.pdf\n",
      "14.444.950/0001-10 RBD - B2084 - ELETRONICO.pdf\n",
      "14.444.950/0001-10,14.444,950/0001-10 RBD - B2084.pdf\n",
      "14.444.950/0001-10 RBD - B20840 (2).pdf\n",
      "58.699.232/0001-60 RBD - B20840 ENERGIA FILIAL KM58.pdf\n",
      "14.444.950/0001-10,14.444,950/0001-10 RBD - B20840.pdf\n",
      "58.699.232/0001-60 RBS - B2016 (3).pdf\n",
      "13.004.510/0001-89 RCF - B06000 .pdf\n",
      "79.792.883/0001-70 RCH - B06060 (2).pdf\n",
      "83.646.984/0001-00 RCH - B06060.pdf\n",
      "05.789.313/0001-94 RCL - B0532 - 5062,19.pdf\n",
      "46.055.141/0001-02 RCL - B05320 BANCO OK.pdf\n",
      "07.889.007/0001-55 RCL - B05320.pdf\n",
      "11.997.274/0001-13 RD2 - B08290 FRANQ ALUGUEL.pdf\n",
      " RD2 - B08290.pdf\n",
      "05.294.268/0001-05 RDR - B08810 FRANQ ALUGUEL - ELETRONICO.pdf\n",
      "35.480.618/0001-80 RDS - B08280 FRANQ ALUG 2 BOLETOS BANCO OK.pdf\n",
      "35.480.618/0001-80 RDS - B08280 FRANQ ALUGUEL.pdf\n",
      "35.480.618/0001-80 RDS - B08280 FRANQBOLETOS  ALUGUEL 02 22 ARCOS.pdf\n",
      " RDS - B08280.pdf\n",
      "00.821.438/0001-30 REC - B60050 - FRAN.pdf\n",
      "00.821.438/0001-30 REC - B60050 - FRANQ.pdf\n",
      "00.821.438/0001-30 REC - B60050 - FRANQUEADO.pdf\n",
      "00.821.438/0001-30 REC - B60050.pdf\n",
      "00.821.438/0001-30 REC - B6005_NDS_202202_parte_087.pdf\n"
     ]
    },
    {
     "name": "stderr",
     "output_type": "stream",
     "text": [
      "'pages' argument isn't specified.Will extract only from page 1 by default.\n"
     ]
    },
    {
     "name": "stdout",
     "output_type": "stream",
     "text": [
      "[+] Found a total of 8 imagesin page 0\n",
      " REEMBOLSO IPTU 2022 - ARK.pdf\n"
     ]
    },
    {
     "name": "stderr",
     "output_type": "stream",
     "text": [
      "'pages' argument isn't specified.Will extract only from page 1 by default.\n"
     ]
    },
    {
     "name": "stdout",
     "output_type": "stream",
     "text": [
      "[+] Found a total of 3 imagesin page 0\n",
      " REEMBOLSO IPTU 2022 - CEM.pdf\n"
     ]
    },
    {
     "name": "stderr",
     "output_type": "stream",
     "text": [
      "'pages' argument isn't specified.Will extract only from page 1 by default.\n"
     ]
    },
    {
     "name": "stdout",
     "output_type": "stream",
     "text": [
      "[+] Found a total of 7 imagesin page 0\n",
      " REEMBOLSO IPTU 2022 - CWB.pdf\n"
     ]
    },
    {
     "name": "stderr",
     "output_type": "stream",
     "text": [
      "'pages' argument isn't specified.Will extract only from page 1 by default.\n"
     ]
    },
    {
     "name": "stdout",
     "output_type": "stream",
     "text": [
      "[+] Found a total of 3 imagesin page 0\n",
      " REEMBOLSO IPTU 2022 - DBI.pdf\n"
     ]
    },
    {
     "name": "stderr",
     "output_type": "stream",
     "text": [
      "'pages' argument isn't specified.Will extract only from page 1 by default.\n"
     ]
    },
    {
     "name": "stdout",
     "output_type": "stream",
     "text": [
      "[+] Found a total of 3 imagesin page 0\n",
      " REEMBOLSO IPTU 2022 - DPG.pdf\n"
     ]
    },
    {
     "name": "stderr",
     "output_type": "stream",
     "text": [
      "'pages' argument isn't specified.Will extract only from page 1 by default.\n"
     ]
    },
    {
     "name": "stdout",
     "output_type": "stream",
     "text": [
      "[+] Found a total of 4 imagesin page 0\n",
      " REEMBOLSO IPTU 2022 - ENG.pdf\n"
     ]
    },
    {
     "name": "stderr",
     "output_type": "stream",
     "text": [
      "'pages' argument isn't specified.Will extract only from page 1 by default.\n"
     ]
    },
    {
     "name": "stdout",
     "output_type": "stream",
     "text": [
      "[+] Found a total of 7 imagesin page 0\n",
      " REEMBOLSO IPTU 2022 - LDR.pdf\n"
     ]
    },
    {
     "name": "stderr",
     "output_type": "stream",
     "text": [
      "'pages' argument isn't specified.Will extract only from page 1 by default.\n"
     ]
    },
    {
     "name": "stdout",
     "output_type": "stream",
     "text": [
      "[+] Found a total of 3 imagesin page 0\n",
      " REEMBOLSO IPTU 2022 - LIB.pdf\n"
     ]
    },
    {
     "name": "stderr",
     "output_type": "stream",
     "text": [
      "'pages' argument isn't specified.Will extract only from page 1 by default.\n"
     ]
    },
    {
     "name": "stdout",
     "output_type": "stream",
     "text": [
      "[+] Found a total of 7 imagesin page 0\n",
      " REEMBOLSO IPTU 2022 - PEN.pdf\n"
     ]
    },
    {
     "name": "stderr",
     "output_type": "stream",
     "text": [
      "'pages' argument isn't specified.Will extract only from page 1 by default.\n"
     ]
    },
    {
     "name": "stdout",
     "output_type": "stream",
     "text": [
      "[+] Found a total of 3 imagesin page 0\n",
      " REEMBOLSO IPTU 2022 - RPD.pdf\n"
     ]
    },
    {
     "name": "stderr",
     "output_type": "stream",
     "text": [
      "'pages' argument isn't specified.Will extract only from page 1 by default.\n"
     ]
    },
    {
     "name": "stdout",
     "output_type": "stream",
     "text": [
      "[+] Found a total of 4 imagesin page 0\n",
      " REEMBOLSO IPTU 2022 - SAP.pdf\n",
      "74.068.623/0001-63 RES - B02960 (2).pdf\n",
      "14,068.823/0001-63 RES - B02960.pdf\n",
      "22.761.208/0001-66 RGC - B0500 (2).pdf\n",
      "22.761.208/0001-66 RGC - B0500.pdf\n",
      "2,.,7,6,1,0,8,/,- RGC - B05000  366,79  903,38  1646,25.pdf\n"
     ]
    },
    {
     "name": "stderr",
     "output_type": "stream",
     "text": [
      "'pages' argument isn't specified.Will extract only from page 1 by default.\n"
     ]
    },
    {
     "name": "stdout",
     "output_type": "stream",
     "text": [
      "[+] Found a total of 2 imagesin page 0\n",
      " RIB - B05100 (2).pdf\n"
     ]
    },
    {
     "name": "stderr",
     "output_type": "stream",
     "text": [
      "'pages' argument isn't specified.Will extract only from page 1 by default.\n"
     ]
    },
    {
     "name": "stdout",
     "output_type": "stream",
     "text": [
      "[+] Found a total of 2 imagesin page 0\n",
      " RIB - B05100.pdf\n",
      "05.461.877/0001-01,56.024.581/0001-56 RIN - B20130.pdf\n",
      "00.961.475/0001-44 RIO - B05820.pdf\n",
      "00.961.475/0001-44 RIO MC DONALDS 10.02.pdf\n",
      "21,399,573/0001-00,21.399.573/0001-00 RMF - B40180 ENVIAR FRANCO.pdf\n",
      "21,399,573/0001-00,21.399.573/0001-00 RMF - B40180 ENVIAR FRANQ.pdf\n",
      "21.399.573/0001-00 RMF - B40180 FRANQ ALUGUEL (2).pdf\n",
      "23.803.719/0001-66 RMF - B40180 FRANQ ALUGUEL (3).pdf\n",
      "23.803.719/0001-66 RMF - B40180 FRANQ ALUGUEL (4).pdf\n",
      "21.399.573/0001-00 RMF - B40180 FRANQ ALUGUEL.pdf\n",
      "21,399,573/0001-00,21.399.573/0001-00 RMN - B09620 ENVIAR FRANQ.pdf\n",
      "23.803.719/0001-66 RMN - B09620 FRANQ ALUGUEL (2).pdf\n",
      "23.803.719/0001-66 RMN - B09620 FRANQ ALUGUEL.pdf\n",
      "23.803.719/0001-66 RMN - B09620 FRANQ IPTU.pdf\n",
      "16.888.022/0001-70 RMR - B09460 (2).pdf\n",
      "16.888.022/0001-70 RMR - B09460 ENVIAR FRANCO (2).pdf\n",
      "16.888.022/0001-70 RMR - B09460 ENVIAR FRANCO (3).pdf\n",
      "16.888.022/0001-70 RMR - B09460 ENVIAR FRANCO (4).pdf\n",
      "16.888.022/0001-70 RMR - B09460 ENVIAR FRANCO.pdf\n",
      "16.888.022/0001-70 RMR - B09460 FRANCO ALUGUEL (2).pdf\n",
      "16.888.022/0001-70 RMR - B09460 FRANCO ALUGUEL (3).pdf\n",
      "16.888.022/0001-70 RMR - B09460 FRANCO ALUGUEL (4).pdf\n",
      "16.888.022/0001-70 RMR - B09460 FRANCO ALUGUEL.pdf\n",
      "16.888.022/0001-70 RMR - B09460 FRANQ .pdf\n",
      "16.888.022/0001-70 RMR - B09460 FRANQ ALUGUEL.pdf\n",
      "16.888.022/0001-70 RMR - B09460.pdf\n",
      "33.295.949/0001-15 ROD - B0731 (2) - BANCO OK.pdf\n",
      "33.295.949/0001-15 ROD - B0731 (2).pdf\n",
      "18.645.825/0001-29 ROD - B0731 - BANCO OK.pdf\n",
      "18.645.825/0001-29 ROD - B0731.pdf\n",
      "12.916.408/0002-78 ROD - B07310 ENVIAR FRANQ.pdf\n",
      "12.916.408/0002-78,33.447.690/0001-80 ROD - B07310 ENVIAR FRANQUEADO (2).pdf\n",
      "12.916.408/0002-78,33.447.690/0001-80 ROD - B07310 ENVIAR FRANQUEADO.pdf\n",
      "[+] Found a total of 47 imagesin page 0\n",
      "[+] Found a total of 34 imagesin page 1\n"
     ]
    },
    {
     "name": "stderr",
     "output_type": "stream",
     "text": [
      "'pages' argument isn't specified.Will extract only from page 1 by default.\n"
     ]
    },
    {
     "name": "stdout",
     "output_type": "stream",
     "text": [
      " ROM - B10420.pdf\n",
      "00.908.059/0001-82 ROY - B0584 (2) BANCO OK.pdf\n",
      "00.908.059/0001-82 ROY - B0584 BANCO OK.pdf\n",
      "00.908.059/0001-82 ROY - B05840 ENVIAR FRANQ (2).pdf\n",
      "00.908.059/0001-82 ROY - B05840 ENVIAR FRANQ (2)3.pdf\n",
      "00.908.059/0001-82,00.908.059/0001-62 ROY - B05840 ENVIAR FRANQ 3.pdf\n",
      "00.908.059/0001-82 ROY - B05840 ENVIAR FRANQ.pdf\n",
      "21.764.677/0001-76 ROY - B05840 FRANQ.pdf\n",
      "45.543.915/0001-81 RPD - B02550 -  (1).pdf\n",
      "[+] Found a total of 1 imagesin page 0\n"
     ]
    },
    {
     "name": "stderr",
     "output_type": "stream",
     "text": [
      "'pages' argument isn't specified.Will extract only from page 1 by default.\n"
     ]
    },
    {
     "name": "stdout",
     "output_type": "stream",
     "text": [
      " RPD - B02550 -  (2).pdf\n",
      " RPM - B0270 - LANÇAR 2.800,97.pdf\n",
      "61.997.458/0001-51 RPS - B08800  ENVIAR FRANQ.pdf\n",
      "61.997.458/0001-51,53.206.728/0001-30 RPS - B08800 - FRANQ - VERIF ELETRONICO.pdf\n",
      "61.997.458/0001-51,53.206.728/0001-30 RPS - B08800 - FRANQ - VERIF ELETRONICO2.pdf\n",
      "45.543.915/0001-81 RPT - B05010 -  (1).pdf\n",
      "45.543.915/0001-81 RPT - B05010 -  (2).pdf\n",
      "14.551.970/0001-90 RPT 902229_RBS2026282_06.pdf\n",
      "02.679.948/0001-40 RS2 - 22.02.pdf\n",
      "02.679.948/0001-40 RS2 - B40710 - BANCO OK.pdf\n",
      "07.166.553/0001-68 RS2 - B40710 - VERIF ELETRONICO.pdf\n",
      "02.679.948/0001-40 RS2 - B40710.pdf\n",
      "02.773.542/0001-22 RSB - B06090 (2) - BANCO OK.pdf\n",
      "02.679.948/0001-40 RSB - B06090 (3) - BANCO OK.pdf\n",
      "02.773.542/0001-22 RSB - B06090 BANCO OK.pdf\n",
      "02.679.948/0001-40 RSB - B06090.pdf\n",
      "02.679.948/0001-40 RSB 22.02.pdf\n",
      "71.322.150/0044-08 RSB B0609 - VERIF CLASSIFICAÇÃO.pdf\n",
      "05.294.268/0001-05 RSE - B08930 FRANQ ALUGUEL (VERIF ELETRONICO) (2).pdf\n",
      "05.294.268/0001-05 RSE - B08930 FRANQ ALUGUEL (VERIF ELETRONICO).pdf\n",
      "05.294.268/0001-05 RSH - B08850 FRANQ ALUGUEL (2) - ELETRONICO.pdf\n",
      "05.294.268/0001-05 RSH - B08850 FRANQ ALUGUEL (VERIF ELETRONICO).pdf\n",
      "05.294.268/0001-05 RSH - B08850 FRANQ ALUGUEL - ELETRONICO.pdf\n",
      "05.294.268/0001-05 RSH - B08850 FRANQ ALUGUEL VERIFICAR ELETRONICO.pdf\n",
      "05.294.268/0001-05 RSH - B08850 FRANQ ALUGUEL.pdf\n",
      "12.196.405/0001-26 RSP - B0647 - Alug. Comp. Comp. 01.2022 Venc. 02.2022.pdf\n",
      "01.147.873/0001-94 RSP - B0647 - FPP Comp. 01.2022 Venc. 02.2022.pdf\n",
      "00.869.858/0001-97 RSP - B0647. - Cond. Comp. 01.2022 Venc. 02.2022.pdf\n",
      "33.010.836/0001-26 RSU - B02900 2.pdf\n",
      "33.010.836/0001-26 RSU - B02900.pdf\n",
      "13.501.226/0001-18 RVE - B08040.pdf\n",
      "76.659.622/0001-98 RXV - B06140 - 154,76 banco ok.pdf\n",
      "78.542.636/0001-52 RXV - B06140.pdf\n",
      "01.278.726/0001-53 S3A - B07710 (2) 666 ,08.pdf\n",
      "13.008.381/0001-05 S3A - B07710 (2) ERRO BANCO.pdf\n",
      " S3A - B07710 (2).pdf\n",
      "47.054.076/0001-49,07.054.076/0001-49 S3A - B07710 - ELETRONICO.pdf\n",
      "01.278.726/0001-53 S3A - B07710 2.101 ,28.pdf\n",
      "13.008.381/0002-88 S3A - B07710.pdf\n",
      "59.837.641/0001-48,18.191.228/0001-71 SAM - B0029.pdf\n",
      "67.831.842/0001-66 SAM - B00290.pdf\n",
      "22.990.102/0001-34 SAR - B20530 L.pdf\n",
      "22.990.102/0001-34 SAR - B20530.pdf\n"
     ]
    },
    {
     "name": "stderr",
     "output_type": "stream",
     "text": [
      "'pages' argument isn't specified.Will extract only from page 1 by default.\n"
     ]
    },
    {
     "name": "stdout",
     "output_type": "stream",
     "text": [
      "[+] Found a total of 2 imagesin page 0\n",
      " SAS - B0571 PGTO URGENTE 71.284 ,98 BANCO OK.pdf\n",
      "17.793.293/0001-04 SAT - B07240 FRANQ ALUGUEL.pdf\n",
      "00.103.904/0001-42 SAV - B03030.pdf\n",
      "97.422.620/0001-50 SBA - B02990 BANCO OK.pdf\n",
      "16.188.955/0001-54 SBA - B02990.pdf\n",
      "09.137.429/0001-08 SBB - B09310 DESMEMBRAR.pdf\n",
      "09.137.429/0001-08 SBB - B09310 ENVIAR FRANQ (2).pdf\n",
      "09.137.429/0001-08 SBB - B09310 ENVIAR FRANQ (3).pdf\n",
      "09.137.429/0001-08 SBB - B09310 ENVIAR FRANQ 2.pdf\n",
      "09.137.429/0001-08 SBB - B09310 ENVIAR FRANQ.pdf\n",
      "09.137.429/0001-08 SBB - B09310 FRANQ ALUGUEL.pdf\n",
      "09.137.429/0001-08 SBB - B09310 FRANQ DESMEMBRAR.pdf\n",
      "09.137.429/0001-08 SBB - B09310 FRANQ.pdf\n",
      "09.137.429/0001-08 SBB - B09310.pdf\n",
      "08.781.608/0002-93 SBF - B0921.pdf\n",
      "16.980.480/0001-34 SBF - B09210 ENVIAR FRANQ.pdf\n",
      "08.781.608/0002-93 SBF - B09210 FRANQ ALUGUEL.pdf\n",
      "16.980.480/0001-34 SBF - B0931.pdf\n",
      "15.179.694/0001-43 SBL - B09550 ENVIAR FRANQ.pdf\n",
      "09.127.346/0001-20 SBL - B09550 FRANQ ALUGUEL - ELETRONICO.pdf\n",
      "31.169.978/0001-05 SBM - B1120 1.pdf\n",
      "31.169.978/0001-05 SBM - B1120.pdf\n",
      "3,1,.,6,9,7,8,/,0,-,5 SBM - B11200 (2) - PROGRAMAR 36.700,76 - 1.430,00.pdf\n",
      "3,,,1,.,6,9,7,8,/,0,-,5 SBM - B11200 - PROGRAMAR 8.255,54 - -2.476,66.pdf\n",
      "38.170.860/0001-46 SBM - B11200.pdf\n",
      "03.497.430/0001-59 SBO - B0822.pdf\n",
      "40.392.904/0001-24,29.738.226/0001-76 SBO - B08220 ENVIAR FRANQ.pdf\n",
      "03.497.430/0001-59 SBO - B08220 FRANQ ALUGUEL.pdf\n",
      " SBP - B10130 (2).pdf\n",
      " SBP - B10130 - JÁ TEM BOLETO COM ENCARGOS.pdf\n",
      " SBP - B10130 - VERIF LANÇAMENTOS.pdf\n",
      " SBP - B10130 -.pdf\n",
      " SBP - B10130.pdf\n",
      "14.551.970/0001-90 SBS - B06250 2.pdf\n",
      "42.591.651/1150-48,14.551.970/0001-90 SBS - B06250.pdf\n",
      "09.431.375/0001-80 SBV - B01840 (3).pdf\n",
      "09.431.375/0001-80 SBV - B01840.pdf\n",
      "53.993.077/0001-76 SC3 - B02420 (2).pdf\n",
      "53.993.077/0001-76 SC3 - B02420 (3).pdf\n",
      "61.648.655/0001-65 SC3 - B02420.pdf\n",
      "08.380.802/0001-86 SCA - B02630   2.pdf\n",
      "77.591.402/0001-32 SCA - B02630 (3).pdf\n",
      "08.380.802/0001-86 SCA - B02630.pdf\n"
     ]
    },
    {
     "name": "stderr",
     "output_type": "stream",
     "text": [
      "'pages' argument isn't specified.Will extract only from page 1 by default.\n"
     ]
    },
    {
     "name": "stdout",
     "output_type": "stream",
     "text": [
      "09.002.580/0001-20 SCC - B0920.pdf\n",
      "[+] Found a total of 3 imagesin page 0\n",
      " SCD - B05890 (2).pdf\n"
     ]
    },
    {
     "name": "stderr",
     "output_type": "stream",
     "text": [
      "'pages' argument isn't specified.Will extract only from page 1 by default.\n"
     ]
    },
    {
     "name": "stdout",
     "output_type": "stream",
     "text": [
      "[+] Found a total of 3 imagesin page 0\n",
      " SCD - B05890.pdf\n",
      "03.841.406/0001-95 SCF - B06280 (2).pdf\n",
      "03.841.406/0001-95 SCF - B06280.pdf\n",
      "27.192.325/0001-70,39.346.861/0001-61 SCJ - B04050 (2).pdf\n",
      "27.192.325/0001-70,39.346.861/0001-61 SCJ - B04050.pdf\n",
      "01.597.336/0001-46 SCL - B00220 - 31950,54.pdf\n",
      "67.668.384/0001-96 SCL - B00220 - Duplicidade.pdf\n",
      "67.668.384/0001-96 SCL - B00220 Fundo Prom.25-02-22.pdf\n",
      "61.464.749/0001-84 SCL - B00220.pdf\n"
     ]
    },
    {
     "name": "stderr",
     "output_type": "stream",
     "text": [
      "'pages' argument isn't specified.Will extract only from page 1 by default.\n"
     ]
    },
    {
     "name": "stdout",
     "output_type": "stream",
     "text": [
      "[+] Found a total of 2 imagesin page 0\n",
      " SCN - 18.02 (2).pdf\n"
     ]
    },
    {
     "name": "stderr",
     "output_type": "stream",
     "text": [
      "'pages' argument isn't specified.Will extract only from page 1 by default.\n"
     ]
    },
    {
     "name": "stdout",
     "output_type": "stream",
     "text": [
      "[+] Found a total of 2 imagesin page 0\n",
      " SCN - 18.02 (3).pdf\n"
     ]
    },
    {
     "name": "stderr",
     "output_type": "stream",
     "text": [
      "'pages' argument isn't specified.Will extract only from page 1 by default.\n"
     ]
    },
    {
     "name": "stdout",
     "output_type": "stream",
     "text": [
      "[+] Found a total of 2 imagesin page 0\n",
      " SCN - 18.02.pdf\n",
      "16.806.294/0001-83 SCO - B04650 ENVIAR FRANQ (2).pdf\n",
      "16.806.294/0001-83 SCO - B04650 ENVIAR FRANQ (3).pdf\n",
      "16.806.294/0001-83 SCO - B04650 ENVIAR FRANQ.pdf\n",
      "16.806.294/0001-83 SCO - B04650 FRANQ ALUGUEL (3) L.pdf\n",
      "16.806.294/0001-83 SCO - B04650 FRANQ ALUGUEL (4) L.pdf\n",
      "16.806.294/0001-83 SCO - B04650 FRANQ ALUGUEL (6) BOLETO PAGO DIA 15.pdf\n",
      "16.806.294/0001-83 SCO - B04650 FRANQ ALUGUEL L.pdf\n",
      "30.751.886/0001-76 SCP - B00250 (2).pdf\n",
      "30.751.886/0001-76 SCP - B00250 - VERIF LANÇAMENTOS.pdf\n",
      "30.751.886/0001-76 SCP - B00250 2.pdf\n",
      "30.751.886/0001-76 SCP - B00250.pdf\n",
      "42:591.651/0001-43 SCR - B20280.pdf\n",
      "45.543.915/0001-81 SCS - B00560 -  (1).pdf\n",
      " SCS - B00560 -  (2).pdf\n",
      "45.543.915/0001-81 SCS - B00560 - 2 (1).pdf\n",
      " SCS - B00560 - 2 (2).pdf\n",
      " SCT - B0123 (2) - 05.02- SOMA N BATE.pdf\n",
      " SCT - B01230 (2).pdf\n",
      " SCT - B01230 (3).pdf\n",
      " SCT - B01230.pdf\n",
      "45.401.007/0001-53 SCV - B07010 - ENVIAR FRANQ.pdf\n",
      "45.401.007/0001-53 SCV - B07010 FRANQ ALUGUEL.pdf\n",
      "32.215.331/0001-35 SCX - B08270  (4) BANCO OK.pdf\n",
      "32.215.331/0001-35 SCX - B08270  BANCO OK.pdf\n",
      "32.215.331/0001-35 SCX - B08270 ELETRONICO (2).pdf\n",
      "32.215.331/0001-35 SCX - B08270 FRANQ ALUGUEL BANCO OK.pdf\n",
      "32.215.331/0001-35 SCX - B08270 FRANQ ALUGUEL VERIF ELETRONICO.pdf\n",
      "32.215.331/0001-35 SCX - B08270 FRANQ ALUGUEL.pdf\n",
      "33.130.543/0001-82,18.954.481/0001-30 SCZ - 1802.pdf\n",
      "55.044.341/0001-50 SDE - B00350.pdf\n",
      "08.140.551/0001-62 SEC - B07140 - FRANQ ENCARGOS.pdf\n",
      "08.140.551/0001-62 SEC - B07140 ENVIAR FRANQUEADO (2).pdf\n",
      "08.140.551/0001-62 SEC - B07140 ENVIAR FRANQUEADO.pdf\n",
      "07.174.799/0001-81 SEC - B07140 FRANCO ALUGUEL (2).pdf\n",
      "07.174.799/0001-81 SEC - B07140 FRANCO ALUGUEL.pdf\n",
      "07.174.799/0001-81 SEC - B07140 FRANQ ALUGUEL.pdf\n",
      "08.140.551/0001-62 SEC - B07140 FRANQ ENVIAR FRANQ (2).pdf\n",
      "07.174.799/0001-81 SEC - B07140 FRANQ ENVIAR FRANQ.pdf\n",
      "46.365.524/0001-87 SEL - B00310.pdf\n",
      " SEN - B11670.pdf\n",
      "18.605.172/0001-54 SEP - B10550.pdf\n",
      "23.478.960/0001-67 SES - B04530.pdf\n",
      "11.384.227/0001-02,42,591.651/0001-43 SFC - B01630 - PROGRAMAR ELETRONICO.pdf\n",
      "82.956.160/0001-73 SFL - B0624 (2).pdf\n",
      "82.956.160/0001-73 SFL - B0624 (3) - JÁ BAIXADO.pdf\n",
      "82.956.160/0001-73 SFL - B0624 (4).pdf\n",
      "82.956.160/0001-73 SFL - B0624 (5).pdf\n",
      "82.956.160/0001-73 SFL - B0624.pdf\n",
      "08.613.321/0001-73 SFL - B06240 - ELETRONICO.pdf\n",
      "08.613.321/0001-73 SFL - B06240 - VERIFICAR ELETRONICO.pdf\n",
      "08.613.321/0001-73 SFL - B06240 -TIRAR DA SOMA - PROGRAMAR ELETRONICO.pdf\n",
      "82.956.160/0001-73 SFL - B06240 banco ok L.pdf\n",
      " SFR (3)  - BANCO OK IPTU.pdf\n",
      " SFR (4)  - BANCO OK IPTU.pdf\n",
      " SFR (5)  - BANCO OK IPTU.pdf\n",
      "45.543.915/0001-81 SGA - B20800 - DESMEMBRAR (1).pdf\n",
      "45.543.915/0001-81 SGA - B20800 - DESMEMBRAR (2).pdf\n",
      "30.712.938/0001-03 SGP - B91320.pdf\n",
      "07.947.824/0001-12 SGR - B91000 (2).pdf\n",
      "07.947.824/0001-12 SGR - B91000 (2)3.pdf\n",
      "07.947.824/0001-12 SGR - B91000 (3).pdf\n",
      "07.947.824/0001-12 SGR - B91000.pdf\n",
      "07.947.824/0001-12 SGR Boletos - MC Café 24.02.pdf\n",
      "07.947.824/0001-12 SGR Boletos - MC Donald´s - Aluguel.pdf\n",
      "03.760.207/0001-52,08.769.451/0001-08 SGS - B03930 (2).pdf\n",
      "06.068.650/0001-55 SGS - B03930 L.pdf\n",
      "06.068.650/0001-55 SGS - B03930.pdf\n",
      "06.068.650/0001-55 SGS_BOLETO FPP - MC DONALDS 21.02.pdf\n",
      "06.068.650/0001-55 SGS_BOLETO MC CAFÉ - CONDO E FPP - banco ok.pdf\n",
      "06.068.650/0001-55 SGS_BOLETO MC DONALD'S - CONDOMÍNIO - banco ok.pdf\n",
      "06.068.650/0001-55 SGS_BOLETO MC SORVETE - CONDO E FPP - banco ok.pdf\n",
      "06.068.650/0001-55 SGS_BOLETO MC_QUIOSQUE - CONDOMÍNIO banco ok.pdf\n",
      "41.090.689/0001-70 SGU - B05180 (2) - BANCO OK.pdf\n",
      "41.090.689/0001-70 SGU - B05180 (3).pdf\n",
      "41.090.689/0001-70 SGU - B05180.pdf\n",
      "12.411.105/0001-12 SGV - B02040  1.pdf\n"
     ]
    },
    {
     "name": "stderr",
     "output_type": "stream",
     "text": [
      "'pages' argument isn't specified.Will extract only from page 1 by default.\n"
     ]
    },
    {
     "name": "stdout",
     "output_type": "stream",
     "text": [
      "[+] Found a total of 5 imagesin page 0\n",
      " SGV - B02040 2.pdf\n",
      "42.591.651/0925-95,05.047.690/0001-58 SHB - B06190 (2).pdf\n",
      "05.047.690/0001-58 SHB - B06190 (3).pdf\n",
      "05.047.690/0001-58 SHB - B06190 (4).pdf\n",
      "05.047.690/0001-58 SHB - B06190 - PAGAR - N DISP PARA PAGTO.pdf\n",
      "05.047.690/0001-58 SHB - B06190.pdf\n",
      "04.299.191/0001-95 SHJ - B03960.pdf\n",
      "44.023.323/0001-76,59.789.370/0001-00,01.962.421/0001-66 SHO - B00880 ENVIAR FRANQ.pdf\n",
      "07.026.097/0001-50 SHP - B09220.pdf\n",
      "0,7,.,2,6,9,/,1,-,5 SHS - B70180 ENVIAR FRANQ.pdf\n",
      "35.444.739/0001-77 SHS - B70180 FRANQ ALUGUEL.pdf\n",
      "27.188.442/0001-60 SHT - B20080 FRANQ ALUGUEL (2).pdf\n",
      "27.188.442/0001-60 SHT - B20080 FRANQ ALUGUEL ELETRONICO.pdf\n",
      "27.188.442/0001-60 SHT - B20080 FRANQ ALUGUEL.pdf\n",
      "27.188.442/0001-60 SHT - B20080-1.pdf\n",
      "27.188.442/0001-60 SHT - B20080-2 - ELETRONICO.pdf\n",
      "58.579.467/0001-18 SIB - B00190 - boleto 1 jA BAIXADO, os outros foram normal.pdf\n",
      "42.591,651/0001-43 SIB - B00190 - boleto 2.pdf\n",
      "42,591.651/0001-43,40.111.553/0001-48 SIB - B00190 - boleto 3.pdf\n",
      "53.985.982/0001-84,42.591,651/0001-43 SIB - B00190 - boleto 4.pdf\n",
      "42.591,651/0001-43,48.111.553/0001-48,42,591.651/0001-43 SIB - B00190 -3 boletos - 17256,16.pdf\n",
      "42.591.851/0001-43,53.985.982/0001-84 SIB - B00190 -3 boletos - 36078,72.pdf\n",
      "42.551.651/0004-43,53,985.982/0001-84,42.594,651/0001-43 SIB - B00190 -3 boletos - Vencimento 20.02.pdf\n",
      " SIB - B00190 1.pdf\n",
      "08.507.747/0001-42 SIF - B09180 - FRANQ (PAGAMOS DESPESAS) (2).pdf\n",
      "08.507.747/0001-42 SIF - B09180 - FRANQ - NÃO TEM LINHA.pdf\n",
      "08.507.747/0001-42 SIF - B09180 FRANQ PAG V2.pdf\n",
      "08.507.747/0001-42 SIF - B09180 FRANQ PAGAR V2 (CONFERIR VERIFICAR CLASSIFICAÇÃO, FIQUEI NA DUV.pdf\n",
      "08.507.747/0001-42 SIF - B09180 FRANQ PAGAR V2 - DEMEMBRAR.pdf\n",
      "08.507.747/0001-42 SIF - B09180.pdf\n",
      "17.975.106/0001-03 SIH - B06490 (2).pdf\n",
      "16.739.911/0001-75 SIH - B06490 (3).pdf\n",
      "09.653.566/0001-97 SIH - B06490.pdf\n",
      "16.758.102/0001-00 SIT - B04670 .pdf\n",
      "16.758.102/0001-00 SIT - B04670 ENVIAR FRANCO (3).pdf\n",
      "16.758.102/0001-00 SIT - B04670 ENVIAR FRANCO (5).pdf\n",
      "16.758.102/0001-00 SIT - B04670 ENVIAR FRANQ.pdf\n",
      "16.758.102/0001-00 SIT - B04670 FRANQ ALUGUEL.pdf\n",
      "13.534.698/0118-88 SJD - B0738 FRANQ.pdf\n",
      "12.756.168/0001-00 SJD - B07380 FRANQ DESMEMBRAR.pdf\n",
      "13.534.698/0118-88 SJD - B07380 FRANQ LOCAÇÃO QUIOSQUE FEVEREIRO.2022.pdf\n",
      "33.130.543/0001-82,18.954.481/0001-30 SJM - B08560 DESMEMBRAR.pdf\n",
      "03.575.205/0001-93 SJN 24.02 (2) banco ok.pdf\n",
      "03.575.205/0001-93 SJN 24.02 banco ok.pdf\n",
      "10.324.624/0001-18 SJO - B0282 (2) banco ok.pdf\n",
      "10.324.624/0001-18 SJO - B0282 - banco ok.pdf\n",
      "40.392.904/0001-24,29.738.226/0001-76 SJO - B02820.pdf\n",
      "21.764.677/0001-76 SJP - B05580 (2).pdf\n",
      "21.764.677/0001-76 SJP - B05580 (3).pdf\n",
      "32.829.299/0001-88 SJP - B05580.pdf\n",
      "79.792.883/0001-70 SJP - B06260 (2).pdf\n",
      "14.551.970/0001-90 SJU - 18.02.pdf\n",
      "14.551.970/0001-90 SJU - B0784 FRANQ (2) (PAGAMOS DESPESAS).pdf\n",
      "14.551.970/0001-90 SJU - B0784 FRANQ (N ENTENDI.pdf\n",
      "14.551.970/0001-90 SJU - B0784 FRANQ PAG V2 (2).pdf\n",
      "14.551.970/0001-90 SJU - B0784 FRANQ PAG V2.pdf\n",
      " SLD - B05630.pdf\n",
      "04.981.663/0001-95 SLM - B70100 ENVIAR FRANQ 2.pdf\n",
      "04.981.663/0001-95 SLM - B70100 ENVIAR FRANQ.pdf\n",
      "04.981.663/0001-95 SLM - B70100 L.pdf\n",
      "42.591.651/0938-00 SLP - B01090 - PAGO 05.02.pdf\n",
      "53.817.748/0001-48 SLP - B01090.pdf\n",
      "11.927.223/0001-15 SLT - B0761 (2) BANCO OK.pdf\n",
      "11.927.223/0001-15 SLT - B0761 BANCO OK.pdf\n",
      "28.431.939/0001-20 SLU - B0581 - ELETRONICO.pdf\n",
      "01.637.668/0001-07 SLU - B05810  2.pdf\n",
      "01.637.668/0001-07 SLU - B05810.pdf\n",
      "15.731.641/0001-93 SLU B0581 (2) - ELETRONICO.pdf\n",
      "28.431.939/0001-20 SLU.pdf\n",
      "02.248.827/0001-44 SM2 - B01170.pdf\n",
      "94.442.431/0001-51,19.468.242/0001-32 SMA - B05350 (2).pdf\n",
      "02.461.623/0001-97,92.213.552/0001-04 SMA - B05350 2.pdf\n",
      "29.014.281/0001-13 SMA - B05350.pdf\n",
      "23.561.833/0001-27,42,591.651/1164-43,42.591.651/1164-43 SMC - B04060 L.pdf\n",
      "10.254.617/0001-97 SME - B01850.pdf\n",
      "21.153.060/0001-14 SMG - 13.02 VERIFICAR LANÇAMENTO (NÃO ENTENDI O VALOR).pdf\n",
      "21.153.060/0001-14 SMG - B7011 ENVAR FRANQ.pdf\n",
      "21.153.060/0001-14 SMG - B7011 ENVIAR FRANQ 2.1.pdf\n",
      "21.153.060/0001-14 SMG - B7011 ENVIAR FRANQ 2.pdf\n",
      "21.153.060/0001-14 SMG - B7011 ENVIAR FRANQ.pdf\n",
      "21.153.060/0001-14 SMG.pdf\n",
      "10.341.684/0001-49 SMI - 18.02.pdf\n",
      "10.341.684/0001-49 SMI - B01870 (2).pdf\n",
      "10.341.684/0001-49 SMI - B01870 (3).pdf\n",
      "42.591.651/0427-33,10.341.684/0001-49 SMI - B01870 (4).pdf\n",
      "10.341.684/0001-49 SMI - B01870 (5).pdf\n",
      "10.341.684/0001-49 SMI - B01870 (6).pdf\n",
      "10.341.684/0001-49 SMI - B01870 (7).pdf\n",
      "10.341.684/0001-49 SMI - B01870 - PAGAR 42.490 ,05.pdf\n",
      "10.341.684/0001-49 SMI - B01870 1.pdf\n",
      "10.341.684/0001-49 SMI - B01870.pdf\n",
      "14.551.970/0001-90 SMO - 18.02.pdf\n",
      "14.551.970/0001-90 SMO - B01340.pdf\n",
      "29.014.281/0001-13 SMS - B91170.pdf\n",
      "02.248.827/0001-44 SMT - B00850 (2).pdf\n",
      "02.248.827/0001-44 SMT - B00850.pdf\n",
      "02.884.951/0002-87 SMU- B01780.pdf\n",
      "02.884.951/0002-87 SMUSHM - B01780 (2).pdf\n",
      "07.195.708/0001-94 SMUSHM - B01780 (3).pdf\n",
      "53.773.404/0001-84 SMUSHM - B01780.pdf\n",
      "04.364.111/0002-19,24.631.801/0001-13 SNC - B09440 ENVIAR FRANCO.pdf\n",
      "04.364.111/0002-19,24.631.801/0001-13 SNC - B09440 ENVIAR FRANQ.pdf\n",
      "04.364.111/0002-19 SNC - B09440 FRANQ ALUGUEL (2).pdf\n",
      "04.364.111/0002-19 SNC - B09440 FRANQ ALUGUEL.pdf\n",
      "04.364.111/0002-19,24.631.801/0001-13,24,631.801/0001-13 SNC - B09440 FRANQ DESMEMBRAR.pdf\n",
      "04.364.111/0002-19 SNC - B09440.pdf\n",
      "23.494.781/0001-13 SNI - B0477.pdf\n",
      "23.494.781/0001-13 SNI - B04770.pdf\n",
      "13.039.848/0001-76 SNO - B0834.pdf\n",
      "13.039.848/0001-76 SNO - B08340 ENVIAR FRANQ (2).pdf\n",
      "13.039.848/0001-76 SNO - B08340 ENVIAR FRANQ.pdf\n",
      "13.039.848/0001-76 SNO - B08340 FRANQ ALUGUEL (2) BANCO OK.pdf\n",
      "13.039.848/0001-76 SNO - B08340 FRANQ ALUGUEL BANCO OK.pdf\n",
      "97.422.620/0001-50 SNO - B08340 FRANQ ALUGUEL.pdf\n",
      "13.039.848/0001-76 SNO - B0834loja 15.02.21.pdf\n",
      "11.989.741/0001-63 SNS - B06430 (2).pdf\n",
      "11.989.741/0001-63 SNS - B06430 - LANÇAR 1279,85.pdf\n",
      "[+] Found a total of 1 imagesin page 0\n"
     ]
    },
    {
     "name": "stderr",
     "output_type": "stream",
     "text": [
      "'pages' argument isn't specified.Will extract only from page 1 by default.\n"
     ]
    },
    {
     "name": "stdout",
     "output_type": "stream",
     "text": [
      " SOC - B07050 -  (1).pdf\n",
      " SOC - B07050 -  (2).pdf\n",
      "79.792.883/0001-70 SOM - 16.02 (2).pdf\n",
      "79.792.883/0001-70 SOM - 16.02.pdf\n",
      "76.694.983/0001-75 SOM - B08700 FRANCO ALUGUEL.pdf\n",
      "13.655.148/0001-06 SON - B70040 - Q103 - BANCO OK L.pdf\n",
      "13.655.148/0001-06 SON - B70040 FRANCO ALUGUEL.pdf\n",
      "13.655.148/0001-06 SON - B70040 Q403 BANCO OK L.pdf\n",
      "29.460.743/0001-26 SPA - B06230 (2).pdf\n",
      "29.460.743/0001-26 SPA - B06230.pdf\n",
      "07.376.573/0001-63 SPC - B07570 ENVIAR FRANQ.pdf\n",
      "15.447.108/0001-02 SPC - B07570 FRANQ ALUGUEL.pdf\n",
      "15.447.108/0001-02 SPC - B07570.pdf\n",
      " SPE - B70370 FRANQ ALUGUEL (2).pdf\n",
      " SPE - B70370 FRANQ ALUGUEL.pdf\n",
      " SPE MC Donald's 25.02.2022 Comp 01.2022 (ALUGUEL COMPLEMENTAR).pdf\n",
      " SPE MC Donald's 25.02.2022 Comp 01.2022 (ALUGUEL).pdf\n",
      "11.323.246/0001-10 SPL - B04540 (2).pdf\n",
      "11.323.246/0001-10 SPL - B04540.pdf\n",
      "18.459.757/0001-03 SPN - B06660 - PAGO EM 07.02.pdf\n",
      "14.702.305/0001-50,02.105.040/0001-23 SPR - B04090 (2).pdf\n",
      "14.702.305/0001-50,02.105.040/0001-23 SPR - B04090 (3).pdf\n",
      "14.015.116/0001-09 SPR - B04090 - BANCO OK 50,00.pdf\n",
      "14.702.305/0001-50,02.105.040/0001-23 SPR - B04090.pdf\n",
      "22.743.376/0001-29 SPV - B06270.pdf\n",
      "32.752.602/0001-91 SRM - B04070 (2).pdf\n",
      "32.752.602/0001-91 SRM - B04070 (3).pdf\n",
      "32.805.087/0001-60 SRM - B04070 2.pdf\n",
      "32.752.602/0001-91 SRM - B04070.pdf\n",
      "[+] Found a total of 1 imagesin page 0\n"
     ]
    },
    {
     "name": "stderr",
     "output_type": "stream",
     "text": [
      "'pages' argument isn't specified.Will extract only from page 1 by default.\n"
     ]
    },
    {
     "name": "stdout",
     "output_type": "stream",
     "text": [
      " SSA - B0094 - ELETRONICO 1.pdf\n",
      "[+] Found a total of 1 imagesin page 0\n",
      "[+] Found a total of 1 imagesin page 1\n"
     ]
    },
    {
     "name": "stderr",
     "output_type": "stream",
     "text": [
      "'pages' argument isn't specified.Will extract only from page 1 by default.\n"
     ]
    },
    {
     "name": "stdout",
     "output_type": "stream",
     "text": [
      " SSA - B0094 - ELETRONICO.pdf\n",
      "59.978.726/0001-46,44.192.474/0001-58 SSC - B0089 COND LJS 058 059 - BANCO OK.pdf\n",
      "13.783.299/0001-40 SSG - B04150 (2).pdf\n",
      "13.783.299/0001-40 SSG - B04150 (3).pdf\n",
      "13.783.299/0001-40 SSG - B04150.pdf\n",
      "08.867.234/0001-42 SSH - B08240 ENVIAR FRANQ.pdf\n",
      "08.867.234/0001-42 SSH - B08240 FRANCO ALUGUEL (2).pdf\n",
      "08.867.234/0001-42 SSH - B08240 FRANCO ALUGUEL (3).pdf\n",
      "08.867.234/0001-42 SSH - B08240 FRANCO ALUGUEL (4).pdf\n",
      "08.867.234/0001-42 SSH - B08240 FRANCO ALUGUEL.pdf\n",
      "08.867.234/0001-42 SSH - B08240 FRANGO ALUGUEL.pdf\n",
      "08.867.234/0001-42 SSH - B08240.pdf\n",
      "32.829.299/0001-88 SSJ - B06260 (2).pdf\n",
      "76.639.798/0001-88 SSJ - B06260 - .pdf\n",
      "76.639.798/0001-88 SSJ - B06260.pdf\n",
      "13.432.170/0001-97 SSL - B0410 (2).pdf\n",
      "13.432.170/0001-97 SSL - B0410 (3).pdf\n",
      "13.432.170/0001-97 SSL - B0410 (4).pdf\n",
      "13.432.170/0001-97 SSL - B0410 (5).pdf\n",
      "13.432.170/0001-97 SSL - B0410 (6).pdf\n",
      "13.432.170/0001-97 SSL - B0410.pdf\n",
      "13.432.170/0001-97 SSL - B04100 ENVIAR FRANQ.pdf\n",
      "13.432.170/0001-97 SSL - B04100 FRANQ ALUGUEL.pdf\n",
      "34.050.040/0001-60 SSN - B01860 - BANCO OK.pdf\n",
      "34.050.040/0001-60 SSN - B01860.pdf\n",
      " SST - B0159.pdf\n",
      " SST - B01590.pdf\n",
      "14.551.970/0001-90 SSU - B05660.pdf\n",
      "07.587.384/0001-30 SSV - 24.04.pdf\n",
      "0,7,.,5,8,3,4,/,1,- SSV - B09530 DESMEMBRAR.pdf\n",
      "07.587.384/0001-30 SSV - B09530 ENVIAR FRANQ.pdf\n",
      "07.587.384/0001-30 SSV - B09530 FRANQ ALUGUEL.pdf\n",
      "37.800.945/0001-06 STB - B01700  2.pdf\n",
      "37.800.945/0001-06 STB - B01700 - VERIF LANÇAMENTOS.pdf\n",
      "37.800.945/0001-06 STB - B01700.pdf\n",
      "3,7,.,8,0,9,4,5,/,1,-,6 STD - B70800 ENVIAR FRANQ.pdf\n",
      "22.658.370/0001-53 STD - B70800 FRANQ ALUGUEL.pdf\n",
      " STJ - B03210  2.pdf\n",
      " STJ - B03210.pdf\n",
      "52.252.798/0001-62 STS - B00200 (2) - 4.685,23 BANCO OK - FALTA 2,00.pdf\n",
      "56.096.910/0001-74 STS - B00200 - ELETRONICO.pdf\n",
      "52.252.798/0001-62 STS - B00200 - VALOR BANCO 4.700 ,01 - BANCO OK.pdf\n",
      "56.096.910/0001-74 STS - B00200 2.pdf\n",
      "56.096.910/0001-74 STS - B00200.pdf\n",
      "05.406.644/0001-06 STV - B70090 FRANQ ALUGUEL.pdf\n",
      "05.789.313/0001-94 SU2 - B2009 - VERIFICAR QUAL A DESPESA BANCO OK.pdf\n",
      "14.592.173/0001-50 SU2 - B20090 FRANQ PAG V2.pdf\n",
      " SUL - B00430 (2) soma n bate.pdf\n",
      " SUL - B00430 JÁ TEM BOLETO (1).pdf\n",
      " SUL - B00430 JÁ TEM BOLETO (2).pdf\n",
      " SUL - B00430.pdf\n",
      "35.121.223/0001-91 SUS - B07410 ENVIAR FRANQ (2).pdf\n",
      "35.121.223/0001-91 SUS - B07410 ENVIAR FRANQ.pdf\n",
      "35.121.223/0001-91 SUS - B07410 FRANQ ALUGUEL.pdf\n",
      "00.995.983/0001-43 SVA - B20240 - FRAN4.pdf\n",
      "00.995.983/0001-43 SVA - B20240 - FRANQ3.pdf\n",
      "00.995.983/0001-43 SVA - B20240 FRANQ DESMEMBRAR (2).pdf\n",
      "00.995.983/0001-43 SVA - B20240 FRANQ DESMEMBRAR.pdf\n",
      "02.632.185/0001-82 SVI - B03170  2.pdf\n",
      "02.632.185/0001-82 SVI - B03170 (2)  2.pdf\n"
     ]
    },
    {
     "name": "stderr",
     "output_type": "stream",
     "text": [
      "'pages' argument isn't specified.Will extract only from page 1 by default.\n"
     ]
    },
    {
     "name": "stdout",
     "output_type": "stream",
     "text": [
      "[+] Found a total of 3 imagesin page 0\n",
      " SVI - B03170 1.pdf\n"
     ]
    },
    {
     "name": "stderr",
     "output_type": "stream",
     "text": [
      "'pages' argument isn't specified.Will extract only from page 1 by default.\n"
     ]
    },
    {
     "name": "stdout",
     "output_type": "stream",
     "text": [
      "[+] Found a total of 3 imagesin page 0\n",
      " SVI - B03170 2.pdf\n",
      "02.632.185/0001-82 SVI - B03170.pdf\n",
      "09.213.967/0001-26 SVL - B01930.pdf\n",
      "14.551.970/0001-90 SVO - B01920 - BAIXADO.pdf\n"
     ]
    },
    {
     "name": "stderr",
     "output_type": "stream",
     "text": [
      "'pages' argument isn't specified.Will extract only from page 1 by default.\n"
     ]
    },
    {
     "name": "stdout",
     "output_type": "stream",
     "text": [
      "[+] Found a total of 3 imagesin page 0\n",
      "[+] Found a total of 2 imagesin page 1\n",
      "[+] Found a total of 3 imagesin page 2\n",
      "[!] No image found on page 3\n",
      " SVO - E-MAIL.pdf\n",
      "14.551.970/0001-90 SVO 2502.pdf\n",
      "14.148.519/0001-26 SVR - B08450 ENVIAR FRANQ.pdf\n",
      "14.148.519/0001-26 SVR - B08450 FRANQ ALUGUEL.pdf\n",
      " SVV - B04680 DESMEMBRAR (2).pdf\n",
      " SVV - B04680 DESMEMBRAR (3).pdf\n",
      " SVV - B04680 DESMEMBRAR (4).pdf\n",
      " SVV - B04680 DESMEMBRAR.pdf\n",
      " SVV - B04680 ENVIAR FRANQ (2).pdf\n",
      " SVV - B04680 ENVIAR FRANQ (3).pdf\n",
      " SVV - B04680 ENVIAR FRANQ (4).pdf\n",
      " SVV - B04680 ENVIAR FRANQ.pdf\n",
      " SVV - B04680 FRANQ ALUGUEL (2).pdf\n",
      " SVV - B04680 FRANQ ALUGUEL (3).pdf\n",
      " SVV - B04680 FRANQ ALUGUEL (4).pdf\n",
      " SVV - B04680 FRANQ ALUGUEL BANCO OK.pdf\n",
      " SVV - B04680 FRANQ ALUGUEL.pdf\n",
      " SVV - B04680 FRANQ DESMEMBRAR.pdf\n",
      "01.813.581/0001-43 TAC - B05410  2.pdf\n",
      "01.813.581/0001-43 TAC - B05410 (2)  2.pdf\n",
      "01.813.581/0001-43 TAC - B05410 (3).pdf\n",
      "01.813.587/0001-10,42.591.651/1319-14 TAC - B05410 69,91.pdf\n",
      "01.813.581/0001-43 TAC - B05410.pdf\n",
      "44.192.474/0001-58 TAM - B0062 (2) - 05.02.pdf\n",
      "44.192.474/0001-58 TAM - B0062 - 05.02.pdf\n",
      "00.063.960/0001-09 TAM - B00620 - BANCO OK.pdf\n",
      "44.192.474/0001-58 TAM - B00620.pdf\n",
      "12.259.957/0001-36 TAN - B04520 (2).pdf\n",
      "12.259.957/0001-36 TAN - B04520 (3).pdf\n",
      "12.259.957/0001-36 TAN - B04520 (4).pdf\n",
      "1,2,.,5,9,7,/,0,-,3,6 TAN - B04520 (5) boleto com senha.pdf\n",
      "12.259.957/0001-36 TAN - B04520 12.443 ,09 BANCO OK.pdf\n",
      "12.259.957/0001-36 TAN - B04520.pdf\n",
      "22.851.910/0001-10 TAP 3001A - Mc Donalds 18.02.pdf\n",
      "17.312.925/0001-70 TAS - B0914.pdf\n",
      "17.312.925/0001-70 TAS - B09140 (2).pdf\n",
      "[+] Found a total of 1 imagesin page 0\n"
     ]
    },
    {
     "name": "stderr",
     "output_type": "stream",
     "text": [
      "'pages' argument isn't specified.Will extract only from page 1 by default.\n"
     ]
    },
    {
     "name": "stdout",
     "output_type": "stream",
     "text": [
      " TAS - B09140 - DESMEMBRAR (1).pdf\n",
      " TAS - B09140 - DESMEMBRAR (2).pdf\n",
      "07.180.842/0001-11 TAS - B09140.pdf\n",
      "57.532.665/0001-63 TBT - B07200 ENVIAR FRANQ.pdf\n",
      "57.532.665/0001-63 TBT - B07200 FRANQ ALUGUEL - ELETRONICO.pdf\n",
      "01.813.581/0001-43 TC2 - B0629.pdf\n",
      "01.813.581/0001-43 TC2 - B06290 .pdf\n",
      "01.813.581/0001-43 TC2 - B06290 1.pdf\n",
      "01.813.581/0001-43 TC2 - B06290.pdf\n",
      "13.004.510/0001-89 TD2 - B06590.pdf\n",
      "03.543.443/0001-17 TER - B09110 FRANQ ELETRONICO.pdf\n",
      " TIA - B10620 - ELETRONICO.pdf\n",
      " TIE - B11320 (2).pdf\n",
      " TIE - B11320 (3).pdf\n",
      " TIE - B11320 (4) - LANÇAR 549,36.pdf\n",
      "26.186.587/0001-69 TIE - B11320 - DUPLICIDADE.pdf\n",
      " TIT - B00470 -  (1).pdf\n",
      "[+] Found a total of 1 imagesin page 0\n"
     ]
    },
    {
     "name": "stderr",
     "output_type": "stream",
     "text": [
      "'pages' argument isn't specified.Will extract only from page 1 by default.\n"
     ]
    },
    {
     "name": "stdout",
     "output_type": "stream",
     "text": [
      " TIT - B00470 -  (2).pdf\n",
      "45.543.915/0001-81 TIT - B00470 -  (3).pdf\n",
      " TIT - B00470 -  (4).pdf\n",
      "02.583.678/0001-70 TIV - B08890 ENVIAR FRANCO (2).pdf\n",
      "02.583.678/0001-70 TIV - B08890 ENVIAR FRANCO (3).pdf\n",
      "02.583.678/0001-70 TIV - B08890 ENVIAR FRANCO (4).pdf\n",
      "02.583.678/0001-70 TIV - B08890 ENVIAR FRANCO.pdf\n",
      "02.583.678/0001-70 TIV - B08890 FRANCO ALUGUEL (2).pdf\n",
      "02.583.678/0001-70 TIV - B08890 FRANCO ALUGUEL.pdf\n",
      "01.422.848/0001-71 TOP - B0325 - 05.02.pdf\n",
      "10.744.882/0001-53,18.954.481/0001-30 TOP - B03250 - 3.876 ,84.pdf\n",
      "01.422.848/0001-71 TOP - B03250.pdf\n",
      "11.948.736/0001-02 TOR - B02590   2.pdf\n",
      "32.829.299/0001-88 TOR - B02590 5018,08.pdf\n",
      "08.110.072/0001-01 TPC - B1026.pdf\n",
      "[+] Found a total of 1 imagesin page 0\n"
     ]
    },
    {
     "name": "stderr",
     "output_type": "stream",
     "text": [
      "'pages' argument isn't specified.Will extract only from page 1 by default.\n"
     ]
    },
    {
     "name": "stdout",
     "output_type": "stream",
     "text": [
      " TPS - B5002 - ELETRONICO.pdf\n",
      "05.635.656/0001-02 TRS - B05570 (2).pdf\n",
      "06.862.627/0001-38 TRS - B05570 (3).pdf\n",
      "05.635.656/0001-02 TRS - B05570 1.pdf\n",
      "42.591.651/1372-89,01.736.646/0001-02 TRS - B05570.pdf\n",
      "34.274.233/0001-02 TSO - B03940 (2) BANCO OK.pdf\n",
      "13.004.510/0001-89 TTE - B4045 - UM CENTAVO A MAIS.pdf\n",
      "29.843.150/0001-49 TTE - B4045 2.pdf\n",
      "29.843.150/0001-49 TTE - B4045.pdf\n",
      "05.967.580/0001-04 TUB - B09370 ENVIAR FRANQ.pdf\n",
      "05.967.580/0001-04 TUB - Mc Donald's 23.02.2022 (2).pdf\n",
      "05.967.580/0001-04 TUB - Mc Donald's 23.02.2022.pdf\n",
      "16.740.380/0001-30 TUC - B0210.pdf\n",
      "16.740.380/0001-30 TUC - B02100 (2).pdf\n"
     ]
    },
    {
     "name": "stderr",
     "output_type": "stream",
     "text": [
      "'pages' argument isn't specified.Will extract only from page 1 by default.\n"
     ]
    },
    {
     "name": "stdout",
     "output_type": "stream",
     "text": [
      "[+] Found a total of 5 imagesin page 0\n",
      " TUC - B02100 (3).pdf\n",
      "16.740.380/0001-30 TUC - B02100.pdf\n",
      "50.939.438/0001-08 TUU - B50180.pdf\n",
      " UB2 - 21.02.pdf\n",
      " UB2 - B03900 DESMEMBRAR 1.pdf\n",
      " UB2 - B03900 DESMEMBRAR.pdf\n",
      " UB2 - B03900 ENVIAR FRANQ (2).pdf\n",
      " UB2 - B03900 ENVIAR FRANQ 2.pdf\n",
      " UB2 - B03900 ENVIAR FRANQ.pdf\n",
      " UB2 - B03900 FRANQ DESMEMBRAR.pdf\n",
      " UB2 - Ñ PAGAR FOI SOLIC UM BOLETO DESMEMBRADO - VERFICAR EMAIL .pdf\n",
      " UB3 - B04560 - .pdf\n",
      " UB3 - B04560 ENVIAR FRANQ.pdf\n",
      " UB3 - B04560 FRANQ ALUGUEL.pdf\n",
      " UB3 - B04560 FRANQ DESMEMBRAR (2).pdf\n",
      " UB3 - B04560 FRANQ DESMEMBRAR.pdf\n",
      " UB3 - B04560.pdf\n",
      "04.296.312/0001-45,66.768.995/0007-39 UBA - B0747.pdf\n",
      "04.296.312/0001-45,66.768.995/0007-39 UBA - B07470 ENVIAR FRANQ.pdf\n",
      " UBR - B02800 DESMEMBRAR 1.pdf\n",
      " UBR - B02800 DESMEMBRAR.pdf\n",
      "42.591.651/0954-20 UBR - B02800 ENVIAR FRANQ (2).pdf\n",
      "42.591.651/0954-20 UBR - B02800 ENVIAR FRANQ (3).pdf\n",
      "42.591.651/0954-20 UBR - B02800 ENVIAR FRANQ 3.pdf\n",
      "42.591.651/0954-20 UBR - B02800 ENVIAR FRANQ.pdf\n",
      "42.591.651/0954-20 UBR - B02800 FRANQ ALUGUEL.pdf\n",
      "08.430.570/0001-23 UBS - B04220  2.pdf\n",
      "18.614.523/0001-93 UBS - B04220 (2)  2.pdf\n",
      "18.614.523/0001-93 UBS - B04220 (2).pdf\n",
      "18.614.523/0001-93 UBS - B04220 (3).pdf\n",
      "08.430.570/0001-23 UBS - B04220 (4).pdf\n",
      "18.614.523/0001-93 UBS - B04220.pdf\n",
      "29.877.151/0001-04 VAD - B70310 ENVIA FRANQ.pdf\n",
      "29.877.151/0001-04 VAD - B70310 ENVIAR FRANQ.pdf\n",
      "29.877.151/0001-04 VAD - B70310 FRANQ ALUGUEL.pdf\n",
      "29.877.151/0001-04 VAD - B70310 FRANQ DESMEMBRAR.pdf\n",
      "29.877.151/0001-04 VAD - B70310,.pdf\n",
      "23.066.373/0001-60 VAR - B04430 (2) - FALTA VALOR.pdf\n",
      "23.066.373/0001-60 VAR - B04430.pdf\n",
      "26.186.587/0001-69 VAU - B11310 (2).pdf\n",
      "26.186.587/0001-69 VAU - B11310 (3).pdf\n",
      " VAU - B11310 (4).pdf\n",
      "26.186.587/0001-69 VAU - B11310 (5) - DUPLICIDADE.pdf\n",
      "26.186.587/0001-69 VAU - B11310.pdf\n",
      "24.901.418/0001-38 VBR - B01750.pdf\n",
      "14.522.178/0001-07 VCP - 18.02.pdf\n",
      "14.522.178/0001-07 VCP - B20490  2.pdf\n",
      "14.522.178/0001-07 VCP - B20490 (2).pdf\n",
      " VCP - B20490 (3).pdf\n",
      "14.522.178/0001-07 VCP - B20490 (4).pdf\n",
      "14.522.178/0001-07 VCP - B20490 LANÇAR.pdf\n",
      "14.522.178/0001-07 VCP - B20490.pdf\n",
      "98)442.610/0001-61 VDC - 17.02 (2) 16.093 ,17.pdf\n",
      "08.086.149/0001-47 VDC - 17.02 (3).pdf\n",
      "08.086.149/0001-47 VDC - 17.02 (4).pdf\n",
      "98)442.610/0001-61 VDC - 17.02 6174,89.pdf\n",
      "17.200.684/0001-78 VEL B03640 FRANQ.pdf\n",
      " VID - B01740 -  (1).pdf\n",
      "45.543.915/0001-81 VID - B01740 -  (2).pdf\n",
      "45.543.915/0001-81 VID - B01740 - 1 (1).pdf\n",
      " VID - B01740 - 1 (2).pdf\n",
      "53.759.197/0001-03 VIG - B01210 (2).pdf\n",
      "53.759.197/0001-03 VIG - B01210.pdf\n",
      "45.543.915/0001-81 VLT - B11280 -  (1).pdf\n",
      "45.543.915/0001-81 VLT - B11280 -  (2).pdf\n",
      "4,5,.,3,9,1,/,0,-,8 VOT - B7085.pdf\n",
      "50.948.371/0009-25 VPD - B7085 - ENERGIA.pdf\n",
      "61.604.112/0001-46 VPK  082021.pdf\n"
     ]
    },
    {
     "name": "stderr",
     "output_type": "stream",
     "text": [
      "'pages' argument isn't specified.Will extract only from page 1 by default.\n"
     ]
    },
    {
     "name": "stdout",
     "output_type": "stream",
     "text": [
      "[+] Found a total of 2 imagesin page 0\n",
      " VPK - B0815 PGTO URGENTE 8.376 ,79 BANCO OK.pdf\n",
      "02.284.436/0001-85 VPK - B08150 ENVIAR FRANCO.pdf\n",
      "02.284.436/0001-85 VPK - B08150 ENVIAR FRANQ (4).pdf\n",
      "02.284.436/0001-85 VPK - B08150 ENVIAR FRANQ.pdf\n",
      "02.284.436/0001-85,02.264.436/0001-85 VPK - B08150 ENVIAR FRANQUEADO.pdf\n",
      "00.332.266/0001-31 VPK - B08150 FRANQ ALUGUEL.pdf\n",
      "02.284.436/0001-85 VPK - B08150.pdf\n",
      "13.726.639/0001-09 VSB - B08330 - FRANQ.pdf\n",
      "13.255.380/0001-57,13.726.639/0001-09 VSB - B08330 - FRANQUEADO.pdf\n",
      "13.726.639/0001-09 VSB - B08330 ENVIAR FRANQ.pdf\n",
      "13.726.639/0001-09 VSB - B08330 FRANQ ALUGUEL (2).pdf\n",
      "13.726.639/0001-09 VSB - B08330 FRANQ ALUGUEL.pdf\n",
      "13.726.639/0001-09 VSB - B08330.pdf\n",
      "33.304.981/0001-10,18.954.481/0001-30 VSB Mc Donald's - Mundial Irajá.pdf\n",
      "16.830.406/0001-31 VVT - B2004 (2).pdf\n",
      "16.830.406/0001-31 VVT - B2004 - 05.02.pdf\n",
      "16.830.406/0001-31 VVT - B20040 ENVIAR FRANQ.pdf\n",
      "16.830.406/0001-31 VVT - B20040 FRANQ ALUGUEL.pdf\n",
      "16.830.406/0001-31 VVT - B20040.pdf\n",
      "[+] Found a total of 2 imagesin page 0\n"
     ]
    },
    {
     "name": "stderr",
     "output_type": "stream",
     "text": [
      "'pages' argument isn't specified.Will extract only from page 1 by default.\n"
     ]
    },
    {
     "name": "stdout",
     "output_type": "stream",
     "text": [
      " WLA - B03970 - banco ok.pdf\n",
      "00.063.960/0001-09 WLA - B03970 - LANÇAR 7846,48.pdf\n",
      "00.063.960/0001-09 WLA - B03970.pdf\n",
      "34.309.019/0001-36 WLZ - B00110.pdf\n",
      "[+] Found a total of 2 imagesin page 0\n"
     ]
    },
    {
     "name": "stderr",
     "output_type": "stream",
     "text": [
      "'pages' argument isn't specified.Will extract only from page 1 by default.\n"
     ]
    },
    {
     "name": "stdout",
     "output_type": "stream",
     "text": [
      " WOS - B0136 - BANCO OK.pdf\n",
      "00.063.960/0001-09 WOS - B01360 (3) SOMA N BATE.pdf\n",
      "00.063.960/0001-09 WOS - B01360 - BANCO OK.pdf\n",
      "00.063.960/0001-09 WOS - B01360.pdf\n",
      "[+] Found a total of 2 imagesin page 0\n"
     ]
    },
    {
     "name": "stderr",
     "output_type": "stream",
     "text": [
      "'pages' argument isn't specified.Will extract only from page 1 by default.\n"
     ]
    },
    {
     "name": "stdout",
     "output_type": "stream",
     "text": [
      " WPA - B01330 - BANCO OK.pdf\n",
      "00.063.960/0001-09 WPA - B01330.pdf\n",
      "09.043.953/0001-01 WPL - B0027 1 CENTAVO A MAIS.pdf\n",
      "09.043.953/0001-01 WPL - B00270.pdf\n",
      "00.063.960/0001-09 WSB - B01380 (2).pdf\n",
      " WSB - B01380.pdf\n",
      "29.738.226/0001-76,01.946.522/0001-43 WSR - B03300 (2).pdf\n",
      "01.946.522/0001-43 WSR - B03300 2.pdf\n",
      "29.738.226/0001-76,01.946.522/0001-43 WSR - B03300 3.pdf\n",
      "01.946.522/0001-43 WSR - B03300.pdf\n"
     ]
    },
    {
     "name": "stderr",
     "output_type": "stream",
     "text": [
      "'pages' argument isn't specified.Will extract only from page 1 by default.\n"
     ]
    },
    {
     "name": "stdout",
     "output_type": "stream",
     "text": [
      "[+] Found a total of 1 imagesin page 0\n",
      " XAX B9107 - ELETRONICO.pdf\n",
      "83.861.906/0001-28 XPC - B06540 DESMEMBRAR.pdf\n",
      "83.314.757/0004-20 XPC - B06540 FRANQ (BOLETO SEM DESCRIÇÃO DE PGTO.pdf\n",
      "13.791.890/0001-49 XPC - B06540 FRANQ PAG V2 (2).pdf\n",
      "13.791.890/0001-49 XPC - B06540 FRANQ PAG V2.pdf\n"
     ]
    },
    {
     "name": "stderr",
     "output_type": "stream",
     "text": [
      "'pages' argument isn't specified.Will extract only from page 1 by default.\n"
     ]
    },
    {
     "name": "stdout",
     "output_type": "stream",
     "text": [
      "[+] Found a total of 2 imagesin page 0\n",
      " ZUM - 18.02 (2).pdf\n"
     ]
    },
    {
     "name": "stderr",
     "output_type": "stream",
     "text": [
      "'pages' argument isn't specified.Will extract only from page 1 by default.\n"
     ]
    },
    {
     "name": "stdout",
     "output_type": "stream",
     "text": [
      "[+] Found a total of 2 imagesin page 0\n",
      " ZUM - 18.02.pdf\n",
      "76.430.438/0001-71 ZZZ - B0529.pdf\n",
      "21.764.677/0001-76 ZZZ - B05290.pdf\n"
     ]
    }
   ],
   "source": [
    "#ler pasta onde ficam os boletos\n",
    "file_path = 'all/'\n",
    "\n",
    "#transformando df para uma lista de todos os pdfs da pasta com a bliblioteca glob\n",
    "df = glob.glob(os.path.join(file_path,'*.pdf'))\n",
    "\n",
    "\n",
    "text = ''\n",
    "\n",
    "master_list = []\n",
    "\n",
    "# com df como lista de pdfs itero cada pdf com for abrindo e adicionando as funções que desejo\n",
    "for i in df:\n",
    "    \n",
    "    KeyW3_4 = ''\n",
    "    \n",
    "    #leio o pdf com pdf4, informo a quantidade de paginas e em seguida digo que quero o texto do conteudo\n",
    "    try:\n",
    "        pdf = PdfFileReader(i)\n",
    "        obtrpage= pdf.getPage(0)\n",
    "        txt = obtrpage.extractText()\n",
    "        \n",
    "        #encontrar CNPJ com regular expression\n",
    "        KeyW4 = re.findall('\\d{2}.\\d{3}.\\d{3}/\\d{4}-\\d{2}', txt)\n",
    "    \n",
    "    except:\n",
    "        pass\n",
    "    \n",
    " \n",
    "    \n",
    "    \n",
    "    \n",
    "    \n",
    "    #caso o pdf não tenha texto e sim uma imagem não lerá PDF4, assim crie uma condição para ler imagem da msm iteração\n",
    "    if len(KeyW4) == 0:\n",
    "        try:\n",
    "            ban_texto = pdf_to_text(i)\n",
    "            KeyW4 = re.findall('\\d{2}.\\d{3}.\\d{3}/\\d{4}-\\d{2}', ban_texto)\n",
    "            \n",
    "        except:\n",
    "            print(f'erro ao ler com função pdf_to_text, boleto:  {i}')\n",
    "    \n",
    "    \n",
    "    \n",
    "    # em outra condição é tbm para imagems, mas com outra biblioteca para caso a primeira falhar\n",
    "    if len(KeyW4) == 0:\n",
    "        try:\n",
    "            texto = extract_text_from_img_doc(i)\n",
    "            KeyW4 = re.findall('\\d{2}.\\d{3}.\\d{3}/\\d{4}-\\d{2}', texto)\n",
    "                \n",
    "        except:\n",
    "            print('nenhuma imagem encontrada')\n",
    "        \n",
    "    #caso ainda o PDF não leia outra excelente biblioteca é tabula que ler em formato de tabelas \n",
    "    if len(KeyW4) == 0:\n",
    "        try:\n",
    "            #ler o pdf, converte de dataframe para lista, da lista converte para string e finalmente obtem o CNPJ com re\n",
    "            pdft = tabula.read_pdf(i)\n",
    "            \n",
    "            pdf_list = pdft[0].iloc[:, 0].values.tolist()\n",
    "            \n",
    "            srt_tex = \"\".join(map(str, pdf_list))\n",
    "            \n",
    "            KeyW4 = re.findall('\\d{2}.\\d{3}.\\d{3}/\\d{4}-\\d{2}', srt_tex)\n",
    "            \n",
    "        except:\n",
    "            pass\n",
    "    else:\n",
    "        pass\n",
    "            \n",
    "    #removendo duplicidade das listas\n",
    "    KeyW4 = list(dict.fromkeys(KeyW4))\n",
    "    \n",
    "    #removendo o item abaixo\n",
    "    try:\n",
    "        KeyW4.remove('42.591.651/0001-43')\n",
    "    except:\n",
    "        pass\n",
    "    \n",
    "    KeyW4 = ','.join(KeyW4)\n",
    "    #obtendo o nome do arquivo\n",
    "    \n",
    "    filename = os.path.basename(i)\n",
    "    \n",
    "    '''if len(os.path.basename(i)) > 12:\n",
    "        filename = \" \".join(os.path.basename(i).split()[:-1])\n",
    "    \n",
    "    elif len(filename) == 0:\n",
    "        filename = os.path.basename(i)\n",
    "        \n",
    "    else:\n",
    "        filename = os.path.basename(i)'''\n",
    "    \n",
    "    \n",
    "    data_dict = {}\n",
    "    data_dict['filename'] = filename\n",
    "    data_dict['CNPJ'] = KeyW4\n",
    "    \n",
    "    \n",
    "    master_list.append(data_dict)\n",
    "    \n",
    "    print(KeyW4, filename)\n",
    "    \n",
    "    \n",
    "df2 = pd.DataFrame(master_list)\n",
    "\n",
    "df2.to_csv('CNPJs.csv', index=False)\n",
    "    \n"
   ]
  },
  {
   "cell_type": "markdown",
   "id": "cd66e8c8",
   "metadata": {},
   "source": [
    "# Codigo para ler e copiar os arquivos "
   ]
  },
  {
   "cell_type": "code",
   "execution_count": 38,
   "id": "bbcaf177",
   "metadata": {
    "scrolled": true
   },
   "outputs": [
    {
     "name": "stdout",
     "output_type": "stream",
     "text": [
      "C:/Users/ojgomes/Documents/Automação Rent/2 - FEVEREIRO/2 - FEVEREIRO\n",
      "['01.02', '02.02', '03.02', '04.02', '07.02', '08.02', '09.02', '10.02', '11.02', '14.02', '15.02', '16.02', '17.02', '18.02', '21.02', '22.02', '23.02', '24.02', '25.02']\n",
      "[]\n",
      "C:/Users/ojgomes/Documents/Automação Rent/2 - FEVEREIRO/2 - FEVEREIRO\\01.02\n",
      "['DESMEMBRAR FRANQ', 'ENVIAR FRANQ', 'ERRO BANCO', 'PROGRAMADO']\n",
      "[]\n",
      "C:/Users/ojgomes/Documents/Automação Rent/2 - FEVEREIRO/2 - FEVEREIRO\\01.02\\DESMEMBRAR FRANQ\n",
      "['ENVIADO']\n",
      "[]\n",
      "C:/Users/ojgomes/Documents/Automação Rent/2 - FEVEREIRO/2 - FEVEREIRO\\01.02\\DESMEMBRAR FRANQ\\ENVIADO\n",
      "[]\n",
      "['BA2 - B0860.pdf', 'BAG - B08260 FRANQ DEMEMBRAR.pdf', 'BSB - B0947 - DESMEMBRAR (2).pdf', 'BSB - B0947 - DESMEMBRAR.pdf', 'BSB - B09470 FRANCO DESMEMBRAR.pdf', 'BSB - B09470 FRANQ DESMEMBRAR(2).pdf', 'BVV - B04450 FRANQ DESMEMBRAR.pdf', 'HOR - B02680 FRANQ DESMEMBRAR.pdf', 'REC - B6005_NDS_202202_parte_087.pdf', 'SCX - B08270 ELETRONICO (2).pdf', 'SSV - B09530 ENVIAR FRANQ.pdf']\n",
      "C:/Users/ojgomes/Documents/Automação Rent/2 - FEVEREIRO/2 - FEVEREIRO\\01.02\\ENVIAR FRANQ\n",
      "['ENVIADO']\n",
      "[]\n",
      "C:/Users/ojgomes/Documents/Automação Rent/2 - FEVEREIRO/2 - FEVEREIRO\\01.02\\ENVIAR FRANQ\\ENVIADO\n",
      "[]\n",
      "['AMS - B08580 ENVIAR FRANQ 2.pdf', 'AMS - B08580 ENVIAR FRANQ.pdf', 'ANA - B40390 (2) ENVIAR FRANQ.pdf', 'ANA - B40390 ENVIAR FRANQ.pdf', 'BSB - B0947 - ENVIAR FRANQ.pdf', 'BTL - B08710 - ENVIAR FRANQ.pdf', 'HOR - B02680 ENVIAR FRANQ.pdf', 'MAV - B9513 ENVIAR FRANQ.pdf', 'MAV - B95130 ENVIAR FRANQUEADO (2).pdf', 'MAV - B95130 ENVIAR FRANQUEADO (3).pdf', 'MAV - B95130 ENVIAR FRANQUEADO.pdf', 'PSU - B0852.PDF', 'ROD - B07310 ENVIAR FRANQUEADO (2).pdf', 'ROD - B07310 ENVIAR FRANQUEADO.pdf', 'SBB - B09310 ENVIAR FRANQ (2).pdf', 'SBB - B09310 ENVIAR FRANQ (3).pdf', 'SBB - B09310 ENVIAR FRANQ 2.pdf', 'SBB - B09310 ENVIAR FRANQ.pdf', 'SIT - B04670 ENVIAR FRANCO (3).pdf', 'SIT - B04670 ENVIAR FRANCO (5).pdf', 'SMG - B7011 ENVIAR FRANQ 2.1.pdf', 'SMG.pdf', 'SVR - B08450 ENVIAR FRANQ.pdf', 'TAS - B0914.pdf', 'VVT - B2004 (2).pdf', 'VVT - B20040.pdf']\n",
      "C:/Users/ojgomes/Documents/Automação Rent/2 - FEVEREIRO/2 - FEVEREIRO\\01.02\\ERRO BANCO\n",
      "[]\n",
      "['AND - B02000 - PAGAR - N DISP PARA PAGTO.pdf', 'AND - B02000 - PAGAR - N DISP PARA PAGTO2.pdf', 'BSP - B01880 - PAGAR (1) - JA BAIXADO.PDF', 'CTA - B0790 - Contrato 2096.pdf', 'PTY - B40620 (2) - JA BAIXADO.pdf', 'PTY - B40620 - JA BAIXADO.pdf', 'SHB - B06190 - PAGAR - N DISP PARA PAGTO.pdf']\n",
      "C:/Users/ojgomes/Documents/Automação Rent/2 - FEVEREIRO/2 - FEVEREIRO\\01.02\\PROGRAMADO\n",
      "['086-060-010222-ALU-02', '086-060-010222-ALU-03', '086-060-010222-ALU-04']\n",
      "[]\n",
      "C:/Users/ojgomes/Documents/Automação Rent/2 - FEVEREIRO/2 - FEVEREIRO\\01.02\\PROGRAMADO\\086-060-010222-ALU-02\n",
      "['BOLETOS PROGRAMADOS']\n",
      "['086-060-010222-ALU-02 - EMAIL.pdf', '086-060-010222-ALU-02 - LOTE.pdf', 'PGTO 0102 PRIO 1 ELETRONICO.xls']\n",
      "C:/Users/ojgomes/Documents/Automação Rent/2 - FEVEREIRO/2 - FEVEREIRO\\01.02\\PROGRAMADO\\086-060-010222-ALU-02\\BOLETOS PROGRAMADOS\n",
      "[]\n",
      "['ARK - B0101 (2) - ELETRONICO.pdf', 'ARK - B0101 - ELETRONICO.pdf']\n",
      "C:/Users/ojgomes/Documents/Automação Rent/2 - FEVEREIRO/2 - FEVEREIRO\\01.02\\PROGRAMADO\\086-060-010222-ALU-03\n",
      "['BOLETOS PROGRAMADOS']\n",
      "['086-060-010222-ALU-03 - EMAIL.pdf', '086-060-010222-ALU-03 - LOTE.pdf', 'PGTO 0102 PRIO 62.xls']\n",
      "C:/Users/ojgomes/Documents/Automação Rent/2 - FEVEREIRO/2 - FEVEREIRO\\01.02\\PROGRAMADO\\086-060-010222-ALU-03\\BOLETOS PROGRAMADOS\n",
      "['ASH - B0194 - R$2.054,28', 'ASH - B0194 - R$531,06']\n",
      "['AAM - B0340 BANCO OK.PDF', 'ASH - B0194 BANCO OK.PDF', 'BANCO 0102.pdf', 'CNA - B9113 FRANQ DESMEMBRAR BANCO OK.pdf', 'GI2 - B1060 (2) - BANCO OK.PDF', 'GI2 - B1060 (5) BANCO OK.PDF', 'GI2 - B1060 (6) BANCO OK.PDF', 'GI2 - B1060 BANCO OK.PDF', 'GIA - B00320 (3) BANCO OK.PDF', 'HOD - B0268 FRANQ (3) BANCO OK.pdf', 'MMD - B70080 FRANQ BANCO OK.pdf', 'PAA - B41340 - PAGAR  (1) 13.813 ,75 BANCO OK.pdf', 'PAA - B41340 - PAGAR  (2) 81.302\\xa0,57 BANCO OK.pdf', 'PTM - B10240  BANC OK.pdf', 'SCX - B08270  (4) BANCO OK.pdf', 'SCX - B08270  BANCO OK.pdf', 'SCX - B08270 FRANQ ALUGUEL BANCO OK.pdf', 'SIT - B04670 .pdf', 'SLT - B0761 (2) BANCO OK.pdf', 'SLT - B0761 BANCO OK.pdf', 'SMI - B01870 - PAGAR 42.490 ,05.pdf', 'SOMA.xlsx']\n",
      "C:/Users/ojgomes/Documents/Automação Rent/2 - FEVEREIRO/2 - FEVEREIRO\\01.02\\PROGRAMADO\\086-060-010222-ALU-03\\BOLETOS PROGRAMADOS\\ASH - B0194 - R$2.054,28\n",
      "[]\n",
      "['ASH - B01940 3 BANCO OK.pdf', 'ASH - B01940 5 BANCO OK.pdf', 'ASH - B01940 8 BANCO OK.pdf', 'ASH - B01940 BANCO OK.pdf']\n",
      "C:/Users/ojgomes/Documents/Automação Rent/2 - FEVEREIRO/2 - FEVEREIRO\\01.02\\PROGRAMADO\\086-060-010222-ALU-03\\BOLETOS PROGRAMADOS\\ASH - B0194 - R$531,06\n",
      "[]\n",
      "['ASH - B01940 2 - BANCO OK.pdf', 'ASH - B01940 4 BANCO OK.pdf', 'ASH - B01940 7 BANCO OK.pdf', 'ASH - B01940 9 BANCO OK.pdf']\n",
      "C:/Users/ojgomes/Documents/Automação Rent/2 - FEVEREIRO/2 - FEVEREIRO\\01.02\\PROGRAMADO\\086-060-010222-ALU-04\n",
      "['BOLETOS PROGRAMADOS']\n",
      "['086-060-010222-ALU-04 - email.pdf', '086-060-010222-ALU-04 - lote.pdf', 'PAGTO 0102 PRIO 61.xls']\n",
      "C:/Users/ojgomes/Documents/Automação Rent/2 - FEVEREIRO/2 - FEVEREIRO\\01.02\\PROGRAMADO\\086-060-010222-ALU-04\\BOLETOS PROGRAMADOS\n",
      "[]\n",
      "['AMS - B08580 FRANQ (PAGAMOS DESPESAS).pdf', 'APO - B05930 LANÇAR -0,03.pdf', 'BBH - B04140 - SOMA N BATE.pdf', 'BCG - B06480 (2).pdf', 'BCG - B06480.pdf', 'BS4 - B03770.pdf', 'BUD - B06130.pdf', 'BVC - B09670 (2).pdf', 'BVC - B09670.pdf', 'BVV - B04450 FRANQ ALUGUEL SOMA N BATE.pdf', 'CNB - B05130.pdf', 'CRD - B10190.pdf', 'CSQ - B05110 (2).pdf', 'CSQ - B05110.pdf', 'CSS - B70280 2.pdf', 'DTM - B91120.PDF', 'FCR - B11140 (2).pdf', 'FCR - B11140 2.pdf', 'FCR - B11140.pdf', 'GIA - B00320 (4).PDF', 'GPS - B06510 FRANQ (PAGAMOS DESPESA).pdf', 'GUS - B04210.pdf', 'HOR - B02680 FRANQ ALUGUEL.pdf', 'ICG - B05720.pdf', 'IRP - B20440 (2).PDF', 'IRP - B20440.PDF', 'ISJ - B70190.PDF', 'ISO  - B70160 (2).PDF', 'ISO  - B70160.PDF', 'ITB - B03890.pdf', 'JJN - B04810 (2) SOMA N BATE.pdf', 'JJN - B04810 SOMA N BATE.pdf', 'MAL - B04230.pdf', 'MCZ - B40480 2 soma n bate, ta dando 36135,97.pdf', 'MMD - B70080 FRANQ (2).pdf', 'MOX - B04390 FRANCO (1).pdf', 'MOX - B04390 FRANCO (2).pdf', 'MOX - B04390 FRANCO (3) LANÇAR 11631,3.pdf', 'OSA - B00520.pdf', 'PAK - B06550.pdf', 'PFL - B04030 (2).PDF', 'PFL - B04030.PDF', 'POI - B05050 (2).PDF', 'POI - B05050.PDF', 'RAP - B00660.pdf', 'RB4 - B02860 - LANÇAR -1749,37.pdf', 'S3A - B07710.pdf', 'SBB - B09310 FRANQ.pdf', 'SBS - B06250.pdf', 'SCI - B00090 2.PDF', 'SCI - B00090.PDF', 'SFC - B01630.PDF', 'SGA - B20800 (2) FRANQ (PAGAMOS DEPESAS).PDF', 'SGA - B20800 FRANQ (PAGAMOS DESPESAS).PDF', 'SIC - B07070 (1) FRANQ (PAGAMOS DESPESAS).PDF', 'SIC - B07070 (2) FRANQ - N ENTENDI.PDF', 'SIH - B06490.pdf', 'SIT - B04670 FRANQ ALUGUEL.pdf', 'SJU - B0784 FRANQ (2) (PAGAMOS DESPESAS).pdf', 'SJU - B0784 FRANQ (N ENTENDI.pdf', 'SNS - B06430 (2).pdf', 'SNS - B06430 - LANÇAR 1279,85.pdf', 'SSG - B04150 (2).pdf', 'SSG - B04150 (3).pdf', 'SSG - B04150.pdf', 'SVR - B08450 FRANQ ALUGUEL.pdf', 'TUC - B02100 (2).pdf', 'TUC - B02100 (3).pdf', 'TUC - B02100.pdf', 'VBR - B01750.pdf', 'VPK - B08150 FRANQ ALUGUEL.pdf', 'VSH - B08080.PDF']\n",
      "C:/Users/ojgomes/Documents/Automação Rent/2 - FEVEREIRO/2 - FEVEREIRO\\02.02\n",
      "['CLASSIFICAR', 'ENVIAR FRANQ', 'ERRO BANCO', 'LANÇAR', 'PAGO', 'PROGRAMADO']\n",
      "['02.02.pdf', 'MFL - B06520 ESTÁ COBRANDO JUROS.pdf']\n",
      "C:/Users/ojgomes/Documents/Automação Rent/2 - FEVEREIRO/2 - FEVEREIRO\\02.02\\CLASSIFICAR\n",
      "[]\n",
      "[]\n",
      "C:/Users/ojgomes/Documents/Automação Rent/2 - FEVEREIRO/2 - FEVEREIRO\\02.02\\ENVIAR FRANQ\n",
      "['ENVIADO']\n",
      "[]\n",
      "C:/Users/ojgomes/Documents/Automação Rent/2 - FEVEREIRO/2 - FEVEREIRO\\02.02\\ENVIAR FRANQ\\ENVIADO\n",
      "[]\n",
      "['BAT - B9116.pdf', 'HOD - B70130 - FRANQ - CONDOMINIO (2).pdf', 'HOD - B70130 - FRANQ - CONDOMINIO (3).pdf', 'HOD - B70130 - FRANQ - CONDOMINIO.pdf', 'MAV - B95130 FRANQ DESPESAS.pdf']\n",
      "C:/Users/ojgomes/Documents/Automação Rent/2 - FEVEREIRO/2 - FEVEREIRO\\02.02\\ERRO BANCO\n",
      "[]\n",
      "['BAL - B02760 FRANQ 2 INF BOLETO N ENCONTRADA.pdf', 'HOD - B70130 - FRANQ - ALUGUEL BAIXADO.pdf', 'JGS - B0266 INF BOLETO N ENCONTRADA.pdf']\n",
      "C:/Users/ojgomes/Documents/Automação Rent/2 - FEVEREIRO/2 - FEVEREIRO\\02.02\\LANÇAR\n",
      "[]\n",
      "[]\n",
      "C:/Users/ojgomes/Documents/Automação Rent/2 - FEVEREIRO/2 - FEVEREIRO\\02.02\\PAGO\n",
      "[]\n",
      "['DTM - B9112 - PAGO 01.02.PDF']\n",
      "C:/Users/ojgomes/Documents/Automação Rent/2 - FEVEREIRO/2 - FEVEREIRO\\02.02\\PROGRAMADO\n",
      "['086-060-020222-ALU-01', '086-060-020222-ALU-02']\n",
      "['banco 0202.pdf']\n",
      "C:/Users/ojgomes/Documents/Automação Rent/2 - FEVEREIRO/2 - FEVEREIRO\\02.02\\PROGRAMADO\\086-060-020222-ALU-01\n",
      "[]\n",
      "['086-060-020222-ALU-01 - EMAIL.pdf', '086-060-020222-ALU-01 - LOTE.pdf', 'PAGTO 0202 ELETRONICO PRIO 1.xls']\n",
      "C:/Users/ojgomes/Documents/Automação Rent/2 - FEVEREIRO/2 - FEVEREIRO\\02.02\\PROGRAMADO\\086-060-020222-ALU-02\n",
      "['BOLETOS PROGRAMADOS']\n",
      "['086-060-020222-ALU-02 - EMAIL.pdf', '086-060-020222-ALU-02 - LOTE.pdf', 'PAGTO 0202 PRIO 61.xls']\n",
      "C:/Users/ojgomes/Documents/Automação Rent/2 - FEVEREIRO/2 - FEVEREIRO\\02.02\\PROGRAMADO\\086-060-020222-ALU-02\\BOLETOS PROGRAMADOS\n",
      "[]\n",
      "['AIA -  B0562.pdf', 'AIA - B0562.pdf', 'CRD - B10190 - VERICAR LANÇAMENTOS.pdf', 'CSS - B70280.pdf', 'DAC - B0925.pdf', 'JAU - B06040 602\\xa0,00 BANCO OK.pdf', 'NAS - B05440 - ALUGUEL.pdf', 'PWS - B40670 - ENERGIA.pdf', 'S3A - B07710.pdf', 'SBM - B11200.pdf']\n",
      "C:/Users/ojgomes/Documents/Automação Rent/2 - FEVEREIRO/2 - FEVEREIRO\\03.02\n",
      "['DESMEMBRAR FRANQ', 'ELETR', 'ENVIAR FRANQ', 'PROGRAMADO', 'QUESTIONAR LOCADOR']\n",
      "['CTA - B0790 - ERRO BANCO.pdf']\n",
      "C:/Users/ojgomes/Documents/Automação Rent/2 - FEVEREIRO/2 - FEVEREIRO\\03.02\\DESMEMBRAR FRANQ\n",
      "[]\n",
      "['CFO - B20690 FRANQ DESMEMBRAR.PDF']\n",
      "C:/Users/ojgomes/Documents/Automação Rent/2 - FEVEREIRO/2 - FEVEREIRO\\03.02\\ELETR\n",
      "[]\n",
      "['BTL - B08710 - FRANQ - ELETRONICO.pdf', 'SHT - B20080-2 - ELETRONICO.pdf']\n",
      "C:/Users/ojgomes/Documents/Automação Rent/2 - FEVEREIRO/2 - FEVEREIRO\\03.02\\ENVIAR FRANQ\n",
      "['ENVIADO']\n",
      "[]\n",
      "C:/Users/ojgomes/Documents/Automação Rent/2 - FEVEREIRO/2 - FEVEREIRO\\03.02\\ENVIAR FRANQ\\ENVIADO\n",
      "[]\n",
      "['ANA - B40390 (2).pdf', 'ANA - B40390 - FRANQUEADO.pdf', 'RMN - B09620 FRANQ IPTU.pdf', 'SIF - B09180 - FRANQ - NÃO TEM LINHA.pdf', 'VSB - B08330 - FRANQUEADO.pdf']\n",
      "C:/Users/ojgomes/Documents/Automação Rent/2 - FEVEREIRO/2 - FEVEREIRO\\03.02\\PROGRAMADO\n",
      "['086-060-030222-ALU-01', '086-060-030222-ALU-02']\n",
      "['BANCO  0302.pdf']\n",
      "C:/Users/ojgomes/Documents/Automação Rent/2 - FEVEREIRO/2 - FEVEREIRO\\03.02\\PROGRAMADO\\086-060-030222-ALU-01\n",
      "['BOLETOS PROGRAMADOS']\n",
      "['086-060-030222-ALU-01 - EMAIL.pdf', '086-060-030222-ALU-01 LOTE.pdf', 'PAGTO 0302 PRIO 1 ELETRONICO.xls']\n",
      "C:/Users/ojgomes/Documents/Automação Rent/2 - FEVEREIRO/2 - FEVEREIRO\\03.02\\PROGRAMADO\\086-060-030222-ALU-01\\BOLETOS PROGRAMADOS\n",
      "[]\n",
      "['REEMBOLSO IPTU 2022 - CEM.pdf', 'REEMBOLSO IPTU 2022 - CWB.pdf', 'REEMBOLSO IPTU 2022 - DPG.pdf', 'REEMBOLSO IPTU 2022 - RPD.pdf']\n",
      "C:/Users/ojgomes/Documents/Automação Rent/2 - FEVEREIRO/2 - FEVEREIRO\\03.02\\PROGRAMADO\\086-060-030222-ALU-02\n",
      "['BOLETOS PROGRAMADOS']\n",
      "['086-060-030222-ALU-02 - EMAIL.pdf', '086-060-030222-ALU-02 LOTE.pdf', 'PAGTO 03.02 PRIO 61.xls']\n",
      "C:/Users/ojgomes/Documents/Automação Rent/2 - FEVEREIRO/2 - FEVEREIRO\\03.02\\PROGRAMADO\\086-060-030222-ALU-02\\BOLETOS PROGRAMADOS\n",
      "[]\n",
      "['CAB - B05070.pdf', 'OUS - B4072.pdf', 'PBA - B09690 - LANÇAR 20882,90 -  BANCO OK.pdf', 'PSU - B08520 - FRANQ.pdf', 'SIF - B09180 - FRANQ (PAGAMOS DESPESAS) (2).pdf', 'SPL - B04540 (2).pdf', 'SPL - B04540.pdf', 'STS - B00200 - VALOR BANCO 4.700 ,01 - BANCO OK.pdf', 'WSR - B03300 2.pdf', 'WSR - B03300 3.pdf', 'WSR - B03300.pdf']\n",
      "C:/Users/ojgomes/Documents/Automação Rent/2 - FEVEREIRO/2 - FEVEREIRO\\03.02\\QUESTIONAR LOCADOR\n",
      "[]\n",
      "['SMA - B05350.pdf']\n",
      "C:/Users/ojgomes/Documents/Automação Rent/2 - FEVEREIRO/2 - FEVEREIRO\\04.02\n",
      "['AGUARDANDO RETORNO', 'DESMEMBRAR FRANQ', 'ENVIAR FRANQ', 'ERRO BANCO', 'LANÇAR', 'PROGRAMADO']\n",
      "[]\n",
      "C:/Users/ojgomes/Documents/Automação Rent/2 - FEVEREIRO/2 - FEVEREIRO\\04.02\\AGUARDANDO RETORNO\n",
      "[]\n",
      "['FIG  - B08820.pdf']\n",
      "C:/Users/ojgomes/Documents/Automação Rent/2 - FEVEREIRO/2 - FEVEREIRO\\04.02\\DESMEMBRAR FRANQ\n",
      "['ENVIADO']\n",
      "[]\n",
      "C:/Users/ojgomes/Documents/Automação Rent/2 - FEVEREIRO/2 - FEVEREIRO\\04.02\\DESMEMBRAR FRANQ\\ENVIADO\n",
      "[]\n",
      "['CFO - B20690 FRANQ DESMEMBRAR.PDF', 'SVA - B2024.PDF']\n",
      "C:/Users/ojgomes/Documents/Automação Rent/2 - FEVEREIRO/2 - FEVEREIRO\\04.02\\ENVIAR FRANQ\n",
      "['ENVIADO']\n",
      "[]\n",
      "C:/Users/ojgomes/Documents/Automação Rent/2 - FEVEREIRO/2 - FEVEREIRO\\04.02\\ENVIAR FRANQ\\ENVIADO\n",
      "[]\n",
      "['BA2 - B08600 - FRANQ2.pdf', 'BA3 - B60040 (2).pdf', 'BA3 - B60040 FRAN 3.pdf', 'BAG - B08260 - FRANQ.pdf', 'HOR - B02680 (2) - franq.pdf', 'PAF - B09050 FRANQ DESPESAS.pdf', 'VSB - B08330 - FRANQ.pdf']\n",
      "C:/Users/ojgomes/Documents/Automação Rent/2 - FEVEREIRO/2 - FEVEREIRO\\04.02\\ERRO BANCO\n",
      "[]\n",
      "['BOD - B0917 - erro banco.pdf', 'CTA - B0790 - PAGAR.pdf', 'Guia GTV B0451 - erro banco.pdf', 'JSO - B0569 - passando com valor maior.pdf', 'SIB - B00190 - boleto 1 jA BAIXADO, os outros foram normal.pdf']\n",
      "C:/Users/ojgomes/Documents/Automação Rent/2 - FEVEREIRO/2 - FEVEREIRO\\04.02\\LANÇAR\n",
      "['PROCESSAR']\n",
      "[]\n",
      "C:/Users/ojgomes/Documents/Automação Rent/2 - FEVEREIRO/2 - FEVEREIRO\\04.02\\LANÇAR\\PROCESSAR\n",
      "[]\n",
      "[]\n",
      "C:/Users/ojgomes/Documents/Automação Rent/2 - FEVEREIRO/2 - FEVEREIRO\\04.02\\PROGRAMADO\n",
      "['086-060-040222-ALU-02']\n",
      "['banco 0402.pdf']\n",
      "C:/Users/ojgomes/Documents/Automação Rent/2 - FEVEREIRO/2 - FEVEREIRO\\04.02\\PROGRAMADO\\086-060-040222-ALU-02\n",
      "['BOLETOS PROGRAMADOS']\n",
      "['086-060-040222-ALU-02 - BANCO.pdf', 'e-mail lote formatado.pdf', 'PAGTO 0402 - PRIO 61.xls']\n",
      "C:/Users/ojgomes/Documents/Automação Rent/2 - FEVEREIRO/2 - FEVEREIRO\\04.02\\PROGRAMADO\\086-060-040222-ALU-02\\BOLETOS PROGRAMADOS\n",
      "[]\n",
      "['AID - B0197.pdf', 'AND - B02000 2.pdf', 'AND - B02000 3.pdf', 'AND - B02000.pdf', 'BA2 - B08600.pdf', 'BA3 - B60040 (3).pdf', 'BA3 - B60040.pdf', 'BAG - B08260.pdf', 'CEL - B03450.pdf', 'CTA - B0790.pdf', 'CTR - B20850 FRANQ 2.pdf', 'CTR - B20850 FRANQ.pdf', 'Guia IMI B0050.pdf', 'Guia PND B0392.pdf', 'Guia PUR B0863 (TJMG).pdf', 'Guia PUR B0863 (TJSP).pdf', 'Guia SBL B0955.pdf', 'Guia SSC B0089.pdf', 'Guia VTP B2079.pdf', 'HOR - B02680.pdf', 'JSO - B05690 1.pdf', 'LEM - B4098 - PROGRAMAR TOTAL.pdf', 'MRD - B0789.pdf', 'SHT - B20080-1.pdf', 'SIB - B00190 - boleto 2.pdf', 'SIB - B00190 - boleto 3.pdf', 'SIB - B00190 - boleto 4.pdf', 'SJO - B0282.PDF', 'SST - B0159.pdf']\n",
      "C:/Users/ojgomes/Documents/Automação Rent/2 - FEVEREIRO/2 - FEVEREIRO\\07.02\n",
      "['AGUARDANDO RETORNO', 'DESMEMBRAR FRANQ', 'ELETRONICO', 'ENVIAR FRANQ', 'ERRO BANCO', 'PROGRAMADO', 'QUESTIONAR LOCADOR', 'VERIFICAR']\n",
      "[]\n",
      "C:/Users/ojgomes/Documents/Automação Rent/2 - FEVEREIRO/2 - FEVEREIRO\\07.02\\AGUARDANDO RETORNO\n",
      "[]\n",
      "['ANP - B05670.pdf']\n",
      "C:/Users/ojgomes/Documents/Automação Rent/2 - FEVEREIRO/2 - FEVEREIRO\\07.02\\DESMEMBRAR FRANQ\n",
      "['ENVIADO']\n",
      "[]\n",
      "C:/Users/ojgomes/Documents/Automação Rent/2 - FEVEREIRO/2 - FEVEREIRO\\07.02\\DESMEMBRAR FRANQ\\ENVIADO\n",
      "[]\n",
      "['BVS - B09450 FRANQ DESMEMBRAR.PDF', 'CRA - B03730 DESMEMBRAR (2).pdf', 'CRA - B03730 DESMEMBRAR.pdf', 'DTM - B91120 FRANQ DESMEMBRAR.pdf', 'DUN - B01270 FRANQ DESMEMBRAR.pdf', 'LNT - B20270 DESMEMBRAR.PDF', 'MSH - B08030 DESMEMBRAR (2).pdf', 'MSH - B08030 DESMEMBRAR 2.pdf', 'MSH - B08030 DESMEMBRAR.pdf', 'MSH - B08030 FRANCO (2).pdf', 'MSH - B08030 FRANCO.pdf', 'MSH - B08030 FRANQ DESMEMBRAR (2).pdf', 'MSH - B08030 FRANQ DESMEMBRAR (3).pdf', 'MSH - B08030 FRANQ DESMEMBRAR (4).pdf', 'MSH - B08030 FRANQ DESMEMBRAR (5).pdf', 'MSH - B08030 FRANQ DESMEMBRAR.pdf', 'OPR - B60030 ENVIAR FRANQUEADO.pdf', 'PCD - B06390 DESMEMBRAR.PDF', 'PCD - B06390 FRANQ DESMEMBRAR.PDF', 'PDR - B06680 FRANQ DESMEMBRAR (2).pdf', 'PDR - B06680 FRANQ DESMEMBRAR.pdf', 'PEL - B09040 FRANQ DESMEMBRAR.pdf', 'PSH - B0802 (2) banco ok.pdf', 'PSH - B0802 (3) banco ok.pdf', 'PSH - B0802 (4) banco ok.pdf', 'PSH - B0802 (5) banco ok.pdf', 'PSH - B0802 (6) banco ok.pdf', 'PSH - B0802 banco ok.pdf', 'PSH - B08020 DESMEMBRAR (2).pdf', 'PSH - B08020 DESMEMBRAR (3).pdf', 'PSH - B08020 DESMEMBRAR (4).pdf', 'PSH - B08020 DESMEMBRAR (5).pdf', 'PSH - B08020 DESMEMBRAR (6).pdf', 'PSH - B08020 DESMEMBRAR.pdf', 'PSU - B08520 DESMEMBRAR.PDF', 'SVB - B08300 DESMEMBRAR.PDF']\n",
      "C:/Users/ojgomes/Documents/Automação Rent/2 - FEVEREIRO/2 - FEVEREIRO\\07.02\\ELETRONICO\n",
      "[]\n",
      "['BAS - B09260 ELETRONICO.pdf', 'BAS - B09260 FRANQ ALUGUEL.pdf', 'CON - B00360 FRANQ ALUGUEL.pdf', 'IPZ - B08230 FRANCO ALUGUEL.pdf', 'MAV - B95130 FRANQ ALUGUEL.pdf', 'PWS - B40670 (2) - ELETRONICO.pdf', 'SBV - Demonstrativo Mensal de Faturamento.doc', 'SHT - B20080 FRANQ ALUGUEL (2).pdf']\n",
      "C:/Users/ojgomes/Documents/Automação Rent/2 - FEVEREIRO/2 - FEVEREIRO\\07.02\\ENVIAR FRANQ\n",
      "['ENVIADO']\n",
      "[]\n"
     ]
    },
    {
     "name": "stdout",
     "output_type": "stream",
     "text": [
      "C:/Users/ojgomes/Documents/Automação Rent/2 - FEVEREIRO/2 - FEVEREIRO\\07.02\\ENVIAR FRANQ\\ENVIADO\n",
      "[]\n",
      "['BAY - B08130 ENVIAR FRANCO.pdf', 'BEC - B05540 ENVIAR FRANQUEADO.pdf', 'BVS - B09450.PDF', 'BWL - B02770 ENVIAR FRANCO (2).PDF', 'BWL - B02770 ENVIAR FRANCO (3).PDF', 'BWL - B02770 ENVIAR FRANCO.PDF', 'CEP - B01960 ENVIAR FRANQ.pdf', 'CFO - B20690 (ENVIAR FRANQUEADO).PDF', 'CFO - B20690 ENVIAR FRANCO (2).PDF', 'CFO - B20690 ENVIAR FRANCO.PDF', 'CFO - B20690 ENVIAR FRANQ (2).PDF', 'CFO - B20690 ENVIAR FRANQ.PDF', 'CMA - B09290 ENVIAR FRANQ.pdf', 'CNS - B09000 BANCO OK].pdf', 'CNS - B09000 ENVIAR FRANQ.pdf', 'CNS - B09000 ENVIAR FRANQUEADOS.pdf', 'CNS - B09000 FRANQ (PAGAMOS V2).pdf', 'CON - B00360 ENVIAR FRANQ 2.pdf', 'CON - B00360 ENVIAR FRANQ.pdf', 'DUN - B0127.PDF', 'DUN - B01270 ENVIAR FRANQ - .pdf', 'DUN - B01270 ENVIAR FRANQ.pdf', 'DUN - B01270 FRANQ (ENVIAR FRANQ).pdf', 'MNS - B05950 ENVIAR FRANQUEADO.pdf', 'MSH - B08030 ENVIAR FRANCO (3).pdf', 'MSH - B08030 ENVIAR FRANCO (4).pdf', 'MSH - B08030 ENVIAR FRANCO (5).pdf', 'MSH - B08030 ENVIAR FRANCO.pdf', 'MSH - B08030 ENVIAR FRANQ (2).pdf', 'MSH - B08030 ENVIAR FRANQ (3).pdf', 'MSH - B08030 ENVIAR FRANQ (4).pdf', 'MSH - B08030 ENVIAR FRANQ.pdf', 'NSC - B10910 ENVIAR FRANCO (2).pdf', 'NSC - B10910 ENVIAR FRANCO.pdf', 'PCD - B06390 ENVIAR FRANQ.pdf', 'RMF - B40180 ENVIAR FRANCO.pdf', 'RMR - B09460 ENVIAR FRANCO (2).pdf', 'RMR - B09460 ENVIAR FRANCO (3).pdf', 'RMR - B09460 ENVIAR FRANCO (4).pdf', 'RMR - B09460 ENVIAR FRANCO.pdf', 'ROY - B0584 (2) BANCO OK.pdf', 'ROY - B0584 BANCO OK.pdf', 'SBO - B08220 ENVIAR FRANQ.pdf', 'SDI - B50120 ENVIAR FRANQ.PDF', 'SEC - B07140 ENVIAR FRANQUEADO (2).pdf', 'SEC - B07140 ENVIAR FRANQUEADO.pdf', 'SEC - B07140 FRANQ ENVIAR FRANQ (2).pdf', 'SHO - B00880 ENVIAR FRANQ.pdf', 'SHS - B70180 ENVIAR FRANQ.pdf', 'SNC - B09440 ENVIAR FRANCO.pdf', 'SNC - B09440 ENVIAR FRANQ.pdf', 'SPS - B02460 ENVIAR FRANCO.PDF', 'SPS - B02460 ENVIAR FRANQ.PDF', 'SPS - B02460 FRANQ.PDF', 'TIV - B08890 ENVIAR FRANCO (2).pdf', 'TIV - B08890 ENVIAR FRANCO (3).pdf', 'TIV - B08890 ENVIAR FRANCO (4).pdf', 'TIV - B08890 ENVIAR FRANCO.pdf', 'VAD - B70310 ENVIA FRANQ.pdf', 'VAD - B70310 ENVIAR FRANQ.pdf', 'VPK - B08150 ENVIAR FRANCO.pdf', 'VPK - B08150 ENVIAR FRANQ (4).pdf', 'VPK - B08150 ENVIAR FRANQ.pdf', 'VPK - B08150 ENVIAR FRANQUEADO.pdf']\n",
      "C:/Users/ojgomes/Documents/Automação Rent/2 - FEVEREIRO/2 - FEVEREIRO\\07.02\\ERRO BANCO\n",
      "[]\n",
      "['JOC - B91280 - n disp para pagto].pdf', 'MDW - B40060 - cod invalido.PDF', 'MGD - B20210.pdf', 'POC - B0586 - Guarda Volumes.pdf', 'POC - B0586 Guarda Volumes 050222.pdf', 'SBO - B08220 FRANQ ALUGUEL.pdf', 'SHT - B20080 FRANQ ALUGUEL.pdf', 'SMC - B04060.PDF']\n",
      "C:/Users/ojgomes/Documents/Automação Rent/2 - FEVEREIRO/2 - FEVEREIRO\\07.02\\PROGRAMADO\n",
      "['086-060-040222-ALU-01', '086-060-040222-URGE-02', '086-060-070222-ALU-01 - ELETRONICO', '086-060-070222-ALU-02', '086-060-070222-ALU-03', '086-060-070222-ALU-04', '086-060-070222-ALU-05', '086-060-070222-ALU-06 - ELETRONICO PRIO 1']\n",
      "['Banco Itau.pdf']\n",
      "C:/Users/ojgomes/Documents/Automação Rent/2 - FEVEREIRO/2 - FEVEREIRO\\07.02\\PROGRAMADO\\086-060-040222-ALU-01\n",
      "['PARTE 1', 'PARTE 2']\n",
      "['086-060-040222-ALU-01 - BANCO.pdf', 'banco 0702.pdf', 'EMAIL LOTE FORMATADO.pdf', 'PAGTO 0702 - PRIO 61.xls']\n",
      "C:/Users/ojgomes/Documents/Automação Rent/2 - FEVEREIRO/2 - FEVEREIRO\\07.02\\PROGRAMADO\\086-060-040222-ALU-01\\PARTE 1\n",
      "['BANCO OK']\n",
      "[]\n",
      "C:/Users/ojgomes/Documents/Automação Rent/2 - FEVEREIRO/2 - FEVEREIRO\\07.02\\PROGRAMADO\\086-060-040222-ALU-01\\PARTE 1\\BANCO OK\n",
      "[]\n",
      "['ACM - B03610.pdf', 'AJU - B40120 (2).pdf', 'AJU - B40120 (3).pdf', 'AJU - B40120 (4).pdf', 'AJU - B40120.pdf', 'ANI - B06400.pdf', 'BEC - B05540 FRANCO ALUGUEL.pdf', 'BLO - B2001 FRANQ (PAGAR V2) (3).pdf', 'BLO - B2001 FRANQ (PAGAR V2).pdf', 'BND - B20050 (2).pdf', 'BND - B20050.pdf', 'BOB - B08770 FRANCO ALUGUEL.PDF', 'BRE - B02120.PDF', 'BSC - B06050 (2).PDF', 'BSC - B06050.PDF', 'BSI - B09320 FRANQUEADO PAG ENCARGOS.PDF', 'BTS - B7042 FRANCO ALUGUEL (2).pdf', 'BTS - B7042 FRANCO ALUGUEL.pdf', 'BUD - B06130.pdf', 'BWL - B02770 FRANCO ALUGUEL (2).PDF', 'BWL - B02770 FRANCO ALUGUEL (3).PDF', 'BWL - B02770 FRANCO ALUGUEL.PDF', 'CDE - B03510 (2).pdf', 'CDE - B03510.pdf', 'CFO - B20690 FRANCO ALUGEL.PDF', 'CNA - B9113 - 05.02.pdf', 'CPL - B01050.pdf', 'CSO - B07490 FRANCO ALUGUEL (2).pdf', 'OSC - B01040.pdf', 'OSU - B01910 (2).pdf', 'OSU - B01910.pdf', 'PAK - B06550 (2).pdf', 'PAT - B04330 (2).pdf', 'PAT - B04330.pdf', 'PBT - B20000 FRANQUEADO ALUGUEL.pdf', 'PDP - B01670 (2)2.pdf', 'PDP - B01670 (3).pdf', 'PDP - B01670 2.pdf', 'PDP - B01670.pdf', 'PGS - B01120.pdf', 'PH2 - B00830.pdf', 'PHA - B00300 (2).pdf', 'PHA - B00300 (3).pdf', 'PHA - B00300.pdf', 'PLT - B00010 (2).pdf', 'PLT - B00010.pdf']\n",
      "C:/Users/ojgomes/Documents/Automação Rent/2 - FEVEREIRO/2 - FEVEREIRO\\07.02\\PROGRAMADO\\086-060-040222-ALU-01\\PARTE 2\n",
      "['banco ok']\n",
      "['EBA - B40560 - ja baixado.pdf']\n",
      "C:/Users/ojgomes/Documents/Automação Rent/2 - FEVEREIRO/2 - FEVEREIRO\\07.02\\PROGRAMADO\\086-060-040222-ALU-01\\PARTE 2\\banco ok\n",
      "[]\n",
      "['BIP - B05610 FRANQ ALUGUEL.PDF', 'BNM - B41170 (4) - OK.pdf', 'CAR - B40260.pdf', 'CEL - B03450.pdf', 'CGS - B06670 (2).pdf', 'CGS - B06670.pdf', 'CSQ - B05110.pdf', 'DIR - B00440 (2).PDF', 'DIR - B00440.PDF', 'DPI - B02580.pdf', 'DRG - B20110 (2).pdf', 'DRG - B20110 2.pdf', 'DRG - B20110.pdf', 'EB2 - B04360.pdf', 'EB2 - B41280.pdf', 'EBA - B4056 - 05.02.pdf', 'FES - B05340 (2).pdf', 'FES - B05340 (3).pdf', 'FES - B05340 (4).pdf', 'FES - B05340 (5).pdf', 'FES - B05340.pdf', 'FNS - B05500.pdf', 'SSJ - B06260 (2).pdf', 'SSJ - B06260.pdf', 'STJ - B03210.pdf', 'STS - B00200 2.pdf', 'STS - B00200.pdf', 'SU2 - B20090 FRANQ PAG V2.pdf', 'TAM - B0062 (2) - 05.02.pdf', 'TAM - B0062 - 05.02.pdf', 'TAN - B04520 (2).pdf', 'TAN - B04520 (3).pdf', 'TAN - B04520 (4).pdf', 'TAN - B04520.pdf', 'TIV - B08890 FRANCO ALUGUEL (2).pdf', 'TIV - B08890 FRANCO ALUGUEL.pdf', 'TOP - B0325 - 05.02.pdf', 'TPS - B50020 FRANCO PAG ENCARGOS.PDF', 'VAD - B70310 FRANQ ALUGUEL.pdf', 'VSB - B08330 FRANQ ALUGUEL (2).pdf', 'VSB - B08330 FRANQ ALUGUEL.pdf', 'VVT - B2004 - 05.02.pdf', 'ZZZ - B05290.pdf']\n",
      "C:/Users/ojgomes/Documents/Automação Rent/2 - FEVEREIRO/2 - FEVEREIRO\\07.02\\PROGRAMADO\\086-060-040222-URGE-02\n",
      "['PROGRAMADO']\n",
      "['086-060-040222-URGE-02 - BANCO.pdf', 'BANCO 0702.pdf', 'E-MAIL LOTE FORMATADO.pdf', 'PAGTO 0702 - IMPOSTO.xls']\n",
      "C:/Users/ojgomes/Documents/Automação Rent/2 - FEVEREIRO/2 - FEVEREIRO\\07.02\\PROGRAMADO\\086-060-040222-URGE-02\\PROGRAMADO\n",
      "['banco ok']\n",
      "[]\n",
      "C:/Users/ojgomes/Documents/Automação Rent/2 - FEVEREIRO/2 - FEVEREIRO\\07.02\\PROGRAMADO\\086-060-040222-URGE-02\\PROGRAMADO\\banco ok\n",
      "[]\n",
      "['BOLETO IPTU 2022 - AMC.pdf', 'BOLETO IPTU 2022 - BIC - 08180986.pdf', 'BOLETO IPTU 2022 - BIC - 31639198.pdf', 'BOLETO IPTU 2022 - CBR.pdf', 'BOLETO IPTU 2022 - CEL.pdf', 'BOLETO IPTU 2022 - FAL.pdf', 'BOLETO IPTU 2022 - FRE.pdf', 'BOLETO IPTU 2022 - HGO CK.pdf', 'BOLETO IPTU 2022 - HGO.pdf', 'BOLETO IPTU 2022 - IDR.pdf', 'BOLETO IPTU 2022 - LET.pdf', 'BOLETO IPTU 2022 - MAX.pdf', 'BOLETO IPTU 2022 - MEI - 03786183.pdf', 'BOLETO IPTU 2022 - MEI - 03786191.pdf', 'BOLETO IPTU 2022 - MER.pdf', 'BOLETO IPTU 2022 - MRB - 05419841.pdf', 'BOLETO IPTU 2022 - MRB - 05419858.pdf', 'BOLETO IPTU 2022 - PAV.pdf', 'BOLETO IPTU 2022 - PFL CK.pdf', 'BOLETO IPTU 2022 - PND.pdf', 'BOLETO IPTU 2022 - PRV.pdf', 'BOLETO IPTU 2022 - RB1 - 14264857.pdf', 'BOLETO IPTU 2022 - RB1 - 14264865.pdf', 'BOLETO IPTU 2022 - RB1 - 14264873.pdf', 'BOLETO IPTU 2022 - RB4 - 05532650.pdf', 'BOLETO IPTU 2022 - RB4 - 05532676.pdf', 'BOLETO IPTU 2022 - RB4 - 05532700.pdf', 'BOLETO IPTU 2022 - SCZ.pdf', 'BOLETO IPTU 2022 - SET.pdf', 'BOLETO IPTU 2022 - SJO.pdf', 'BOLETO IPTU 2022 - SUB.pdf', 'BOLETO IPTU 2022 - SUC - 04305090.pdf', 'BOLETO IPTU 2022 - SUC - 04305116.pdf', 'BOLETO IPTU 2022 - SUC - 04305124.pdf', 'BOLETO IPTU 2022 - TIJ.pdf', 'BOLETO IPTU 2022 - VAL.pdf', 'BOLETOS IPTU 2022 - ADR - PAGAR TODOS OS BOLETOS.pdf']\n",
      "C:/Users/ojgomes/Documents/Automação Rent/2 - FEVEREIRO/2 - FEVEREIRO\\07.02\\PROGRAMADO\\086-060-070222-ALU-01 - ELETRONICO\n",
      "[]\n",
      "['086-060-070222 - E-MAIL LOTE FORMATADO PRIO 5.pdf', '086-060-070222-ALU-01 (1).pdf', '086-060-070222-ALU-01 (1).xls', '086-060-070222-ALU-01 - BANCO.pdf', 'APD - B04250 PROGRAMAR ELETRONICO.PDF', 'CIT - B1161 - ELETRONICO.pdf', 'CIT B1161 - AAH B0247 - AFD B0106 - SAP B0129.pdf', 'CRT - B05020 ELETRONICO.pdf', 'PES - B0125 - ELETRONICO.pdf', 'REEMBOLSO IPTU 2022 - PEN.pdf', 'SSA - B0094 - ELETRONICO 1.pdf', 'SSA - B0094 - ELETRONICO.pdf', 'TPS - B5002 - ELETRONICO.pdf']\n",
      "C:/Users/ojgomes/Documents/Automação Rent/2 - FEVEREIRO/2 - FEVEREIRO\\07.02\\PROGRAMADO\\086-060-070222-ALU-02\n",
      "['PROGRAMADO']\n",
      "['086-060-070222-ALU-02 - BANCO.pdf', 'E-MAIL LOTE FORMATADO.pdf']\n",
      "C:/Users/ojgomes/Documents/Automação Rent/2 - FEVEREIRO/2 - FEVEREIRO\\07.02\\PROGRAMADO\\086-060-070222-ALU-02\\PROGRAMADO\n",
      "['banco ok', 'erro banco']\n",
      "['PAGTO 0702 PRIO 62.xls']\n",
      "C:/Users/ojgomes/Documents/Automação Rent/2 - FEVEREIRO/2 - FEVEREIRO\\07.02\\PROGRAMADO\\086-060-070222-ALU-02\\PROGRAMADO\\banco ok\n",
      "[]\n",
      "['AAB - B05080.pdf', 'AUG - B00180.pdf', 'AVR - B91570.pdf', 'BAY - B0813.pdf', 'CEL - B0345.pdf', 'CMA - B09290 FRANQ ALUGUEL.pdf', 'DGR - B06360.pdf', 'DTM - B91120 FRANQ ALUGUEL.pdf', 'FGB - B40210.pdf', 'FRA - B05280.pdf', 'FRB - B08830 FRANQ PAG V2.pdf', 'FST - B03870 2.pdf', 'FST - B03870.pdf', 'GBM - B10870.PDF', 'GFS - B40590 (2).pdf', 'GFS - B40590 (3).pdf', 'GFS - B40590 (4).pdf', 'GFS - B40590 (5).pdf', 'GFS - B40590.pdf', 'GNA - B0446.pdf', 'GNC - B6002 FRANCO PAG ENCARGOS (4).pdf', 'GOI - B05520.pdf', 'GPA - B40020 (2) 2.pdf', 'GPA - B40020 (2).pdf', 'GPA - B40020.pdf', 'GPS - B06510 FRANCO.pdf', 'GS2 - B01730.pdf', 'GSC - B00970 (2).pdf', 'GSC - B00970.pdf', 'ICG - B05720 (2).pdf', 'ICG - B05720.pdf', 'IPZ - B08230 FRANQ PAG V2.pdf', 'ITA - B03360.pdf', 'JFI - B04240.pdf', 'KNO - B10350 (2).pdf', 'KNO - B10350.pdf', 'LAA - B02030.pdf', 'LGT - B01130.pdf', 'LIN - B04380 (2).pdf', 'LIN - B04380.pdf', 'MAD - B08010 FRANCO ALUGUEL.PDF', 'MAL - B04230 FRANCO PAG ENCARGOS (3).pdf', 'MAL - B04230 FRANCO PAG ENCARGOS.pdf', 'MAP - B00840.pdf', 'MAX - B0335.pdf', 'MCZ - B40480.pdf', 'MDW - B40060 (2).PDF', 'MET - B04610 FRANCO ALUGUEL.PDF', 'MI2 - B10170 (2).pdf', 'MI2 - B10170.pdf', 'MID - B10010.pdf', 'MIG - B05390.pdf', 'MIR - B00930.pdf', 'MIS - B08060 (2).pdf', 'MIS - B08060.pdf', 'MMS - B06310 (PAGAR V2).pdf', 'MMS - B06310 FRANQ (PAGAMOS V2) (2).pdf', 'MMS - B06310 FRANQ (PAGAR V2).pdf', 'MMS - B06310 FRANQ (PAGAR V2_ (2).pdf', 'MOO - B02110 2.pdf', 'MOS - B06450.pdf', 'MSH - B08030 2 FRANQ ALUGUEL.pdf', 'MSH - B08030 FRANCO ALUGUEL (2).pdf', 'MSH - B08030 FRANCO ALUGUEL (3).pdf', 'MSH - B08030 FRANCO ALUGUEL (4).pdf', 'MSH - B08030 FRANCO ALUGUEL.pdf', 'MTP - B00530 2.pdf', 'MTP - B00530.pdf', 'NA2 - B04370.pdf', 'NAS - B05440.pdf', 'NFR - B03160 (2).pdf', 'NIG - B0328.pdf', 'NIG - B03280.PDF', 'NNS - B06220 ELETRONICO (2).pdf', 'NNS - B06220 ELETRONICO (3).pdf', 'NNS - B06220 ELETRONICO.pdf', 'NS2 - B06420.pdf', 'OPM - B11290.pdf', 'OPR - B60030 FRANQ ALUGUEL.pdf', 'PAK - B06550.pdf', 'PEL - B09040 FRANQ ALUGUEL.pdf', 'PGB - B40010.pdf', 'PMI - B08190 FRANCO PAG ENCARGOS (5).pdf', 'PND - B0392.pdf', 'POG - B11540.pdf', 'PRU - B08900 FRANCO.pdf', 'PSA - B0669 - 05.02.pdf', 'PSM - B06330 (2).pdf', 'PSM - B06330 (3).pdf', 'PSM - B06330 (6).pdf', 'PSM - B06330.pdf', 'PTG - B05270.pdf', 'RES - B02960.pdf', 'S3A - B07710.pdf', 'SBA - B02990.pdf', 'SBP - B10130 (2).pdf', 'SCP - B00250 (2).pdf', 'SCR - B20280.pdf', 'SCT - B01230 (3).pdf', 'SCT - B01230.pdf', 'SEC - B07140 FRANCO ALUGUEL (2).pdf', 'SES - B04530.pdf', 'SGR - B91000 (2).pdf', 'SGR - B91000 (2)3.pdf', 'SGR - B91000 (3).pdf', 'SGU - B05180 (3).pdf', 'SGU - B05180.pdf', 'SHS - B70180 FRANQ ALUGUEL.pdf', 'SMA - B05350 (2).pdf', 'SMA - B05350.pdf', 'SMI - B01870 (2).pdf', 'SMI - B01870 (3).pdf', 'SMI - B01870 (4).pdf', 'SMI - B01870 (5).pdf', 'SMI - B01870 (6).pdf', 'SMI - B01870 (7).pdf', 'SMO - B01340.pdf', 'SNC - B09440 FRANQ ALUGUEL (2).pdf', 'SNC - B09440 FRANQ ALUGUEL.pdf', 'SNO - B08340 FRANQ ALUGUEL.pdf', 'SOM - B08700 FRANCO ALUGUEL.pdf', 'SON - B70040 FRANCO ALUGUEL.pdf', 'SPA - B06230 (2).pdf', 'SPA - B06230.pdf', 'SPN - B06660 (2).PDF', 'SPN - B06660 (3).PDF', 'SPN - B06660 (4).PDF', 'SPN - B06660.PDF', 'SPS - B02460 FRANQ ALUGUEL.PDF', 'SPV - B06270.pdf', 'SSG - B04150.pdf', 'SSH - B08240 FRANCO ALUGUEL (2).pdf', 'SSH - B08240 FRANCO ALUGUEL (3).pdf', 'SSH - B08240 FRANCO ALUGUEL (4).pdf', 'SSH - B08240 FRANCO ALUGUEL.pdf', 'SSH - B08240 FRANGO ALUGUEL.pdf']\n"
     ]
    },
    {
     "name": "stdout",
     "output_type": "stream",
     "text": [
      "C:/Users/ojgomes/Documents/Automação Rent/2 - FEVEREIRO/2 - FEVEREIRO\\07.02\\PROGRAMADO\\086-060-070222-ALU-02\\PROGRAMADO\\erro banco\n",
      "[]\n",
      "[]\n",
      "C:/Users/ojgomes/Documents/Automação Rent/2 - FEVEREIRO/2 - FEVEREIRO\\07.02\\PROGRAMADO\\086-060-070222-ALU-03\n",
      "[]\n",
      "['086-060-070222-ALU-03 - BANCO.pdf', '086-060-070222-ALU-03 - EMAIL LOTE FORMATADO.pdf', 'HGO - B0281 BANCO OK.PDF', 'MDW - B4006 BANCO OK.pdf', 'MTL - B1089 PGTO URGENTE 69.863\\xa0,71 BANCO OK.pdf', 'PCC - B04440 BANCO OK.pdf', 'PDR - B06680 FRAN ALUGUEL BANCO OK.pdf', 'PGTO 0702 PRIO 65.xls', 'POC - B0586 Aluguel 050222 BANCO OK.pdf', 'POC - B0586 Rateio050222 BANCO OK.pdf', 'PWS - B40670 BANCO OK.pdf', 'SAS - B0571 PGTO URGENTE 71.284\\xa0,98 BANCO OK.pdf', 'SGU - B05180 (2) - BANCO OK.pdf', 'SJO - B0282 (2) banco ok.pdf', 'SJO - B0282 - banco ok.pdf', 'VPK - B0815 PGTO URGENTE 8.376\\xa0,79 BANCO OK.pdf']\n",
      "C:/Users/ojgomes/Documents/Automação Rent/2 - FEVEREIRO/2 - FEVEREIRO\\07.02\\PROGRAMADO\\086-060-070222-ALU-04\n",
      "['BANCO OK']\n",
      "['086-060-070222-ALU-04 - BANCO.pdf', 'e-mail lote formatado.pdf', 'PAGTO 0702  PRIO 63.xls', 'SOMA.xlsx']\n",
      "C:/Users/ojgomes/Documents/Automação Rent/2 - FEVEREIRO/2 - FEVEREIRO\\07.02\\PROGRAMADO\\086-060-070222-ALU-04\\BANCO OK\n",
      "['OK']\n",
      "[]\n",
      "C:/Users/ojgomes/Documents/Automação Rent/2 - FEVEREIRO/2 - FEVEREIRO\\07.02\\PROGRAMADO\\086-060-070222-ALU-04\\BANCO OK\\OK\n",
      "[]\n",
      "['APD - B04250 (2).PDF', 'BAL - 05.02.pdf', 'BAY - B08130 FRANCO ALUGUEL.pdf', 'BLO - B2001 FRANQ ALUGUEL.pdf', 'BNM - B41170 .pdf', 'BRD - B02330.pdf', 'BRU - 05.02.pdf', 'BVC - B09670.pdf', 'CBR - B03830 - VERIF LANÇAMENTOS.PDF', 'CDE - B03510 (3).pdf', 'CEL - B03450 (2).pdf', 'CPL - B01050.pdf', 'DAC - B09250 FRANQ ALUGUEL - VERIF LANÇAMENTOS.pdf', 'DCA - B06370 - VERIF LANÇAMENTOS.pdf', 'FCR - B11140 (2).pdf', 'FCR - B11140.pdf', 'FNS - B05500 (2).pdf', 'FVS - B06300 FRANQ (PAGAR V2) VERIF LANÇAMENTOS.pdf', 'GOS - B05680 - verif lançamento.pdf', 'ITV - B0140 CONDOMINIO 01.2022 - VENC. 05.02.2022.pdf', 'JGS - 05.02.pdf', 'LET -  VERIFICAR CLASSIFICAÇÃO.pdf', 'MAL - B04230 verif lançamento.pdf', 'PAV - B03710.pdf', 'PDP - B0167 (2).pdf', 'PDP - B0167 (3).pdf', 'PDP - B0167 (4).pdf', 'PDP - B0167 (5).pdf', 'PDP - B0167.pdf', 'PDR - 05.02.2022 (BOLETO SEM DESCRIÇÃO DE PGTO).pdf', 'PSC - B02090.pdf', 'PSJ - B4105 - 05.02.pdf', 'PSU - B0852 - 07.02.PDF', 'PTR - B03370 (2).pdf', 'PTR - B03370.pdf', 'PWS - B40670 (3).pdf', 'PWS - B40670 (4).pdf', 'PWS - B40670 (5).pdf', 'PWS - B40670 1.pdf']\n",
      "C:/Users/ojgomes/Documents/Automação Rent/2 - FEVEREIRO/2 - FEVEREIRO\\07.02\\PROGRAMADO\\086-060-070222-ALU-05\n",
      "['banco ok']\n",
      "['086-060-070222-ALU-05 - BANCO.pdf', '086-060-070222-ALU-05 - E-MAIL LOTE FORMATADO.pdf', 'PAGTO 0702 PRIO 64.xls']\n",
      "C:/Users/ojgomes/Documents/Automação Rent/2 - FEVEREIRO/2 - FEVEREIRO\\07.02\\PROGRAMADO\\086-060-070222-ALU-05\\banco ok\n",
      "['Programado']\n",
      "['RMR - B09460 FRANCO ALUGUEL (2).pdf', 'RMR - B09460 FRANCO ALUGUEL (3).pdf', 'TTE - B4045 - UM CENTAVO A MAIS.pdf', 'WOS - B01360 (3) SOMA N BATE.pdf', 'WPL - B0027 1 CENTAVO A MAIS.pdf']\n",
      "C:/Users/ojgomes/Documents/Automação Rent/2 - FEVEREIRO/2 - FEVEREIRO\\07.02\\PROGRAMADO\\086-060-070222-ALU-05\\banco ok\\Programado\n",
      "[]\n",
      "['B054704-  6.046,40.pdf', 'RAP - B00660.pdf', 'RB4 - B02860 (2) 2.101\\xa0,85.pdf', 'RB4 - B02860 (3) 3.374\\xa0,46.pdf', 'RB4 - B02860 2.101\\xa0,85.pdf', 'RCF - B06000 .pdf', 'RES - B02960 (2).pdf', 'RMN - B09620 FRANQ ALUGUEL (2).pdf', 'RMN - B09620 FRANQ ALUGUEL.pdf', 'RMR - B09460 FRANCO ALUGUEL (4).pdf', 'RMR - B09460 FRANCO ALUGUEL.pdf', 'ROD - B0731 (2).pdf', 'ROD - B0731.pdf', 'RSU - B02900 2.pdf', 'RSU - B02900.pdf', 'RXV - B06140.pdf', 'S3A - B07710 (2).pdf', 'S3A - B07710.pdf', 'SAR - B20530.pdf', 'SBA - B02990.pdf', 'SBF - B0921.pdf', 'SBM - B11200 (2) - PROGRAMAR 36.700,76 - 1.430,00.pdf', 'SBM - B11200 - PROGRAMAR 8.255,54 - -2.476,66.pdf', 'SBP - B10130 - VERIF LANÇAMENTOS.pdf', 'SBS - B06250 2.pdf', 'SCJ - B04050 (2).pdf', 'SCJ - B04050.pdf', 'SCP - B00250 - VERIF LANÇAMENTOS.pdf', 'SCT - B0123 (2) - 05.02- SOMA N BATE.pdf', 'SEC - B07140 FRANCO ALUGUEL.pdf', 'SEC - B07140 FRANQ ENVIAR FRANQ.pdf', 'SGV - B02040  1.pdf', 'SGV - B02040 2.pdf', 'SJO - B02820.pdf', 'SLP - B01090.pdf', 'SME - B01850.pdf', 'SMI - B01870.pdf', 'SMS - B91170.pdf', 'SNO - B08340 FRANQ ALUGUEL.pdf', 'SOC - B07050 FRAN PAG V2.PDF', 'TAM - B00620.pdf', 'TC2 - B06290 .pdf', 'TD2 - B06590.pdf', 'TOP - B03250 - 3.876\\xa0,84.pdf', 'WLA - B03970 - LANÇAR 7846,48.pdf', 'WOS - B01360.pdf', 'WPA - B01330.pdf', 'WSB - B01380 (2).pdf', 'WSB - B01380.pdf']\n",
      "C:/Users/ojgomes/Documents/Automação Rent/2 - FEVEREIRO/2 - FEVEREIRO\\07.02\\PROGRAMADO\\086-060-070222-ALU-06 - ELETRONICO PRIO 1\n",
      "[]\n",
      "['086-060-070222-ALU-06 - BANCO.pdf', 'E-MAIL LOTE FORMATADO.pdf', 'PAGTO 0702 ELETRONICO PRIO 1.pdf', 'PAGTO 0702 ELETRONICO PRIO 1.xls']\n",
      "C:/Users/ojgomes/Documents/Automação Rent/2 - FEVEREIRO/2 - FEVEREIRO\\07.02\\QUESTIONAR LOCADOR\n",
      "[]\n",
      "['ISH - B02920 (2).PDF', 'ISH - B02920 (3).PDF', 'ISH - B02920 (4).PDF', 'ISH - B02920 2.PDF', 'ISH - B02920 3.PDF', 'ISH - B02920.PDF']\n",
      "C:/Users/ojgomes/Documents/Automação Rent/2 - FEVEREIRO/2 - FEVEREIRO\\07.02\\VERIFICAR\n",
      "[]\n",
      "['TAN - B04520 (5) boleto com senha.pdf', 'VRE - B0820.doc']\n",
      "C:/Users/ojgomes/Documents/Automação Rent/2 - FEVEREIRO/2 - FEVEREIRO\\08.02\n",
      "['CLASSIFICAR', 'DESMEMBRAR', 'ENVIAR FRANQ', 'PROGRAMADO']\n",
      "[]\n",
      "C:/Users/ojgomes/Documents/Automação Rent/2 - FEVEREIRO/2 - FEVEREIRO\\08.02\\CLASSIFICAR\n",
      "[]\n",
      "[]\n",
      "C:/Users/ojgomes/Documents/Automação Rent/2 - FEVEREIRO/2 - FEVEREIRO\\08.02\\DESMEMBRAR\n",
      "[]\n",
      "['CNT - B2002.PDF', 'JOS - B0934.PDF', 'SCC - B0920.PDF']\n",
      "C:/Users/ojgomes/Documents/Automação Rent/2 - FEVEREIRO/2 - FEVEREIRO\\08.02\\ENVIAR FRANQ\n",
      "['ENVIADO']\n",
      "[]\n",
      "C:/Users/ojgomes/Documents/Automação Rent/2 - FEVEREIRO/2 - FEVEREIRO\\08.02\\ENVIAR FRANQ\\ENVIADO\n",
      "[]\n",
      "['RAF - B4027.PDF', 'REC - B60050 - FRAN.pdf', 'REC - B60050 - FRANQ.pdf', 'REC - B60050 - FRANQUEADO.pdf']\n",
      "C:/Users/ojgomes/Documents/Automação Rent/2 - FEVEREIRO/2 - FEVEREIRO\\08.02\\PROGRAMADO\n",
      "['086-060-080222-ALU-01', '086-060-080222-ALU-02', '086-060-080222-ALU-03', '086-060-080222-URGE-01', '086-060-080222-URGE-05']\n",
      "[]\n",
      "C:/Users/ojgomes/Documents/Automação Rent/2 - FEVEREIRO/2 - FEVEREIRO\\08.02\\PROGRAMADO\\086-060-080222-ALU-01\n",
      "['BANCO OK']\n",
      "['086-060-080222-ALU-01 - BANCO.pdf', 'BANCO 0802.pdf', 'E-MAIL LOTE FORMATADO.pdf', 'PAGTO 08.02 - PRIO 61.xls']\n",
      "C:/Users/ojgomes/Documents/Automação Rent/2 - FEVEREIRO/2 - FEVEREIRO\\08.02\\PROGRAMADO\\086-060-080222-ALU-01\\BANCO OK\n",
      "[]\n",
      "['BSI - B09320 - PAGAR V2.PDF', 'GDU - B10750 -.pdf', 'IBA - B2340 - .pdf', 'IBA - B2340 -.pdf', 'IRP - B20440 (2).PDF', 'IRP - B20440.PDF', 'ISJ - B70190.PDF', 'ISO  - B70160 (2).PDF', 'ISO  - B70160.PDF', 'KNO - B1035.pdf', 'MDR - B0577.pdf', 'MKP - B00600 (2).PDF', 'MKP - B00600.PDF', 'NID - B0447.PDF', 'PC7 - B0349 (2).pdf', 'PC7 - B0349.pdf', 'PIR - B07150.pdf', 'POI - B0505 - 08.02 .PDF', 'PTY - B4062 (2).pdf', 'PTY - B4062.pdf', 'REC - B60050.pdf', 'RVE - B08040.pdf', 'SCI - B00090 (2).PDF', 'SCI - B00090.PDF', 'SIA  - B02070.PDF', 'SIC - B07070 - PAGAR V2 (2).PDF', 'SIC - B07070 - pagar v2.PDF', 'SIC - B07070.PDF', 'SOC - B07050 (2).PDF', 'SOC - B07050 - PAGAR V2 (.PDF', 'SOC - B07050.PDF']\n",
      "C:/Users/ojgomes/Documents/Automação Rent/2 - FEVEREIRO/2 - FEVEREIRO\\08.02\\PROGRAMADO\\086-060-080222-ALU-02\n",
      "[]\n",
      "['086-060-080222-ALU-02 - BANCO.pdf', '086-060-080222-ALU-02 - E-MAIL LOTE FORMATADO.pdf', 'PAGTO 08.02 - ELETRONICO PRIO 1.xls']\n",
      "C:/Users/ojgomes/Documents/Automação Rent/2 - FEVEREIRO/2 - FEVEREIRO\\08.02\\PROGRAMADO\\086-060-080222-ALU-03\n",
      "[]\n",
      "['086-060-080222-ALU-03 - BANCO.pdf', '086-060-080222-ALU-03 - E-MAIL LOTE FORMATADO.pdf', 'BANCO 0802.pdf', 'BLU - B0509 (2).PDF', 'BLU - B0509 (3).PDF', 'BLU - B0509.PDF', 'BNS - B0256.PDF', 'CRS - B9502.PDF', 'MDW - B4006 - ALUG COMPL BANCO OK.PDF', 'PAGTO 08.02 - PRIO 62.xls']\n",
      "C:/Users/ojgomes/Documents/Automação Rent/2 - FEVEREIRO/2 - FEVEREIRO\\08.02\\PROGRAMADO\\086-060-080222-URGE-01\n",
      "[]\n",
      "['086-060-080222-URGE-01 - BANCO.pdf', '086-060-080222-URGE-01 - E-MAIL LOTE FORMATADO.pdf', 'BANCO 0802.pdf', 'BOLETO IPTU 2022 - RES.pdf', 'PAGTO 08.02 - IMPOSTO PRIO 1.xls']\n",
      "C:/Users/ojgomes/Documents/Automação Rent/2 - FEVEREIRO/2 - FEVEREIRO\\08.02\\PROGRAMADO\\086-060-080222-URGE-05\n",
      "[]\n",
      "['086-060-080222-URGE-05 BANCO.pdf', '086-060-080222-URGE-05 EMAIL LOTE FORMATADO.pdf', 'BANCO 0802 IMPOSTO.pdf', 'Nova Guia GTV.pdf', 'PAGTO 08.02 - IMPOSTO PRIO 2.xls']\n",
      "C:/Users/ojgomes/Documents/Automação Rent/2 - FEVEREIRO/2 - FEVEREIRO\\09.02\n",
      "['CLASSIFICAR', 'DESMEMBRAR', 'ENVIAR FRANQ', 'LANÇAR', 'PROGRAMADO']\n",
      "[]\n",
      "C:/Users/ojgomes/Documents/Automação Rent/2 - FEVEREIRO/2 - FEVEREIRO\\09.02\\CLASSIFICAR\n",
      "['ENVIADO YVY']\n",
      "[]\n",
      "C:/Users/ojgomes/Documents/Automação Rent/2 - FEVEREIRO/2 - FEVEREIRO\\09.02\\CLASSIFICAR\\ENVIADO YVY\n",
      "[]\n",
      "['2022-01-31T21_35_20+00_00lote24_a vista.pdf', '2022-01-31T21_35_20+00_00lote25_a vista.pdf', '2022-01-31T21_35_20+00_00lote26_ a vista.pdf', '2022-01-31T21_35_20+00_00lote27_ a vista.pdf']\n",
      "C:/Users/ojgomes/Documents/Automação Rent/2 - FEVEREIRO/2 - FEVEREIRO\\09.02\\DESMEMBRAR\n",
      "[]\n",
      "['SSL - B0410 (2).pdf', 'SSL - B0410.pdf']\n",
      "C:/Users/ojgomes/Documents/Automação Rent/2 - FEVEREIRO/2 - FEVEREIRO\\09.02\\ENVIAR FRANQ\n",
      "['ENVIADO']\n",
      "[]\n",
      "C:/Users/ojgomes/Documents/Automação Rent/2 - FEVEREIRO/2 - FEVEREIRO\\09.02\\ENVIAR FRANQ\\ENVIADO\n",
      "[]\n",
      "['SSL - B0410 (3).pdf', 'SSL - B0410 (6).pdf']\n",
      "C:/Users/ojgomes/Documents/Automação Rent/2 - FEVEREIRO/2 - FEVEREIRO\\09.02\\LANÇAR\n",
      "['IPTU', 'PROCESSAR']\n",
      "[]\n",
      "C:/Users/ojgomes/Documents/Automação Rent/2 - FEVEREIRO/2 - FEVEREIRO\\09.02\\LANÇAR\\IPTU\n",
      "['AGUARDNADO']\n",
      "[]\n",
      "C:/Users/ojgomes/Documents/Automação Rent/2 - FEVEREIRO/2 - FEVEREIRO\\09.02\\LANÇAR\\IPTU\\AGUARDNADO\n",
      "[]\n",
      "[]\n",
      "C:/Users/ojgomes/Documents/Automação Rent/2 - FEVEREIRO/2 - FEVEREIRO\\09.02\\LANÇAR\\PROCESSAR\n",
      "[]\n",
      "[]\n",
      "C:/Users/ojgomes/Documents/Automação Rent/2 - FEVEREIRO/2 - FEVEREIRO\\09.02\\PROGRAMADO\n",
      "['086-060-080222-URGE-06', '086-060-090222-ALU-01', '086-060-090222-URGE-02', 'PAGTO 0902 - EMERGENCIAL IMPOSTO']\n",
      "['banco imposto 0902.pdf']\n",
      "C:/Users/ojgomes/Documents/Automação Rent/2 - FEVEREIRO/2 - FEVEREIRO\\09.02\\PROGRAMADO\\086-060-080222-URGE-06\n",
      "['BANCO OK']\n",
      "['086-060-080222-URGE-06 - BANCO.pdf', '086-060-080222-URGE-06 - IMPOSTO PRIO 1.pdf', 'BANCO 0902.pdf', 'PAGTO 09.02 - IMPOSTO PRIO 1.xls']\n",
      "C:/Users/ojgomes/Documents/Automação Rent/2 - FEVEREIRO/2 - FEVEREIRO\\09.02\\PROGRAMADO\\086-060-080222-URGE-06\\BANCO OK\n",
      "['PROGRAMADO']\n",
      "[]\n",
      "C:/Users/ojgomes/Documents/Automação Rent/2 - FEVEREIRO/2 - FEVEREIRO\\09.02\\PROGRAMADO\\086-060-080222-URGE-06\\BANCO OK\\PROGRAMADO\n",
      "[]\n",
      "['BOLETO IPTU 2022 - AE2.pdf', 'BOLETO IPTU 2022 - AFM.pdf', 'BOLETO IPTU 2022 - AGT.pdf', 'BOLETO IPTU 2022 - AJB.pdf', 'BOLETO IPTU 2022 - ALS.pdf', 'BOLETO IPTU 2022 - AMO.pdf', 'BOLETO IPTU 2022 - ANR.pdf', 'BOLETO IPTU 2022 - ANZ.pdf', 'BOLETO IPTU 2022 - BAR - 006.016.0813-5.pdf', 'BOLETO IPTU 2022 - BAR - 006.016.0814-3.pdf', 'BOLETO IPTU 2022 - BDT.pdf', 'BOLETO IPTU 2022 - BGT.pdf', 'BOLETO IPTU 2022 - BLE.pdf', 'BOLETO IPTU 2022 - BRA.pdf', 'BOLETO IPTU 2022 - CAT.pdf', 'BOLETO IPTU 2022 - DOM.pdf', 'BOLETO IPTU 2022 - DRT.pdf', 'BOLETO IPTU 2022 - FAO.pdf', 'BOLETO IPTU 2022 - JAF.pdf', 'BOLETO IPTU 2022 - LPA.pdf', 'BOLETO IPTU 2022 - NFL.pdf', 'BOLETO IPTU 2022 - PAN - 081.188.0035-0.pdf', 'BOLETO IPTU 2022 - PAR - 017.017.0058-1.pdf', 'BOLETO IPTU 2022 - PES.pdf', 'BOLETO IPTU 2022 - SAM.pdf', 'BOLETO IPTU 2022 - SBT.pdf', 'BOLETO IPTU 2022 - SIB.pdf', 'BOLETO IPTU 2022 - STA.pdf', 'BOLETO IPTU 2022 - TAQ.pdf', 'BOLETO IPTU 2022 - TIR - 018.010.0058-1.pdf', 'BOLETO IPTU 2022 - UVA.pdf', 'BOLETO IPTU 2022 - VMA.pdf', 'BOLETO IPTU 2022 - WHI.pdf', 'BOLETO IPTU 2022 - WLZ.pdf']\n",
      "C:/Users/ojgomes/Documents/Automação Rent/2 - FEVEREIRO/2 - FEVEREIRO\\09.02\\PROGRAMADO\\086-060-090222-ALU-01\n",
      "[]\n",
      "['086-060-090222-ALU-01 - BANCO.pdf', 'BANCO 0902.pdf', 'E-MAIL LOTE FORMATADO.pdf', 'MPL - B1155.pdf', 'PAGTO 09.02 PRIO 61.xls', 'SSL - B0410 (4).pdf', 'SSL - B0410 (5).pdf']\n"
     ]
    },
    {
     "name": "stdout",
     "output_type": "stream",
     "text": [
      "C:/Users/ojgomes/Documents/Automação Rent/2 - FEVEREIRO/2 - FEVEREIRO\\09.02\\PROGRAMADO\\086-060-090222-URGE-02\n",
      "[]\n",
      "['086-060-090222-URGE-02 - BANCO.pdf', '086-060-090222-URGE-02 - E-MAIL LOTE FORMATADO.pdf', 'BANCO 0902.pdf', 'BOLETO IPTU 2022 - HSC.pdf', 'BOLETO IPTU 2022 - MUN - 125.129.0138-5.pdf', 'BOLETO IPTU 2022 - PAC.pdf', 'PAGTO 09.02 - IMPOSTO PRIO 2.xls']\n",
      "C:/Users/ojgomes/Documents/Automação Rent/2 - FEVEREIRO/2 - FEVEREIRO\\09.02\\PROGRAMADO\\PAGTO 0902 - EMERGENCIAL IMPOSTO\n",
      "[]\n",
      "['BOLETO IPTU 2022 - CHA - BANCO OK.pdf', 'PAGTO 0902 - EMERGENCIAL IMPOSTO.xls']\n",
      "C:/Users/ojgomes/Documents/Automação Rent/2 - FEVEREIRO/2 - FEVEREIRO\\10.02\n",
      "['AGUARDANDO RETORNO', 'CARREFOUR Boletos_02.2022', 'CLASSIFICAR', 'DEMONSTRATIVO', 'DESMEMBRAR', 'ENVIAR FRANQ', 'ERRO BANCO', 'PAGO', 'PROGRAMADO', 'VENCIDO']\n",
      "['BOLETO IPTU 2022 - BOS - 3160125720 ERRO BAN.pdf', 'BOLETO IPTU 2022 - SMA ERRO.pdf', 'CFO - B20690 FRANQ ALUGUEL - BOLETO NÃO ABRE.PDF', 'FLP - B03520 - SOLICITAR NOVO BOLETO.pdf', 'PAL - B04660 FRANQ ALUGUEL.pdf', 'UB2 - Ñ PAGAR FOI SOLIC UM BOLETO DESMEMBRADO - VERFICAR EMAIL .pdf']\n",
      "C:/Users/ojgomes/Documents/Automação Rent/2 - FEVEREIRO/2 - FEVEREIRO\\10.02\\AGUARDANDO RETORNO\n",
      "[]\n",
      "['MRD - B07890 - AGUARDANDO RETORNO.pdf']\n",
      "C:/Users/ojgomes/Documents/Automação Rent/2 - FEVEREIRO/2 - FEVEREIRO\\10.02\\CARREFOUR Boletos_02.2022\n",
      "['DEMO', 'NÃO PAGAR']\n",
      "[]\n",
      "C:/Users/ojgomes/Documents/Automação Rent/2 - FEVEREIRO/2 - FEVEREIRO\\10.02\\CARREFOUR Boletos_02.2022\\DEMO\n",
      "[]\n",
      "['ARI - B00610 -  (1).pdf', 'ARI - B00610 - 10.02.2022 (2).pdf', 'CFR - B05420 -  (2).pdf', 'COS - B01100 -  (4).pdf', 'CSA - B01480 -  (2).pdf', 'CSA - B01480 - 2 (1).pdf', 'CSB - B00730 -  (2).pdf', 'CSB - B00730 -  (3).pdf', 'CSO - B07490 -  (2).pdf', 'DTP - B91150 -  (2).pdf', 'ETA - B00540 - 2 (2).pdf', 'IN2 - B01420 -  (2).pdf', 'IN2 - B01420 - 10.02.2022 (2).pdf', 'LIM - B00690 -  (2).pdf', 'LIM - B00690 - 2 (1).pdf', 'MUT - B01440 -  (1).pdf', 'NIM - B03670 -  (2).pdf', 'NIM - B03670 -  (3).pdf', 'PHI - B00460 -  (2).pdf', 'PSB - B06200 -  (2).pdf', 'PVR - B20370 -  (2).pdf', 'RPT - B05010 -  (2).pdf', 'SCS - B00560 -  (1).pdf', 'SCS - B00560 - 2 (1).pdf', 'TIT - B00470 -  (3).pdf', 'VID - B01740 -  (2).pdf', 'VID - B01740 - 1 (1).pdf', 'VLT - B11280 -  (1).pdf']\n",
      "C:/Users/ojgomes/Documents/Automação Rent/2 - FEVEREIRO/2 - FEVEREIRO\\10.02\\CARREFOUR Boletos_02.2022\\NÃO PAGAR\n",
      "[]\n",
      "['CFR - B05420 - 2 (1).pdf', 'CFR - B05420 - 2 (2).pdf', 'CGG - B00920 -  (1).pdf', 'CGG - B00920 -  (2).pdf', 'COS - B01100 -  (1).pdf', 'COS - B01100 -  (2).pdf', 'ETA - B00540 -  (1).pdf', 'ETA - B00540 -  (2).pdf', 'RPD - B02550 -  (1).pdf', 'RPD - B02550 -  (2).pdf', 'SOC - B07050 -  (1).pdf', 'SOC - B07050 -  (2).pdf', 'TIT - B00470 -  (1).pdf', 'TIT - B00470 -  (2).pdf']\n",
      "C:/Users/ojgomes/Documents/Automação Rent/2 - FEVEREIRO/2 - FEVEREIRO\\10.02\\CLASSIFICAR\n",
      "['Nova pasta', 'VERIF GUIA']\n",
      "['GNG.pdf', 'PIL.pdf', 'RSB B0609 - VERIF CLASSIFICAÇÃO.pdf']\n",
      "C:/Users/ojgomes/Documents/Automação Rent/2 - FEVEREIRO/2 - FEVEREIRO\\10.02\\CLASSIFICAR\\Nova pasta\n",
      "[]\n",
      "['CNS - B09000 CONTRATO ENCERRADO.PDF']\n",
      "C:/Users/ojgomes/Documents/Automação Rent/2 - FEVEREIRO/2 - FEVEREIRO\\10.02\\CLASSIFICAR\\VERIF GUIA\n",
      "[]\n",
      "['2021-12-29T15_13_00+00_00BOLETO IPTU 2022 - BOS - 3160125712.pdf']\n",
      "C:/Users/ojgomes/Documents/Automação Rent/2 - FEVEREIRO/2 - FEVEREIRO\\10.02\\DEMONSTRATIVO\n",
      "[]\n",
      "['RPS - B08800 - FRANQ - VERIF ELETRONICO.pdf', 'RPS - B08800 - FRANQ - VERIF ELETRONICO2.pdf']\n",
      "C:/Users/ojgomes/Documents/Automação Rent/2 - FEVEREIRO/2 - FEVEREIRO\\10.02\\DESMEMBRAR\n",
      "['ENVIADOS']\n",
      "['BA3 - B60040 ENVIAR FRANQ.pdf', 'BA3 - B60040 FRANQ DESMEMBRAR.pdf', 'BAT - B91160 FRANQ (VERIFICAR ELETRONICO - TEM IPTU PARA DESMEMBRAR) (2).pdf', 'BAT - B91160 FRANQ (VERIFICAR ELETRONICO - TEM IPTU PARA DESMEMBRAR) (3).pdf', 'BAT - B91160 FRANQ (VERIFICAR ELETRONICO - TEM IPTU PARA DESMEMBRAR).pdf', 'BTL - B08710 DESMEMBRAR (2).pdf', 'BTL - B08710 DESMEMBRAR (3).pdf', 'BTL - B08710 DESMEMBRAR 1.pdf', 'BTL - B08710 DESMEMBRAR.pdf', 'CAX - B05220 FRANQ DESMEMBRAR.pdf', 'CB2 - B05750 DESMEMBRAR (2).pdf', 'CB2 - B05750 DESMEMBRAR.PDF', 'CB2 - B05750 FRANQ DESMEMBRAR.pdf', 'CGG - B00920 - DESMEMBRAR (1).pdf', 'CGG - B00920 - DESMEMBRAR (2).pdf', 'COL - B07250 - DESMMEBRAR (1).pdf', 'COL - B07250 - DESMMEBRAR (2).pdf', 'CRA - B03730 DESMEMBRAR.pdf', 'GED - B07590 - DESMEMBRAR (1).pdf', 'GED - B07590 - DESMEMBRAR (2).pdf', 'IPM - B08350 DESMEMBRAR.pdf', 'LDA - B05030 DESMEMBRAR (2).pdf', 'LDA - B05030 DESMEMBRAR.pdf', 'LNT - B20270 FRANQ DESMEMBRAR.PDF', 'MCS - B09390 FRANQ DESMEMBRAR (2).pdf', 'MCS - B09390 FRANQ DESMEMBRAR.pdf', 'MET - B04610 DESMEMBRAR.PDF', 'MNS - B05950 FRANQ DESMEMBRAR (2).pdf', 'MNS - B05950 FRANQ DESMEMBRAR (3).pdf', 'MNS - B05950 FRANQ DESMEMBRAR.pdf', 'PSH - B08020 DESMEMBRAR.pdf', 'PSH - B08020 FRANQ DESMEMBRAR.pdf', 'PSU - B08520 DESMEMBRAR.PDF', 'PUR - B08630 DESMEMBRAR.pdf', 'SCO - B04650 FRANQ DESMEMBRAR (2).PDF', 'SCO - B04650 FRANQ DESMEMBRAR (3).PDF', 'SCO - B04650 FRANQ DESMEMBRAR.PDF', 'SGA - B20800 - DESMEMBRAR (1).pdf', 'SGA - B20800 - DESMEMBRAR (2).pdf', 'SJD - B07380 FRANQ DESMEMBRAR.pdf', 'SNC - B09440 FRANQ DESMEMBRAR.pdf', 'SVA - B2024 (5).PDF', 'SVV - B04680 DESMEMBRAR (2).pdf', 'SVV - B04680 DESMEMBRAR (3).pdf', 'SVV - B04680 DESMEMBRAR (4).pdf', 'SVV - B04680 DESMEMBRAR.pdf', 'TAP - B10760 DESMEMBRAR.PDF', 'TAS - B09140 - DESMEMBRAR (1).pdf', 'TAS - B09140 - DESMEMBRAR (2).pdf', 'UB2 - B03900 DESMEMBRAR 1.pdf', 'UB2 - B03900 DESMEMBRAR.pdf', 'UB2 - B03900 FRANQ DESMEMBRAR.pdf', 'UB3 - B04560 FRANQ DESMEMBRAR (2).pdf', 'UB3 - B04560 FRANQ DESMEMBRAR.pdf', 'UBR - B02800 DESMEMBRAR 1.pdf', 'UBR - B02800 DESMEMBRAR.pdf', 'XPC - B06540 DESMEMBRAR.pdf']\n",
      "C:/Users/ojgomes/Documents/Automação Rent/2 - FEVEREIRO/2 - FEVEREIRO\\10.02\\DESMEMBRAR\\ENVIADOS\n",
      "[]\n",
      "['AMK - B06010 DESMEMBRAR.pdf']\n",
      "C:/Users/ojgomes/Documents/Automação Rent/2 - FEVEREIRO/2 - FEVEREIRO\\10.02\\ENVIAR FRANQ\n",
      "['ENVIADO']\n",
      "[]\n",
      "C:/Users/ojgomes/Documents/Automação Rent/2 - FEVEREIRO/2 - FEVEREIRO\\10.02\\ENVIAR FRANQ\\ENVIADO\n",
      "['GPA']\n",
      "['ALC - B03440 ENVIAR FRANQ (2).PDF', 'ALC - B03440 ENVIAR FRANQ.PDF', 'ANA - B40390 ENVIAR FRANQ (2).pdf', 'ANA - B40390 ENVIAR FRANQ.pdf', 'ASV - B50170 ENVIAR FRANQ.PDF', 'ASV - B50170 FRANQ (DESPESA).PDF', 'BA2 - B08600 ENVIAR FRANQ.pdf', 'BAG - B08260 ENVIAR FRANQ.pdf', 'BCA - B09600 ENVIAR FRANQ.pdf', 'BEC - B05540 ENVIAR FRANQ.pdf', 'BIG - B08090 ENVIAR FRANQ (2).pdf', 'BIG - B08090 ENVIAR FRANQ (3).pdf', 'BIG - B08090 ENVIAR FRANQ (4).pdf', 'BIG - B08090 ENVIAR FRANQ.pdf', 'BOB - B08770 ENVIAR FRANQ.PDF', 'BPT - B70200 ENVIAR FRANQ.pdf', 'BSB - B09470 ENVIAR FRANQ (2).pdf', 'BSB - B09470 ENVIAR FRANQ 2.pdf', 'BSB - B09470 ENVIAR FRANQ.pdf', 'BSC - B06050 ENVIAR FRANQ.PDF', 'BUZ - B03990 ENVIAR FRANQ (2) 2.pdf', 'BUZ - B03990 ENVIAR FRANQ (2).pdf', 'BUZ - B03990 ENVIAR FRANQ (3) 2.pdf', 'BUZ - B03990 ENVIAR FRANQ (3).pdf', 'BUZ - B03990 ENVIAR FRANQ (4) 2.pdf', 'BUZ - B03990 ENVIAR FRANQ (4).pdf', 'BUZ - B03990 ENVIAR FRANQ (5) 2.pdf', 'BUZ - B03990 ENVIAR FRANQ (5).pdf', 'BUZ - B03990 ENVIAR FRANQ 2.pdf', 'BUZ - B03990 ENVIAR FRANQ.pdf', 'BVV - B04450 ENVIAR FRANQ.pdf', 'BWL - B02770 ENVIAR FRANQ.PDF', 'CEP - B01960 ENVIAR FRANQ.pdf', 'CFO - B20690 ENVIAR FRANQ (2) 2.PDF', 'CFO - B20690 ENVIAR FRANQ (2).PDF', 'CFO - B20690 ENVIAR FRANQ (3).PDF', 'CFO - B20690 ENVIAR FRANQ 2.PDF', 'CFO - B20690 ENVIAR FRANQ.PDF', 'CON - B00360 ENVIAR FRANQ (VERIF ELETRONICO).pdf', 'CON - B00360 ENVIAR FRANQ.pdf', 'CTR - B20850 ENVIAR FRANQ.pdf', 'EXC - B07180 ENVIAR FRANQ.PDF', 'EXS - B07430 ENVIAR FRANQ.PDF', 'GAM - B06610 ENVIAR FRANQ.PDF', 'GCR - B40140 ENVIAR FRANQ (2).PDF', 'GCR - B40140 ENVIAR FRANQ (3).PDF', 'GCR - B40140 ENVIAR FRANQ.PDF', 'GDR - B08100 (2) FRANQ.pdf', 'GDR - B08100 FRANQ (2).pdf', 'GED - B07590 ENVIAR FRANQ.PDF', 'GJA - B00490 ENVIAR FRANQ.PDF', 'GSM - B09640 ENVIAR FRANQ.pdf', 'ITG - B09080 ENVIAR FRANQ.pdf', 'JCI - B07450 ENVIAR FRANQ.pdf', 'JOD - B05360 ENVIAR FRANQ.pdf', 'JOS - B09340 - FRANQ.pdf', 'JOS - B09340 ENVIAR FRANQUEADO (VERIF ELETRONICO).pdf', 'MCS - B09390 ENVIAR FRANQ (2).pdf', 'MCS - B09390 ENVIAR FRANQ.pdf', 'MEQ - B40970 ENIVAR FRANQ (VERIF ELETRONICO).pdf', 'MEQ - B40970 ENVIAR FRANQ (VERIF ELETRONICO).pdf', 'MET - B04610 ENVIAR FRANQ.PDF', 'MGP - B01790 ENVIAR FRANQ.PDF', 'NSC - B10910 ENVIAR FRANQ.pdf', 'PAL - B04660 (2).pdf', 'PAL - B04660 ENVIAR FRANQ  2.pdf', 'PAL - B04660 ENVIAR FRANQ.pdf', 'PCD - B06390 ENVIAR FRANQ (2).pdf', 'PCD - B06390 FRANQ (DESPESA) (2).PDF', 'PCD - B06390 FRANQ (DESPESA).PDF', 'PDR - B06680 ENVIAR FRANQ.PDF', 'PEL - B09040 ENVIAR FRANQ (2).pdf', 'PEL - B09040 ENVIAR FRANQ.pdf', 'PFS - B95050 ENVIAR FRANQ  2.pdf', 'PFS - B95050 ENVIAR FRANQ (2).pdf', 'PFS - B95050 ENVIAR FRANQ.pdf', 'PGD - B00900 ENVIAR FRANQ (2).PDF', 'PGD - B00900 ENVIAR FRANQ.PDF', 'PIE - B03120 ENVIAR FRANQ (2).pdf', 'PIE - B03120 ENVIAR FRANQ (3).pdf', 'PIE - B03120 ENVIAR FRANQ (4).pdf', 'PIE - B03120 ENVIAR FRANQ.pdf', 'PRU - B08900 ENVIAR FRANQ.pdf', 'PRU - B08900 FRANQ ALUGUEL (3).pdf', 'PSI - B07850 ENVIAR FRANQ.pdf', 'PSU - B08520 ENVIAR FRANQ.PDF', 'RMR - B09460 FRANQ .pdf', 'RPS - B08800 - FRANQ - VERIF ELETRONICO.pdf', 'RPS - B08800 - FRANQ - VERIF ELETRONICO2.pdf', 'SBB - B09310 ENVIAR FRANQ (2).pdf', 'SBB - B09310 ENVIAR FRANQ.pdf', 'SBB - B09310.pdf', 'SBF - B09210 ENVIAR FRANQ.pdf', 'SDI - B50120 ENVIAR FRANQ.PDF', 'SEC - B07140 - FRANQ ENCARGOS.pdf', 'SHS - B70180 ENVIAR FRANQ.pdf', 'SMG - B7011 ENVIAR FRANQ 2.pdf', 'SMG - B7011 ENVIAR FRANQ.pdf', 'SPC - B07570 ENVIAR FRANQ.pdf', 'SPS - B02460 ENVIAR FRANQ.PDF', 'SSV - B09530 ENVIAR FRANQ.pdf', 'STD - B70800 ENVIAR FRANQ.pdf', 'SVA - B2024 (2).PDF', 'SVA - B2024 (4).PDF', 'SVA - B20240 - FRAN4.pdf', 'SVA - B20240 - FRANQ.PDF', 'SVA - B20240 - FRANQ1.PDF', 'SVA - B20240 - FRANQ3.pdf', 'TBT - B07200 ENVIAR FRANQ.pdf', 'UB3 - B04560 - .pdf', 'VSH - B08080 ENVIAR FRANQ.PDF', 'VVT - B20040 ENVIAR FRANQ.pdf']\n"
     ]
    },
    {
     "name": "stdout",
     "output_type": "stream",
     "text": [
      "C:/Users/ojgomes/Documents/Automação Rent/2 - FEVEREIRO/2 - FEVEREIRO\\10.02\\ENVIAR FRANQ\\ENVIADO\\GPA\n",
      "[]\n",
      "['RAF - B40270 ENVIAR FRANQ (2).PDF', 'RAF - B40270 ENVIAR FRANQ.PDF']\n",
      "C:/Users/ojgomes/Documents/Automação Rent/2 - FEVEREIRO/2 - FEVEREIRO\\10.02\\ERRO BANCO\n",
      "[]\n",
      "['AMS - B08580 FRAN PAG V2.pdf', 'BVC - B09670 (2).pdf', 'CPG - B05430 - LANÇADO 823.pdf', 'GIB - B40240.pdf', 'JQD - B5009 PAGAR SOMENTE REF 022022 DESMEMBRAR OS DEMAIS E SEPARAR NAS PASTAS-1.pdf', 'LOB - B01410 - VERIF LANÇAMENTOD.pdf', 'NFC - B03100  - TIRAR DA SOMA E DESPROGRAMAR.pdf', 'NFC - B03100 (3) - TIRAR DA SOMA E DESPROGRAMAR.pdf', 'NSH - B02940 (4) SOMA N BATE.pdf', 'PIE - B03120 FRANQ ALUGUEL (2) DUPLICIDA.pdf', 'PIE - B03120 FRANQ ALUGUEL (3) DUPLICIDA.pdf', 'PIE - B03120 FRANQ ALUGUEL DUPLICIDADE.pdf', 'STJ - B03210 (2).PDF']\n",
      "C:/Users/ojgomes/Documents/Automação Rent/2 - FEVEREIRO/2 - FEVEREIRO\\10.02\\PAGO\n",
      "[]\n",
      "['GI2 - B10600 (2).PDF', 'GI2 - B10600 (3).PDF', 'GI2 - B10600 (4).PDF', 'GI2 - B10600.PDF', 'GIA - B00320 (2).PDF', 'GIA - B00320.PDF', 'PES B0125 - PAGO 07.02.pdf', 'SLP - B01090 - PAGO 05.02.pdf', 'SPN - B06660 - PAGO EM 07.02.pdf']\n",
      "C:/Users/ojgomes/Documents/Automação Rent/2 - FEVEREIRO/2 - FEVEREIRO\\10.02\\PROGRAMADO\n",
      "['086-060-080222-ALU-04', '086-060-090222-ALU-02', '086-060-090222-ALU-03', '086-060-100222-ALU-01', '086-060-100222-ALU-02', '086-060-100222-ALU-04', '086-060-100222-ALU-05', '086-060-100222-ALU-06', '086-060-100222-URGE-01', '086-060-100222-URGE-14']\n",
      "['geral.xls']\n",
      "C:/Users/ojgomes/Documents/Automação Rent/2 - FEVEREIRO/2 - FEVEREIRO\\10.02\\PROGRAMADO\\086-060-080222-ALU-04\n",
      "[]\n",
      "['086-060-080222-ALU-04 - EMAIL.pdf', '086-060-080222-ALU-04 - LOTE.pdf', '086-060-080222-ALU-04.xls', 'APA - B07230 FRANQ ALUGUEL (2)-1.pdf', 'APA - B07230 FRANQ ALUGUEL-1.pdf', 'JAU - B06040 VERIF ELETRONICO.pdf', 'LEM - B40980 - VERIF ELETRONICO (2).pdf', 'MAR - B08760 ALUGUEL FRANQ VERIF ELETRONICO.pdf', 'MAV - B95130 FRANQ.pdf', 'MBD - B08380 - PAGAR V2.pdf', 'MCD - B0768.pdf', 'MDR - B05770 VERIF ELETRONICO.pdf', 'RBD - B2084 - ELETRONICO.pdf', 'RSE - B08930 FRANQ ALUGUEL (VERIF ELETRONICO) (2).pdf', 'RSE - B08930 FRANQ ALUGUEL (VERIF ELETRONICO).pdf', 'RSH - B08850 FRANQ ALUGUEL (VERIF ELETRONICO).pdf', 'RSH - B08850 FRANQ ALUGUEL VERIFICAR ELETRONICO.pdf', 'RSH - B08850 FRANQ ALUGUEL.pdf', 'SBL - B09550 FRANQ ALUGUEL - ELETRONICO.pdf', 'SFL - B06240 - ELETRONICO.pdf', 'TER - B09110 FRANQ ELETRONICO.pdf', 'VOT - B7085.pdf']\n",
      "C:/Users/ojgomes/Documents/Automação Rent/2 - FEVEREIRO/2 - FEVEREIRO\\10.02\\PROGRAMADO\\086-060-090222-ALU-02\n",
      "['BANCO OK']\n",
      "['086-060-090222-ALU-02 - BANCO.pdf', 'banco 1002.pdf', 'E-MAIL LOTE FORMATADP.pdf', 'PAGTO 10.02 - PRIO 61.xls']\n",
      "C:/Users/ojgomes/Documents/Automação Rent/2 - FEVEREIRO/2 - FEVEREIRO\\10.02\\PROGRAMADO\\086-060-090222-ALU-02\\BANCO OK\n",
      "[]\n",
      "['ABA - B05310 (2).pdf', 'ABR - B00100 (3).PDF', 'ABR - B00100.PDF', 'ACM - B03610.pdf', 'ADS - B02350.PDF', 'AGS - B06120 (2).pdf', 'AGS - B06120.pdf', 'ALE - B05400 (2).pdf', 'AMK - B06010 FRANQ PAG V2.pdf', 'ANA - B40390 FRANQ ALUGUEL (2).pdf', 'ANA - B40390 FRANQ ALUGUEL.pdf', 'ANA - B40390.pdf', 'APD - B04250.pdf', 'ARA - B03310.pdf', 'ASP - B08970 FRANQ ALUGUEL.pdf', 'ASP - B08970 FRANQ.pdf', 'AXV - B02600 (2).pdf', 'AXV - B02600 (3).pdf', 'AXV - B02600.pdf', 'BCA - B09600 FRANQ ALUGUEL.pdf', 'BCP - B40070 FRANQ ALUGUEL (2).pdf', 'BCP - B40070 FRANQ ALUGUEL (3).pdf', 'BCP - B40070 FRANQ ALUGUEL.pdf', 'BOD - B09170 FRAN ALUGUEL.pdf', 'CDU - B41260.pdf', 'CMV - B41020.pdf', 'CNB - B05130 (2).pdf', 'CNB - B05130.pdf', 'D1D - B00580.pdf', 'NAM - B03090  2.pdf', 'NAM - B03090 (2).pdf', 'NAM - B03090 (3).pdf', 'RIO MC DONALDS 10.02.pdf']\n",
      "C:/Users/ojgomes/Documents/Automação Rent/2 - FEVEREIRO/2 - FEVEREIRO\\10.02\\PROGRAMADO\\086-060-090222-ALU-03\n",
      "['PROGRAMADO']\n",
      "['086-060-090222-ALU-03 - BANCO.pdf', 'E-MAIL LOTE FORMATADO.pdf']\n",
      "C:/Users/ojgomes/Documents/Automação Rent/2 - FEVEREIRO/2 - FEVEREIRO\\10.02\\PROGRAMADO\\086-060-090222-ALU-03\\PROGRAMADO\n",
      "['ERRO BANCO', 'PAGTO 10.02 - PRIO 62 - banco ok']\n",
      "['banco 1002-STFSANN005301-L.pdf', 'PAGTO 10.02 - PRIO 62.xls']\n",
      "C:/Users/ojgomes/Documents/Automação Rent/2 - FEVEREIRO/2 - FEVEREIRO\\10.02\\PROGRAMADO\\086-060-090222-ALU-03\\PROGRAMADO\\ERRO BANCO\n",
      "[]\n",
      "['DRE - B03010 (2) ERRO BANCO.pdf', 'DRE - B03010 - ERRO BANCO.pdf', 'EBA - B40560 - ERRO BANCO.pdf', 'NSH - B02940 (2) ERRO BANCO.pdf', 'NSH - B02940 (3) ERRO BANCO.pdf', 'NSH - B02940 ERRO BANCO.pdf', 'PTY - B40620 - ERRO BANCO.pdf', 'S3A - B07710 (2) ERRO BANCO.pdf']\n",
      "C:/Users/ojgomes/Documents/Automação Rent/2 - FEVEREIRO/2 - FEVEREIRO\\10.02\\PROGRAMADO\\086-060-090222-ALU-03\\PROGRAMADO\\PAGTO 10.02 - PRIO 62 - banco ok\n",
      "[]\n",
      "['BEC - B05540 FRANQ ALUGUEL.pdf', 'BFC - B03070.pdf', 'BIP - B05610.PDF', 'BLO - B2001 FRAN PAG V2.pdf', 'BLO - B2001 FRANQ PAG V2 (2).pdf', 'BLO - B2001 FRANQ PAG V2.pdf', 'BMA - B11820.pdf', 'BNM - B41170.pdf', 'BRU - B02620.pdf', 'BS3 - B03480.pdf', 'BSB - B09470 FRANQ ALUGUEL (2).pdf', 'BSB - B09470 FRANQ ALUGUEL.pdf', 'BSC - B06050.PDF', 'BSH - B02870.pdf', 'BSL - B06440-STFSANN005301-L.PDF', 'BSN - B70020 FRANQ ALUGUEL (1).pdf', 'BSP - B01880 (3).PDF', 'BSP - B01880.PDF', 'BVS - B09450 FRANQ ALUGUEL (2).PDF', 'BVS - B09450 FRANQ ALUGUEL (3).PDF', 'BVS - B09450 FRANQ ALUGUEL.PDF', 'DIA - B03240 (2).pdf', 'DIA - B03240 (3).pdf', 'DRE - B03010 (4).pdf', 'EBA - B40560 (2).pdf', 'FOP - B91140 - ENERGIA.pdf', 'FRA - B05280 (2).pdf', 'FRB - B08830 FRANQ ALUGUEL (2).PDF', 'FRB - B08830 FRANQ ALUGUEL.PDF', 'FVS - B06300.pdf', 'GCR - B40140 FRANQ ALUGUEL (2).PDF', 'GCR - B40140 FRANQ ALUGUEL.PDF', 'NIG - B03280.pdf', 'NS2 - B06420 VERIF ELETRONICO (2).pdf', 'NS2 - B06420 VERIF ELETRONICO.pdf', 'NSC - B10910 FRANQ ALUGUEL.pdf', 'OCA - B03980 (2).pdf', 'OCA - B03980.pdf', 'OSC - B01040.pdf', 'PAC - B1138 1.pdf', 'PAC - B1138 2.pdf', 'PAC - B1138 3.pdf', 'PAC - B1138.pdf', 'PAT - B04330  2.pdf', 'PAT - B04330.pdf', 'PCC - B04440.pdf', 'PCS - B03910 FRANQ ALUGUEL.pdf', 'PDP - B01670  2.pdf', 'PDP - B01670.pdf', 'PGD - B00900 FRANQ.PDF', 'PGS - B01120.pdf', 'PH2 - B00830 (2).pdf', 'PH2 - B00830.pdf', 'PHA - B00300 (2).pdf', 'PHA - B00300 (3).pdf', 'PHA - B00300.pdf', 'PLS - B50110 FRANQ ALUGUEL.pdf', 'PRU - B08900 FRANQ ALUGUEL (2).pdf', 'PRU - B08900 FRANQ ALUGUEL.pdf', 'PTG - B05270.pdf', 'PTM - B10240 VERIF ELETRONICO (2).pdf', 'PWS - B40670 (2).pdf', 'PZS - B00400 (2).pdf', 'PZS - B00400.pdf', 'RCH - B06060 (2).pdf', 'RD2 - B08290 FRANQ ALUGUEL.pdf', 'RDS - B08280 FRANQ ALUG 2 BOLETOS BANCO OK.pdf', 'RIB - B05100 (2).pdf', 'RIB - B05100.pdf', 'RIO - B05820.pdf', 'RMR - B09460 FRANQ ALUGUEL.pdf', 'SAM - B00290.pdf', 'SAT - B07240 FRANQ ALUGUEL.pdf', 'SAV - B03030.pdf', 'SBM - B1120 1.pdf', 'SBM - B1120.pdf', 'SCA - B02630   2.pdf', 'SCA - B02630 (3).pdf', 'SCA - B02630.pdf', 'SCD - B05890 (2).pdf', 'SCD - B05890.pdf', 'SCL - B00220.pdf', 'SCX - B08270 FRANQ ALUGUEL VERIF ELETRONICO.pdf', 'SGA - B20800 FRANQ PAG V2.PDF', 'SHB - B06190 (2).pdf', 'SHB - B06190 (3).pdf', 'SHB - B06190 (4).pdf', 'SHB - B06190.pdf', 'VBR - B0175.PDF']\n",
      "C:/Users/ojgomes/Documents/Automação Rent/2 - FEVEREIRO/2 - FEVEREIRO\\10.02\\PROGRAMADO\\086-060-100222-ALU-01\n",
      "['PROGRAMADO']\n",
      "['086-060-100222-ALU-01 - banco.pdf', '086-060-100222-ALU-01 - e-mail lote formatado.pdf', 'PAGTO 10.02 - PRIO 64.xls']\n",
      "C:/Users/ojgomes/Documents/Automação Rent/2 - FEVEREIRO/2 - FEVEREIRO\\10.02\\PROGRAMADO\\086-060-100222-ALU-01\\PROGRAMADO\n",
      "['PAGTO 10.02 - PRIO 64 - banco ok', 'VERIFICAR LANÇAMENTO']\n",
      "['BANCO 1002.pdf', 'PAGTO 10.02 - PRIO 64 - banco ok.7z', 'SOMA 64.xls']\n",
      "C:/Users/ojgomes/Documents/Automação Rent/2 - FEVEREIRO/2 - FEVEREIRO\\10.02\\PROGRAMADO\\086-060-100222-ALU-01\\PROGRAMADO\\PAGTO 10.02 - PRIO 64 - banco ok\n",
      "[]\n",
      "['ABC - B00820.PDF', 'ADS - B02350.PDF', 'AMA - B07120 FRANQ.pdf', 'AMK - B0601 FRANQ.pdf', 'AMK - B06010 2924,96 E 3,00.pdf', 'AMK - B06010 3114,25 e 657,64.pdf', 'ASP - B08970 FRANQ ALUGUEL.pdf', 'ASP - B08970 FRANQ.pdf', 'BAT - B91160 FRANQ.pdf', 'BAT - B91160.pdf', 'BBH - B04140.pdf', 'BLI - B09020 FRANQ ALUGUEL.pdf', 'BLO - B2001 FRANQ PAG V2.pdf', 'BND - B20050.pdf', 'BNS - B02560  3656,20 E -678,87.pdf', 'BNS - B02560 (2).pdf', 'BPE - B20030 (2).pdf', 'BPT - B70200 FRANQ ALUGUEL.pdf', 'BVC - B09670.pdf', 'CAB - B05070.pdf', 'CAK - B05920.PDF', 'CNA - B91130 FRANQ ALUGUEL.pdf', 'COT - B02710 (2).pdf', 'COT - B02710.pdf', 'CRD - B10190.pdf', 'DBI - B20870.pdf', 'DPI - B02580   2.pdf', 'DPI - B02580 - 3446,23.pdf', 'DPM - B07530 FRANQ (2).pdf', 'DPM - B07530 FRANQ.pdf', 'DVH - B02720   2.pdf', 'DVH - B02720  - 3446,23 VERIF LANÇAMENTOS.pdf', 'FGB - B40210 (2).pdf', 'FGB - B40210 LANÇAR  301,60.pdf', 'FOP - B91140   2.pdf', 'FOP - B91140.pdf', 'FOZ - B05300   2.pdf', 'FOZ - B05300.pdf', 'FST - B03870.pdf', 'GMM - B40740 (2).pdf', 'GMM - B40740.pdf', 'GNB - B41060.pdf', 'GOL - B10340 (2).1.pdf', 'GOL - B10340 (2).pdf', 'GOL - B10340.pdf', 'IPM - B08350 FRANQ ALUGUEL.pdf', 'JPM - B05970.pdf', 'LAT - B06020.pdf', 'LNT - B20270.pdf', 'MA2 - B08370 FRANQ PAG V2.pdf', 'MCS - B09390 FRANQ ALUGUEL.pdf', 'MET - B04610 FRANQ ALUGUEL.PDF', 'MI2 - B10170.pdf', 'MIA - B08920 FRANQ ALUGUEL.pdf', 'MID - B10010.pdf', 'MIR - B00930.pdf', 'MIS - B08060 (2).pdf', 'MIS - B08060 (3).pdf', 'MIS - B08060.pdf', 'MOS - B06450.pdf', 'NIG - B03280.PDF', 'NNS - B06220.pdf', 'PIC - B07260 (2).pdf', 'PIC - B07260.pdf', 'PPG - B02780.pdf', 'PSJ - B41050.pdf', 'PTG - B05270.pdf', 'RBD - B20840 (2).pdf', 'RBD - B20840.pdf', 'RBS - B2016 (3).pdf', 'RCH - B06060.pdf', 'ROY - B05840 FRANQ.pdf', 'SCA - B02630.pdf', 'SIB - B00190 -3 boletos - 17256,16.pdf', 'SIB - B00190 -3 boletos - 36078,72.pdf', 'SIB - B00190 -3 boletos - Vencimento 20.02.pdf', 'SVI - B03170 2.pdf', 'SVR - B08450 FRANQ ALUGUEL.pdf', 'TAC - B05410  2.pdf', 'TAC - B05410 (2)  2.pdf', 'TAC - B05410 (3).pdf', 'TAC - B05410.pdf', 'TAN - B04520.pdf', 'TAS - B09140 (2).pdf', 'TC2 - B0629.pdf', 'TC2 - B06290 1.pdf', 'TC2 - B06290.pdf', 'TOR - B02590   2.pdf', 'TOR - B02590 5018,08.pdf', 'TPS - B50020 FRANQ PAG V2.PDF', 'TRS - B05570 (2).pdf', 'TRS - B05570 (3).pdf', 'TRS - B05570 1.pdf', 'TRS - B05570.pdf', 'TTO - B02080.PDF']\n",
      "C:/Users/ojgomes/Documents/Automação Rent/2 - FEVEREIRO/2 - FEVEREIRO\\10.02\\PROGRAMADO\\086-060-100222-ALU-01\\PROGRAMADO\\VERIFICAR LANÇAMENTO\n",
      "[]\n",
      "['MEQ - B40970 - 4205,23 FRANQ ALUGUEL (VERIF ELETR) (2).pdf', 'SCL - B00220 - Duplicidade.pdf']\n",
      "C:/Users/ojgomes/Documents/Automação Rent/2 - FEVEREIRO/2 - FEVEREIRO\\10.02\\PROGRAMADO\\086-060-100222-ALU-02\n",
      "['PROGRAMADO']\n",
      "['086-060-100222-ALU-02 - BANCO.pdf', '086-060-100222-ALU-02 - E-MAIL LOTE FORMATADO.pdf', 'SOMA 63.xls']\n",
      "C:/Users/ojgomes/Documents/Automação Rent/2 - FEVEREIRO/2 - FEVEREIRO\\10.02\\PROGRAMADO\\086-060-100222-ALU-02\\PROGRAMADO\n",
      "['BANCO OK']\n",
      "['banco 1002.pdf', 'PAGTO 10.02 - PRIO 63.xls']\n",
      "C:/Users/ojgomes/Documents/Automação Rent/2 - FEVEREIRO/2 - FEVEREIRO\\10.02\\PROGRAMADO\\086-060-100222-ALU-02\\PROGRAMADO\\BANCO OK\n",
      "[]\n",
      "['ABC - B00820 (2).PDF', 'CNL - B0311.pdf', 'GSM - B09640 FRANQ ALUGUEL (2).pdf', 'GSM - B09640 FRANQ ALUGUEL.pdf', 'GUS - B04210 (2).pdf', 'GVD - B03790.pdf', 'ICG - B05720.pdf', 'IGT - B03180.pdf', 'IN2 - B01420 (2) .2.pdf', 'IN2 - B01420 (2).pdf', 'IN2 - B01420 (3).pdf', 'IN2 - B01420 (4).pdf', 'IN2 - B01420 3.pdf', 'IN2 - B01420.pdf', 'INT - B00280 (2).pdf', 'INT - B00280 (3).pdf', 'INT - B00280 (4).pdf', 'INT - B00280 (5).pdf', 'INT - B00280 (9).pdf', 'INT - B00280.pdf', 'IPU - B08570 FRANQ ALUGUEL.pdf', 'ITB - B03890 (2).pdf', 'ITD - B02190 FRANQ ALUGUEL.pdf', 'ITG - B09080 FRANQ ALUGUEL.pdf', 'JGS - B02660  2.pdf', 'JGS - B02660 (2).pdf', 'JJN - B04810.pdf', 'JOC - B91280.pdf', 'JOD - B05360 FRANQ ALUGUEL.pdf', 'JOD - B05360 FRANQ ALUGUEL2.pdf', 'JOS - B09340 - FRANQ ALUGUEL - VERIF ELETRONICO.pdf', 'JPM - B05970.pdf', 'JPS - B05510  2.pdf', 'JSM - B40230 (2).pdf', 'JSM - B40230 2.pdf', 'JSM - B40230.pdf', 'JVA - B7460 FRANQ ALUGUEL.pdf', 'LAA - B02030  2.pdf', 'LAA - B02030 (2)  2.pdf', 'LAA - B02030.pdf', 'LAR - B00950 (2).pdf', 'LAR - B00950.pdf', 'MER - B0342.pdf', 'PDP - B01670.pdf', 'SAM - B0029.pdf', 'SBV - B01840 (3).pdf', 'SBV - B01840.pdf', 'SC3 - B02420 (2).pdf', 'SC3 - B02420 (3).pdf', 'SC3 - B02420.pdf', 'SCF - B06280 (2).pdf', 'SCF - B06280.pdf', 'SCL - B00220.pdf', 'SCV - B07010 FRANQ ALUGUEL.pdf', 'SDI - B50120 FRANQ ALUGUEL.PDF', 'SEL - B00310.pdf', 'SGP - B91320.pdf', 'SGS - B03930 (2).pdf', 'SGS - B03930.pdf', 'SHB - B06190 (2).pdf', 'SHB - B06190 (3).pdf', 'SHB - B06190 (4).pdf', 'SHB - B06190.pdf', 'SHJ - B03960.pdf', 'SHP - B09220.pdf', 'SHS - B70180 FRANQ ALUGUEL.pdf', 'SIB - B00190 1.pdf', 'SJP - B05580 (2).pdf', 'SJP - B05580 (3).pdf', 'SJP - B05580.pdf', 'SJP - B06260 (2).pdf', 'SJU - B0784 FRANQ PAG V2 (2).pdf', 'SJU - B0784 FRANQ PAG V2.pdf', 'SLD - B05630.pdf', 'SLU - B05810  2.pdf', 'SLU - B05810.pdf', 'SM2 - B01170.pdf', 'SMA - B05350.PDF', 'SME - B01850.pdf', 'SMI - B01870 1.pdf', 'SMI - B01870.pdf', 'SMT - B00850 (2).pdf', 'SMT - B00850.pdf', 'SNC - B09440 FRANQ ALUGUEL.pdf', 'SNC - B09440.pdf', 'SNI - B04770.pdf', 'SPA - B06230 (2).pdf', 'SPA - B06230.pdf', 'SPC - B07570 FRANQ ALUGUEL.pdf', 'SPL - B04540.pdf', 'SPP - B10950.PDF', 'SPS - B02460 FRANQ ALUGUEL.PDF', 'SRM - B04070.pdf', 'SSG - B04150.pdf', 'SSJ - B06260 (2).pdf', 'SSM - B06340.PDF', 'SSN - B01860.pdf', 'SSU - B05660.pdf', 'SSV - B09530 FRANQ ALUGUEL.pdf', 'STB - B01700  2.pdf', 'STB - B01700.pdf', 'STD - B70800 FRANQ ALUGUEL.pdf', 'STV - B70090 FRANQ ALUGUEL.pdf', 'SVA - B20240.PDF', 'SVI - B03170  2.pdf', 'SVI - B03170 (2)  2.pdf', 'SVI - B03170 1.pdf']\n"
     ]
    },
    {
     "name": "stdout",
     "output_type": "stream",
     "text": [
      "C:/Users/ojgomes/Documents/Automação Rent/2 - FEVEREIRO/2 - FEVEREIRO\\10.02\\PROGRAMADO\\086-060-100222-ALU-04\n",
      "['LOTE ELETRONICO', 'OK']\n",
      "['086-060-100222-ALU-04 - BANCO.pdf', 'E-MAIL LOTE FORMATADO.pdf', 'PAGTO 10.02 - PRIO 1 ELETRONICO.xls']\n",
      "C:/Users/ojgomes/Documents/Automação Rent/2 - FEVEREIRO/2 - FEVEREIRO\\10.02\\PROGRAMADO\\086-060-100222-ALU-04\\LOTE ELETRONICO\n",
      "[]\n",
      "['AAB - B05080 ELETRONICO.PDF', 'AAM B0340 - ELETRONICO.PDF', 'ABA - B05310 - ELETRONICO.pdf', 'ALM - B08980 FRANQ ALUGUEL.pdf', 'ASB - B01710- ELETRONICO STFSANN005301-L.pdf', 'BAS - B09260 ELETRONICO FRANQ ALUGUEL.pdf', 'BH2 - B03560 (2).pdf', 'BIG - B08090 FRANQ ALUGUEL (2).pdf', 'BIG - B08090 FRANQ ALUGUEL.pdf', 'BLA - B01450 - VERIF ELETRONICO.pdf', 'BLA - B01450.pdf', 'BMG B0200 FRANQ - ELETRONICO.pdf', 'BRA - B00630 - ELETRONICO.pdf', 'BVE - B03740 ELETRONICO.pdf', 'BVE - B03740 PROGRAMAR ENCARGOS (2).pdf', 'CAP - B03540 - ELETRONICO.pdf', 'CNS - B09000 FRANQ ALUGUEL.pdf', 'CON - B00360 FRANQ ALUGUEL (VERIF ELETRONICO).pdf', 'CON - B00360 FRANQ ALUGUEL.pdf', 'CONSUMO SHOPPING JANEIRO 2022A.pdf', 'DAC - B09250 VERIF ELETRONICO.pdf', 'DAE - B02610.PDF', 'DTP - B91150 VERIF ELETRONICO.pdf', 'EMA - B07090 FRANQ ALUGUEL (2) VERIF ELETRONICO.pdf', 'FAL - B05490  -ELETRONICO.pdf', 'FAL - B05490 (2) - TIRAR DA SOMA - ELETRONICO.pdf', 'FDP - B05990 FRANQ ALUGUEL.pdf', 'IBA B0234 - eletronico.pdf', 'IGC - B0814 ELETRONICO.pdf', 'IGC - B08140 FRANQ ALUGUEL (2) - ELETRONICO.pdf', 'IGC - B08140 FRANQ ALUGUEL - PROGRAMAR ELETRONICO.pdf', 'IPZ - B08230 FRANQ ALUGUEL - ELETRONICO.pdf', 'JCI - B07450 FRANQ ALUGUEL - ELETRONICO.pdf', 'MFL - B06520 VERIF ELETRONICO (2).PDF', 'MFL - B06520 VERIF ELETRONICO (5).PDF', 'MFL - B06520 VERIF ELETRONICO.PDF', 'MPL - B11550 - 10.02 - ELETRONICO.PDF', 'NIP - B0402 - MCD012022 - ELETRONICO.DOC', 'NS2 - B0642 ELETRONICO.pdf', 'NSR - B05730 - ELETRONICO.pdf', 'PAF - B09050 FRANQ ALUGUEL.pdf', 'PWS - B40670 - ELETRONICO.pdf', 'RAS - B20180 FRANQ - ELETRONICO.pdf', 'RDR - B08810 FRANQ ALUGUEL - ELETRONICO.pdf', 'RSH - B08850 FRANQ ALUGUEL (2) - ELETRONICO.pdf', 'RSH - B08850 FRANQ ALUGUEL - ELETRONICO.pdf', 'S3A - B07710 - ELETRONICO.pdf', 'SBL - B09550 FRANQ ALUGUEL - ELETRONICO.pdf', 'SLU - B0581 - ELETRONICO.pdf', 'SLU B0581 (2) - ELETRONICO.pdf', 'SRO - B07270 FRANQ ALUGUEL - ELETRONICO.PDF', 'STS - B00200 - ELETRONICO.pdf', 'TBT - B07200 FRANQ ALUGUEL - ELETRONICO.pdf', 'TIA - B10620 - ELETRONICO.pdf', 'TPS - B5002 - ELETRONICO.pdf', 'VRE - B0820.doc', 'XAX B9107 - ELETRONICO.pdf']\n",
      "C:/Users/ojgomes/Documents/Automação Rent/2 - FEVEREIRO/2 - FEVEREIRO\\10.02\\PROGRAMADO\\086-060-100222-ALU-04\\OK\n",
      "[]\n",
      "['AAB - B05080 (2) PROGRAMAR ENCARGOS.PDF', 'ARK - B0101 PROGRAMAR ELETRONICO.pdf', 'ASB - B01710 (2) - PROGRAMAR ELETRONICO.pdf', 'BAT - B9116 PROGRAMAR ENCARGOS.pdf', 'BH2 - B03560   2.pdf', 'D1D - B00580 VERIF ELETRONICO.pdf', 'DAE - B02610 (2).PDF', 'EBH B0436 - PROGRAMAR ELETRONICO.pdf', 'FRW - B03040 VERIF ELETRONICO.pdf', 'JGS - B02660 LANÇAR ALUGUEL - PROGRAMAR ELETRONICO.pdf', 'MAV - B95130 FRANQ ALUGUEL (2).pdf', 'MAV - B95130 FRANQ ALUGUEL (3).pdf', 'MAV - B95130 FRANQ ALUGUEL.pdf', 'PGB - B40010 - TIRAR DA SOMA - PROGRAMAR ELETRONICO.pdf', 'SFC - B01630 - PROGRAMAR ELETRONICO.pdf', 'SFL - B06240 -TIRAR DA SOMA - PROGRAMAR ELETRONICO.pdf']\n",
      "C:/Users/ojgomes/Documents/Automação Rent/2 - FEVEREIRO/2 - FEVEREIRO\\10.02\\PROGRAMADO\\086-060-100222-ALU-05\n",
      "['BANCO OK']\n",
      "['086-060-100222-ALU-05 - BANCO.pdf', '086-060-100222-ALU-05 - E-MAIL LOTE FORMATADO.pdf', 'BANCO 1002.pdf']\n",
      "C:/Users/ojgomes/Documents/Automação Rent/2 - FEVEREIRO/2 - FEVEREIRO\\10.02\\PROGRAMADO\\086-060-100222-ALU-05\\BANCO OK\n",
      "['PROGRAMADO']\n",
      "[]\n",
      "C:/Users/ojgomes/Documents/Automação Rent/2 - FEVEREIRO/2 - FEVEREIRO\\10.02\\PROGRAMADO\\086-060-100222-ALU-05\\BANCO OK\\PROGRAMADO\n",
      "[]\n",
      "['ARI - B00610 -  (2).pdf', 'ARI - B00610 - 10.02.2022 (1).pdf', 'ASB - B01710.pdf', 'BOLETO IPTU 2022 - DRG PROGRAMAR MANUAL.pdf', 'CFR - B05420 -  (1).pdf', 'COS - B01100 -  (3).pdf', 'CSA - B01480 -  (1).pdf', 'CSA - B01480 - 2 (2).pdf', 'CSB - B00730 -  (1).pdf', 'CSB - B00730 -  (4).pdf', 'CSO - B07490 -  (1).pdf', 'DAC - B09250 FRANQ ALUGUEL FALTAM 0,90.pdf', 'DOW - B03570 FALTA 3925,76.pdf', 'DTP - B91150 -  (1).pdf', 'ETA - B00540 - 2 (1).pdf', 'IN2 - B01420 -  (1).pdf', 'IN2 - B01420 - 10.02.2022 (1).pdf', 'LIM - B00690 -  (1).pdf', 'LIM - B00690 - 2 (2).pdf', 'MUT - B01440 -  (2).pdf', 'NIM - B03670 -  (1).pdf', 'NIM - B03670 -  (4).pdf', 'PAGTO 10.02 - PRIO 67.xls', 'PGS - B01120 - LANÇAMENTO FEITO A MAIOR.pdf', 'PHI - B00460 -  (1).pdf', 'PRU - B08900 DESMEMBRAR.PDF', 'PSB - B06200 -  (1).pdf', 'PVR - B20370 -  (1).pdf', 'RPT - B05010 -  (1).pdf', 'SCS - B00560 -  (2).pdf', 'SCS - B00560 - 2 (2).pdf', 'SOMA - FALTAM 4 BOLETOS.xls', 'TIT - B00470 -  (4).pdf', 'VAR - B04430 (2) - FALTA VALOR.pdf', 'VID - B01740 -  (1).pdf', 'VID - B01740 - 1 (2).pdf', 'VLT - B11280 -  (2).pdf']\n",
      "C:/Users/ojgomes/Documents/Automação Rent/2 - FEVEREIRO/2 - FEVEREIRO\\10.02\\PROGRAMADO\\086-060-100222-ALU-06\n",
      "['BANCO OK', 'DEMO']\n",
      "['086-060-100222-ALU-06 - banco.pdf', 'BANCO 1002.pdf', 'E-MAIL LOTE FORMATADO.pdf', 'SOMA.xls']\n",
      "C:/Users/ojgomes/Documents/Automação Rent/2 - FEVEREIRO/2 - FEVEREIRO\\10.02\\PROGRAMADO\\086-060-100222-ALU-06\\BANCO OK\n",
      "['PROGRAMADO']\n",
      "[]\n",
      "C:/Users/ojgomes/Documents/Automação Rent/2 - FEVEREIRO/2 - FEVEREIRO\\10.02\\PROGRAMADO\\086-060-100222-ALU-06\\BANCO OK\\PROGRAMADO\n",
      "[]\n",
      "['AID - B01970 (2).PDF', 'AID - B01970.PDF', 'ALC - B03440 FRANQ ALUGUEL (2).PDF', 'ALC - B03440 FRANQ ALUGUEL (3).PDF', 'ALC - B03440 FRANQ ALUGUEL.PDF', 'AM2 - B7005 FRAN PAG V2.pdf', 'ANI - B06400 - LANÇAR.pdf', 'ASV - B50170 FRANQ ALUGUEL.PDF', 'ASV - B50170 FRANQ.PDF', 'BAL - B0276.pdf', 'BAT - B91160 FRANQ (SEM DESCRIÇÃO DE PGTO).pdf', 'BCZ - B04550.PDF', 'BH2 - B03560.pdf', 'BOD - B09170 FRAN ALUGUEL.pdf', 'BPE - B20030.pdf', 'BRD - B02330 VERIF ELETRONICO.pdf', 'BRU - B0262.pdf', 'BS4 - B03770 (6).pdf', 'CRA - B03730 FRANQ ALUGUEL - LANÇAR 0,01.pdf', 'DAS - B20550 - BOLETO SEM DESCRIÇÃO DE PGTO.pdf', 'DIA - B03240.pdf', 'DOW - B03570 (1 - NAO TEM LINHA DE LANÇAMENTO.pdf', 'DOW - B03570 - VERIF LANÇAMENTOS.pdf', 'DPI - B02580 - processar.pdf', 'DRO - B04170 (3).PDF', 'DRO - B04170.PDF', 'EAP - B01350 (4).PDF', 'EMA - B07090 FRANQ ALUGUEL.pdf', 'EMX  - B40730 (2).PDF', 'EMX  - B40730 (4).PDF', 'EMX  - B40730 (6).PDF', 'EMX  - B40730.PDF', 'EXC - B07180 FRANQ ALUGUEL.PDF', 'EXI - B11150 (2).PDF', 'EXI - B11150.PDF', 'EXS - B07430 FRANQ ALUGUEL.PDF', 'EXT - B00980 (2).PDF', 'EXT - B00980.PDF', 'FRA - B05280 SOMA N BATE.pdf', 'FRM - B1103.pdf', 'GAM - B06610 FRANQ ALUGUEL.PDF', 'GCR - B40140 FRANQ ALUGUEL (3) SOMA TA DANDO  12.072,50.PDF', 'GED - B07590 FRANQ ALUGUEL.PDF', 'GJA - B00490 FRANQ ALUGUEL.PDF', 'GUS - B04210 - VERIF LANÇAMENTOS.pdf', 'IBE - B1059 FRANQ.pdf', 'IBE B1059.pdf', 'INT - B00280 (10) LANÇAR 1366,39.pdf', 'INT - B00280 (6).pdf', 'INT - B00280 (7).pdf', 'INT - B00280 (8).pdf', 'ISC - B05330 - LANÇAR 4902,16.PDF', 'ISO  - B70160 FRANQ PAG V2.PDF', 'ITB - B03890 - SOMA MAIOR.pdf', 'JFI - B04240 - LANÇAR ESTORNO.pdf', 'JGS - B0266.pdf', 'JKN JKS EJK .PDF', 'JKN.PDF', 'LAR - B00950  2 - LANÇAR.pdf', 'LDA - B05030 - LANÇAR ESTORNO.pdf', 'LON - B0538 (2).pdf', 'LON - B0538.pdf', 'LON B0538.pdf', 'MAL - B04230 FRANQ PAG V2 - SOMA N BATE.pdf', 'MGP - B01790 (2).PDF', 'MGP - B01790.PDF', 'MIL - B00640 (2).PDF', 'MIL - B00640 (3).PDF', 'MIL - B00640.PDF', 'MIS - B08060 (4) - VERIFICAR LANÇAMENTOS.pdf', 'MIS - B08060 (5).pdf', 'MKC - B00410.PDF', 'MMD - B7008.pdf', 'MRB - B03390 (2).pdf', 'MRB - B03390.pdf', 'PAGTO 10.02 - PRIO 66.xls', 'PAL - B04660 FRANQ ALUGUEL.pdf', 'PCD - B06390 FRANQ (2).PDF', 'PDR - B06680 FRANQ ALUGUEL.PDF', 'PGD - B00900 FRANQ ALUGUEL (2).PDF', 'PGD - B00900 FRANQ ALUGUEL.PDF', 'PIC - B07260 (2).PDF', 'PIC - B07260 (3).PDF', 'PIC - B07260.PDF', 'PIE - B03120 FRANQ ALUGUEL (2) VERIF DUPLICIDADE.pdf', 'PIE - B03120 FRANQ ALUGUEL (3) VERIF DUPLICIDADE.pdf', 'PIE - B03120 FRANQ ALUGUEL VERIF DUPLICIDADE.pdf', 'POG B1154.pdf', 'PSB - B06200  130.662\\xa0,21.pdf', 'PTM - B10240 VERIF ELETRONICO.pdf', 'PTR - B03370 (2) LANÇAR 99,38.pdf', 'PTR - B03370 LANÇAR 93,01.pdf', 'RAF - B40270 FRANQ ALUGUEL.PDF', 'RAP B0066.pdf', 'RIN B2013.PDF', 'RPM - B0270 - LANÇAR 2.800,97.pdf', 'RS2 - B40710.PDF', 'SIC - B07070 FRANQ PAGAR V2 FALTA 3876,50 E -361,.PDF', 'SOC - B0705.PDF', 'SSC - B00890.PDF', 'STJ - B03210.PDF', 'VEL B03640 FRANQ.pdf', 'ZZZ - B0529.pdf']\n",
      "C:/Users/ojgomes/Documents/Automação Rent/2 - FEVEREIRO/2 - FEVEREIRO\\10.02\\PROGRAMADO\\086-060-100222-ALU-06\\DEMO\n",
      "[]\n",
      "['JKN DEMONSTRATIVO.PDF', 'JKN JKS EJK DEMONSTRATIVO .PDF', 'RDS - B08280 FRANQ ALUGUEL.pdf']\n"
     ]
    },
    {
     "name": "stdout",
     "output_type": "stream",
     "text": [
      "C:/Users/ojgomes/Documents/Automação Rent/2 - FEVEREIRO/2 - FEVEREIRO\\10.02\\PROGRAMADO\\086-060-100222-URGE-01\n",
      "['PROGRAMADO']\n",
      "['086-060-100222-URGE-01 - BANCO.pdf', '086-060-100222-URGE-01 - E-MAIL LOTE FORMATADO.pdf', 'PAGTO 10.02 - PRIO 65.xls']\n",
      "C:/Users/ojgomes/Documents/Automação Rent/2 - FEVEREIRO/2 - FEVEREIRO\\10.02\\PROGRAMADO\\086-060-100222-URGE-01\\PROGRAMADO\n",
      "['BANCO OK']\n",
      "['BANCO 1002.pdf', 'SOMA.xls']\n",
      "C:/Users/ojgomes/Documents/Automação Rent/2 - FEVEREIRO/2 - FEVEREIRO\\10.02\\PROGRAMADO\\086-060-100222-URGE-01\\PROGRAMADO\\BANCO OK\n",
      "[]\n",
      "['CVK - B07290 FRANQ ALUGUEL.pdf', 'DBR - B03530.pdf', 'FAL - B05490.pdf', 'FNS - B05500.pdf', 'GDR - B08100 FRANQ.pdf', 'GPA - B40020 (2)-STFSANN005301-L.pdf', 'GPA - B40020 (2).pdf', 'GPA - B40020 (3)-STFSANN005301-L.pdf', 'GPA - B40020 (4).pdf', 'GPA - B40020 (6)-STFSANN005301-L.pdf', 'GPA - B40020 (6).pdf', 'GPA - B40020-STFSANN005301-L.pdf', 'GPA - B40020.pdf', 'GSB - B01890 - 10.02.PDF', 'MKP - B00600  2.PDF', 'MKP - B00600.PDF', 'MMS - B06310 FRANQ PAG V2.pdf', 'MMS - B06310.pdf', 'MOC - B04280 (2).pdf', 'MOC - B04280.pdf', 'MT2 - B10810.pdf', 'MTP - B00530 (2).pdf', 'MTP - B00530.pdf', 'NAS - B05440.pdf', 'NAU - B40570 FRANQ ALUGUEL 2.pdf', 'NFR - B03160 - TEM 2 BOLETOS!!!!!!!!!!!!!.pdf', 'NIL - B03660.pdf', 'NSB - B02060 (2).pdf', 'NSB - B02060.pdf', 'OSS - B01830.pdf', 'PAD - B07860.pdf', 'PCD - B06390 FRANQ ALUGUEL (3).pdf', 'PCD - B06390 FRANQ ALUGUEL.pdf', 'PFL - B04030  2.pdf', 'PFL - B04030.pdf', 'PGB - B40010 3.pdf', 'POG - B11540   2.pdf', 'POG - B11540.pdf', 'POI - B05050.PDF', 'PPG - B02780.pdf', 'PSI - B07850 FRANQ ALUGUEL.pdf', 'PSP - B70390 FRANQ ALUGUEL (2).pdf', 'PSP - B70390 FRANQ ALUGUEL.pdf', 'RBD - B20840 ENERGIA FILIAL KM58.pdf', 'ROM - B10420.pdf', 'RS2 - B40710 - VERIF ELETRONICO.pdf', 'TUC - B02100.pdf', 'TUU - B50180.pdf', 'UB3 - B04560 FRANQ ALUGUEL.pdf', 'UB3 - B04560.pdf', 'UBS - B04220  2.pdf', 'UBS - B04220 (2)  2.pdf', 'UBS - B04220 (2).pdf', 'UBS - B04220 (3).pdf', 'UBS - B04220 (4).pdf', 'UBS - B04220.pdf', 'VAR - B04430.pdf', 'VBR - B01750.pdf', 'VCP - B20490  2.pdf', 'VIG - B01210 (2).pdf', 'VIG - B01210.pdf', 'VPK - B08150 FRANQ ALUGUEL.pdf', 'VSH - B08080 FRANQ ALUGUEL (2).PDF', 'VSH - B08080 FRANQ ALUGUEL.PDF', 'VVT - B20040 FRANQ ALUGUEL.pdf', 'WLZ - B00110.pdf', 'WSR - B03300 (2).pdf', 'WSR - B03300.pdf', 'XPC - B06540 FRANQ (BOLETO SEM DESCRIÇÃO DE PGTO.pdf', 'XPC - B06540 FRANQ PAG V2 (2).pdf', 'XPC - B06540 FRANQ PAG V2.pdf', 'ZZZ - B05290.pdf']\n",
      "C:/Users/ojgomes/Documents/Automação Rent/2 - FEVEREIRO/2 - FEVEREIRO\\10.02\\PROGRAMADO\\086-060-100222-URGE-14\n",
      "['PROGRAMADO']\n",
      "['086-060-100222-URGE-14 - BANCO.pdf', '086-060-100222-URGE-14 - E-MAIL LOTE FORMATADO.pdf']\n",
      "C:/Users/ojgomes/Documents/Automação Rent/2 - FEVEREIRO/2 - FEVEREIRO\\10.02\\PROGRAMADO\\086-060-100222-URGE-14\\PROGRAMADO\n",
      "['BANCO OK']\n",
      "['BANCO 1002.pdf', 'PAGTO 10.02 - IMPOSTO PRIO 1.xls']\n",
      "C:/Users/ojgomes/Documents/Automação Rent/2 - FEVEREIRO/2 - FEVEREIRO\\10.02\\PROGRAMADO\\086-060-100222-URGE-14\\PROGRAMADO\\BANCO OK\n",
      "['RCF - B0600 - PROGRAMAR 23.553,33']\n",
      "['BOLETO IPTU 2022 - APB.pdf', 'BOLETO IPTU 2022 - ARP.pdf', 'BOLETO IPTU 2022 - CAB_LI.jpg', 'BOLETO IPTU 2022 - CJD.pdf', 'BOLETO IPTU 2022 - CRD.pdf', 'BOLETO IPTU 2022 - CSQ_LI.jpg', 'BOLETO IPTU 2022 - IPI.pdf', 'BOLETO IPTU 2022 - JSO_LI.jpg', 'BOLETO IPTU 2022 - OSD - 1462700000_LI.jpg', 'BOLETO IPTU 2022 - OSD - 1462760000_LI.jpg', 'BOLETO IPTU 2022 - OSD - 1462820000_LI.jpg', 'BOLETO IPTU 2022 - OSD - 1462840000_LI.jpg', 'BOLETO IPTU 2022 - PAN - 081.188.0034-2.pdf', 'BOLETO IPTU 2022 - RCH_LI.jpg', 'BOLETO IPTU 2022 - TIR - 018.010.0069-7.pdf', 'BOLETO IPTU 2022 - VOL.pdf']\n",
      "C:/Users/ojgomes/Documents/Automação Rent/2 - FEVEREIRO/2 - FEVEREIRO\\10.02\\PROGRAMADO\\086-060-100222-URGE-14\\PROGRAMADO\\BANCO OK\\RCF - B0600 - PROGRAMAR 23.553,33\n",
      "['OK']\n",
      "[]\n",
      "C:/Users/ojgomes/Documents/Automação Rent/2 - FEVEREIRO/2 - FEVEREIRO\\10.02\\PROGRAMADO\\086-060-100222-URGE-14\\PROGRAMADO\\BANCO OK\\RCF - B0600 - PROGRAMAR 23.553,33\\OK\n",
      "[]\n",
      "['BOLETO IPTU 2022 - RCF - 3.29905-8.pdf', 'BOLETO IPTU 2022 - RCF - 3.29906-6.pdf', 'BOLETO IPTU 2022 - RCF - 3.29907-4.pdf', 'BOLETO IPTU 2022 - RCF - 3.29908-2.pdf', 'BOLETO IPTU 2022 - RCF - 3.29909-0.pdf', 'BOLETO IPTU 2022 - RCF - 3.29910-4.pdf', 'BOLETO IPTU 2022 - RCF - 3.42819-2.pdf', 'BOLETO IPTU 2022 - RCF CK.pdf']\n",
      "C:/Users/ojgomes/Documents/Automação Rent/2 - FEVEREIRO/2 - FEVEREIRO\\10.02\\VENCIDO\n",
      "[]\n",
      "['2022-01-28T21_28_14+00_00Boletos (7).pdf', '2022-01-28T21_28_14+00_00Boletos (8).pdf', 'PBA - B09690 - VENCIDO EM 03.02.pdf', 'SIA  - B02070.PDF']\n",
      "C:/Users/ojgomes/Documents/Automação Rent/2 - FEVEREIRO/2 - FEVEREIRO\\11.02\n",
      "['ENVIAR FRANQ', 'PROGRAMADO']\n",
      "[]\n",
      "C:/Users/ojgomes/Documents/Automação Rent/2 - FEVEREIRO/2 - FEVEREIRO\\11.02\\ENVIAR FRANQ\n",
      "['ENVIADO']\n",
      "[]\n",
      "C:/Users/ojgomes/Documents/Automação Rent/2 - FEVEREIRO/2 - FEVEREIRO\\11.02\\ENVIAR FRANQ\\ENVIADO\n",
      "[]\n",
      "['JVA - B7460.pdf', 'LNT - B20270 ENVIAR FRANQ.pdf', 'MAR - B08760 ENVIAR FRANQ (2).pdf', 'MAR - B08760 ENVIAR FRANQ (3).pdf', 'MAR - B08760 ENVIAR FRANQ.pdf']\n",
      "C:/Users/ojgomes/Documents/Automação Rent/2 - FEVEREIRO/2 - FEVEREIRO\\11.02\\PROGRAMADO\n",
      "['086-060-110222-ALU-01', '086-060-110222-ALU-02', '086-060-110222-ALU-03', '086-060-110222-URGE-01']\n",
      "[]\n",
      "C:/Users/ojgomes/Documents/Automação Rent/2 - FEVEREIRO/2 - FEVEREIRO\\11.02\\PROGRAMADO\\086-060-110222-ALU-01\n",
      "[]\n",
      "['086-060-110222-ALU-01 - BANCO.pdf', 'E-MAIL LOTE FORMATADO.pdf', 'HGO - B02810.pdf', 'JPS - B05510.pdf', 'MBD - B08380 FRANQ PAG V2.pdf', 'PGTO 1102 PRIO 1 ELETRONICO.xls']\n",
      "C:/Users/ojgomes/Documents/Automação Rent/2 - FEVEREIRO/2 - FEVEREIRO\\11.02\\PROGRAMADO\\086-060-110222-ALU-02\n",
      "['BANCO OK']\n",
      "['086-060-110222-ALU-02 - e-mail lote formatado.pdf', '086-060-110222-ALU-02 -BANCO.pdf', 'BANCO 1102.pdf']\n",
      "C:/Users/ojgomes/Documents/Automação Rent/2 - FEVEREIRO/2 - FEVEREIRO\\11.02\\PROGRAMADO\\086-060-110222-ALU-02\\BANCO OK\n",
      "['PROGRAMADO']\n",
      "['PAGTO 1102 - PRIO 61.xls']\n",
      "C:/Users/ojgomes/Documents/Automação Rent/2 - FEVEREIRO/2 - FEVEREIRO\\11.02\\PROGRAMADO\\086-060-110222-ALU-02\\BANCO OK\\PROGRAMADO\n",
      "[]\n",
      "['AJU - B40120 (2).pdf', 'AJU - B40120 (3).pdf', 'AJU - B40120.pdf', 'BPE - B20030.pdf', 'CNL - B03110 (3) LANÇAR 569,99.pdf', 'CNL - B03110.pdf', 'CSO - B07490.pdf', 'IBM - B06410 - VENCIDO 34.291 ,86.pdf', 'JPS - B05510.pdf', 'LNT - B20270 FRANQ ALUGUEL.pdf', 'PDM - B03410 - NÃO TEM LINHA PRA LANÇAR.pdf', 'PNO - B09710.pdf', 'PTY - B40620 (11).pdf', 'PTY - B40620 (2).pdf', 'PTY - B40620 (3).pdf', 'PTY - B40620 (4).pdf', 'PTY - B40620.pdf', 'RIN - B20130.pdf', 'TPC - B1026.pdf', 'TRS - B05570.pdf', 'TUC - B02100 (2).pdf', 'TUC - B02100.pdf']\n",
      "C:/Users/ojgomes/Documents/Automação Rent/2 - FEVEREIRO/2 - FEVEREIRO\\11.02\\PROGRAMADO\\086-060-110222-ALU-03\n",
      "[]\n",
      "['086-060-110222-ALU-03 - BANCO.pdf', 'banco 1102.pdf', 'BOLETO IPTU 2022 - ITV - PARCELA 1.JPG', 'E-MAIL LOTE FORMATADO.pdf', 'PAGTO 1102 - PRIO 62.xls']\n",
      "C:/Users/ojgomes/Documents/Automação Rent/2 - FEVEREIRO/2 - FEVEREIRO\\11.02\\PROGRAMADO\\086-060-110222-URGE-01\n",
      "[]\n",
      "['086-060-110222-URGE-01 - BANCO.pdf', 'BANCO 1102.pdf', 'BOLETO IPTU 2022 - CAD.pdf', 'BOLETO IPTU 2022 - CAR.pdf', 'BOLETO IPTU 2022 - DCP.pdf', 'E-MAIL LOTE FORMATADO.pdf', 'PAGTO 1102 - IMPOSTO PRIO 1.xls']\n",
      "C:/Users/ojgomes/Documents/Automação Rent/2 - FEVEREIRO/2 - FEVEREIRO\\14.02\n",
      "['ENVIAR FRANQ', 'ERRO BANCO', 'LANÇAR', 'PROGRAMADO']\n",
      "[]\n",
      "C:/Users/ojgomes/Documents/Automação Rent/2 - FEVEREIRO/2 - FEVEREIRO\\14.02\\ENVIAR FRANQ\n",
      "['ENVIADO']\n",
      "[]\n",
      "C:/Users/ojgomes/Documents/Automação Rent/2 - FEVEREIRO/2 - FEVEREIRO\\14.02\\ENVIAR FRANQ\\ENVIADO\n",
      "[]\n",
      "['AFZ - B09700  ENVIAR FRANQ.pdf', 'AFZ - B09700 (2) FRANQ.pdf', 'AFZ - B09700 (3) FRANQ.pdf', 'AFZ - B09700 - FRANQ.pdf', 'AFZ - B09700 ENVIAR FRANQ.pdf', 'BCP - B4007.PDF', 'CFO - B20690.PDF', 'SVA - B20240 ENVIAR FRANQ.PDF', 'VSB - B08330 ENVIAR FRANQ.pdf', 'VSB - B08330.pdf']\n",
      "C:/Users/ojgomes/Documents/Automação Rent/2 - FEVEREIRO/2 - FEVEREIRO\\14.02\\ERRO BANCO\n",
      "[]\n",
      "['OUS - B40720.pdf']\n",
      "C:/Users/ojgomes/Documents/Automação Rent/2 - FEVEREIRO/2 - FEVEREIRO\\14.02\\LANÇAR\n",
      "['IPTU', 'VERIFICAR']\n",
      "[]\n",
      "C:/Users/ojgomes/Documents/Automação Rent/2 - FEVEREIRO/2 - FEVEREIRO\\14.02\\LANÇAR\\IPTU\n",
      "[]\n",
      "[]\n",
      "C:/Users/ojgomes/Documents/Automação Rent/2 - FEVEREIRO/2 - FEVEREIRO\\14.02\\LANÇAR\\VERIFICAR\n",
      "[]\n",
      "['SU2 - B2009 - VERIFICAR QUAL A DESPESA BANCO OK.pdf']\n",
      "C:/Users/ojgomes/Documents/Automação Rent/2 - FEVEREIRO/2 - FEVEREIRO\\14.02\\PROGRAMADO\n",
      "['086-060-140222-ALU-03', '086-060-140222-ALU-04', '086-060-140222-ALU-05 - ELETRONICO PRIO 1', '086-060-140222-URGE-07']\n",
      "[]\n",
      "C:/Users/ojgomes/Documents/Automação Rent/2 - FEVEREIRO/2 - FEVEREIRO\\14.02\\PROGRAMADO\\086-060-140222-ALU-03\n",
      "['BANCO OK']\n",
      "['086-060-140222-ALU-03 - BANCO.pdf', 'BANCO 1402.pdf', 'E-MAIL LOTE FORMATADO.pdf', 'PAGTO 1402 PRIO 61.xls']\n",
      "C:/Users/ojgomes/Documents/Automação Rent/2 - FEVEREIRO/2 - FEVEREIRO\\14.02\\PROGRAMADO\\086-060-140222-ALU-03\\BANCO OK\n",
      "['PROGRAMADO']\n",
      "[]\n",
      "C:/Users/ojgomes/Documents/Automação Rent/2 - FEVEREIRO/2 - FEVEREIRO\\14.02\\PROGRAMADO\\086-060-140222-ALU-03\\BANCO OK\\PROGRAMADO\n",
      "['ASH CONDOMINIO 3424,86', 'ASH PUBLI 531,06']\n",
      "['AFL - B01140.pdf', 'AFZ - B09700 FRANQ ALUGUEL (2).pdf', 'AFZ - B09700 FRANQ ALUGUEL.pdf', 'AXV - B02600.pdf', 'BOLETO IPTU 2022 - BSS_LI.jpg', 'BOLETO IPTU 2022 - ITV - PARCELA 2_LI.jpg', 'BOLETO IPTU 2022 - SCD.pdf', 'BRE - B02120 (2).PDF', 'DIR - B00440.PDF', 'GFS - B40590 (2).pdf', 'GFS - B40590.pdf', 'GOI - B05520.pdf', 'GT2 - B04840 (2) BOLETO SEM DESCRIÇÃO DE PGTO.PDF', 'GT2 - B04840 BOLETO SEM DESCRIÇÃO DE PGTO.PDF', 'JPM - B05970 3.pdf', 'JPM - B05970.pdf', 'MIG - B05390.pdf', 'NSS - B0653 (2).pdf', 'NSS - B0653 (3).pdf', 'NSS - B0653 (4).pdf', 'NSS - B0653.pdf', 'P21 - B06070.pdf', 'PAA - B41340 (2)  2.pdf', 'PAA - B41340 (2).pdf', 'PAA - B41340.pdf', 'PSM - B06330.pdf', 'PUR - B0863.pdf', 'PZS - B00400.pdf', 'RB1 - B0284 (2).pdf', 'RB1 - B0284.pdf', 'SCC - B0920.pdf', 'SCP - B00250 2.pdf', 'SCP - B00250.pdf', 'SHI - B01110 FRANQ PAG V2.PDF', 'SMG - 13.02 VERIFICAR LANÇAMENTO (NÃO ENTENDI O VALOR).pdf', 'SMUSHM - B01780 (2).pdf', 'SMUSHM - B01780 (3).pdf', 'SMUSHM - B01780.pdf', 'TAS - B09140.pdf', 'WPL - B00270.pdf']\n",
      "C:/Users/ojgomes/Documents/Automação Rent/2 - FEVEREIRO/2 - FEVEREIRO\\14.02\\PROGRAMADO\\086-060-140222-ALU-03\\BANCO OK\\PROGRAMADO\\ASH CONDOMINIO 3424,86\n",
      "[]\n",
      "['ASH - B0194 1.pdf', 'ASH - B01940 4.pdf', 'ASH - B01940 7.pdf', 'ASH - B01940.pdf']\n",
      "C:/Users/ojgomes/Documents/Automação Rent/2 - FEVEREIRO/2 - FEVEREIRO\\14.02\\PROGRAMADO\\086-060-140222-ALU-03\\BANCO OK\\PROGRAMADO\\ASH PUBLI 531,06\n",
      "[]\n",
      "['ASH - B01940 2.pdf', 'ASH - B01940 5.pdf', 'ASH - B01940 6.pdf', 'ASH - B01940 9.pdf']\n",
      "C:/Users/ojgomes/Documents/Automação Rent/2 - FEVEREIRO/2 - FEVEREIRO\\14.02\\PROGRAMADO\\086-060-140222-ALU-04\n",
      "['PROGRAMADO']\n",
      "['086-060-140222-ALU-04 - banco.pdf', 'BANCO 1402.pdf', 'e-mail lote formatado.pdf', 'PAGTO 14.02 PRIO 62.xls']\n",
      "C:/Users/ojgomes/Documents/Automação Rent/2 - FEVEREIRO/2 - FEVEREIRO\\14.02\\PROGRAMADO\\086-060-140222-ALU-04\\PROGRAMADO\n",
      "[]\n",
      "['BOLETO IPTU 2022 - CAK.pdf', 'CFO - B20690 FRANQ ALUGUEL.PDF', 'PDP - B01670 (3) BANCO OK.pdf', 'PDP - B01670 (4) BANCO OK.pdf', 'PDP - B01670 -  54608,01 BANCO OK.pdf', 'PDP - B01670 BANCO OK.pdf', 'S3A - B07710 (2) 666\\xa0,08.pdf', 'S3A - B07710 2.101\\xa0,28.pdf', 'SIA  - B02070 - SOMA N BATE.PDF']\n",
      "C:/Users/ojgomes/Documents/Automação Rent/2 - FEVEREIRO/2 - FEVEREIRO\\14.02\\PROGRAMADO\\086-060-140222-ALU-05 - ELETRONICO PRIO 1\n",
      "[]\n",
      "['086-060-140222-ALU-05 - BANCO.pdf', 'E-MAIL LOTE FORMATADO.pdf', 'PAGTO 14.02 - ELETRONICO PRIO 1.xls']\n",
      "C:/Users/ojgomes/Documents/Automação Rent/2 - FEVEREIRO/2 - FEVEREIRO\\14.02\\PROGRAMADO\\086-060-140222-URGE-07\n",
      "['PROGRAMADO']\n",
      "['086-060-140222-URGE-07 - BANCO.pdf', 'BANCO 1402.pdf', 'e-mail lote formatado.pdf', 'PAGTO 1402 - IMPOSTO PRIO 1.xls']\n",
      "C:/Users/ojgomes/Documents/Automação Rent/2 - FEVEREIRO/2 - FEVEREIRO\\14.02\\PROGRAMADO\\086-060-140222-URGE-07\\PROGRAMADO\n",
      "['BANCO OK']\n",
      "[]\n",
      "C:/Users/ojgomes/Documents/Automação Rent/2 - FEVEREIRO/2 - FEVEREIRO\\14.02\\PROGRAMADO\\086-060-140222-URGE-07\\PROGRAMADO\\BANCO OK\n",
      "[]\n",
      "['BOLETO IPTU 2022 - AAH.pdf', 'BOLETO IPTU 2022 - AFD.pdf', 'BOLETO IPTU 2022 - AUG.pdf', 'BOLETO IPTU 2022 - CUR.pdf', 'BOLETO IPTU 2022 - MBT.pdf', 'BOLETO IPTU 2022 - MUN - 125.129.0164-4.pdf', 'BOLETO IPTU 2022 - PAR - 017.017.0954-6.pdf', 'BOLETO IPTU 2022 - PKE - 1008397.pdf', 'BOLETO IPTU 2022 - PKE - 1598249.pdf', 'BOLETO IPTU 2022 - PQC.pdf']\n",
      "C:/Users/ojgomes/Documents/Automação Rent/2 - FEVEREIRO/2 - FEVEREIRO\\15.02\n",
      "['AGUARDANDO', 'CLASSIFICAR', 'DESMEMBRAR', 'ELETRONICO', 'ENCAMINHAR LOCADOR', 'ENVIAR FRANQ', 'ERRO BANCO', 'LANÇAR', 'PROGRAMADO']\n",
      "['CNB - B05130 (2) - BOLETO PAGO 17.01.pdf', 'CNB - B05130 - BOLETO PAGO 17.01.pdf', 'CSC - B01690  JÁ TEM BOLETO COM ENCARGOS.pdf', 'CSC - B01690 3 JÁ TEM BOLETO COM ALUGUEL.pdf', 'CSC - B01690 JÁ TEM BOLETO COM ENCARGOS.pdf', 'CSC - B01690 JÁ TEM BOLETO COM O ALUGUEL.pdf', 'CTG - B08310 FRANQ ALUGUEL - ELETRONICO.pdf', 'EBH - B04360 JÁ TEM BOLETO COM ALUGUEL.pdf', 'EBH - B04360 JÁ TEM BOLETO COM ENCARGOS.pdf', 'GERAL.xls', 'SBP - B10130 - JÁ TEM BOLETO COM ENCARGOS.pdf', 'SUL - B00430 JÁ TEM BOLETO (1).pdf', 'SUL - B00430 JÁ TEM BOLETO (2).pdf']\n",
      "C:/Users/ojgomes/Documents/Automação Rent/2 - FEVEREIRO/2 - FEVEREIRO\\15.02\\AGUARDANDO\n"
     ]
    },
    {
     "name": "stdout",
     "output_type": "stream",
     "text": [
      "[]\n",
      "['MS5 - B05960 - NÃO TEM CONTRATO NO RENT.pdf']\n",
      "C:/Users/ojgomes/Documents/Automação Rent/2 - FEVEREIRO/2 - FEVEREIRO\\15.02\\CLASSIFICAR\n",
      "['VERIF CLASSIFICAÇÃO']\n",
      "[]\n",
      "C:/Users/ojgomes/Documents/Automação Rent/2 - FEVEREIRO/2 - FEVEREIRO\\15.02\\CLASSIFICAR\\VERIF CLASSIFICAÇÃO\n",
      "[]\n",
      "[]\n",
      "C:/Users/ojgomes/Documents/Automação Rent/2 - FEVEREIRO/2 - FEVEREIRO\\15.02\\DESMEMBRAR\n",
      "[]\n",
      "['BVV - B04450 FRANQ DESMEMBRAR.pdf', 'CVK - B07290 FRANQ ALUGUEL - DESMEMBRAR.pdf', 'MCS - B09390 DESMEMBRAR.pdf', 'MCS - B09390 FRANQ DESMEMBRAR.pdf', 'MNS - B05950 FRANQ DESMEMBRAR.pdf', 'SBB - B09310 DESMEMBRAR.pdf', 'SBB - B09310 FRANQ DESMEMBRAR.pdf', 'SIF - B09180 FRANQ PAGAR V2 - DEMEMBRAR.pdf', 'SVA - B20240 FRANQ DESMEMBRAR (2).pdf', 'SVA - B20240 FRANQ DESMEMBRAR.pdf', 'SVA - B20240 FRANQ DESMEMBRAR2.PDF', 'SVV - B04680 FRANQ DESMEMBRAR.pdf', 'VAD - B70310 FRANQ DESMEMBRAR.pdf', 'VAD - B70310,.pdf']\n",
      "C:/Users/ojgomes/Documents/Automação Rent/2 - FEVEREIRO/2 - FEVEREIRO\\15.02\\ELETRONICO\n",
      "[]\n",
      "['CON - B00360 ELETRONICO FRANQ ALUGUEL.pdf', 'MAV - B9513 - ELETRONICO ALUG .pdf', 'SFL - B06240 - VERIFICAR ELETRONICO.pdf']\n",
      "C:/Users/ojgomes/Documents/Automação Rent/2 - FEVEREIRO/2 - FEVEREIRO\\15.02\\ENCAMINHAR LOCADOR\n",
      "[]\n",
      "['2022-02-08T18_28_53+00_00ALC10590 ALTHS - MC DONALDS 2.pdf', '2022-02-08T18_28_53+00_00ALC10590 ALTHS - MC DONALDS 3.pdf', '2022-02-08T18_28_53+00_00ALC10590 ALTHS - MC DONALDS 4.pdf', '2022-02-08T18_28_53+00_00ALC10590 TAG - MC DONALDS 2.pdf', '2022-02-08T18_28_53+00_00ALC10590 TAG - MC DONALDS 3.pdf', '2022-02-08T18_28_53+00_00ALC10590 TAG - MC DONALDS 4.pdf']\n",
      "C:/Users/ojgomes/Documents/Automação Rent/2 - FEVEREIRO/2 - FEVEREIRO\\15.02\\ENVIAR FRANQ\n",
      "['ENVIADO']\n",
      "['AFZ - B09700 ENVIAR FRANQ.pdf', 'ANA - B40390 ENVIAR FRANQ (2).pdf', 'ANA - B40390 ENVIAR FRANQ.pdf', 'APA - B07230 FRANQ ALUGUEL (2)-2.pdf', 'APA - B07230 FRANQ ALUGUEL-2.pdf', 'ASP - B08970 - LANÇAR.pdf', 'BA2 - B08600 FRANQ ALUGUEL.pdf', 'BAG - B08260 ENVIAR FRANQ.pdf', 'CRR - B2083 - 15.02.2022 - COND.pdf', 'CRR - B2083 - 15.02.2022 - FPP.pdf', 'CRR - B20830 ENVIAR FRANQ (2).pdf', 'CRR - B20830 ENVIAR FRANQ 3.pdf', 'CRR - B20830 ENVIAR FRANQ 4.pdf', 'CRR - B20830 ENVIAR FRANQ.pdf', 'CSO - B07490 ENVIAR FRANQ (2).pdf', 'CSO - B07490 ENVIAR FRANQ (3).pdf', 'CSO - B07490 ENVIAR FRANQ.pdf', 'CSO - B07490 FRANQ - ENERGIA.pdf', 'CTG - B08310 ENVIAR FRANQ.pdf', 'CVK - B07290 ENVIAR FRANQ.pdf', 'FTA - B07110 ENVIAR FRANQ (2).PDF', 'FTA - B07110 ENVIAR FRANQ (3).PDF', 'FTA - B07110 ENVIAR FRANQ.PDF', 'HOR - B02680 ENVIAR FRANQ 3.pdf', 'HOR - B02680 ENVIAR FRANQ.pdf', 'MCS - B09390 ENVIAR FRANQ 2.pdf', 'MCS - B09390 ENVIAR FRANQ.pdf', 'MIP - B11480 ENVIAR FRANQ.pdf', 'MNS - B05950 ENVIAR FRANQ.pdf', 'NSC - B10910 ENVIAR FRANQ.pdf', 'NSC - B10910 FRANQ ALUGUEL (2).pdf', 'PAL - B04660 FRANQ ALUGUEL (2).pdf', 'PC7 - B03490.pdf', 'PCD - B06390 ENVIAR FRANQ.PDF', 'PCD - B06390 ENVIAR FRANQ1.PDF', 'PCD - B06390 FRANQ ALUGUEL 2.PDF', 'PDR - B0668.pdf', 'PEL - B09040 ENVIAR FRANQ.pdf', 'PSU - B08520 ENVIAR FRANQ.PDF', 'RMF - B40180 ENVIAR FRANQ.pdf', 'RMN - B09620 ENVIAR FRANQ.pdf', 'ROD - B07310 ENVIAR FRANQ.pdf', 'SBB - B09310 ENVIAR FRANQ 2.pdf', 'SBB - B09310 ENVIAR FRANQ.pdf', 'SBL - B09550 ENVIAR FRANQ.pdf', 'SCV - B07010 - ENVIAR FRANQ.pdf', 'SIF - B09180.pdf', 'SJD - B0738 FRANQ.pdf', 'SMG - B7011 ENVAR FRANQ.pdf', 'SMG - B7011 ENVIAR FRANQ.pdf', 'SNO - B0834.pdf', 'SNO - B08340 ENVIAR FRANQ (2).pdf', 'SNO - B08340 ENVIAR FRANQ.pdf', 'SNO - B0834loja 15.02.21.pdf', 'SSH - B08240 ENVIAR FRANQ.pdf', 'SSL - B04100 ENVIAR FRANQ.pdf', 'SSP - B09330 ENVIAR FRANQ 2.PDF', 'SSP - B09330 ENVIAR FRANQ.PDF', 'SUS - B07410 ENVIAR FRANQ (2).pdf', 'SUS - B07410 ENVIAR FRANQ.pdf', 'SVA - B2024.PDF', 'SVV - B04680 ENVIAR FRANQ.pdf', 'UB2 - B03900 ENVIAR FRANQ (2).pdf', 'UB2 - B03900 ENVIAR FRANQ 2.pdf', 'UB2 - B03900 ENVIAR FRANQ.pdf', 'UB3 - B04560 ENVIAR FRANQ.pdf', 'UBA - B0747.pdf', 'UBA - B07470 ENVIAR FRANQ.pdf', 'UBR - B02800 ENVIAR FRANQ (2).pdf', 'UBR - B02800 ENVIAR FRANQ (3).pdf', 'UBR - B02800 ENVIAR FRANQ 3.pdf', 'UBR - B02800 ENVIAR FRANQ.pdf', 'VPD - B7085 - ENERGIA.pdf', 'VPK - B08150 ENVIAR FRANQ.pdf', 'VPK - B08150.pdf', 'VSH - B08080 ENVIAR FRANQ.PDF']\n",
      "C:/Users/ojgomes/Documents/Automação Rent/2 - FEVEREIRO/2 - FEVEREIRO\\15.02\\ENVIAR FRANQ\\ENVIADO\n",
      "[]\n",
      "[]\n",
      "C:/Users/ojgomes/Documents/Automação Rent/2 - FEVEREIRO/2 - FEVEREIRO\\15.02\\ERRO BANCO\n",
      "[]\n",
      "['BOP - B40100 - PAGAR V2.PDF', 'BOP - B40100 FRANQ PAG V2.PDF', 'CAX - B05220 FRANQ ALUGUEL.pdf', 'CSC - B01690 (2) FAVOR PINTAR.pdf', 'CSC - B01690 - LANÇAR.pdf', 'CSC - B01690.pdf', 'EBH - B04360 - LANÇAR -0,01.pdf', 'LDA - B05030 FRANQ ALUGUEL.pdf', 'MTP - B0053.pdf', 'PIR - B07150.pdf', 'RBD - B2084.pdf', 'SBP - B10130 -.pdf', 'SES - B04530.pdf', 'SIF - B09180 FRANQ PAGAR V2 (CONFERIR VERIFICAR CLASSIFICAÇÃO, FIQUEI NA DUV.pdf', 'SPE - B70370 FRANQ ALUGUEL (2).pdf', 'SPE - B70370 FRANQ ALUGUEL.pdf', 'STJ - B03210.pdf', 'SUL - B00430.pdf', 'SVV - B04680 FRANQ ALUGUEL.pdf']\n",
      "C:/Users/ojgomes/Documents/Automação Rent/2 - FEVEREIRO/2 - FEVEREIRO\\15.02\\LANÇAR\n",
      "[]\n",
      "[]\n",
      "C:/Users/ojgomes/Documents/Automação Rent/2 - FEVEREIRO/2 - FEVEREIRO\\15.02\\PROGRAMADO\n",
      "['086-060-150222-ALU-01', '086-060-150222-ALU-02', '086-060-150222-ALU-03', '086-060-150222-ALU-04', '086-060-150222-ALU-05', '086-060-150222-ALU-06', '086-060-150222-URGE-09']\n",
      "[]\n",
      "C:/Users/ojgomes/Documents/Automação Rent/2 - FEVEREIRO/2 - FEVEREIRO\\15.02\\PROGRAMADO\\086-060-150222-ALU-01\n",
      "['PROGRAMADO']\n",
      "['086-060-150222-ALU-01 - BANCO.pdf', 'banco 1502.pdf', 'E-MAIL LOTE FORMATADO.pdf']\n",
      "C:/Users/ojgomes/Documents/Automação Rent/2 - FEVEREIRO/2 - FEVEREIRO\\15.02\\PROGRAMADO\\086-060-150222-ALU-01\\PROGRAMADO\n",
      "['banco ok']\n",
      "['PAGTO 15.02 - PRIO 61.xls']\n",
      "C:/Users/ojgomes/Documents/Automação Rent/2 - FEVEREIRO/2 - FEVEREIRO\\15.02\\PROGRAMADO\\086-060-150222-ALU-01\\PROGRAMADO\\banco ok\n",
      "[]\n",
      "['ANA - B40390 (3).pdf', 'ANA - B40390 FRANQ ALUGUEL (2).pdf', 'ANA - B40390.pdf', 'AND - B02000.pdf', 'APD - B04250.pdf', 'ASP - B08970 FRANQ ALUGUEL.pdf', 'BBH - B04140.pdf', 'BCG - B06480.pdf', 'BCP - B40070 FRANQ ALUGUEL.pdf', 'D1D - B00580.pdf', 'DCR - B09630 FRANQ ALUGUEL.PDF', 'DSE - B20700.pdf', 'FCR - B11140 (2).pdf', 'FCR - B11140.pdf', 'FES - B05340.pdf', 'GBM - B10870.PDF', 'GOS - B05680.pdf', 'GPS - B06510 FRANQ ALUGUEL.pdf', 'GS2 - B01730.pdf', 'GSB - B01890.PDF', 'INT - B00280.pdf', 'IPD - B04490 (2).pdf', 'IPD - B04490.pdf', 'JFI - B04240.pdf', 'LAA - B02030 (2).pdf', 'LAA - B02030.pdf', 'LDA - B05030 FRANQ ALUGUEL (2).pdf', 'MAL - B04230 FRANQ ALUGUEL.pdf', 'MCS - B09390 FRANQ ALUGUEL.pdf', 'MCZ - B40480 2.pdf', 'MCZ - B40480.pdf', 'MDW - B40060 (2).PDF', 'MDW - B40060.PDF', 'MKC - B00410.PDF', 'MMS - B06310 FRANQ ALUGUEL.pdf', 'MNS - B05950 FRANQ ALUGUEL (2).pdf', 'MNS - B05950 FRANQ ALUGUEL (3).pdf', 'MNS - B05950 FRANQ ALUGUEL 2.pdf', 'MNS - B05950 FRANQ ALUGUEL.pdf', 'MOO - B02110.pdf', 'MOX - B04390 FRANQ ALUGUEL.pdf', 'NS2 - B06420 (2).pdf', 'NS2 - B06420 - VERIF ELE.pdf', 'NS2 - B06420 - VERIF ELETRONICO.pdf', 'NSC - B10910 FRANQ ALUGUEL.pdf', 'PPI - B01280.pdf', 'PSA - B06690 (2).pdf', 'PSA - B06690.pdf', 'RD2 - B08290.pdf', 'RDS - B08280.pdf', 'REC - B60050.pdf', 'RMR - B09460 (2).pdf', 'RMR - B09460.pdf']\n",
      "C:/Users/ojgomes/Documents/Automação Rent/2 - FEVEREIRO/2 - FEVEREIRO\\15.02\\PROGRAMADO\\086-060-150222-ALU-02\n",
      "[]\n",
      "['086-060-150222-ALU-02 - BANCO.pdf', 'AVO - B0081 2022-01-Rel Desp- MC Donalds- Itaim-166.pdf', 'AVO - B0081 2022-01-Rel Desp- MC Donalds- SMG-1185.pdf', 'AVO - B0081.pdf', 'E-MAIL LOTE FORMATADO.pdf', 'PAGTO 15.02 - ELETRONICO PRIO 1.xls', 'REEMBOLSO IPTU 2022 - ARK.pdf']\n",
      "C:/Users/ojgomes/Documents/Automação Rent/2 - FEVEREIRO/2 - FEVEREIRO\\15.02\\PROGRAMADO\\086-060-150222-ALU-03\n",
      "['PROGRAMADO']\n",
      "['086-060-150222-ALU-03 - banco.pdf', 'BANCO 15.02.pdf', 'e-mail lote formatado.pdf']\n",
      "C:/Users/ojgomes/Documents/Automação Rent/2 - FEVEREIRO/2 - FEVEREIRO\\15.02\\PROGRAMADO\\086-060-150222-ALU-03\\PROGRAMADO\n",
      "[]\n",
      "['CSS - B70280 - FRANQ - PAGAR V2 - LANÇAR ESTORNO.pdf', 'PAGTO 15.02 - PRIO 64.xls', 'STB - B01700 - VERIF LANÇAMENTOS.pdf']\n",
      "C:/Users/ojgomes/Documents/Automação Rent/2 - FEVEREIRO/2 - FEVEREIRO\\15.02\\PROGRAMADO\\086-060-150222-ALU-04\n",
      "['banco ok']\n",
      "['086-060-150222-ALU-04 - banco.pdf', 'BANCO 1502.pdf', 'e-mail lote formatado.pdf']\n",
      "C:/Users/ojgomes/Documents/Automação Rent/2 - FEVEREIRO/2 - FEVEREIRO\\15.02\\PROGRAMADO\\086-060-150222-ALU-04\\banco ok\n",
      "['PROGRAMADO']\n",
      "[]\n",
      "C:/Users/ojgomes/Documents/Automação Rent/2 - FEVEREIRO/2 - FEVEREIRO\\15.02\\PROGRAMADO\\086-060-150222-ALU-04\\banco ok\\PROGRAMADO\n",
      "[]\n",
      "['ADM - B40870 - .pdf', 'ARI - B00610 - 15.02.2022 (1).pdf', 'BNH - B09360 FRANQ ALUGUEL.PDF', 'BSB - B09470 FRANQ ALUEL.pdf', 'BSL - B06440.PDF', 'BSN - B70020 FRANQ ALUGUEL.pdf', 'BSP - B01880.PDF', 'BUD - B06130 (2).pdf', 'BUD - B06130.pdf', 'BVS - B09450 FRANQ ALUGUEL.PDF', 'BWL - B02770 FRANQ ALUGUEL (2).PDF', 'BWL - B02770 FRANQ ALUGUEL.PDF', 'CAR - B40260.pdf', 'CGS - B06670.pdf', 'CNO - B70030 FRANQ ALUGUEL.pdf', 'COT - B02710.pdf', 'CRR - B20830 FRANQ ALUGUEL.pdf', 'CSC - B01690 (2).pdf', 'CSC - B01690 (3).pdf', 'MCS - B09390 FRANQ ALUGUEL.pdf', 'OPM - B11290 (2).pdf', 'OPR - B60030 FRANQ ALUGUEL.pdf', 'OPS - B40500 (2).pdf', 'OSA - B00520.pdf', 'PAGTO 15.02 - PRIO 62.xls', 'PAL - B04660 FRANQ ALUGUEL.pdf', 'PC7 - B03490 (2).pdf', 'PCD - B06390 FRANQ ALUGUEL.PDF', 'PCS - B03910.pdf', 'PLS - B50110 FRANQ ALUGUEL (3).pdf', 'PLS - B50110 FRANQ ALUGUEL.pdf', 'PSU - B08520 FRANQ ALUGUEL.PDF', 'PTY - B40620.pdf', 'RAM - B40350 - 15.02 71.326\\xa0,74 BANCO OK.pdf', 'RAP - B00660.pdf', 'RBD - B20840 (2).pdf', 'RBD - B20840.pdf', 'S3A - B07710.pdf', 'SCX - B08270 FRANQ ALUGUEL.pdf', 'SIT - B04670 FRANQ ALUGUEL.pdf', 'SMA - B05350.pdf', 'SPC - B07570.pdf', 'SSH - B08240.pdf', 'SSJ - B06260 - .pdf', 'SSV - B09530 FRANQ ALUGUEL.pdf', 'SVI - B03170 (2).PDF', 'SVI - B03170 2.PDF', 'TOP - B03250.pdf']\n",
      "C:/Users/ojgomes/Documents/Automação Rent/2 - FEVEREIRO/2 - FEVEREIRO\\15.02\\PROGRAMADO\\086-060-150222-ALU-05\n",
      "['BANCO OK']\n",
      "['086-060-150222-ALU-05 - BANCO.pdf', 'BANCO 1502.pdf', 'e-mail lote formatado.pdf', 'PAGTO 15.02 - PRIO 63.xls']\n",
      "C:/Users/ojgomes/Documents/Automação Rent/2 - FEVEREIRO/2 - FEVEREIRO\\15.02\\PROGRAMADO\\086-060-150222-ALU-05\\BANCO OK\n",
      "['aPROCESSAR', 'OK']\n",
      "[]\n",
      "C:/Users/ojgomes/Documents/Automação Rent/2 - FEVEREIRO/2 - FEVEREIRO\\15.02\\PROGRAMADO\\086-060-150222-ALU-05\\BANCO OK\\aPROCESSAR\n",
      "[]\n",
      "[]\n",
      "C:/Users/ojgomes/Documents/Automação Rent/2 - FEVEREIRO/2 - FEVEREIRO\\15.02\\PROGRAMADO\\086-060-150222-ALU-05\\BANCO OK\\OK\n",
      "[]\n",
      "['AAB - B05080 - BANCO OK.pdf', 'AMK - B06010 FRANQ PAG V2 - BANCO OK.pdf', 'ANA - B40390 FRANQ ALUGUEL - LANÇAR -0,06.pdf', 'AVR - B91570 - BANCO OK.pdf', 'BA3 - B60040 FRANQ ALUGUEL - BANCO OK.pdf', 'BH2 - B0356 - 77.959 ,11  BANCO OK.pdf', 'BMR - B10250 - FALTA VALOR, FAVOR PINTAR.pdf', 'BPA - B02970 - 3 BOLETOS - BANCO OK.pdf', 'BTS - B7042 - BANCO OK.pdf', 'CAK - B0592.PDF', 'CRA - B0373 - BANCO OK.pdf', 'CVK - 15.02 - BANCO OK.pdf', 'CVK - B07290 - VERIF LANÇAMENTO.pdf', 'FCR - B11140 - BANCO OK.pdf', 'FRA - B05280 - LANÇADO 12,85 INCORRETAMENTE.pdf', 'FRB - B08830 FRANQ PAGAR V2 - BANCO OK.pdf', 'GPA - B40020 - LANÇAR ESTORNO.pdf', 'LGT - B0113 (2) - BANCO OK.pdf', 'LGT - B0113 - BANCO OK.pdf', 'MCZ - B4048 - BANCO OK.pdf', 'MNS - B05950 FRANQ ALUGUEL (4) - BANCO OK.pdf', 'MTW - B11070 - VERIF.pdf', 'PGB - B40010 - LANÇAR FP.pdf', 'PGD - B00900 BOLETO SEM DESCRIÇÃO DE PGTO.pdf', 'PK2 - B0523 - 60.698 ,26 - BANCO OK.pdf', 'PKS - B0512 - 189.704 ,62 - BANCO OK.pdf', 'PPG - BANCO OK.pdf', 'RMF - B40180 FRANQ ALUGUEL.pdf', 'ROD - B0731 (2) - BANCO OK.pdf', 'ROD - B0731 - BANCO OK.pdf', 'RS2 - B40710 - BANCO OK.pdf', 'RSB - B06090 (2) - BANCO OK.pdf', 'RSB - B06090 (3) - BANCO OK.pdf', 'RSB - B06090 BANCO OK.pdf', 'SBA - B02990 BANCO OK.pdf', 'SBB - B09310 FRANQ ALUGUEL.pdf', 'SBV - B01840.pdf', 'SCJ - B04050 (2).pdf', 'SCJ - B04050.pdf', 'SCO - B04650 FRANQ ALUGUEL.PDF', 'SCT - B01230 (2).pdf', 'SCV - B07010 FRANQ ALUGUEL.pdf', 'SEC - B07140 FRANQ ALUGUEL.pdf', 'SIH - B06490 (2).pdf', 'SIH - B06490 (3).pdf', 'SIH - B06490.pdf', 'SNI - B04770.pdf', 'SNO - B08340 FRANQ ALUGUEL (2) BANCO OK.pdf', 'SNO - B08340 FRANQ ALUGUEL BANCO OK.pdf', 'SPR - B04090 - BANCO OK 50,00.pdf', 'SRM - B04070 (2).pdf', 'SRM - B04070 (3).pdf', 'SRM - B04070 2.pdf', 'SRM - B04070.pdf', 'SSC - B0089 COND LJS 058 059 - BANCO OK.pdf', 'SSL - B04100 FRANQ ALUGUEL.pdf', 'SSM - B06340.PDF', 'SSN - B01860 - BANCO OK.pdf', 'SSP - B0933.PDF', 'SST - B01590.pdf', 'SUS - B07410 FRANQ ALUGUEL.pdf', 'SVV - B04680 FRANQ ALUGUEL BANCO OK.pdf', 'TAM - B00620 - BANCO OK.pdf', 'TTE - B4045 2.pdf', 'TTE - B4045.pdf', 'UBR - B02800 FRANQ ALUGUEL.pdf', 'VOL.PDF', 'WLA - B03970 - banco ok.pdf', 'WOS - B0136 - BANCO OK.pdf', 'WOS - B01360 - BANCO OK.pdf', 'WPA - B01330 - BANCO OK.pdf']\n"
     ]
    },
    {
     "name": "stdout",
     "output_type": "stream",
     "text": [
      "C:/Users/ojgomes/Documents/Automação Rent/2 - FEVEREIRO/2 - FEVEREIRO\\15.02\\PROGRAMADO\\086-060-150222-ALU-06\n",
      "[]\n",
      "['086-060-150222-ALU-06 - BANCO.pdf', 'DAS - B20550 - NAO ENCONTREI.pdf', 'E-MAIL LOTE FORMATADO.pdf', 'FGV - B40050 - BANCO OK FALTA 0,01.pdf', 'GSC - B00970 - VERIF.pdf', 'PAGTO 15.02 - PRIO 65.xls', 'PTG - BANCO OK.pdf', 'SVL - B01930.pdf', 'TAM - B00620.pdf', 'TAN - B04520 12.443 ,09 BANCO OK.pdf']\n",
      "C:/Users/ojgomes/Documents/Automação Rent/2 - FEVEREIRO/2 - FEVEREIRO\\15.02\\PROGRAMADO\\086-060-150222-URGE-09\n",
      "[]\n",
      "['086-060-150222-URGE-09 - BANCO.pdf', 'BANCO 1502.pdf', 'BOLETO IPTU 2022 - ZUQ - BANCO OK.pdf', 'E-MAIL LOTE FORMATADO.pdf', 'PAGTO 15.02 - IMPOSTO PRIO 1.xls']\n",
      "C:/Users/ojgomes/Documents/Automação Rent/2 - FEVEREIRO/2 - FEVEREIRO\\16.02\n",
      "['ELETRONICO', 'ENVIAR FRANQ', 'ERRO BANCO', 'LANÇAR', 'PAGO', 'PROGRAMADO', 'VERIFICAR CLASSIFICAÇÃO']\n",
      "[]\n",
      "C:/Users/ojgomes/Documents/Automação Rent/2 - FEVEREIRO/2 - FEVEREIRO\\16.02\\ELETRONICO\n",
      "[]\n",
      "['AVD - B20540 PAGO ELETRONICO.pdf']\n",
      "C:/Users/ojgomes/Documents/Automação Rent/2 - FEVEREIRO/2 - FEVEREIRO\\16.02\\ENVIAR FRANQ\n",
      "['ENVIADO']\n",
      "['AFZ - B09700 ENVIAR FRANQ (2).pdf', 'AFZ - B09700 ENVIAR FRANQ (3).pdf', 'AFZ - B09700 ENVIAR FRANQ.pdf', 'BSG - B07500 ENVIAR FRANQ.pdf', 'OPR - B60030 ENVIAR FRANQ.pdf', 'PAF - B09050 ENVIAR FRANQ  2.pdf', 'PAF - B09050 ENVIAR FRANQ.pdf', 'SIT - B04670 ENVIAR FRANQ.pdf', 'SLM - B70100 ENVIAR FRANQ 2.pdf', 'SLM - B70100 ENVIAR FRANQ.pdf']\n",
      "C:/Users/ojgomes/Documents/Automação Rent/2 - FEVEREIRO/2 - FEVEREIRO\\16.02\\ENVIAR FRANQ\\ENVIADO\n",
      "[]\n",
      "[]\n",
      "C:/Users/ojgomes/Documents/Automação Rent/2 - FEVEREIRO/2 - FEVEREIRO\\16.02\\ERRO BANCO\n",
      "[]\n",
      "['BOD - B0917.pdf', 'BOD - JA BAIXADO.pdf']\n",
      "C:/Users/ojgomes/Documents/Automação Rent/2 - FEVEREIRO/2 - FEVEREIRO\\16.02\\LANÇAR\n",
      "['PROCESSAR', 'VERIFICAR ELETRONICO']\n",
      "[]\n",
      "C:/Users/ojgomes/Documents/Automação Rent/2 - FEVEREIRO/2 - FEVEREIRO\\16.02\\LANÇAR\\PROCESSAR\n",
      "[]\n",
      "[]\n",
      "C:/Users/ojgomes/Documents/Automação Rent/2 - FEVEREIRO/2 - FEVEREIRO\\16.02\\LANÇAR\\VERIFICAR ELETRONICO\n",
      "[]\n",
      "['PAF - B09050 FRANQ ALUGUEL VERIF ELETRONICO.pdf']\n",
      "C:/Users/ojgomes/Documents/Automação Rent/2 - FEVEREIRO/2 - FEVEREIRO\\16.02\\PAGO\n",
      "[]\n",
      "['SCO - B04650 FRANQ ALUGUEL (6) BOLETO PAGO DIA 15.pdf']\n",
      "C:/Users/ojgomes/Documents/Automação Rent/2 - FEVEREIRO/2 - FEVEREIRO\\16.02\\PROGRAMADO\n",
      "['086-060-160222-ALU-01', '086-060-160222-ALU-02', '086-060-160222-ALU-03', '086-060-160222-ALU-04']\n",
      "[]\n",
      "C:/Users/ojgomes/Documents/Automação Rent/2 - FEVEREIRO/2 - FEVEREIRO\\16.02\\PROGRAMADO\\086-060-160222-ALU-01\n",
      "['banco ok']\n",
      "['086-060-160222-ALU-01 BANCO.pdf', '086-060-160222-ALU-01 EMAIL.pdf', 'BANCO 1602.pdf', 'PAGTO 16.02 - PRIO 61.xls']\n",
      "C:/Users/ojgomes/Documents/Automação Rent/2 - FEVEREIRO/2 - FEVEREIRO\\16.02\\PROGRAMADO\\086-060-160222-ALU-01\\banco ok\n",
      "[]\n",
      "['CBD - 16.02.pdf', 'IN2 - B01420 (2).pdf', 'IN2 - B01420 (5).pdf', 'IN2 - B01420 3.pdf', 'IN2 - B01420.pdf', 'INT - B00280 (2).pdf', 'INT - B00280 (3).pdf', 'INT - B00280 (4) - LANÇAR 1218,66.pdf', 'INT - B00280.pdf', 'NAS - B05440.pdf', 'PTG - 16.02.pdf', 'SAR - B20530 L.pdf', 'SCO - B04650 FRANQ ALUGUEL (3) L.pdf', 'SCO - B04650 FRANQ ALUGUEL (4) L.pdf', 'SCO - B04650 FRANQ ALUGUEL L.pdf', 'SEP - B10550.pdf', 'SLM - B70100 L.pdf', 'SMC - B04060 L.pdf', 'SOM - 16.02 (2).pdf', 'SOM - 16.02.pdf']\n",
      "C:/Users/ojgomes/Documents/Automação Rent/2 - FEVEREIRO/2 - FEVEREIRO\\16.02\\PROGRAMADO\\086-060-160222-ALU-02\n",
      "[]\n",
      "['086-060-160222-ALU-02 BANCO.pdf', '086-060-160222-ALU-02 EMAIL.pdf', 'PAGTO 16.02 - ELETRONICO PRIO 1.xls']\n",
      "C:/Users/ojgomes/Documents/Automação Rent/2 - FEVEREIRO/2 - FEVEREIRO\\16.02\\PROGRAMADO\\086-060-160222-ALU-03\n",
      "[]\n",
      "['086-060-160222-ALU-03 BANCO.pdf', '086-060-160222-ALU-03 EMAIL.pdf', 'banco 1602.pdf', 'BRU - B0262 (2).pdf', 'BVL - B0273 1.pdf', 'BVL - B0273.pdf', 'IBE - B1059.pdf', 'JSO - 022022 - banco ok 21598,02.pdf', 'PAGTO 16.02 PRIO 62.xls', 'PBA - B09690 L - LANÇAR 3.716,93 - BANCO OK.pdf', 'RCL - B0532 - 5062,19.pdf', 'SGS_BOLETO MC CAFÉ - CONDO E FPP - banco ok.pdf', \"SGS_BOLETO MC DONALD'S - CONDOMÍNIO - banco ok.pdf\", 'SGS_BOLETO MC SORVETE - CONDO E FPP - banco ok.pdf', 'SGS_BOLETO MC_QUIOSQUE - CONDOMÍNIO banco ok.pdf']\n",
      "C:/Users/ojgomes/Documents/Automação Rent/2 - FEVEREIRO/2 - FEVEREIRO\\16.02\\PROGRAMADO\\086-060-160222-ALU-04\n",
      "[]\n",
      "['086-060-160222-ALU-04 banco.pdf', '086-060-160222-ALU-04 email.pdf', 'AID - B0197 - AMM - banco ok (2).pdf', 'AID - B0197 - AMM - banco ok.pdf', 'AID - B0197 QUIOSQUE - AMM banco ok.pdf', 'PAGTO 16.02 PRIO 63.xls']\n",
      "C:/Users/ojgomes/Documents/Automação Rent/2 - FEVEREIRO/2 - FEVEREIRO\\16.02\\VERIFICAR CLASSIFICAÇÃO\n",
      "[]\n",
      "['Filial(1)_Contrato(1150)_Loja(150)_NumBoleto(5).pdf']\n",
      "C:/Users/ojgomes/Documents/Automação Rent/2 - FEVEREIRO/2 - FEVEREIRO\\17.02\n",
      "['ENVIAR FRANQ', 'LANÇAR', 'PROGRAMADO']\n",
      "['TIE - B11320 - DUPLICIDADE.pdf']\n",
      "C:/Users/ojgomes/Documents/Automação Rent/2 - FEVEREIRO/2 - FEVEREIRO\\17.02\\ENVIAR FRANQ\n",
      "['ENVIADO']\n",
      "[]\n",
      "C:/Users/ojgomes/Documents/Automação Rent/2 - FEVEREIRO/2 - FEVEREIRO\\17.02\\ENVIAR FRANQ\\ENVIADO\n",
      "[]\n",
      "['GCR - B40140 ENVIAR FRANQ (2).pdf', 'GCR - B40140 ENVIAR FRANQ (3).pdf', 'GCR - B40140 ENVIAR FRANQ.pdf', 'SCO - B04650 ENVIAR FRANQ (2).pdf', 'SCO - B04650 ENVIAR FRANQ (3).pdf', 'SCO - B04650 ENVIAR FRANQ.pdf', 'SUS - B07410 ENVIAR FRANQ.pdf', 'TUB - B09370 ENVIAR FRANQ.pdf', 'VSH - B08080 ENVIAR FRANQ.PDF']\n",
      "C:/Users/ojgomes/Documents/Automação Rent/2 - FEVEREIRO/2 - FEVEREIRO\\17.02\\LANÇAR\n",
      "[]\n",
      "[]\n",
      "C:/Users/ojgomes/Documents/Automação Rent/2 - FEVEREIRO/2 - FEVEREIRO\\17.02\\PROGRAMADO\n",
      "['086-060-170222-ALU-01', '086-060-170222-ALU-02', '086-060-170222-ALU-03', '086-060-170222-ALU-04']\n",
      "[]\n",
      "C:/Users/ojgomes/Documents/Automação Rent/2 - FEVEREIRO/2 - FEVEREIRO\\17.02\\PROGRAMADO\\086-060-170222-ALU-01\n",
      "[]\n",
      "['086-060-170222-ALU-01 banco.pdf', '086-060-170222-ALU-01 email.pdf', 'BOLETO IPTU 2022 - AFL - PARCELA 1 - MARIA LUCIA.pdf', 'PAGTO 17.02 PRIO 1 ELETRONICO.xls']\n",
      "C:/Users/ojgomes/Documents/Automação Rent/2 - FEVEREIRO/2 - FEVEREIRO\\17.02\\PROGRAMADO\\086-060-170222-ALU-02\n",
      "[]\n",
      "['086-060-170222-ALU-02 banco.pdf', '086-060-170222-ALU-02 email.pdf', 'PAGTO 17.02 PRIO 2 ELETRONICO.xls']\n",
      "C:/Users/ojgomes/Documents/Automação Rent/2 - FEVEREIRO/2 - FEVEREIRO\\17.02\\PROGRAMADO\\086-060-170222-ALU-03\n",
      "['BANCO OK', 'VERIF']\n",
      "['086-060-170222-ALU-03 banco.pdf', '086-060-170222-ALU-03 email.pdf', 'BANCO 1702.pdf', 'PAGTO 17.02 - PRIO 61.xls']\n",
      "C:/Users/ojgomes/Documents/Automação Rent/2 - FEVEREIRO/2 - FEVEREIRO\\17.02\\PROGRAMADO\\086-060-170222-ALU-03\\BANCO OK\n",
      "[]\n",
      "['AIA - B05620.pdf', 'ALB - B46400 (2).pdf', 'ALB - B46400.pdf', 'BAM - B06640 FRANQ ALUGUEL (2).pdf', 'BAM - B06640 FRANQ ALUGUEL.pdf', 'BST - B08950 FRANQ ALUGUEL.pdf', 'DPT -17.02.pdf', 'DSE - B20700.pdf', 'NPN - B40030.pdf', 'PSU - B08520 FRANQ ALUGUEL.PDF', 'PTY - B40620 (2).pdf', 'PTY - B40620.pdf', 'RCL - B05320.pdf', 'SAV - B03030.pdf', 'SMS - B91170.pdf', 'TIE - B11320 (2).pdf', 'TIE - B11320 (3).pdf', 'TIE - B11320 (4) - LANÇAR 549,36.pdf', 'VAU - B11310 (2).pdf', 'VAU - B11310 (3).pdf', 'VAU - B11310 (4).pdf', 'VAU - B11310 (5) - DUPLICIDADE.pdf', 'VAU - B11310.pdf', 'VDC - 17.02 (3).pdf', 'VDC - 17.02 (4).pdf']\n",
      "C:/Users/ojgomes/Documents/Automação Rent/2 - FEVEREIRO/2 - FEVEREIRO\\17.02\\PROGRAMADO\\086-060-170222-ALU-03\\VERIF\n",
      "[]\n",
      "[]\n",
      "C:/Users/ojgomes/Documents/Automação Rent/2 - FEVEREIRO/2 - FEVEREIRO\\17.02\\PROGRAMADO\\086-060-170222-ALU-04\n",
      "[]\n",
      "['086-060-170222-ALU-04 banco.pdf', '086-060-170222-ALU-04 email.pdf', 'BANCO 1702.pdf', 'BOD - B0917 - BANCO OK.pdf', 'PAGTO 17.02 - PRIO 62.xls', 'VDC - 17.02 (2) 16.093 ,17.pdf', 'VDC - 17.02 6174,89.pdf']\n",
      "C:/Users/ojgomes/Documents/Automação Rent/2 - FEVEREIRO/2 - FEVEREIRO\\18.02\n",
      "['AGUARDANDO RETORNO', 'CARREFOUR', 'DESMEMBRAR', 'ENVIAR FRANQ', 'erro banco', 'GPA', 'PROCESSAR', 'PROGRAMADO']\n",
      "['2022-02-14T13_53_26+00_00Mc_1373.pdf', '2022-02-14T14_18_11+00_00MC_01.pdf', '2022-02-14T14_46_26+00_00Mc_1373.pdf', '2022-02-14T16_51_03+00_00Mc_1373.pdf']\n",
      "C:/Users/ojgomes/Documents/Automação Rent/2 - FEVEREIRO/2 - FEVEREIRO\\18.02\\AGUARDANDO RETORNO\n",
      "['FABIANE']\n",
      "['BOLETO IPTU 2022 - ABA.pdf', 'Boleto_ARCOS DOURADOS COM_1446,50.pdf', 'Mc_boletos_04 - AGUARDANDO RETORNO.pdf']\n",
      "C:/Users/ojgomes/Documents/Automação Rent/2 - FEVEREIRO/2 - FEVEREIRO\\18.02\\AGUARDANDO RETORNO\\FABIANE\n",
      "[]\n",
      "[]\n",
      "C:/Users/ojgomes/Documents/Automação Rent/2 - FEVEREIRO/2 - FEVEREIRO\\18.02\\CARREFOUR\n",
      "['ATUALIZAR']\n",
      "[]\n",
      "C:/Users/ojgomes/Documents/Automação Rent/2 - FEVEREIRO/2 - FEVEREIRO\\18.02\\CARREFOUR\\ATUALIZAR\n",
      "['Ñ ENCONTRADO']\n",
      "['210000711 - Boleto - 10.02.2022.pdf', '210000711 DEMONSTRATIERCIO31.01.2022_20220210142333.075_X.PDF.pdf', '210000712 - Boleto - 10.02.2022.pdf', '210000712 - Demonstrativo - 10.02.2022.pdf', '210001355 - Boleto - 10.02.2022.pdf', '210001355 DEMONSIO31.01.2022_20220210142631.616_X.PDF.pdf', '210001356 - Boleto - 10.02.2022.pdf', '210001356 DEMONSTRA31.01.2022_20220210142430.654_X.PDF.pdf', '210001364 - Boleto - 10.02.2022.pdf', '210001364 DEMONS31.01.2022_20220210142319.641_X.PDF.pdf', '210001365 - Boleto - 10.02.2022.pdf', '210001365 - Demonstrativo - 10.02.2022.pdf', '210001366 - Boleto - 10.02.2022.pdf', '210001366 .pdf', '210001723 - Boleto - 10.02.2022.pdf', '210001723.pdf']\n",
      "C:/Users/ojgomes/Documents/Automação Rent/2 - FEVEREIRO/2 - FEVEREIRO\\18.02\\CARREFOUR\\ATUALIZAR\\Ñ ENCONTRADO\n",
      "[]\n",
      "['200000077 - Boleto - 10.02.2022.pdf', '200000077 - Demonstrativo - 10.02.2022.pdf', '200000153 - Boleto - 10.02.2022.pdf', '200000153 DEMONSTRATIV1.01.2022_20220210142654.212_X.PDF.pdf', '210000197 - Boleto - 15.02.2022.pdf', '210000197.pdf', '210000274 - Boleto - 10.02.2022.pdf', '210000274 - Demonstrativo - 10.02.2022.pdf', '210000704 - Boleto - 10.02.2022.pdf', '210000704 DEMONSTRATIVO_ARCCIO31.01.2022_20220210142454.839_X.PDF.pdf']\n",
      "C:/Users/ojgomes/Documents/Automação Rent/2 - FEVEREIRO/2 - FEVEREIRO\\18.02\\DESMEMBRAR\n",
      "['ENVIADO']\n",
      "[]\n",
      "C:/Users/ojgomes/Documents/Automação Rent/2 - FEVEREIRO/2 - FEVEREIRO\\18.02\\DESMEMBRAR\\ENVIADO\n",
      "[]\n",
      "['CUB - B1045.pdf', 'SJM - B08560 DESMEMBRAR.pdf']\n",
      "C:/Users/ojgomes/Documents/Automação Rent/2 - FEVEREIRO/2 - FEVEREIRO\\18.02\\ENVIAR FRANQ\n",
      "['ENVIADO']\n",
      "[]\n",
      "C:/Users/ojgomes/Documents/Automação Rent/2 - FEVEREIRO/2 - FEVEREIRO\\18.02\\ENVIAR FRANQ\\ENVIADO\n",
      "[]\n",
      "['ASV - B5017.pdf', 'ASV - B50170 ENVIAR FRANQ.pdf', 'COL - B07250 ENVIAR FRNQ.PDF', 'CRA - B03730 ENVIAR FRANQ.pdf', 'GED - B07590 ENVIAR FRANQ.PDF', 'PEL - B09040 ENVIAR FRANQ 1.pdf', 'PEL - B09040 ENVIAR FRANQ.pdf', 'PGD - B0090.pdf']\n",
      "C:/Users/ojgomes/Documents/Automação Rent/2 - FEVEREIRO/2 - FEVEREIRO\\18.02\\erro banco\n",
      "[]\n",
      "['GIB 18.02.pdf']\n",
      "C:/Users/ojgomes/Documents/Automação Rent/2 - FEVEREIRO/2 - FEVEREIRO\\18.02\\GPA\n",
      "[]\n",
      "['2022-02-11T11_58_24+00_0042591651000143.PDF', '2022-02-11T11_58_32+00_0042591651000143.PDF', '2022-02-11T11_58_37+00_0042591651000143.PDF', '2022-02-11T11_58_44+00_0042591651000143.PDF', '2022-02-11T11_58_50+00_0042591651000143.PDF', '2022-02-11T11_58_55+00_0042591651000143.PDF', '2022-02-11T12_20_10+00_0042591651000143.PDF', '2022-02-11T12_20_12+00_0042591651000143.PDF', '2022-02-11T12_20_14+00_0042591651000143.PDF', '2022-02-11T12_20_17+00_0042591651000143.PDF', '2022-02-11T12_20_36+00_0042591651000143.PDF', '2022-02-11T12_20_39+00_0042591651000143.PDF', '2022-02-11T12_20_41+00_0042591651000143.PDF', '2022-02-11T12_20_42+00_0042591651000143.PDF', '2022-02-11T12_20_44+00_0042591651000143.PDF', '2022-02-11T12_20_52+00_0042591651000143.PDF', '2022-02-11T12_26_42+00_0042591651000143.PDF', '2022-02-11T16_15_31+00_0042591651000143.PDF', '2022-02-11T16_15_34+00_0042591651000143.PDF', '2022-02-11T16_15_41+00_0042591651000143.PDF', '2022-02-11T16_15_45+00_0042591651000143.PDF', '2022-02-11T16_15_48+00_0042591651000143.PDF', '2022-02-11T16_15_53+00_0042591651000143.PDF', '2022-02-11T16_15_54+00_0042591651000143.PDF', '2022-02-11T16_16_10+00_0042591651000143.PDF', '2022-02-11T16_16_49+00_0042591651000143.PDF', '2022-02-11T16_16_51+00_0042591651000143.PDF', '2022-02-11T16_16_53+00_0042591651000143.PDF', '2022-02-11T16_16_58+00_0042591651000143.PDF', '2022-02-11T16_17_00+00_0042591651000143.PDF', '2022-02-11T16_17_03+00_0042591651000143.PDF', '2022-02-11T16_18_16+00_0042591651000143.PDF', '2022-02-14T13_55_29+00_0042591651000143.PDF']\n",
      "C:/Users/ojgomes/Documents/Automação Rent/2 - FEVEREIRO/2 - FEVEREIRO\\18.02\\PROCESSAR\n",
      "[]\n",
      "[]\n",
      "C:/Users/ojgomes/Documents/Automação Rent/2 - FEVEREIRO/2 - FEVEREIRO\\18.02\\PROGRAMADO\n",
      "['086-060-180222-ALU-01', '086-060-180222-ALU-02', '086-060-180222-ALU-03', '086-060-180222-URGE-02']\n",
      "[]\n",
      "C:/Users/ojgomes/Documents/Automação Rent/2 - FEVEREIRO/2 - FEVEREIRO\\18.02\\PROGRAMADO\\086-060-180222-ALU-01\n",
      "['banco ok']\n",
      "['086-060-180222-ALU-01 email.pdf', '086-060-180222-ALU-01 lote formatado.pdf', 'banco 1802.pdf', 'PAGTO 18.02 - PRIO 61.xls']\n",
      "C:/Users/ojgomes/Documents/Automação Rent/2 - FEVEREIRO/2 - FEVEREIRO\\18.02\\PROGRAMADO\\086-060-180222-ALU-01\\banco ok\n",
      "[]\n",
      "['AVD - B20540.pdf', 'BCA - B09600 FRANQ ALUGUEL.pdf', 'BSC - REEMISÃO 18.02.PDF', 'BVE - B03740.PDF', 'CRA - B03730 FRANQ ALUGUEL.pdf', 'DRG - B20110 (2).pdf', 'DRG - B20110.pdf', 'EXI - B11150.PDF', 'EXT - B00980 (2) L.PDF', 'EXT - B00980 L.PDF', 'GNG - 1802.pdf', 'GRU - B00210 L.PDF', 'GT2 (2).pdf', 'GT2.pdf', 'LAC - 18.02 (2).pdf', 'LAC - 18.02.pdf', 'MIL - B00640 (2) L.PDF', 'MIL - B00640 (3) L.PDF', 'MIL - B00640 (4) L.PDF', 'MIL - B00640 (5) L.PDF', 'MIL - B00640 L.PDF', 'MOC - B04280.pdf', 'OUS - 18.02.pdf', 'OUS - B40720 L.pdf', 'PCD - B06390 FRANQ ALUGUEL L.PDF', 'PDC - 18.02.pdf', 'PES - B01250.PDF', 'PIC - B07260.PDF', 'RAF - B40270 FRANQ ALUGUEL (2).PDF', 'RAF - B40270 FRANQ ALUGUEL (3).PDF', 'RAF - B40270 FRANQ ALUGUEL.PDF', 'RAP- Mccafé - Vcto 18-02-2022.pdf', 'RIN - 18.02 (2).PDF', 'RIN - 18.02 (3).PDF', 'RIN - 20.02.PDF', 'RS2 - B40710 (13).PDF', 'RS2 - B40710 (14).PDF', 'RS2 - B40710 (16).PDF', 'RS2 - B40710 (2).PDF', 'RS2 - B40710 (21).PDF', 'RS2 - B40710 (3).PDF', 'RS2 - B40710 (4).PDF', 'RS2 - B40710 (6).PDF', 'RS2 - B40710 (8).PDF', 'RS2 - B40710 (9).PDF', 'RS2 - B40710.PDF', 'RSP - B0647 - Alug. Comp. Comp. 01.2022 Venc. 02.2022.pdf', 'RSP - B0647 - FPP Comp. 01.2022 Venc. 02.2022.pdf', 'RSP - B0647. - Cond. Comp. 01.2022 Venc. 02.2022.pdf', 'SCN - 18.02 (2).pdf', 'SCN - 18.02 (3).pdf', 'SCN - 18.02.pdf', 'SCZ - 1802.pdf', 'SEN - B11670.pdf', 'SJU - 18.02.pdf', 'SMI - 18.02.pdf', 'SMO - 18.02.pdf', 'TAP 3001A - Mc Donalds 18.02.pdf', 'VCP - 18.02.pdf', 'WLA - B03970.pdf', 'WPA - B01330.pdf', 'ZUM - 18.02 (2).pdf', 'ZUM - 18.02.pdf']\n",
      "C:/Users/ojgomes/Documents/Automação Rent/2 - FEVEREIRO/2 - FEVEREIRO\\18.02\\PROGRAMADO\\086-060-180222-ALU-02\n",
      "[]\n",
      "['086-060-180222-ALU-02 email.pdf', '086-060-180222-ALU-02 lote formatado.pdf', 'PAGTO 18.02 - ELETRONICO PRIO 1.xls', 'REEMBOLSO IPTU 2022 - LDR.pdf']\n",
      "C:/Users/ojgomes/Documents/Automação Rent/2 - FEVEREIRO/2 - FEVEREIRO\\18.02\\PROGRAMADO\\086-060-180222-ALU-03\n",
      "[]\n",
      "['086-060-180222-ALU-03 email.pdf', '086-060-180222-ALU-03 lote formatado.pdf', 'ASV - B50170 FRANQ - BOLETO SEM DESCRIÇÃO DE PGTO.PDF', 'banco 1802.pdf', 'banco ok RCH VENC 1802 ALUGUEL ANGELONI - 587743 MC DONALDS LJ 20.PDF', 'BVL - 21.02 4.165\\xa0,69 banco ok.pdf', 'EMX  - B40730 (3) - BOLETO SEM DESCRIÇÃO DE PGTO.PDF', 'EMX  - B40730 - BOLETO SEM DESCRIÇÃO DE PGTO.PDF', 'ICG - B05720 - BOLETO SEM DESCRIÇÃO DE PGTO.PDF', 'OSC - B01040 L 1.446 ,50 banco ok.PDF', 'PAGTO 18.02 - PRIO 62.xls', 'RIN - 18.02 - LANÇAR -148,67 - banco ok.PDF']\n",
      "C:/Users/ojgomes/Documents/Automação Rent/2 - FEVEREIRO/2 - FEVEREIRO\\18.02\\PROGRAMADO\\086-060-180222-URGE-02\n",
      "[]\n",
      "['086-060-180222-URGE-02 email.pdf', '086-060-180222-URGE-02 lote formatado.pdf', 'BOLETO IPTU 2022 - FLI.pdf', 'PAGTO 18.02 - IMPOSTO.xls']\n",
      "C:/Users/ojgomes/Documents/Automação Rent/2 - FEVEREIRO/2 - FEVEREIRO\\21.02\n",
      "['AGUARDANDO RESPOSTA', 'DESMEMBRAR', 'ENVIAR FRANQ', 'ERRO BANCO', 'PAGO', 'PROGRAMADO']\n",
      "[]\n",
      "C:/Users/ojgomes/Documents/Automação Rent/2 - FEVEREIRO/2 - FEVEREIRO\\21.02\\AGUARDANDO RESPOSTA\n",
      "[]\n",
      "['PSH - B08020 FRANQ ALUGUEL (5).pdf', 'PSH - B08020 FRANQ ALUGUEL 2.pdf']\n",
      "C:/Users/ojgomes/Documents/Automação Rent/2 - FEVEREIRO/2 - FEVEREIRO\\21.02\\DESMEMBRAR\n",
      "[]\n",
      "['MSH - B0803.pdf']\n",
      "C:/Users/ojgomes/Documents/Automação Rent/2 - FEVEREIRO/2 - FEVEREIRO\\21.02\\ENVIAR FRANQ\n",
      "['ENVIADO', 'VERIF']\n",
      "['ASV - B50170 ENVIAR FRANQ.PDF', 'CNS - B0900.pdf', 'PAL - B04660 ENVIAR FRANQ.pdf', 'PCD - B06390 ENVIAR FRANQ.PDF', 'PRU - B08900 ENVIAR FRANQ.pdf', 'PSH - B0802 (2).pdf', 'PSH - B0802 (3).pdf', 'PSH - B0802 (4).pdf', 'PSH - B0802 (5).pdf', 'PSH - B0802.pdf', 'PSH - B08020 ENVIAR FRANQ (2) 2.pdf', 'SBF - B0931.pdf', 'UB2 - 21.02.pdf']\n",
      "C:/Users/ojgomes/Documents/Automação Rent/2 - FEVEREIRO/2 - FEVEREIRO\\21.02\\ENVIAR FRANQ\\ENVIADO\n",
      "[]\n",
      "['ASV - B50170 ENVIAR FRANQ.PDF', 'CAX - B05220 ENVIAR FRANQ.pdf', 'CEP - B01960 ENVIAR FRANQ.pdf', 'CNS - B09000 ENVIAR FRANQ.pdf', 'FTA - B0711 PARCELA IPTU-2020.pdf', 'LDA - B05030 ENVIAR FRANQ.pdf', 'MCS - B09390 ENVIAR FRANQ.pdf', 'MNS - B05950 ENVIAR FRANQ (2).pdf', 'MNS - B05950 ENVIAR FRANQ (3).pdf', 'MNS - B05950 ENVIAR FRANQ.pdf', 'PCD - B06390 ENVIAR FRANQ.pdf', 'PFS - B95050 ENVIAR FRANQ.pdf', 'PIE - B03120 ENVIAR FRANQ (2).pdf', 'PIE - B03120 ENVIAR FRANQ.pdf', 'PRU - B08900 ENVIAR FRANQ.pdf', 'PSH - B08020 ENVIAR FRANQ (4).pdf', 'PSH - B08020 ENVIAR FRANQ (5).pdf', 'PSH - B08020 ENVIAR FRANQ (6).pdf', 'PSH - B08020 ENVIAR FRANQ 2.pdf', 'PSH - B08020 ENVIAR FRANQ.pdf', 'RAF - B40270 ENVIAR FRANQ.PDF', 'SBF - B09210 ENVIAR FRANQ.pdf', 'SVV - B04680 ENVIAR FRANQ (2).pdf', 'SVV - B04680 ENVIAR FRANQ (3).pdf', 'SVV - B04680 ENVIAR FRANQ (4).pdf', 'SVV - B04680 ENVIAR FRANQ.pdf', 'UB2 - B03900 ENVIAR FRANQ.pdf']\n",
      "C:/Users/ojgomes/Documents/Automação Rent/2 - FEVEREIRO/2 - FEVEREIRO\\21.02\\ENVIAR FRANQ\\VERIF\n",
      "[]\n",
      "[]\n"
     ]
    },
    {
     "name": "stdout",
     "output_type": "stream",
     "text": [
      "C:/Users/ojgomes/Documents/Automação Rent/2 - FEVEREIRO/2 - FEVEREIRO\\21.02\\ERRO BANCO\n",
      "['ENVIADO']\n",
      "[]\n",
      "C:/Users/ojgomes/Documents/Automação Rent/2 - FEVEREIRO/2 - FEVEREIRO\\21.02\\ERRO BANCO\\ENVIADO\n",
      "[]\n",
      "['ASH - B0194.pdf', 'BOLETO IPTU 2022 - ABA.pdf', 'BOLETO IPTU 2022 - DDD.pdf', 'BOLETO IPTU 2022 - NDR.pdf', 'BOLETO IPTU 2022 - NIG - n achei (1).pdf', 'BOLETO IPTU 2022 - NPN.pdf', 'BOLETO IPTU 2022 - TIA - PARCELA 1 L.pdf', 'EBA - B4056.pdf', 'JGS - B02660 (3).pdf', 'PSH - B08020 ALUGUEL FRANQ.pdf', 'SFL - B0624 (3) - JÁ BAIXADO.pdf']\n",
      "C:/Users/ojgomes/Documents/Automação Rent/2 - FEVEREIRO/2 - FEVEREIRO\\21.02\\PAGO\n",
      "[]\n",
      "['CAB - B0507 - PAGO EM 03.02.pdf', 'CAB - B05070 - PAGO 03.02.pdf', 'MNS - B05950 FRANQ ALUGUEL 2 - PAGO 15.02.pdf']\n",
      "C:/Users/ojgomes/Documents/Automação Rent/2 - FEVEREIRO/2 - FEVEREIRO\\21.02\\PROGRAMADO\n",
      "['086-060-210222-ALU-01', '086-060-210222-ALU-02', '086-060-210222-ALU-03', '086-060-210222-ALU-04', '086-060-210222-URGE-13']\n",
      "[]\n",
      "C:/Users/ojgomes/Documents/Automação Rent/2 - FEVEREIRO/2 - FEVEREIRO\\21.02\\PROGRAMADO\\086-060-210222-ALU-01\n",
      "[]\n",
      "['086-060-210222-ALU-01 email.pdf', '086-060-210222-ALU-01 lote formatado.pdf', 'MOC - B04280 - PROGRAMAR ELETRONICO.pdf', 'PAGTO 21.02 - ELETRONICO PRIO 1.xls']\n",
      "C:/Users/ojgomes/Documents/Automação Rent/2 - FEVEREIRO/2 - FEVEREIRO\\21.02\\PROGRAMADO\\086-060-210222-ALU-02\n",
      "['PROGRAMADO']\n",
      "['086-060-210222-ALU-02 email.pdf', '086-060-210222-ALU-02 lote.pdf']\n",
      "C:/Users/ojgomes/Documents/Automação Rent/2 - FEVEREIRO/2 - FEVEREIRO\\21.02\\PROGRAMADO\\086-060-210222-ALU-02\\PROGRAMADO\n",
      "['OK']\n",
      "['PAGTO 21.02 - PRIO 61.xls']\n",
      "C:/Users/ojgomes/Documents/Automação Rent/2 - FEVEREIRO/2 - FEVEREIRO\\21.02\\PROGRAMADO\\086-060-210222-ALU-02\\PROGRAMADO\\OK\n",
      "[]\n",
      "['ANI - B06400.pdf', 'BPE - VALOR EM ABERTO 042020 21.02.pdf', 'CAX - B05220 FRANQ ALUGUEL (3).pdf', 'CAX - B05220 FRANQ ALUGUEL.pdf', 'CNA - B91130 FRANQ PAG V2.pdf', 'CPG - B05430.pdf', 'CPL 21-02 (2).pdf', 'CPL 21-02.pdf', 'CSS - B70280 FRANQ PAG V2.pdf', 'DRE - B03010 (2) 1.pdf', 'DRE - B03010 (2).pdf', 'DRE - B03010.pdf', 'EBA - B40560.pdf', 'EXT - B00980.PDF', 'FCR - B11140 (2).pdf', 'FCR - B11140.pdf', 'FRB -21.02.pdf', 'GD2 - B1093 .pdf', 'GI2 - B10600 (12).PDF', 'GI2 - B10600 (13).PDF', 'GI2 - B10600 (14).PDF', 'GI2 - B10600 (3).PDF', 'GI2 - B10600 2.PDF', 'GIA - B00320 (2).PDF', 'GIA - B00320 (3).PDF', 'GIA - B00320 (4).PDF', 'GIA - B00320.PDF', 'GT2 - B04840 (2) - DEMONST.PDF', 'GT2 - B04840.PDF', 'ICG - B05720.PDF', 'ISH - 21.02 (2).pdf', 'ISH -21.02.pdf', 'JGS - B02660.pdf', 'LDA - B05030 FRANQ ALUGUEL (4).pdf', 'LDA - B05030 FRANQ ALUGUEL.pdf', 'LOB - B01410.pdf', 'MDR - B05770 Energia.pdf', 'MFL - B06520.pdf', 'MNS - B05950 FRANQ ALUGUEL (2).pdf', 'MNS - B05950 FRANQ ALUGUEL (3) 2.pdf', 'MNS - B05950 FRANQ ALUGUEL.pdf', 'MOC - B04280.pdf', 'NSH - B02940 (2).pdf', 'NSH - B02940 (3).pdf', 'NSH - B02940 (4).pdf', 'NSH - B02940.pdf', 'OSC - B01040.pdf', 'PFS - B95050 FRANQ ALUGUEL.pdf', 'PGD - B00900 FRANQ .PDF', 'PGS - B01120.pdf', 'PPI - B01280.pdf', 'PSH - B08020 FRAMQ ALUGUEL.pdf', 'PSH - B08020 FRANQ ALUGUEL (2).pdf', 'PSH - B08020 FRANQ ALUGUEL (3).pdf', 'PSH - B08020 FRANQ ALUGUEL(2).pdf', 'SBF - B09210 FRANQ ALUGUEL.pdf', 'SCA - B02630.pdf', 'SDE - B00350.pdf', 'SMA - B05350 2.pdf', 'SMA - B05350.pdf', 'SMU- B01780.pdf', 'SU2 - B20090.PDF', 'SVV - B04680 FRANQ ALUGUEL (2).pdf', 'SVV - B04680 FRANQ ALUGUEL (3).pdf', 'SVV - B04680 FRANQ ALUGUEL (4).pdf', 'TRS - B05570.pdf', 'TUC - B0210.pdf', 'VCP - B20490 (2).pdf', 'VCP - B20490 (3).pdf', 'VCP - B20490 (4).pdf', 'VCP - B20490.pdf']\n",
      "C:/Users/ojgomes/Documents/Automação Rent/2 - FEVEREIRO/2 - FEVEREIRO\\21.02\\PROGRAMADO\\086-060-210222-ALU-03\n",
      "['PROGRAMADO']\n",
      "['086-060-210222-ALU-03 email.pdf', '086-060-210222-ALU-03 lote.pdf']\n",
      "C:/Users/ojgomes/Documents/Automação Rent/2 - FEVEREIRO/2 - FEVEREIRO\\21.02\\PROGRAMADO\\086-060-210222-ALU-03\\PROGRAMADO\n",
      "['Ok']\n",
      "['PAGTO 21.02 - PRIO 62.xls']\n",
      "C:/Users/ojgomes/Documents/Automação Rent/2 - FEVEREIRO/2 - FEVEREIRO\\21.02\\PROGRAMADO\\086-060-210222-ALU-03\\PROGRAMADO\\Ok\n",
      "[]\n",
      "['AGS A-09_MCDONALDS_ALUGUEL.PERCENTUAL_21022022.pdf', 'BND - B2005.pdf', 'GBA - B4122.pdf', 'LDA - B05030 FRANQ ALUGUEL (2) - LANÇAR -0,01.pdf', 'MAD - B0801.pdf', 'MI2 - 1017.pdf', 'MIL - B0064 (2).PDF', 'MIL - B0064.PDF', 'RAF - B4027.PDF', 'RGC - B0500 (2).pdf', 'RGC - B0500.pdf', 'SBO - B0822.pdf', 'SFL - B0624 (2).pdf', 'SFL - B0624 (4).pdf', 'SFL - B0624 (5).pdf', 'SFL - B0624.pdf', 'SGS_BOLETO AMM % - MC DONALDS 21.02.PDF', 'SGS_BOLETO FPP - MC DONALDS 21.02.pdf', 'SNI - B0477.pdf', 'SVV - B04680 FRANQ ALUGUEL.pdf', \"VSB Mc Donald's - Mundial Irajá.pdf\"]\n",
      "C:/Users/ojgomes/Documents/Automação Rent/2 - FEVEREIRO/2 - FEVEREIRO\\21.02\\PROGRAMADO\\086-060-210222-ALU-04\n",
      "['OK']\n",
      "['086-060-210222-ALU-04 email.pdf', '086-060-210222-ALU-04 lote.pdf', 'PAGTO 21.02 - PRIO 63.xls']\n",
      "C:/Users/ojgomes/Documents/Automação Rent/2 - FEVEREIRO/2 - FEVEREIRO\\21.02\\PROGRAMADO\\086-060-210222-ALU-04\\OK\n",
      "[]\n",
      "['AFZ - B09700.pdf', 'BUT - B00390.pdf', 'EXI - B11150 L.PDF', 'MEQ - B40970 FRANQ ALUGUEL L 4.205,23.pdf', 'NFC - B03100 19915,97 banco ok - dif de R$ 20.pdf', 'PSH - B08020 FRANQ ALUGUEL soma n bate banco ok.pdf', 'PSM Q-3 - MC DONALDS.pdf', 'RXV - B06140 - 154,76 banco ok.pdf', 'SLU.pdf']\n",
      "C:/Users/ojgomes/Documents/Automação Rent/2 - FEVEREIRO/2 - FEVEREIRO\\21.02\\PROGRAMADO\\086-060-210222-URGE-13\n",
      "['PROGRAMADO']\n",
      "['086-060-210222-URGE-13 email.pdf', '086-060-210222-URGE-13 lote.pdf']\n",
      "C:/Users/ojgomes/Documents/Automação Rent/2 - FEVEREIRO/2 - FEVEREIRO\\21.02\\PROGRAMADO\\086-060-210222-URGE-13\\PROGRAMADO\n",
      "[]\n",
      "['BOLETO IPTU 2022 - IBI.pdf', 'BOLETO IPTU 2022 - JBO_PROGRAMAR VALOR 59.687,81 LI.jpg', 'BOLETO IPTU 2022 - NIG - n achei (2).pdf', 'BOLETO IPTU 2022 - PIT.pdf', 'BOLETO IPTU 2022 - RPI.png', 'PAGTO 21.02 - IMPOSTO PRIO 1.xls']\n",
      "C:/Users/ojgomes/Documents/Automação Rent/2 - FEVEREIRO/2 - FEVEREIRO\\22.02\n",
      "['ENVIAR FRANQ', 'ERRO BANCO', 'PROGRAMADO']\n",
      "[]\n",
      "C:/Users/ojgomes/Documents/Automação Rent/2 - FEVEREIRO/2 - FEVEREIRO\\22.02\\ENVIAR FRANQ\n",
      "['ENVIADO']\n",
      "[]\n",
      "C:/Users/ojgomes/Documents/Automação Rent/2 - FEVEREIRO/2 - FEVEREIRO\\22.02\\ENVIAR FRANQ\\ENVIADO\n",
      "[]\n",
      "['CEP - B01960 ENVIAR FRANQ.pdf', 'PAL - B04660 ENVIAR FRANQ.pdf', 'SVA - B20240 ENVIAR FRANQ.PDF']\n",
      "C:/Users/ojgomes/Documents/Automação Rent/2 - FEVEREIRO/2 - FEVEREIRO\\22.02\\ERRO BANCO\n",
      "['enviado']\n",
      "[]\n",
      "C:/Users/ojgomes/Documents/Automação Rent/2 - FEVEREIRO/2 - FEVEREIRO\\22.02\\ERRO BANCO\\enviado\n",
      "[]\n",
      "['MDR - B05770.pdf', 'OUS - B40720.pdf', 'RS2 - 22.02.pdf', 'RSB 22.02.pdf']\n",
      "C:/Users/ojgomes/Documents/Automação Rent/2 - FEVEREIRO/2 - FEVEREIRO\\22.02\\PROGRAMADO\n",
      "['banco ok']\n",
      "['BANCO 2202.pdf']\n",
      "C:/Users/ojgomes/Documents/Automação Rent/2 - FEVEREIRO/2 - FEVEREIRO\\22.02\\PROGRAMADO\\banco ok\n",
      "['086-060-220222-ALU-01']\n",
      "[]\n",
      "C:/Users/ojgomes/Documents/Automação Rent/2 - FEVEREIRO/2 - FEVEREIRO\\22.02\\PROGRAMADO\\banco ok\\086-060-220222-ALU-01\n",
      "['ASH - B0194 COND R$ 1.369,00', 'ASH - B0194 R$ 531,06']\n",
      "['086-060-220222-ALU-01 email.pdf', '086-060-220222-ALU-01 lote.pdf', 'ARA - B03310 33318,66 5,88 1574,68 12572,78 18254,40 CNPJ SENHA (2).pdf', 'ARA - B03310 8227,42 -84,15 1132,00 cnpj senha.pdf', 'ARA - B03310 9120,48 -20,44 CNPJ SENHA (3).pdf', 'BOP - B40100 FRANQ PAG V2 L.PDF', 'GPS 22.02.pdf', 'MTP - B00530.pdf', 'PAGTO 22.02 - PRIO 61.xls', 'PIC - B07260 - LANÇADO 102,58 JUROS 926,96 ENERGIA 18,46 AGUA.pdf', 'SPR - B04090 (2).pdf', 'SPR - B04090 (3).pdf', 'SPR - B04090.pdf']\n",
      "C:/Users/ojgomes/Documents/Automação Rent/2 - FEVEREIRO/2 - FEVEREIRO\\22.02\\PROGRAMADO\\banco ok\\086-060-220222-ALU-01\\ASH - B0194 COND R$ 1.369,00\n",
      "[]\n",
      "['ASH - B01940 3.pdf', 'ASH - B01940 5.pdf', 'ASH - B01940 7.pdf', 'ASH - B01940.pdf']\n",
      "C:/Users/ojgomes/Documents/Automação Rent/2 - FEVEREIRO/2 - FEVEREIRO\\22.02\\PROGRAMADO\\banco ok\\086-060-220222-ALU-01\\ASH - B0194 R$ 531,06\n",
      "[]\n",
      "['ASH - B01940 2.pdf', 'ASH - B01940 4.pdf', 'ASH - B01940 6.pdf', 'ASH - B01940 8.pdf']\n",
      "C:/Users/ojgomes/Documents/Automação Rent/2 - FEVEREIRO/2 - FEVEREIRO\\23.02\n",
      "['CLASSIFICAR', 'DEMONSTRATIVO', 'ENVIAR FRANQ', 'LANÇAR', 'PROCESSAR', 'PROGRAMADO']\n",
      "[]\n",
      "C:/Users/ojgomes/Documents/Automação Rent/2 - FEVEREIRO/2 - FEVEREIRO\\23.02\\CLASSIFICAR\n",
      "[]\n",
      "[]\n",
      "C:/Users/ojgomes/Documents/Automação Rent/2 - FEVEREIRO/2 - FEVEREIRO\\23.02\\DEMONSTRATIVO\n",
      "[]\n",
      "['BUT - B00390 DEMONSTRATIVO.PDF']\n",
      "C:/Users/ojgomes/Documents/Automação Rent/2 - FEVEREIRO/2 - FEVEREIRO\\23.02\\ENVIAR FRANQ\n",
      "['ENVIADO']\n",
      "[]\n",
      "C:/Users/ojgomes/Documents/Automação Rent/2 - FEVEREIRO/2 - FEVEREIRO\\23.02\\ENVIAR FRANQ\\ENVIADO\n",
      "[]\n",
      "['CNT - B2002 ENVIAR FRANQ.pdf', 'HOR - B02680 ENVIAR FRANQ.pdf', 'PRU - B08900 ENVIAR FRANQ (2).pdf', 'PRU - B08900 ENVIAR FRANQ.pdf']\n",
      "C:/Users/ojgomes/Documents/Automação Rent/2 - FEVEREIRO/2 - FEVEREIRO\\23.02\\LANÇAR\n",
      "['VERIFICAR']\n",
      "[]\n",
      "C:/Users/ojgomes/Documents/Automação Rent/2 - FEVEREIRO/2 - FEVEREIRO\\23.02\\LANÇAR\\VERIFICAR\n",
      "[]\n",
      "['LMA - B08000 VERIFICAR - CONTRATO ESTA COMO ENCERRADO NA PLANILHA (2).PDF', 'LMA - B08000 VERIFICAR - CONTRATO ESTA COMO ENCERRADO NA PLANILHA (4).pdf']\n",
      "C:/Users/ojgomes/Documents/Automação Rent/2 - FEVEREIRO/2 - FEVEREIRO\\23.02\\PROCESSAR\n",
      "[]\n",
      "[]\n",
      "C:/Users/ojgomes/Documents/Automação Rent/2 - FEVEREIRO/2 - FEVEREIRO\\23.02\\PROGRAMADO\n",
      "['086-060-230222-ALU-01', '086-060-230222-REGU-01', '086-060-230222-REGU-03']\n",
      "[]\n",
      "C:/Users/ojgomes/Documents/Automação Rent/2 - FEVEREIRO/2 - FEVEREIRO\\23.02\\PROGRAMADO\\086-060-230222-ALU-01\n",
      "['banco ok']\n",
      "['086-060-230222-ALU-01 email.pdf', 'PAGTO 23.02 - PRIO 61.xls']\n",
      "C:/Users/ojgomes/Documents/Automação Rent/2 - FEVEREIRO/2 - FEVEREIRO\\23.02\\PROGRAMADO\\086-060-230222-ALU-01\\banco ok\n",
      "[]\n",
      "['banco 2302.pdf', 'CNT - B2002 FRANQ ALUGUEL L.pdf', 'CTA 23.02.PDF', 'GI2 - 23.02 (10).pdf', 'GI2 - 23.02 (11).pdf', 'GI2 - 23.02 (12).pdf', 'GI2 - 23.02 (2).pdf', 'GI2 - 23.02 (3).pdf', 'GI2 - 23.02 (6).pdf', 'GI2 - 23.02 (7).pdf', 'GI2 - 23.02 (8).pdf', 'GI2 - 23.02 (9).pdf', 'GI2 - 23.02.pdf', 'GIA 23.02 (2).pdf', 'GIA 23.02 (3).pdf', 'GIA 23.02 (4).pdf', 'GIA 23.02 (5).pdf', 'GIA 23.02 (6).pdf', 'GIA 23.02.pdf', 'NAS - B05440 L.pdf', 'RAP Boleto - Mc Donalds - Vcto. 23-02-2022.pdf', 'RMF - B40180 FRANQ ALUGUEL (2).pdf', 'RMF - B40180 FRANQ ALUGUEL (3).pdf', 'RMF - B40180 FRANQ ALUGUEL (4).pdf', 'RMF - B40180 FRANQ ALUGUEL.pdf', 'SGR Boletos - MC Donald´s - Aluguel.pdf', \"TUB - Mc Donald's 23.02.2022 (2).pdf\", \"TUB - Mc Donald's 23.02.2022.pdf\"]\n",
      "C:/Users/ojgomes/Documents/Automação Rent/2 - FEVEREIRO/2 - FEVEREIRO\\23.02\\PROGRAMADO\\086-060-230222-REGU-01\n",
      "[]\n",
      "['086-060-230222-REGU-01 email.pdf', '086-060-230222-REGU-01 lote.pdf', 'IPTU 2022 2VIA - DDD - B20290.PNG', 'IPTU 2022 2VIA - NDR - B05560.PNG', 'IPTU 2022 2VIA - NPN - B40030.PNG', 'PAGTO 23.02 - IMPOSTO PRIO 1.xls']\n",
      "C:/Users/ojgomes/Documents/Automação Rent/2 - FEVEREIRO/2 - FEVEREIRO\\23.02\\PROGRAMADO\\086-060-230222-REGU-03\n",
      "[]\n",
      "['086-060-230222-REGU-03 email.pdf', '086-060-230222-REGU-03 lote.pdf', 'BANCO 2302.pdf', 'BSL.pdf', 'GVD - B03790 L - FALTA 30 CENTAVOS.pdf', 'OUS - B40720.pdf', 'PAGTO 23.02 - PRIO 62.xls']\n"
     ]
    },
    {
     "name": "stdout",
     "output_type": "stream",
     "text": [
      "C:/Users/ojgomes/Documents/Automação Rent/2 - FEVEREIRO/2 - FEVEREIRO\\24.02\n",
      "['CLASSIFICAR', 'DESMEMBRAR', 'ENVIAR FRANQ', 'ERRO BANCO', 'PROGRAMADO']\n",
      "[]\n",
      "C:/Users/ojgomes/Documents/Automação Rent/2 - FEVEREIRO/2 - FEVEREIRO\\24.02\\CLASSIFICAR\n",
      "[]\n",
      "[]\n",
      "C:/Users/ojgomes/Documents/Automação Rent/2 - FEVEREIRO/2 - FEVEREIRO\\24.02\\DESMEMBRAR\n",
      "[]\n",
      "[]\n",
      "C:/Users/ojgomes/Documents/Automação Rent/2 - FEVEREIRO/2 - FEVEREIRO\\24.02\\ENVIAR FRANQ\n",
      "['ENVIADO']\n",
      "['BPT - B70200 ENVIAR FRANQ.pdf', 'IPM - B08350  ENVIAR FRANQ 5 DIGITOS CNPJ.PDF', 'IPM - B08350 ENVIAR FRANQ 3.pdf', 'IPM - B08350 ENVIAR FRANQ.pdf', 'SSV - B09530 DESMEMBRAR.pdf']\n",
      "C:/Users/ojgomes/Documents/Automação Rent/2 - FEVEREIRO/2 - FEVEREIRO\\24.02\\ENVIAR FRANQ\\ENVIADO\n",
      "[]\n",
      "[]\n",
      "C:/Users/ojgomes/Documents/Automação Rent/2 - FEVEREIRO/2 - FEVEREIRO\\24.02\\ERRO BANCO\n",
      "[]\n",
      "['SGR - B91000 (3).pdf', 'SGR - B91000 - PRINT ERRO.PNG']\n",
      "C:/Users/ojgomes/Documents/Automação Rent/2 - FEVEREIRO/2 - FEVEREIRO\\24.02\\PROGRAMADO\n",
      "['086-060-230222-ALU-04', '086-060-230222-ALU-05', '086-060-240222-ALU-01', '086-060-240222-ALU-02']\n",
      "[]\n",
      "C:/Users/ojgomes/Documents/Automação Rent/2 - FEVEREIRO/2 - FEVEREIRO\\24.02\\PROGRAMADO\\086-060-230222-ALU-04\n",
      "['banco ok']\n",
      "['086-060-230222-ALU-04 email.pdf', '086-060-230222-ALU-04 lote.pdf', 'banco 2402.pdf', 'PAGTO 24.02 - PRIO 61.xls']\n",
      "C:/Users/ojgomes/Documents/Automação Rent/2 - FEVEREIRO/2 - FEVEREIRO\\24.02\\PROGRAMADO\\086-060-230222-ALU-04\\banco ok\n",
      "[]\n",
      "['AFO - 2402.pdf', 'AFT - 2402.pdf', 'BCP - B40070 FRANQ ALUGUEL.pdf', 'BOLETO IPTU 2022 - MCA - REJEIÇÃO.pdf', 'BRA - B00630  185,20 350,00 1345,15.pdf', 'CFO - B20690 FRANQ ALUGUEL - VERIFICAR NO ORACLE O PGTO.pdf', 'CNB - B05130 (2).pdf', 'CNB - B05130 - LANÇAR 612,97.pdf', \"FSM l Mc Donald's- 24.02.2022.pdf\", 'GDU - B10750.pdf', 'MAD - B08010 FRANQ PAG V2.pdf', 'POC - B05860.pdf', 'SGR - B91000 (2).pdf', 'SGR - B91000.pdf', 'SGR Boletos - MC Café 24.02.pdf', 'SSV - 24.04.pdf', 'VPK  082021.pdf']\n",
      "C:/Users/ojgomes/Documents/Automação Rent/2 - FEVEREIRO/2 - FEVEREIRO\\24.02\\PROGRAMADO\\086-060-230222-ALU-05\n",
      "[]\n",
      "['086-060-230222-ALU-05 email.pdf', '086-060-230222-ALU-05 lote.pdf', 'BVE – B0374 - 24.02.pdf', 'PAGTO 24.02 - ELETRONICO PRIO 1.xls']\n",
      "C:/Users/ojgomes/Documents/Automação Rent/2 - FEVEREIRO/2 - FEVEREIRO\\24.02\\PROGRAMADO\\086-060-240222-ALU-01\n",
      "[]\n",
      "['086-060-240222-ALU-01 email.pdf', '086-060-240222-ALU-01 lote.pdf', 'PAGTO 24.02 - ELETRONICO PRIO 2.xls']\n",
      "C:/Users/ojgomes/Documents/Automação Rent/2 - FEVEREIRO/2 - FEVEREIRO\\24.02\\PROGRAMADO\\086-060-240222-ALU-02\n",
      "[]\n",
      "['086-060-240222-ALU-02 email.pdf', '086-060-240222-ALU-02 lote.pdf', 'banco 2402.pdf', 'CPL - B01050.pdf', 'FEL 25.02 (2).pdf', 'JGS - B02660 L banco ok.pdf', 'MOG luc 246 MC Donalds vcto 24.02.2022 Aluguel Percentual.pdf', 'MOG luc 246 Mc Donalds vcto 24.02.2022 Aluguel.pdf', 'PAGTO 24.02 - PRIO 62.xls', 'SFL - B06240 banco ok L.pdf', 'SGS - B03930 L.pdf', 'SJN 24.02 (2) banco ok.pdf', 'SJN 24.02 banco ok.pdf', 'SON - B70040 - Q103 - BANCO OK L.pdf', 'SON - B70040 Q403 BANCO OK L.pdf', 'SVO 2502.pdf']\n",
      "C:/Users/ojgomes/Documents/Automação Rent/2 - FEVEREIRO/2 - FEVEREIRO\\25.02\n",
      "['CLASSIFICAR', 'ENVIAR FRANQ', 'PROCESSAR', 'PROGRAMADO']\n",
      "['Boletos - FALTA DEMONSTRATIVO.pdf']\n",
      "C:/Users/ojgomes/Documents/Automação Rent/2 - FEVEREIRO/2 - FEVEREIRO\\25.02\\CLASSIFICAR\n",
      "['VERIFICAR CLASSIFICAÇÃO']\n",
      "[]\n",
      "C:/Users/ojgomes/Documents/Automação Rent/2 - FEVEREIRO/2 - FEVEREIRO\\25.02\\CLASSIFICAR\\VERIFICAR CLASSIFICAÇÃO\n",
      "[]\n",
      "['28 02IPTU Z banco ok lançar 2 primeiros boletos, restante desmembrar.pdf']\n",
      "C:/Users/ojgomes/Documents/Automação Rent/2 - FEVEREIRO/2 - FEVEREIRO\\25.02\\ENVIAR FRANQ\n",
      "['ENVIADO', 'ERRO BANCO']\n",
      "['BAT - B91160 ENVIAR FRANQ.pdf', 'BMG - B02007 ENVIAR FRANQ.pdf']\n",
      "C:/Users/ojgomes/Documents/Automação Rent/2 - FEVEREIRO/2 - FEVEREIRO\\25.02\\ENVIAR FRANQ\\ENVIADO\n",
      "['DESMEMBRAR', 'GPA']\n",
      "['ASV - B50170 ENVIAR FRANQ (2).PDF', 'ASV - B50170 ENVIAR FRANQ.PDF', 'BNH - B09360 ENVIAR FRANQ.PDF', 'BVV - B04450 ENVIAR FRANQ (2).pdf', 'BVV - B04450 ENVIAR FRANQ.pdf', 'CEP - B01960 ENVIAR FRANQ (3).pdf', 'CEP - B01960 ENVIAR FRANQ.pdf', 'MNS - B05950 ENVIAR FRANQ.pdf', 'MSH - B08030 ENVIAR FRANQ.pdf', 'ROY - B05840 ENVIAR FRANQ (2).pdf', 'ROY - B05840 ENVIAR FRANQ (2)3.pdf', 'ROY - B05840 ENVIAR FRANQ 3.pdf', 'ROY - B05840 ENVIAR FRANQ.pdf', 'RPS - B08800  ENVIAR FRANQ.pdf']\n",
      "C:/Users/ojgomes/Documents/Automação Rent/2 - FEVEREIRO/2 - FEVEREIRO\\25.02\\ENVIAR FRANQ\\ENVIADO\\DESMEMBRAR\n",
      "[]\n",
      "['DTM - B91120 FRANQ DESMEMBRAR.pdf', 'ITS - B50060 DESMEMBRAR.pdf', 'ITS - B50060 FRANQ DESMEMBRAR.pdf']\n",
      "C:/Users/ojgomes/Documents/Automação Rent/2 - FEVEREIRO/2 - FEVEREIRO\\25.02\\ENVIAR FRANQ\\ENVIADO\\GPA\n",
      "[]\n",
      "['ITD - B02190 ENVIAR FRANQ (2).PDF', 'ITD - B02190 ENVIAR FRANQ.PDF', 'PGD - B00900 ENVIAR FRANQ (2).PDF', 'PGD - B00900 ENVIAR FRANQ (3).PDF', 'PGD - B00900 ENVIAR FRANQ (4).PDF', 'PGD - B00900 ENVIAR FRANQ.PDF', 'WIL - B10460 ENVIAR FRANQ (2).PDF', 'WIL - B10460 ENVIAR FRANQ.PDF']\n",
      "C:/Users/ojgomes/Documents/Automação Rent/2 - FEVEREIRO/2 - FEVEREIRO\\25.02\\ENVIAR FRANQ\\ERRO BANCO\n",
      "['ENVIADO']\n",
      "[]\n",
      "C:/Users/ojgomes/Documents/Automação Rent/2 - FEVEREIRO/2 - FEVEREIRO\\25.02\\ENVIAR FRANQ\\ERRO BANCO\\ENVIADO\n",
      "[]\n",
      "['SVO - B01920 - BAIXADO.pdf', 'SVO - B01920.PNG', 'SVO - E-MAIL.pdf']\n",
      "C:/Users/ojgomes/Documents/Automação Rent/2 - FEVEREIRO/2 - FEVEREIRO\\25.02\\PROCESSAR\n",
      "[]\n",
      "[]\n",
      "C:/Users/ojgomes/Documents/Automação Rent/2 - FEVEREIRO/2 - FEVEREIRO\\25.02\\PROGRAMADO\n",
      "['086-060-250222-ALU-01', '086-060-250222-ALU-03', '086-060-250222-ALU-04', '086-060-250222-ALU-05', '086-060-250222-ALU-06', '086-060-250222-ALU-07', '086-060-250222-URGE-04', '086-060-250222-URGE-18']\n",
      "[]\n",
      "C:/Users/ojgomes/Documents/Automação Rent/2 - FEVEREIRO/2 - FEVEREIRO\\25.02\\PROGRAMADO\\086-060-250222-ALU-01\n",
      "['PROGRAMADO']\n",
      "['086-060-250222-ALU-01 EMAIL.pdf', '086-060-250222-ALU-01 lote.pdf', 'PAGTO 25.02 - PRIO 61.xls']\n",
      "C:/Users/ojgomes/Documents/Automação Rent/2 - FEVEREIRO/2 - FEVEREIRO\\25.02\\PROGRAMADO\\086-060-250222-ALU-01\\PROGRAMADO\n",
      "['BANCO OK']\n",
      "['banco 2502.pdf']\n",
      "C:/Users/ojgomes/Documents/Automação Rent/2 - FEVEREIRO/2 - FEVEREIRO\\25.02\\PROGRAMADO\\086-060-250222-ALU-01\\PROGRAMADO\\BANCO OK\n",
      "[]\n",
      "['AVD - B20540.pdf', 'BOLETO IPTU 2022 - BRT.PNG', 'BPE - B20030.pdf', 'CAB - B05070.pdf', 'CEP - B01960 FRANQ ALUGUEL.pdf', 'CSC - B01690.pdf', 'D1D - B00580 condominio.PDF', 'DRE - B03010.pdf', 'EBH - B04360 (2).pdf', 'EBH - B04360.pdf', 'GS2 - B01730.pdf', 'GSC - B00970.pdf', 'ITD - B02190 ALUGUEL FRANQ.PDF', 'ITD - B02190 FRANQ ALUGUEL.PDF', 'ITS - B50060 FRANQ ALUGUEL.pdf', 'LAA - B02030 (2).pdf', 'LAA - B02030.pdf', 'LAR - B00950.pdf', 'MFL - B06520 (3.PDF', 'MFL - B06520.pdf', 'MIA - B08920 FRANQ ALUGUEL.pdf', 'MSH  - Mc Donald´s   Loja 1Q06H-1.pdf', 'NFC - B03100.pdf', 'OSC - 25.02.pdf', 'OSU - B01910 (3).pdf', 'OSU - B01910 (4).pdf', 'OSU - B01910.pdf', 'PGD - B00900 FRANQ ALUGUEL (2).PDF', 'PGD - B00900 FRANQ ALUGUEL.PDF', 'PIR - B07150 (2).pdf', 'PIR - B07150.pdf', 'PRV - B03270 (2).pdf', 'PRV - B03270.pdf', 'PSH - B08020 FRANQ ALUGUEL.pdf', 'RCH - B06060.pdf', 'RDS - B08280 FRANQBOLETOS  ALUGUEL 02 22 ARCOS.pdf', 'RPT 902229_RBS2026282_06.pdf', 'RS2 - B40710.pdf', \"SPE MC Donald's 25.02.2022 Comp 01.2022 (ALUGUEL COMPLEMENTAR).pdf\", \"SPE MC Donald's 25.02.2022 Comp 01.2022 (ALUGUEL).pdf\"]\n",
      "C:/Users/ojgomes/Documents/Automação Rent/2 - FEVEREIRO/2 - FEVEREIRO\\25.02\\PROGRAMADO\\086-060-250222-ALU-03\n",
      "['PROGRAMADO']\n",
      "['086-060-250222-ALU-03 email.pdf', '086-060-250222-ALU-03 lote.pdf', 'PAGTO 25.02 - ELETRONICO PRIO 1.xls']\n",
      "C:/Users/ojgomes/Documents/Automação Rent/2 - FEVEREIRO/2 - FEVEREIRO\\25.02\\PROGRAMADO\\086-060-250222-ALU-03\\PROGRAMADO\n",
      "[]\n",
      "['REEMBOLSO IPTU 2022 - DBI.pdf', 'REEMBOLSO IPTU 2022 - ENG.pdf', 'REEMBOLSO IPTU 2022 - LIB.pdf', 'REEMBOLSO IPTU 2022 - SAP.pdf']\n",
      "C:/Users/ojgomes/Documents/Automação Rent/2 - FEVEREIRO/2 - FEVEREIRO\\25.02\\PROGRAMADO\\086-060-250222-ALU-04\n",
      "['programado']\n",
      "['086-060-250222-ALU-04 email.pdf', '086-060-250222-ALU-04 lote.pdf', 'PAGTO 25.02 - PRIO 63.xls']\n",
      "C:/Users/ojgomes/Documents/Automação Rent/2 - FEVEREIRO/2 - FEVEREIRO\\25.02\\PROGRAMADO\\086-060-250222-ALU-04\\programado\n",
      "[]\n",
      "['ARA - B03310 (2) - BOLETO SEM DESCRIÇÃO DE PGTO.pdf', 'ARA - B03310 (3) -  BOLETO SEM DESCRIÇÃO DE PGTO.pdf', 'ARA - B03310 -  BOLETO SEM DESCRIÇÃO DE PGTO.pdf', 'AVD - B20540 (2).pdf', 'AVD - B20540.pdf', 'banco 2502.pdf', 'BES - B09480 FRANQ.PDF', 'BVV - B04450 FRANQ ALUGUEL - VERIFICAR!!!.pdf', 'CAB - B05070 - 56.613,62 BANCO OK.pdf', 'DAS - B20550 - 239 ,72 BANCO OK.pdf', 'ICG - B05720 (2) BOLETO SEM DESCRIÇÃO DE PGTO.pdf', 'ICG - B05720 2 BOLETO SEM DESCRIÇÃO DE PGTO.pdf', 'ICG - B05720 BOLETO SEM DESCRIÇÃO DE PGTO.pdf', 'ITS - B50060 BANCO OK.pdf', 'JPS - B05510 valor banco 67 ,03 - banco ok.pdf', 'PDI - B02010.pdf', 'PIM - B11790 BANCO OK.pdf', 'PTR - B03370 (2).pdf', 'PTR - B03370 (3).pdf', 'RID - B05910 (2) BANCO OK.PDF', 'SVI - B03170.pdf', 'TSO - B03940 (2) BANCO OK.pdf']\n",
      "C:/Users/ojgomes/Documents/Automação Rent/2 - FEVEREIRO/2 - FEVEREIRO\\25.02\\PROGRAMADO\\086-060-250222-ALU-05\n",
      "['Banco ok']\n",
      "['086-060-250222-ALU-05 email.pdf', '086-060-250222-ALU-05 lote.pdf', 'PAGTO 25.02 - PRIO 62.xls']\n",
      "C:/Users/ojgomes/Documents/Automação Rent/2 - FEVEREIRO/2 - FEVEREIRO\\25.02\\PROGRAMADO\\086-060-250222-ALU-05\\Banco ok\n",
      "['PROGRAMADO']\n",
      "[]\n",
      "C:/Users/ojgomes/Documents/Automação Rent/2 - FEVEREIRO/2 - FEVEREIRO\\25.02\\PROGRAMADO\\086-060-250222-ALU-05\\Banco ok\\PROGRAMADO\n",
      "[]\n",
      "['2022 - FLP CK.pdf', 'BVC - B09670.pdf', 'CSC - B01690 (2).pdf', 'CSC - B01690 (3).pdf', 'CSC - B01690 (4).pdf', 'CSC - B01690 (5).pdf', 'JOC - B91280 L.pdf', 'LAR - B00950 (2).pdf', 'OSS - B01830.pdf', 'OSU - B01910 (2).pdf', 'PGD - B00900 FRANQ ALUGUEL (3).PDF', 'RB1 - B02840.pdf', 'RGC - B05000  366,79  903,38  1646,25.pdf', 'RSB - B06090.pdf', 'SBP - B10130 (2).pdf', 'SBP - B10130.pdf', 'SCL - B00220 Fundo Prom.25-02-22.pdf', 'SET - B03200.PDF', 'SGU - B05180.pdf', 'SHT - B20080 FRANQ ALUGUEL.pdf', 'SIF - B09180 FRANQ PAG V2.pdf', 'SJD - B07380 FRANQ LOCAÇÃO QUIOSQUE FEVEREIRO.2022.pdf', 'STJ - B03210  2.pdf', 'STJ - B03210.pdf', 'SUL - B00430.pdf', 'SVV - B04680 FRANQ ALUGUEL.pdf', 'TUU - B50180.pdf', 'WIL - B10460 ALUGUEL FRANQ.PDF']\n",
      "C:/Users/ojgomes/Documents/Automação Rent/2 - FEVEREIRO/2 - FEVEREIRO\\25.02\\PROGRAMADO\\086-060-250222-ALU-06\n",
      "[]\n",
      "['086-060-250222-ALU-06 email.pdf', '086-060-250222-ALU-06 lote.pdf', 'PAGTO 25.02 - PRIO 65.xls', 'SCL - B00220 - 31950,54.pdf', 'STS - B00200 (2) - 4.685,23 BANCO OK - FALTA 2,00.pdf', 'VCP - B20490 LANÇAR.pdf']\n",
      "C:/Users/ojgomes/Documents/Automação Rent/2 - FEVEREIRO/2 - FEVEREIRO\\25.02\\PROGRAMADO\\086-060-250222-ALU-07\n",
      "['OK']\n",
      "['086-060-250222-ALU-07 email.pdf', '086-060-250222-ALU-07 lote.pdf', 'PAGTO 25.02 - PRIO 64.xls']\n",
      "C:/Users/ojgomes/Documents/Automação Rent/2 - FEVEREIRO/2 - FEVEREIRO\\25.02\\PROGRAMADO\\086-060-250222-ALU-07\\OK\n",
      "[]\n",
      "['AVT - 2502 (2) BANCO OK.pdf', 'AVT - 2502 BANCO OK.pdf', 'BVV - B04450 FRANQ ALUGUEL (2) - LANÇAR COMPLEMENTO.pdf', 'BVV - B04450 FRANQ ALUGUEL 2.pdf', 'CP2 - VALOR BANCO 16.322,84 BANCO OK.pdf', 'GIB Boleto0945494-14000000000000345- MCD.pdf', 'NSS - B0653.pdf', 'RCL - B05320 BANCO OK.pdf', 'S3A - B07710.pdf', 'SHT - B20080 FRANQ ALUGUEL ELETRONICO.pdf', 'SUL - B00430 (2) soma n bate.pdf', 'TAC - B05410 69,91.pdf']\n",
      "C:/Users/ojgomes/Documents/Automação Rent/2 - FEVEREIRO/2 - FEVEREIRO\\25.02\\PROGRAMADO\\086-060-250222-URGE-04\n",
      "['PROGRAMADO']\n",
      "['086-060-250222-URGE-04 email.pdf', '086-060-250222-URGE-04 lote.pdf', 'PAGTO 25.02 - IMPOSTO PRIO 1.xls']\n",
      "C:/Users/ojgomes/Documents/Automação Rent/2 - FEVEREIRO/2 - FEVEREIRO\\25.02\\PROGRAMADO\\086-060-250222-URGE-04\\PROGRAMADO\n",
      "['banco ok']\n",
      "['banco 2502.pdf']\n",
      "C:/Users/ojgomes/Documents/Automação Rent/2 - FEVEREIRO/2 - FEVEREIRO\\25.02\\PROGRAMADO\\086-060-250222-URGE-04\\PROGRAMADO\\banco ok\n",
      "['MUN IPTU - LANÇADO 4040,96']\n",
      "['BOLETO IPTU 2022 - AIS.pdf', 'BOLETO IPTU 2022 - AJD.pdf', 'BOLETO IPTU 2022 - SB2.pdf', 'BOLETO IPTU 2022 - VCM.pdf', 'BOLETO IPTU 2022 - VLA.pdf']\n",
      "C:/Users/ojgomes/Documents/Automação Rent/2 - FEVEREIRO/2 - FEVEREIRO\\25.02\\PROGRAMADO\\086-060-250222-URGE-04\\PROGRAMADO\\banco ok\\MUN IPTU - LANÇADO 4040,96\n",
      "[]\n",
      "['BOLETO IPTU 2021 - MUN - 125.129.0040-0 L.pdf', 'BOLETO IPTU 2021 - MUN - 125.129.0041-9.pdf', 'BOLETO IPTU 2021 - MUN - 125.129.0050-8.pdf', 'BOLETO IPTU 2021 - MUN - 125.129.0053-2.pdf', 'BOLETO IPTU 2021 - MUN - 125.129.0138-5.pdf', 'BOLETO IPTU 2021 - MUN - 125.129.0164-4.pdf']\n",
      "C:/Users/ojgomes/Documents/Automação Rent/2 - FEVEREIRO/2 - FEVEREIRO\\25.02\\PROGRAMADO\\086-060-250222-URGE-18\n",
      "['PROGRAMADO']\n",
      "['086-060-250222-URGE-18 email.pdf', '086-060-250222-URGE-18 lote.pdf', 'banco imposto 2502.pdf', 'PAGTO 25.02 - IMPOSTO PRIO 2.xls']\n",
      "C:/Users/ojgomes/Documents/Automação Rent/2 - FEVEREIRO/2 - FEVEREIRO\\25.02\\PROGRAMADO\\086-060-250222-URGE-18\\PROGRAMADO\n",
      "[]\n",
      "['SFR (3)  - BANCO OK IPTU.pdf', 'SFR (4)  - BANCO OK IPTU.pdf', 'SFR (5)  - BANCO OK IPTU.pdf']\n"
     ]
    }
   ],
   "source": [
    "b_dir = 'C:/Users/ojgomes/Documents/Automação Rent/2 - FEVEREIRO/2 - FEVEREIRO'\n",
    "dest = 'all/'\n",
    "\n",
    "for root,dirs,files in os.walk(b_dir):\n",
    "    print(root)\n",
    "    print(dirs)\n",
    "    print(files)\n",
    "    for file in files:\n",
    "        if file.endswith('.pdf'):\n",
    "            try:\n",
    "                shutil.copy(os.path.join(root, file), dest)\n",
    "            except:\n",
    "                print(f'não foi possivel copiar o arquivo {file}')\n",
    "    \n",
    "    "
   ]
  },
  {
   "cell_type": "code",
   "execution_count": null,
   "id": "4cf044b9",
   "metadata": {},
   "outputs": [],
   "source": []
  }
 ],
 "metadata": {
  "kernelspec": {
   "display_name": "Python 3 (ipykernel)",
   "language": "python",
   "name": "python3"
  },
  "language_info": {
   "codemirror_mode": {
    "name": "ipython",
    "version": 3
   },
   "file_extension": ".py",
   "mimetype": "text/x-python",
   "name": "python",
   "nbconvert_exporter": "python",
   "pygments_lexer": "ipython3",
   "version": "3.9.7"
  }
 },
 "nbformat": 4,
 "nbformat_minor": 5
}
